{
 "cells": [
  {
   "cell_type": "markdown",
   "metadata": {},
   "source": [
    "First, Compile a list of all chandra sources that could possibly be in PASSAGE (within 3 arcmin of the center)"
   ]
  },
  {
   "cell_type": "code",
   "execution_count": 33,
   "metadata": {},
   "outputs": [],
   "source": [
    "import numpy as np\n",
    "\n",
    "import matplotlib.pyplot as plt\n",
    "import matplotlib as mpl\n",
    "import astropy.coordinates as coord\n",
    "from astroquery.heasarc import Heasarc\n",
    "from astropy.utils.data import download_file\n",
    "import astropy.units as u\n",
    "import pandas as pd\n",
    "from astroquery.vizier import Vizier\n",
    "import astropy.table as tab\n",
    "from matplotlib.patches import Circle\n",
    "from ipywidgets import interact\n",
    "import os\n"
   ]
  },
  {
   "cell_type": "code",
   "execution_count": 34,
   "metadata": {},
   "outputs": [],
   "source": [
    "check_radius=0.05*u.deg #=3 arcmin\n",
    "catalog_names = {'chandra':'csc',\n",
    "                 'xmm':'xmmstack'}\n",
    "                 \n",
    "par_coords_import=np.loadtxt('./par_coords.csv',dtype='str',delimiter=',')\n",
    "par_coords_list=coord.SkyCoord(ra=par_coords_import[:,1],dec=par_coords_import[:,2],unit=(u.deg, u.deg))\n",
    "par_names=par_coords_import[:,0]"
   ]
  },
  {
   "cell_type": "code",
   "execution_count": 35,
   "metadata": {},
   "outputs": [
    {
     "name": "stdout",
     "output_type": "stream",
     "text": [
      "                      name          ra        dec  significance  \\\n",
      "0    2CXO J111959.4+063641  169.997826   6.611406      4.722222   \n",
      "1    2CXO J112001.2+063610  170.005175   6.602871      2.555556   \n",
      "2    2CXO J112008.8+063438  170.036895   6.577439      2.205128   \n",
      "3    2CXO J112009.1+063814  170.038094   6.637490      4.315789   \n",
      "4    2CXO J114824.6+524847  177.102851  52.813074      2.702703   \n",
      "..                     ...         ...        ...           ...   \n",
      "401  2CXO J103027.1+052917  157.613073   5.488196      4.045455   \n",
      "402  2CXO J103028.4+053114  157.618569   5.520807     11.491644   \n",
      "403  2CXO J095946.7-224853  149.944730 -22.814813      4.833333   \n",
      "404  2CXO J095951.8-224728  149.965982 -22.791243      6.024397   \n",
      "405  2CXO J100001.0-224713  150.004490 -22.787133      3.294118   \n",
      "\n",
      "     error_ellipse_r0  error_ellipse_r1  error_ellipse_angle par_name  \n",
      "0            1.159674          0.635005           136.167155   Par001  \n",
      "1            2.950725          1.257915           138.978518   Par001  \n",
      "2            3.478849          3.478846             0.000000   Par001  \n",
      "3            0.848926          0.682037           119.969583   Par001  \n",
      "4            1.340882          0.676027           177.741472   Par002  \n",
      "..                ...               ...                  ...      ...  \n",
      "401          1.043412          0.679101            28.315096   Par060  \n",
      "402          0.409801          0.329417            61.548617   Par060  \n",
      "403          0.911855          0.590903           110.534065   Par063  \n",
      "404          1.075658          0.724837            94.946808   Par063  \n",
      "405          2.165274          1.262637            88.956928   Par063  \n",
      "\n",
      "[406 rows x 8 columns]\n",
      "387\n"
     ]
    }
   ],
   "source": [
    "temp=pd.read_csv('./csc_table.csv', delimiter=',')\n",
    "print(temp)\n",
    "temp = temp.drop_duplicates(subset=['name'])\n",
    "print(len(temp))\n",
    "temp.to_csv('./csc_table_nodup.tsv', index=False, sep='\\t')\n",
    "\n",
    "\n"
   ]
  },
  {
   "cell_type": "code",
   "execution_count": 37,
   "metadata": {},
   "outputs": [
    {
     "name": "stderr",
     "output_type": "stream",
     "text": [
      "/tmp/ipykernel_4494/1434217376.py:20: FutureWarning: The behavior of DataFrame concatenation with empty or all-NA entries is deprecated. In a future version, this will no longer exclude empty or all-NA columns when determining the result dtypes. To retain the old behavior, exclude the relevant entries before the concat operation.\n",
      "  chosen_stacks = pd.concat([chosen_stacks, max_row], ignore_index=True)\n"
     ]
    },
    {
     "name": "stdout",
     "output_type": "stream",
     "text": [
      "The number of best stack images is 387 - should match the number of unique objects 387\n",
      "The number of total stack images was 1437\n",
      "The number of sources which share a 'best stack image' with another source is 4\n",
      "['acisfJ1000482p015447_001N030_r0173b_regimg3.fits', 'acisfJ1000181p015731_001N030_r0227b_regimg3.fits', 'acisfJ1000217p022329_001N021_r0217b_regimg3.jpg.gz', 'acisfJ1001511p021436_001N029_r0027b_regimg3.fits', 'acisfJ1000592p020218_001N031_r0009b_regimg3.fits', 'acisfJ1001328p022531_001N029_r0178b_regimg3.fits', 'acisfJ1000327p023059_001N021_r0026b_regimg3.jpg.gz', 'acisfJ1201548m185204_002N028_r0102b_regimg3.fits', 'acisfJ0959297p021110_001N031_r0253b_regimg3.jpg.gz', 'acisfJ1000217p022329_001N031_r0060b_regimg3.jpg.gz', 'acisfJ1000373p014716_001N031_r0168b_regimg3.fits', 'acisfJ1001072p014432_001N031_r0007b_regimg3.jpg.gz', 'acisfJ1001211p021720_001N021_r0073b_regimg3.jpg.gz', 'acisfJ1000592p020218_001N030_r0106b_regimg3.jpg.gz', 'acisfJ1001027p022815_001N029_r0011b_regimg3.fits', 'acisfJ1001328p022531_001N029_r0169b_regimg3.fits', 'acisfJ1000510p022004_001N031_r0268b_regimg3.fits', 'acisfJ1000327p023059_001N021_r0205b_regimg3.jpg.gz', 'acisfJ1000299p020542_001N030_r0244b_regimg3.fits', 'acisfJ0958479p020543_001N021_r0017b_regimg3.jpg.gz', 'acisfJ1000217p022329_001N021_r0110b_regimg3.jpg.gz', 'acisfJ1000408p021313_001N030_r0092b_regimg3.fits', 'acisfJ1001183p015203_001N031_r0017b_regimg3.jpg.gz', 'acisfJ1002019p022207_001N031_r0240b_regimg3.jpg.gz', 'acisfJ1002009p015702_001N031_r0128b_regimg3.jpg.gz', 'acisfJ0958306p021622_001N031_r0154b_regimg3.jpg.gz', 'acisfJ1000072p015000_001N031_r0217b_regimg3.fits', 'acisfJ1030266p052411_001N020_r0083b_regimg3.jpg.gz', 'acisfJ1000482p015447_001N021_r0149b_regimg3.jpg.gz', 'acisfJ1001183p015203_001N030_r0155b_regimg3.jpg.gz', 'acisfJ1000072p015000_001N031_r0064b_regimg3.fits', 'acisfJ1001511p021436_001N029_r0239b_regimg3.fits', 'acisfJ1001328p022531_001N029_r0012b_regimg3.fits', 'acisfJ1000482p015447_001N030_r0027b_regimg3.fits', 'acisfJ0959481p020015_001N030_r0253b_regimg3.jpg.gz', 'acisfJ1002019p022207_001N029_r0229b_regimg3.fits', 'acisfJ1201527m185305_001N028_r0121b_regimg3.fits', 'acisfJ0959371p015244_001N029_r0203b_regimg3.fits', 'acisfJ1000373p014716_001N031_r0213b_regimg3.jpg.gz', 'acisfJ1245445p032358_001N020_r0087b_regimg3.jpg.gz', 'acisfJ1000592p020218_001N030_r0086b_regimg3.jpg.gz', 'acisfJ1000181p015731_001N030_r0097b_regimg3.fits', 'acisfJ1206160m084601_001N021_r0080b_regimg3.jpg.gz', 'acisfJ1000327p023059_001N021_r0061b_regimg3.jpg.gz', 'acisfJ1002384p020202_001N031_r0042b_regimg3.fits', 'acisfJ1002123p020448_001N031_r0169b_regimg3.jpg.gz', 'acisfJ1420147p530007_001N030_r0532b_regimg3.fits', 'acisfJ1002222p021159_001N031_r0018b_regimg3.jpg.gz', 'acisfJ1000217p022329_001N021_r0027b_regimg3.jpg.gz', 'acisfJ1001292p015934_001N030_r0003b_regimg3.jpg.gz', 'acisfJ0959180p020259_001N029_r0021b_regimg3.fits', 'acisfJ1000510p022004_001N031_r0275b_regimg3.fits', 'acisfJ1000395p023823_001N031_r0055b_regimg3.fits', 'acisfJ1000217p022329_001N029_r0219b_regimg3.fits', 'acisfJ1001072p014432_001N031_r0024b_regimg3.fits', 'acisfJ0958479p020543_001N031_r0224b_regimg3.fits', 'acisfJ1000373p014716_001N021_r0023b_regimg3.jpg.gz', 'acisfJ0958203p020845_001N031_r0033b_regimg3.jpg.gz', 'acisfJ1001328p022531_001N031_r0053b_regimg3.fits', 'acisfJ1000482p015447_001N030_r0031b_regimg3.jpg.gz', 'acisfJ0958479p020543_001N031_r0085b_regimg3.fits', 'acisfJ1000327p023059_001N021_r0009b_regimg3.jpg.gz', 'acisfJ0959180p020259_001N021_r0069b_regimg3.jpg.gz', 'acisfJ1000072p015000_001N021_r0063b_regimg3.jpg.gz', 'acisfJ1000510p022004_001N029_r0118b_regimg3.fits', 'acisfJ1002499p020946_001N029_r0126b_regimg3.fits', 'acisfJ1002384p020202_001N029_r0080b_regimg3.fits', 'acisfJ1001027p022815_001N021_r0185b_regimg3.jpg.gz', 'acisfJ1420280p530201_001N030_r0144b_regimg3.fits', 'acisfJ1002384p020202_001N031_r0072b_regimg3.fits', 'acisfJ0959180p020259_001N031_r0167b_regimg3.fits', 'acisfJ1001027p022815_001N029_r0185b_regimg3.fits', 'acisfJ1420147p530007_001N023_r0147b_regimg3.jpg.gz', 'acisfJ1001328p022531_001N021_r0258b_regimg3.jpg.gz', 'acisfJ1002123p020448_001N031_r0224b_regimg3.jpg.gz', 'acisfJ1420147p530007_001N023_r0125b_regimg3.jpg.gz', 'acisfJ1000395p023823_001N029_r0002b_regimg3.fits', 'acisfJ1001402p020705_001N029_r0229b_regimg3.fits', 'acisfJ1000482p015447_001N030_r0234b_regimg3.jpg.gz', 'acisfJ1000327p023059_001N031_r0010b_regimg3.jpg.gz', 'acisfJ1000373p014716_001N031_r0043b_regimg3.jpg.gz', 'acisfJ1000482p015447_001N029_r0150b_regimg3.fits', 'acisfJ1001328p022531_001N029_r0058b_regimg3.fits', 'acisfJ1001328p022531_001N031_r0053b_regimg3.jpg.gz', 'acisfJ1000072p015000_001N021_r0005b_regimg3.jpg.gz', 'acisfJ1002384p020202_001N029_r0109b_regimg3.fits', 'acisfJ1001402p020705_001N031_r0254b_regimg3.fits', 'acisfJ1236516p621303_001N026_r0006b_regimg3.fits', 'acisfJ1000482p015447_001N030_r0037b_regimg3.jpg.gz', 'acisfJ1457012p243701_001N020_r0019b_regimg3.jpg.gz', 'acisfJ0959481p020015_001N030_r0245b_regimg3.jpg.gz', 'acisfJ0959299m224911_001N020_r0015b_regimg3.jpg.gz', 'acisfJ1000592p020218_001N031_r0247b_regimg3.jpg.gz', 'acisfJ1002222p021159_001N031_r0139b_regimg3.fits', 'acisfJ1420147p530007_001N030_r0148b_regimg3.fits', 'acisfJ0958370p015812_001N021_r0037b_regimg3.jpg.gz', 'acisfJ0959180p020259_001N031_r0257b_regimg3.jpg.gz', 'acisfJ0959481p020015_001N031_r0084b_regimg3.fits', 'acisfJ1338245m194258_001N026_r0118b_regimg3.fits', 'acisfJ0959599p014221_001N021_r0056b_regimg3.jpg.gz', 'acisfJ1002343p021933_001N031_r0157b_regimg3.jpg.gz', 'acisfJ1131551m123229_001N029_r0065b_regimg3.jpg.gz', 'acisfJ0958479p020543_001N031_r0239b_regimg3.fits', 'acisfJ1000299p020542_001N030_r0002b_regimg3.fits', 'acisfJ1420147p530007_001N030_r0228b_regimg3.fits', 'acisfJ1001027p022815_001N031_r0109b_regimg3.jpg.gz', 'acisfJ0958370p015812_001N031_r0026b_regimg3.jpg.gz', 'acisfJ1000592p020218_001N030_r0052b_regimg3.jpg.gz', 'acisfJ1420280p530201_001N022_r0446b_regimg3.jpg.gz', 'acisfJ1001027p022815_001N029_r0243b_regimg3.fits', 'acisfJ1000327p023059_001N029_r0028b_regimg3.fits', 'acisfJ1000482p015447_001N031_r0185b_regimg3.fits', 'acisfJ1002106p022956_001N033_r9002b_regimg3.jpg.gz', 'acisfJ1030285p052522_002N020_r0119b_regimg3.jpg.gz', 'acisfJ1420147p530007_001N022_r0535b_regimg3.jpg.gz', 'acisfJ1001402p020705_001N031_r0301b_regimg3.jpg.gz', 'acisfJ1000109p024058_001N029_r0104b_regimg3.fits', 'acisfJ1001511p021436_001N031_r0233b_regimg3.jpg.gz', 'acisfJ1201548m185204_002N028_r0098b_regimg3.jpg.gz', 'acisfJ0958479p020543_001N029_r0049b_regimg3.fits', 'acisfJ0959371p015244_001N031_r0177b_regimg3.jpg.gz', 'acisfJ1000277p013951_001N031_r0161b_regimg3.fits', 'acisfJ0958370p015812_001N031_r0048b_regimg3.jpg.gz', 'acisfJ1000482p015447_001N031_r0039b_regimg3.fits', 'acisfJ1000395p023823_001N031_r0160b_regimg3.jpg.gz', 'acisfJ1001292p015934_001N030_r0124b_regimg3.jpg.gz', 'acisfJ0959509p022532_001N031_r0053b_regimg3.jpg.gz', 'acisfJ1002019p022207_001N031_r0169b_regimg3.fits', 'acisfJ1000482p015447_001N030_r0030b_regimg3.jpg.gz', 'acisfJ1420147p530007_001N030_r0145b_regimg3.fits', 'acisfJ1001183p015203_001N031_r0211b_regimg3.fits', 'acisfJ1420280p530201_001N022_r0081b_regimg3.jpg.gz', 'acisfJ1001027p022815_001N031_r0149b_regimg3.fits', 'acisfJ1236516p621303_001N020_r0277b_regimg3.jpg.gz', 'acisfJ1000510p022004_001N031_r0236b_regimg3.jpg.gz', 'acisfJ1002384p020202_001N031_r0044b_regimg3.jpg.gz', 'acisfJ1001328p022531_001N021_r0016b_regimg3.jpg.gz', 'acisfJ1419131p524818_001N030_r0442b_regimg3.fits', 'acisfJ1000107p021558_001N029_r0255b_regimg3.fits', 'acisfJ1245445p032358_001N021_r0159b_regimg3.jpg.gz', 'acisfJ1000072p015000_001N031_r0003b_regimg3.fits', 'acisfJ1001211p021720_001N031_r0142b_regimg3.jpg.gz', 'acisfJ0959071p015528_001N021_r0026b_regimg3.jpg.gz', 'acisfJ1000373p014716_001N031_r0152b_regimg3.fits', 'acisfJ0959180p020259_001N031_r0273b_regimg3.fits', 'acisfJ1002123p020448_001N031_r0075b_regimg3.fits', 'acisfJ1420280p530201_001N022_r0083b_regimg3.jpg.gz', 'acisfJ1000109p024058_001N031_r0002b_regimg3.fits', 'acisfJ0957597p021843_001N029_r0083b_regimg3.fits', 'acisfJ0959180p020259_001N031_r0226b_regimg3.fits', 'acisfJ1000181p015731_001N030_r0176b_regimg3.fits', 'acisfJ1420280p530201_001N030_r0457b_regimg3.fits', 'acisfJ1000109p024058_001N021_r0174b_regimg3.jpg.gz', 'acisfJ1001397p023235_001N021_r0001b_regimg3.jpg.gz', 'acisfJ1000217p022329_001N031_r0115b_regimg3.fits', 'acisfJ1002384p020202_001N031_r0072b_regimg3.jpg.gz', 'acisfJ1000181p015731_001N031_r0224b_regimg3.fits', 'acisfJ0958306p021622_001N031_r0010b_regimg3.jpg.gz', 'acisfJ0958370p015812_001N021_r0023b_regimg3.jpg.gz', 'acisfJ1000299p020542_001N030_r0238b_regimg3.fits', 'acisfJ1000373p014716_001N031_r0058b_regimg3.fits', 'acisfJ0959371p015244_001N031_r0218b_regimg3.fits', 'acisfJ1001292p015934_001N030_r0198b_regimg3.fits', 'acisfJ1000181p015731_001N030_r0225b_regimg3.jpg.gz', 'acisfJ1206160m084601_001N021_r0041b_regimg3.jpg.gz', 'acisfJ1001292p015934_001N031_r0063b_regimg3.fits', 'acisfJ0959180p020259_001N031_r0054b_regimg3.fits', 'acisfJ0959481p020015_001N031_r0255b_regimg3.fits', 'acisfJ1201548m185204_002N028_r0239b_regimg3.fits', 'acisfJ1002384p020202_001N031_r0122b_regimg3.jpg.gz', 'acisfJ1000277p013951_001N031_r0161b_regimg3.jpg.gz', 'acisfJ1002343p021933_001N031_r0057b_regimg3.jpg.gz', 'acisfJ1001292p015934_001N030_r0004b_regimg3.fits', 'acisfJ1002222p021159_001N021_r0153b_regimg3.jpg.gz', 'acisfJ1002222p021159_001N030_r0179b_regimg3.fits', 'acisfJ1000299p020542_001N031_r0013b_regimg3.jpg.gz', 'acisfJ1000510p022004_001N029_r0182b_regimg3.fits', 'acisfJ1000277p013951_001N031_r0050b_regimg3.fits', 'acisfJ1420147p530007_001N023_r0126b_regimg3.jpg.gz', 'acisfJ1201527m185305_001N021_r0116b_regimg3.jpg.gz', 'acisfJ0958479p020543_001N021_r0041b_regimg3.jpg.gz', 'acisfJ1420147p530007_001N030_r0528b_regimg3.fits', 'acisfJ1002499p020946_001N021_r0004b_regimg3.jpg.gz', 'acisfJ1001027p022815_001N021_r0179b_regimg3.jpg.gz', 'acisfJ1001183p015203_001N030_r0020b_regimg3.fits', 'acisfJ1030285p052522_002N020_r0119b_regimg3.fits', 'acisfJ1420147p530007_001N030_r0206b_regimg3.fits', 'acisfJ1201527m185305_001N028_r0493b_regimg3.jpg.gz', 'acisfJ0959297p021110_001N031_r0258b_regimg3.jpg.gz', 'acisfJ1000327p023059_001N031_r0054b_regimg3.fits', 'acisfJ1000482p015447_001N030_r0173b_regimg3.jpg.gz', 'acisfJ1420147p530007_001N023_r0161b_regimg3.jpg.gz', 'acisfJ1002123p020448_001N031_r0029b_regimg3.fits', 'acisfJ1000482p015447_001N030_r0068b_regimg3.fits', 'acisfJ1000482p015447_001N031_r0061b_regimg3.jpg.gz', 'acisfJ1002019p022207_001N031_r0238b_regimg3.fits', 'acisfJ0958370p022359_001N031_r0061b_regimg3.fits', 'acisfJ1212049p273400_001N026_r0044b_regimg3.fits', 'acisfJ1000072p015000_001N031_r0080b_regimg3.fits', 'acisfJ1420280p530201_001N030_r0240b_regimg3.fits', 'acisfJ0957597p021843_001N031_r0091b_regimg3.fits', 'acisfJ1000181p015731_001N030_r0020b_regimg3.jpg.gz', 'acisfJ1000299p020542_001N030_r0243b_regimg3.fits', 'acisfJ1001292p015934_001N031_r0258b_regimg3.jpg.gz', 'acisfJ1000482p015447_001N030_r0032b_regimg3.fits', 'acisfJ1030285p052522_002N020_r0185b_regimg3.jpg.gz', 'acisfJ1420280p530201_001N022_r0434b_regimg3.jpg.gz', 'acisfJ1000327p023059_001N029_r0026b_regimg3.fits', 'acisfJ1001328p022531_001N031_r0078b_regimg3.jpg.gz', 'acisfJ1001511p021436_001N021_r0027b_regimg3.jpg.gz', 'acisfJ1000299p020542_001N030_r0014b_regimg3.fits', 'acisfJ1002384p020202_001N031_r0121b_regimg3.jpg.gz', 'acisfJ1002123p020448_001N029_r0197b_regimg3.fits', 'acisfJ1001292p015934_001N031_r0258b_regimg3.fits', 'acisfJ1000299p020542_001N030_r0240b_regimg3.fits', 'acisfJ1001183p015203_001N030_r0020b_regimg3.jpg.gz', 'acisfJ1001402p020705_001N029_r0252b_regimg3.fits', 'acisfJ1002499p020946_001N029_r0121b_regimg3.fits', 'acisfJ1001183p015203_001N030_r0023b_regimg3.jpg.gz', 'acisfJ1149288p222105_001N022_r0061b_regimg3.jpg.gz', 'acisfJ0958306p021622_001N021_r0091b_regimg3.jpg.gz', 'acisfJ1001183p015203_001N030_r0071b_regimg3.jpg.gz', 'acisfJ1001072p014432_001N031_r0015b_regimg3.fits', 'acisfJ1002499p020946_001N031_r0072b_regimg3.fits', 'acisfJ0959071p015528_001N029_r0195b_regimg3.fits', 'acisfJ1001292p015934_001N030_r0244b_regimg3.fits', 'acisfJ1001292p015934_001N030_r0244b_regimg3.jpg.gz', 'acisfJ1000592p020218_001N030_r0018b_regimg3.jpg.gz', 'acisfJ1002499p020946_001N031_r0007b_regimg3.fits', 'acisfJ1000277p013951_001N021_r0080b_regimg3.jpg.gz', 'acisfJ1000026p023344_001N031_r0294b_regimg3.jpg.gz', 'acisfJ1001402p020705_001N029_r0256b_regimg3.fits', 'acisfJ0958203p020845_001N031_r0189b_regimg3.fits', 'acisfJ0957597p021843_001N021_r0055b_regimg3.jpg.gz', 'acisfJ1236516p621303_001N026_r0391b_regimg3.fits', 'acisfJ1001101p020949_001N030_r0188b_regimg3.jpg.gz', 'acisfJ0959299m224911_001N020_r0014b_regimg3.fits', 'acisfJ1000181p015731_001N030_r0222b_regimg3.fits', 'acisfJ1002499p020946_001N031_r0034b_regimg3.jpg.gz', 'acisfJ1420280p530201_001N030_r0445b_regimg3.fits', 'acisfJ1002019p022207_001N031_r0045b_regimg3.jpg.gz', 'acisfJ1001292p015934_001N030_r0100b_regimg3.jpg.gz', 'acisfJ1002384p020202_001N021_r0119b_regimg3.jpg.gz', 'acisfJ1000482p015447_001N030_r0169b_regimg3.jpg.gz', 'acisfJ1000181p015731_001N029_r0071b_regimg3.fits', 'acisfJ0958370p015812_001N029_r0034b_regimg3.fits', 'acisfJ1237038p621303_001N026_r0190b_regimg3.fits', 'acisfJ1000482p015447_001N031_r0185b_regimg3.jpg.gz', 'acisfJ1030266p052411_001N020_r0116b_regimg3.jpg.gz', 'acisfJ1002222p021159_001N031_r0142b_regimg3.jpg.gz', 'acisfJ1206160m084601_001N021_r0074b_regimg3.jpg.gz', 'acisfJ1000299p020542_001N030_r0240b_regimg3.jpg.gz', 'acisfJ1002343p021933_001N031_r0157b_regimg3.fits', 'acisfJ0958203p020845_001N031_r0091b_regimg3.fits', 'acisfJ0958479p020543_001N029_r0166b_regimg3.fits', 'acisfJ1420280p530201_001N022_r0438b_regimg3.jpg.gz', 'acisfJ1000299p020542_001N030_r0309b_regimg3.fits', 'acisfJ1001511p021436_001N031_r0207b_regimg3.fits', 'acisfJ0958306p021622_001N029_r0009b_regimg3.fits', 'acisfJ1001183p015203_001N031_r0056b_regimg3.fits', 'acisfJ1001511p021436_001N029_r0229b_regimg3.fits', 'acisfJ1421328p531328_001N030_r0361b_regimg3.fits', 'acisfJ0958370p015812_001N029_r0060b_regimg3.fits', 'acisfJ1001511p021436_001N021_r0229b_regimg3.jpg.gz', 'acisfJ1002106p022956_001N029_r0116b_regimg3.fits', 'acisfJ1419131p524818_001N030_r0421b_regimg3.fits', 'acisfJ1420280p530201_001N030_r0063b_regimg3.fits', 'acisfJ1201548m185204_002N028_r0098b_regimg3.fits', 'acisfJ1001183p015203_001N031_r0002b_regimg3.jpg.gz', 'acisfJ1000373p014716_001N031_r0164b_regimg3.jpg.gz', 'acisfJ1000510p022004_001N031_r0220b_regimg3.jpg.gz', 'acisfJ1000510p022004_001N031_r0175b_regimg3.jpg.gz', 'acisfJ1002499p020946_001N021_r0123b_regimg3.jpg.gz', 'acisfJ1002222p021159_001N031_r0067b_regimg3.jpg.gz', 'acisfJ1000109p024058_001N021_r0171b_regimg3.jpg.gz', 'acisfJ1000072p015000_001N031_r0177b_regimg3.jpg.gz', 'acisfJ1001511p021436_001N031_r0253b_regimg3.jpg.gz', 'acisfJ1000482p015447_001N031_r0066b_regimg3.jpg.gz', 'acisfJ1120012p064141_001N020_r0033b_regimg3.jpg.gz', 'acisfJ1000327p023059_001N031_r0284b_regimg3.jpg.gz', 'acisfJ1001183p015203_001N030_r0214b_regimg3.fits', 'acisfJ1001211p021720_001N021_r0281b_regimg3.jpg.gz', 'acisfJ1000482p015447_001N030_r0080b_regimg3.fits', 'acisfJ0959509p022532_001N029_r0297b_regimg3.fits', 'acisfJ1000482p015447_001N031_r0223b_regimg3.fits', 'acisfJ1001402p020705_001N021_r0229b_regimg3.jpg.gz', 'acisfJ1001511p021436_001N031_r0257b_regimg3.fits', 'acisfJ1000482p015447_001N031_r0270b_regimg3.fits', 'acisfJ1001511p021436_001N021_r0191b_regimg3.jpg.gz', 'acisfJ1420280p530201_001N022_r0175b_regimg3.jpg.gz', 'acisfJ1000217p022329_001N021_r0231b_regimg3.jpg.gz', 'acisfJ1001511p021436_001N029_r0168b_regimg3.fits', 'acisfJ1000072p015000_001N031_r0165b_regimg3.fits', 'acisfJ0959481p020015_001N030_r0257b_regimg3.jpg.gz', 'acisfJ0959297p021110_001N031_r0181b_regimg3.jpg.gz', 'acisfJ1002384p020202_001N031_r0056b_regimg3.jpg.gz', 'acisfJ0958203p020845_001N031_r0173b_regimg3.jpg.gz', 'acisfJ1420147p530007_001N023_r0228b_regimg3.jpg.gz', 'acisfJ1001072p014432_001N031_r0008b_regimg3.fits', 'acisfJ1001072p014432_001N031_r0016b_regimg3.fits', 'acisfJ1001328p022531_001N021_r0058b_regimg3.jpg.gz', 'acisfJ1000327p023059_001N029_r0203b_regimg3.fits', 'acisfJ1000592p020218_001N031_r0023b_regimg3.jpg.gz', 'acisfJ1001328p022531_001N030_r0301b_regimg3.jpg.gz', 'acisfJ1000510p022004_001N021_r0181b_regimg3.jpg.gz', 'acisfJ0959481p020015_001N030_r0108b_regimg3.fits', 'acisfJ1420147p530007_001N030_r0349b_regimg3.fits', 'acisfJ0959481p020015_001N030_r0256b_regimg3.jpg.gz', 'acisfJ1001183p015203_001N031_r0017b_regimg3.fits', 'acisfJ1030285p052522_002N020_r0095b_regimg3.jpg.gz', 'acisfJ1000592p020218_001N031_r0081b_regimg3.fits', 'acisfJ0958597p021353_001N031_r0266b_regimg3.jpg.gz', 'acisfJ1002343p021933_001N031_r0057b_regimg3.fits', 'acisfJ1001511p021436_001N031_r0251b_regimg3.fits', 'acisfJ0958203p020845_001N031_r0168b_regimg3.jpg.gz', 'acisfJ1001328p022531_001N029_r0016b_regimg3.fits', 'acisfJ1420147p530007_001N023_r0163b_regimg3.jpg.gz', 'acisfJ0959371p015244_001N021_r0165b_regimg3.jpg.gz', 'acisfJ1000072p015000_001N031_r0221b_regimg3.jpg.gz', 'acisfJ0958203p020845_001N031_r0174b_regimg3.jpg.gz', 'acisfJ1000217p022329_001N021_r0030b_regimg3.jpg.gz', 'acisfJ1420147p530007_001N023_r0379b_regimg3.jpg.gz', 'acisfJ0959481p020015_001N030_r0211b_regimg3.jpg.gz', 'acisfJ1001292p015934_001N031_r0093b_regimg3.jpg.gz', 'acisfJ0959371p015244_001N021_r0203b_regimg3.jpg.gz', 'acisfJ0959509p022532_001N031_r0209b_regimg3.fits', 'acisfJ0959481p020015_001N030_r0256b_regimg3.fits', 'acisfJ1001072p014432_001N031_r0019b_regimg3.fits', 'acisfJ1420280p530201_001N030_r0149b_regimg3.fits', 'acisfJ1000327p023059_001N021_r0041b_regimg3.jpg.gz', 'acisfJ1000510p022004_001N031_r0287b_regimg3.fits', 'acisfJ1001072p014432_001N031_r0082b_regimg3.fits', 'acisfJ1001402p020705_001N021_r0125b_regimg3.jpg.gz', 'acisfJ1002222p021159_001N029_r0153b_regimg3.fits', 'acisfJ1000373p014716_001N031_r0018b_regimg3.fits', 'acisfJ1001402p020705_001N031_r0295b_regimg3.fits', 'acisfJ1030285p052522_002N020_r0117b_regimg3.fits', 'acisfJ1002123p020448_001N021_r0193b_regimg3.jpg.gz', 'acisfJ1001027p022815_001N029_r0179b_regimg3.fits', 'acisfJ1420280p530201_001N022_r0144b_regimg3.jpg.gz', 'acisfJ1001397p023235_001N031_r0176b_regimg3.fits', 'acisfJ0958597p021353_001N031_r0060b_regimg3.fits', 'acisfJ1000589p013718_001N031_r0049b_regimg3.fits', 'acisfJ1002019p022207_001N031_r0210b_regimg3.jpg.gz', 'acisfJ0959371p015244_001N031_r0177b_regimg3.fits', 'acisfJ1236516p621303_001N020_r0265b_regimg3.jpg.gz', 'acisfJ0959180p020259_001N031_r0145b_regimg3.fits', 'acisfJ0959481p020015_001N030_r0245b_regimg3.fits', 'acisfJ1000482p015447_001N031_r0001b_regimg3.jpg.gz', 'acisfJ1000592p020218_001N030_r0112b_regimg3.jpg.gz', 'acisfJ1001183p015203_001N030_r0071b_regimg3.fits', 'acisfJ0959407p021841_001N029_r0329b_regimg3.fits', 'acisfJ1420147p530007_001N030_r0153b_regimg3.fits', 'acisfJ0959599p014221_001N021_r0153b_regimg3.jpg.gz', 'acisfJ1002343p021933_001N031_r0113b_regimg3.fits', 'acisfJ1000299p020542_001N030_r0044b_regimg3.fits', 'acisfJ1420280p530201_001N022_r0151b_regimg3.jpg.gz', 'acisfJ1457012p243701_001N026_r0033b_regimg3.fits', 'acisfJ1237038p621303_001N020_r0191b_regimg3.jpg.gz', 'acisfJ1420280p530201_001N022_r0230b_regimg3.jpg.gz', 'acisfJ1002019p022207_001N031_r0110b_regimg3.jpg.gz', 'acisfJ0959509p022532_001N031_r0027b_regimg3.jpg.gz', 'acisfJ1000589p013718_001N031_r0036b_regimg3.fits', 'acisfJ0958479p020543_001N031_r0236b_regimg3.jpg.gz', 'acisfJ1000327p023059_001N021_r0099b_regimg3.jpg.gz', 'acisfJ1001183p015203_001N030_r0213b_regimg3.jpg.gz', 'acisfJ1420280p530201_001N030_r0459b_regimg3.fits', 'acisfJ1148186p525155_001N020_r0014b_regimg3.jpg.gz', 'acisfJ1001292p015934_001N030_r0058b_regimg3.fits', 'acisfJ0958597p021353_001N031_r0265b_regimg3.jpg.gz', 'acisfJ1001402p020705_001N031_r0294b_regimg3.fits', 'acisfJ1001072p014432_001N031_r0149b_regimg3.fits', 'acisfJ1000482p015447_001N031_r0055b_regimg3.fits', 'acisfJ0959297p021110_001N031_r0163b_regimg3.fits', 'acisfJ1000217p022329_001N029_r0214b_regimg3.fits', 'acisfJ1001211p021720_001N031_r0032b_regimg3.fits', 'acisfJ1000277p013951_001N021_r0125b_regimg3.jpg.gz', 'acisfJ1000592p020218_001N030_r0013b_regimg3.fits', 'acisfJ1030285p052522_002N020_r0090b_regimg3.jpg.gz', 'acisfJ1000072p015000_001N031_r0163b_regimg3.fits', 'acisfJ1000217p022329_001N031_r0032b_regimg3.fits', 'acisfJ1420280p530201_001N030_r0053b_regimg3.fits', 'acisfJ0959299m224911_001N020_r0023b_regimg3.jpg.gz', 'acisfJ1420280p530201_001N022_r0101b_regimg3.jpg.gz', 'acisfJ1000181p015731_001N021_r0071b_regimg3.jpg.gz', 'acisfJ1002499p020946_001N031_r0071b_regimg3.jpg.gz', 'acisfJ1000482p015447_001N030_r0027b_regimg3.jpg.gz', 'acisfJ1001183p015203_001N030_r0110b_regimg3.jpg.gz', 'acisfJ0958203p020845_001N021_r0184b_regimg3.jpg.gz', 'acisfJ1001511p021436_001N031_r0213b_regimg3.jpg.gz', 'acisfJ1002499p020946_001N031_r0138b_regimg3.fits', 'acisfJ0958370p015812_001N031_r0169b_regimg3.fits', 'acisfJ0959599p014221_001N031_r0016b_regimg3.jpg.gz', 'acisfJ1000026p023344_001N031_r0301b_regimg3.jpg.gz', 'acisfJ1000592p020218_001N030_r0013b_regimg3.jpg.gz', 'acisfJ1000181p015731_001N030_r0034b_regimg3.jpg.gz', 'acisfJ1001211p021720_001N021_r0239b_regimg3.jpg.gz', 'acisfJ1000181p015731_001N030_r0093b_regimg3.fits', 'acisfJ1001397p023235_001N031_r0173b_regimg3.jpg.gz', 'acisfJ1000592p020218_001N030_r0248b_regimg3.fits', 'acisfJ1420147p530007_001N030_r0107b_regimg3.fits', 'acisfJ1000592p020218_001N030_r0005b_regimg3.jpg.gz', 'acisfJ1420280p530201_001N022_r0485b_regimg3.jpg.gz', 'acisfJ0959509p022532_001N031_r0027b_regimg3.fits', 'acisfJ1000217p022329_001N031_r0096b_regimg3.jpg.gz', 'acisfJ1000510p022004_001N029_r0041b_regimg3.fits', 'acisfJ1001292p015934_001N030_r0251b_regimg3.fits', 'acisfJ1001183p015203_001N030_r0215b_regimg3.jpg.gz', 'acisfJ1000482p015447_001N030_r0181b_regimg3.fits', 'acisfJ1001511p021436_001N031_r0266b_regimg3.jpg.gz', 'acisfJ1000482p015447_001N031_r0235b_regimg3.fits', 'acisfJ1000327p023059_001N021_r0024b_regimg3.jpg.gz', 'acisfJ1002123p020448_001N029_r0107b_regimg3.fits', 'acisfJ1420280p530201_001N022_r0075b_regimg3.jpg.gz', 'acisfJ0958306p021622_001N031_r0003b_regimg3.jpg.gz', 'acisfJ1001328p022531_001N031_r0252b_regimg3.jpg.gz', 'acisfJ1001211p021720_001N021_r0212b_regimg3.jpg.gz', 'acisfJ1001183p015203_001N030_r0025b_regimg3.jpg.gz', 'acisfJ0958203p020845_001N031_r0162b_regimg3.jpg.gz', 'acisfJ1413134m031256_001N026_r0015b_regimg3.fits', 'acisfJ1000109p024058_001N029_r0169b_regimg3.fits', 'acisfJ1236360p621436_001N026_r0271b_regimg3.fits', 'acisfJ1000026p023344_001N031_r0225b_regimg3.jpg.gz', 'acisfJ1000181p015731_001N031_r0051b_regimg3.fits', 'acisfJ1000026p023344_001N029_r0128b_regimg3.fits', 'acisfJ1001387p014152_001N031_r0117b_regimg3.fits', 'acisfJ1000592p020218_001N030_r0109b_regimg3.fits', 'acisfJ1000026p023344_001N021_r0216b_regimg3.jpg.gz', 'acisfJ0959481p020015_001N030_r0106b_regimg3.fits', 'acisfJ1000026p023344_001N021_r0223b_regimg3.jpg.gz', 'acisfJ1420280p530201_001N030_r0093b_regimg3.fits', 'acisfJ0958479p020543_001N021_r0049b_regimg3.jpg.gz', 'acisfJ1001397p023235_001N031_r0173b_regimg3.fits', 'acisfJ1000217p022329_001N021_r0023b_regimg3.jpg.gz', 'acisfJ0958479p020543_001N031_r0233b_regimg3.jpg.gz', 'acisfJ1201527m185305_001N028_r0118b_regimg3.jpg.gz', 'acisfJ1000482p015447_001N030_r0068b_regimg3.jpg.gz', 'acisfJ0958370p015812_001N021_r0074b_regimg3.jpg.gz', 'acisfJ1002019p022207_001N031_r0212b_regimg3.jpg.gz', 'acisfJ1001402p020705_001N031_r0294b_regimg3.jpg.gz', 'acisfJ1000026p023344_001N029_r0010b_regimg3.fits', 'acisfJ1001328p022531_001N029_r0029b_regimg3.fits', 'acisfJ1030266p052411_001N020_r0182b_regimg3.fits', 'acisfJ1212049p273400_001N026_r0001b_regimg3.fits', 'acisfJ0959371p015244_001N029_r0169b_regimg3.fits', 'acisfJ1030285p052522_002N020_r0094b_regimg3.jpg.gz', 'acisfJ1419131p524818_001N023_r0481b_regimg3.jpg.gz', 'acisfJ0958597p021353_001N031_r0214b_regimg3.fits', 'acisfJ1001101p020949_001N031_r0214b_regimg3.jpg.gz', 'acisfJ1001292p015934_001N030_r0158b_regimg3.fits', 'acisfJ1149341p222725_002N027_r0050b_regimg3.fits', 'acisfJ1420147p530007_001N023_r0205b_regimg3.jpg.gz', 'acisfJ0958479p020543_001N031_r0239b_regimg3.jpg.gz', 'acisfJ1001511p021436_001N021_r0247b_regimg3.jpg.gz', 'acisfJ1000395p023823_001N021_r0135b_regimg3.jpg.gz', 'acisfJ1002019p022207_001N021_r0081b_regimg3.jpg.gz', 'acisfJ1000026p023344_001N031_r0011b_regimg3.jpg.gz', 'acisfJ1000109p024058_001N031_r0002b_regimg3.jpg.gz', 'acisfJ1420280p530201_001N030_r0485b_regimg3.fits', 'acisfJ0959481p020015_001N030_r0213b_regimg3.fits', 'acisfJ1001402p020705_001N031_r0248b_regimg3.fits', 'acisfJ1001292p015934_001N030_r0185b_regimg3.fits', 'acisfJ1245445p032358_001N020_r0111b_regimg3.jpg.gz', 'acisfJ1000299p020542_001N030_r0045b_regimg3.jpg.gz', 'acisfJ1419131p524818_001N023_r0485b_regimg3.jpg.gz', 'acisfJ1000592p020218_001N031_r0023b_regimg3.fits', 'acisfJ1001397p023235_001N021_r0137b_regimg3.jpg.gz', 'acisfJ1000072p015000_001N031_r0009b_regimg3.jpg.gz', 'acisfJ1002343p021933_001N031_r0113b_regimg3.jpg.gz', 'acisfJ1001211p021720_001N031_r0282b_regimg3.jpg.gz', 'acisfJ1000072p015000_001N031_r0220b_regimg3.jpg.gz', 'acisfJ1002499p020946_001N031_r0051b_regimg3.jpg.gz', 'acisfJ1002019p022207_001N031_r0179b_regimg3.jpg.gz', 'acisfJ1000592p020218_001N030_r0199b_regimg3.fits', 'acisfJ0958479p020543_001N021_r0102b_regimg3.jpg.gz', 'acisfJ1001511p021436_001N021_r0165b_regimg3.jpg.gz', 'acisfJ1000217p022329_001N029_r0071b_regimg3.fits', 'acisfJ1001328p022531_001N021_r0030b_regimg3.jpg.gz', 'acisfJ0958306p021622_001N029_r0001b_regimg3.fits', 'acisfJ1002106p022956_001N021_r0044b_regimg3.jpg.gz', 'acisfJ0958306p021622_001N031_r0008b_regimg3.fits', 'acisfJ1457012p243701_001N026_r0030b_regimg3.fits', 'acisfJ0958092p020103_001N031_r0148b_regimg3.jpg.gz', 'acisfJ1000217p022329_001N029_r0217b_regimg3.fits', 'acisfJ1000592p020218_001N031_r0056b_regimg3.jpg.gz', 'acisfJ0958479p020543_001N021_r0019b_regimg3.jpg.gz', 'acisfJ1002384p020202_001N031_r0024b_regimg3.jpg.gz', 'acisfJ0958203p020845_001N029_r0047b_regimg3.fits', 'acisfJ1002222p021159_001N031_r0068b_regimg3.fits', 'acisfJ1000592p020218_001N030_r0092b_regimg3.jpg.gz', 'acisfJ1000510p022004_001N031_r0224b_regimg3.jpg.gz', 'acisfJ1001402p020705_001N021_r0232b_regimg3.jpg.gz', 'acisfJ1457012p243701_001N026_r0019b_regimg3.fits', 'acisfJ1002222p021159_001N031_r0088b_regimg3.fits', 'acisfJ1001027p022815_001N031_r0149b_regimg3.jpg.gz', 'acisfJ1421328p531328_001N022_r0300b_regimg3.jpg.gz', 'acisfJ1000395p023823_001N031_r0109b_regimg3.jpg.gz', 'acisfJ1000327p023059_001N031_r0043b_regimg3.jpg.gz', 'acisfJ1001402p020705_001N031_r0214b_regimg3.fits', 'acisfJ1002019p022207_001N029_r0059b_regimg3.fits', 'acisfJ1002384p020202_001N031_r0122b_regimg3.fits', 'acisfJ1001183p015203_001N030_r0027b_regimg3.jpg.gz', 'acisfJ1000510p022004_001N031_r0080b_regimg3.jpg.gz', 'acisfJ1002384p020202_001N021_r0026b_regimg3.jpg.gz', 'acisfJ1000327p023059_001N029_r0066b_regimg3.fits', 'acisfJ1000373p014716_001N031_r0041b_regimg3.fits', 'acisfJ1001511p021436_001N031_r0252b_regimg3.fits', 'acisfJ1000277p013951_001N031_r0057b_regimg3.fits', 'acisfJ1001072p014432_001N031_r0017b_regimg3.jpg.gz', 'acisfJ1000510p022004_001N029_r0254b_regimg3.fits', 'acisfJ1149288p222105_001N026_r0064b_regimg3.fits', 'acisfJ1002123p020448_001N029_r0074b_regimg3.fits', 'acisfJ1002123p020448_001N031_r0106b_regimg3.jpg.gz', 'acisfJ1000592p020218_001N030_r0051b_regimg3.jpg.gz', 'acisfJ1001101p020949_001N030_r0188b_regimg3.fits', 'acisfJ1212049p273400_001N021_r0023b_regimg3.jpg.gz', 'acisfJ1236516p621303_001N020_r0006b_regimg3.jpg.gz', 'acisfJ1002019p022207_001N021_r0166b_regimg3.jpg.gz', 'acisfJ1148186p525155_001N020_r0062b_regimg3.jpg.gz', 'acisfJ1001027p022815_001N021_r0182b_regimg3.jpg.gz', 'acisfJ1002019p022207_001N030_r0273b_regimg3.fits', 'acisfJ1001292p015934_001N030_r0121b_regimg3.jpg.gz', 'acisfJ1002222p021159_001N031_r0141b_regimg3.fits', 'acisfJ0958479p020543_001N031_r0100b_regimg3.fits', 'acisfJ1000373p014716_001N031_r0010b_regimg3.jpg.gz', 'acisfJ0958479p020543_001N031_r0005b_regimg3.fits', 'acisfJ1000026p023344_001N029_r0212b_regimg3.fits', 'acisfJ1420280p530201_001N030_r0443b_regimg3.fits', 'acisfJ1002384p020202_001N031_r0068b_regimg3.jpg.gz', 'acisfJ1002019p022207_001N029_r0014b_regimg3.fits', 'acisfJ1001027p022815_001N031_r0062b_regimg3.fits', 'acisfJ1148186p525155_001N020_r0061b_regimg3.fits', 'acisfJ0959481p020015_001N030_r0253b_regimg3.fits', 'acisfJ1001183p015203_001N031_r0031b_regimg3.jpg.gz', 'acisfJ1001292p015934_001N030_r0197b_regimg3.fits', 'acisfJ1000181p015731_001N031_r0191b_regimg3.jpg.gz', 'acisfJ0958092p020103_001N029_r0089b_regimg3.fits', 'acisfJ1002019p022207_001N031_r0178b_regimg3.jpg.gz', 'acisfJ1001402p020705_001N021_r0246b_regimg3.jpg.gz', 'acisfJ1236516p621303_001N026_r0258b_regimg3.fits', 'acisfJ1000181p015731_001N031_r0206b_regimg3.fits', 'acisfJ1002009p015702_001N031_r0198b_regimg3.jpg.gz', 'acisfJ0958370p015812_001N029_r0059b_regimg3.fits', 'acisfJ1002123p020448_001N031_r0106b_regimg3.fits', 'acisfJ1001511p021436_001N021_r0210b_regimg3.jpg.gz', 'acisfJ1001511p021436_001N031_r0252b_regimg3.jpg.gz', 'acisfJ1000373p014716_001N031_r0209b_regimg3.jpg.gz', 'acisfJ1000109p024058_001N021_r0040b_regimg3.jpg.gz', 'acisfJ0958479p020543_001N021_r0107b_regimg3.jpg.gz', 'acisfJ1420147p530007_001N022_r0527b_regimg3.jpg.gz', 'acisfJ1002222p021159_001N021_r0156b_regimg3.jpg.gz', 'acisfJ1120012p064141_001N020_r0026b_regimg3.jpg.gz', 'acisfJ1000181p015731_001N031_r0082b_regimg3.fits', 'acisfJ1421328p531328_001N030_r0362b_regimg3.fits', 'acisfJ1002499p020946_001N031_r0051b_regimg3.fits', 'acisfJ1001027p022815_001N031_r0238b_regimg3.jpg.gz', 'acisfJ1001292p015934_001N030_r0249b_regimg3.jpg.gz', 'acisfJ0957597p021843_001N031_r0087b_regimg3.fits', 'acisfJ1030285p052522_002N020_r0116b_regimg3.jpg.gz', 'acisfJ1000026p023344_001N031_r0284b_regimg3.jpg.gz', 'acisfJ0958370p015812_001N029_r0037b_regimg3.fits', 'acisfJ0958203p020845_001N031_r0098b_regimg3.fits', 'acisfJ0959599p014221_001N029_r0056b_regimg3.fits', 'acisfJ1146116p202412_001N026_r0012b_regimg3.fits', 'acisfJ1420147p530007_001N030_r0097b_regimg3.fits', 'acisfJ1002499p020946_001N021_r0112b_regimg3.jpg.gz', 'acisfJ1002384p020202_001N021_r0029b_regimg3.jpg.gz', 'acisfJ1146116p202412_001N026_r0006b_regimg3.fits', 'acisfJ1002106p022956_001N031_r0046b_regimg3.fits', 'acisfJ1420147p530007_001N023_r0120b_regimg3.jpg.gz', 'acisfJ1001027p022815_001N021_r0011b_regimg3.jpg.gz', 'acisfJ1420280p530201_001N022_r0078b_regimg3.jpg.gz', 'acisfJ1000373p014716_001N031_r0125b_regimg3.jpg.gz', 'acisfJ1420147p530007_001N030_r0120b_regimg3.fits', 'acisfJ1000277p013951_001N031_r0033b_regimg3.jpg.gz', 'acisfJ1030285p052522_002N020_r0194b_regimg3.fits', 'acisfJ0958479p020543_001N021_r0023b_regimg3.jpg.gz', 'acisfJ0958479p020543_001N031_r0173b_regimg3.jpg.gz', 'acisfJ0959180p020259_001N031_r0272b_regimg3.fits', 'acisfJ1000373p014716_001N031_r0236b_regimg3.jpg.gz', 'acisfJ1201548m185204_002N028_r0217b_regimg3.fits', 'acisfJ0959371p015244_001N031_r0180b_regimg3.fits', 'acisfJ1206357m074212_001N021_r0038b_regimg3.jpg.gz', 'acisfJ1420280p530201_001N022_r0240b_regimg3.jpg.gz', 'acisfJ1001402p020705_001N021_r0252b_regimg3.jpg.gz', 'acisfJ1420147p530007_001N030_r0156b_regimg3.fits', 'acisfJ1000181p015731_001N031_r0191b_regimg3.fits', 'acisfJ1001511p021436_001N031_r0237b_regimg3.jpg.gz', 'acisfJ1001183p015203_001N031_r0057b_regimg3.fits', 'acisfJ1000327p023059_001N031_r0236b_regimg3.fits', 'acisfJ1002222p021159_001N031_r0018b_regimg3.fits', 'acisfJ1420147p530007_001N023_r0349b_regimg3.jpg.gz', 'acisfJ1000373p014716_001N031_r0152b_regimg3.jpg.gz', 'acisfJ1000026p023344_001N021_r0221b_regimg3.jpg.gz', 'acisfJ0959481p020015_001N030_r0257b_regimg3.fits', 'acisfJ1001328p022531_001N021_r0169b_regimg3.jpg.gz', 'acisfJ1148186p525155_001N020_r0050b_regimg3.fits', 'acisfJ1236516p621303_001N020_r0284b_regimg3.jpg.gz', 'acisfJ1000482p015447_001N031_r0107b_regimg3.jpg.gz', 'acisfJ1000109p024058_001N029_r0154b_regimg3.fits', 'acisfJ0958479p020543_001N031_r0096b_regimg3.fits', 'acisfJ1420147p530007_001N023_r0159b_regimg3.jpg.gz', 'acisfJ1001183p015203_001N030_r0218b_regimg3.fits', 'acisfJ1000107p021558_001N021_r0084b_regimg3.jpg.gz', 'acisfJ1000395p023823_001N031_r0006b_regimg3.fits', 'acisfJ1001183p015203_001N030_r0062b_regimg3.fits', 'acisfJ0959071p015528_001N029_r0026b_regimg3.fits', 'acisfJ1001511p021436_001N031_r0207b_regimg3.jpg.gz', 'acisfJ1148186p525155_001N020_r0061b_regimg3.jpg.gz', 'acisfJ1000510p022004_001N029_r0276b_regimg3.fits', 'acisfJ0958203p020845_001N029_r0184b_regimg3.fits', 'acisfJ1205225m074238_001N021_r0064b_regimg3.jpg.gz', 'acisfJ1002123p020448_001N031_r0053b_regimg3.fits', 'acisfJ1420280p530201_001N030_r0060b_regimg3.fits', 'acisfJ1149341p222725_002N027_r0035b_regimg3.fits', 'acisfJ1000217p022329_001N031_r0038b_regimg3.jpg.gz', 'acisfJ1001511p021436_001N031_r0014b_regimg3.fits', 'acisfJ1149341p222725_002N027_r0006b_regimg3.fits', 'acisfJ1000072p015000_001N029_r0043b_regimg3.fits', 'acisfJ1421328p531328_001N022_r0362b_regimg3.jpg.gz', 'acisfJ0957482p023714_001N029_r0065b_regimg3.fits', 'acisfJ1001511p021436_001N031_r0273b_regimg3.jpg.gz', 'acisfJ1420147p530007_001N030_r0550b_regimg3.fits', 'acisfJ1000181p015731_001N030_r0097b_regimg3.jpg.gz', 'acisfJ0958479p020543_001N029_r0021b_regimg3.fits', 'acisfJ1000395p023823_001N021_r0110b_regimg3.jpg.gz', 'acisfJ1000217p022329_001N031_r0112b_regimg3.fits', 'acisfJ1002019p022207_001N029_r0081b_regimg3.fits', 'acisfJ1000327p023059_001N021_r0217b_regimg3.jpg.gz', 'acisfJ1420280p530201_001N022_r0445b_regimg3.jpg.gz', 'acisfJ1001183p015203_001N030_r0051b_regimg3.fits', 'acisfJ1000373p014716_001N021_r0149b_regimg3.jpg.gz', 'acisfJ0958370p015812_001N031_r0048b_regimg3.fits', 'acisfJ1000217p022329_001N031_r0031b_regimg3.fits', 'acisfJ1000592p020218_001N031_r0009b_regimg3.jpg.gz', 'acisfJ1420280p530201_001N022_r0486b_regimg3.jpg.gz', 'acisfJ1000109p024058_001N031_r0003b_regimg3.jpg.gz', 'acisfJ1206160m084601_001N026_r0080b_regimg3.fits', 'acisfJ1000072p015000_001N031_r0215b_regimg3.fits', 'acisfJ1001511p021436_001N031_r0259b_regimg3.fits', 'acisfJ1000408p021313_001N031_r0281b_regimg3.jpg.gz', 'acisfJ1002222p021159_001N021_r0004b_regimg3.jpg.gz', 'acisfJ0959071p015528_001N021_r0025b_regimg3.jpg.gz', 'acisfJ1000395p023823_001N021_r0130b_regimg3.jpg.gz', 'acisfJ1000373p014716_001N031_r0058b_regimg3.jpg.gz', 'acisfJ0959481p020015_001N031_r0265b_regimg3.fits', 'acisfJ1002499p020946_001N031_r0124b_regimg3.jpg.gz', 'acisfJ1420147p530007_001N023_r0099b_regimg3.jpg.gz', 'acisfJ1000109p024058_001N021_r0170b_regimg3.jpg.gz', 'acisfJ1420280p530201_001N030_r0076b_regimg3.fits', 'acisfJ1000109p024058_001N029_r0100b_regimg3.fits', 'acisfJ0958597p021353_001N031_r0178b_regimg3.jpg.gz', 'acisfJ1002499p020946_001N031_r0072b_regimg3.jpg.gz', 'acisfJ1001328p022531_001N021_r0168b_regimg3.jpg.gz', 'acisfJ1000299p020542_001N030_r0242b_regimg3.jpg.gz', 'acisfJ1000327p023059_001N031_r0006b_regimg3.jpg.gz', 'acisfJ1000373p014716_001N031_r0018b_regimg3.jpg.gz', 'acisfJ0957482p023714_001N029_r0001b_regimg3.fits', 'acisfJ0959297p021110_001N031_r0181b_regimg3.fits', 'acisfJ1000482p015447_001N021_r0217b_regimg3.jpg.gz', 'acisfJ1000592p020218_001N030_r0099b_regimg3.jpg.gz', 'acisfJ1206160m084601_001N026_r0044b_regimg3.fits', 'acisfJ1001328p022531_001N021_r0021b_regimg3.jpg.gz', 'acisfJ1000482p015447_001N030_r0080b_regimg3.jpg.gz', 'acisfJ1000072p015000_001N031_r0003b_regimg3.jpg.gz', 'acisfJ1201548m185204_002N028_r0206b_regimg3.fits', 'acisfJ1000072p015000_001N031_r0197b_regimg3.jpg.gz', 'acisfJ1420147p530007_001N030_r0141b_regimg3.fits', 'acisfJ1000277p013951_001N029_r0125b_regimg3.fits', 'acisfJ0959509p022532_001N031_r0020b_regimg3.fits', 'acisfJ0958306p021622_001N021_r0136b_regimg3.jpg.gz', 'acisfJ0959599p014221_001N029_r0153b_regimg3.fits', 'acisfJ1000589p013718_001N031_r0124b_regimg3.jpg.gz', 'acisfJ1237038p621303_001N026_r0004b_regimg3.fits', 'acisfJ0958092p020103_001N021_r0041b_regimg3.jpg.gz', 'acisfJ0959071p015528_001N021_r0194b_regimg3.jpg.gz', 'acisfJ0959481p020015_001N029_r0232b_regimg3.fits', 'acisfJ0959371p015244_001N029_r0165b_regimg3.fits', 'acisfJ0958203p020845_001N021_r0045b_regimg3.jpg.gz', 'acisfJ0958370p015812_001N029_r0036b_regimg3.fits', 'acisfJ1000592p020218_001N030_r0033b_regimg3.fits', 'acisfJ1001387p014152_001N031_r0117b_regimg3.jpg.gz', 'acisfJ0958370p015812_001N021_r0034b_regimg3.jpg.gz', 'acisfJ1001183p015203_001N031_r0056b_regimg3.jpg.gz', 'acisfJ1420280p530201_001N030_r0446b_regimg3.fits', 'acisfJ1002019p022207_001N031_r0037b_regimg3.jpg.gz', 'acisfJ1001101p020949_001N030_r0248b_regimg3.jpg.gz', 'acisfJ1001328p022531_001N029_r0115b_regimg3.fits', 'acisfJ1001211p021720_001N031_r0071b_regimg3.fits', 'acisfJ1001328p022531_001N029_r0067b_regimg3.fits', 'acisfJ1001511p021436_001N031_r0257b_regimg3.jpg.gz', 'acisfJ1000026p023344_001N029_r0220b_regimg3.fits', 'acisfJ1420147p530007_001N022_r0528b_regimg3.jpg.gz', 'acisfJ0959509p022532_001N029_r0288b_regimg3.fits', 'acisfJ1001183p015203_001N030_r0221b_regimg3.fits', 'acisfJ1030266p052411_001N020_r0321b_regimg3.jpg.gz', 'acisfJ1420147p530007_001N022_r0532b_regimg3.jpg.gz', 'acisfJ0958597p021353_001N031_r0270b_regimg3.jpg.gz', 'acisfJ1000327p023059_001N031_r0035b_regimg3.jpg.gz', 'acisfJ0958370p015812_001N031_r0091b_regimg3.jpg.gz', 'acisfJ1419131p524818_001N030_r0422b_regimg3.fits', 'acisfJ1000589p013718_001N031_r0130b_regimg3.jpg.gz', 'acisfJ1001328p022531_001N021_r0178b_regimg3.jpg.gz', 'acisfJ1001328p022531_001N031_r0251b_regimg3.jpg.gz', 'acisfJ1000592p020218_001N030_r0240b_regimg3.jpg.gz', 'acisfJ1000373p014716_001N031_r0024b_regimg3.fits', 'acisfJ1000026p023344_001N021_r0015b_regimg3.jpg.gz', 'acisfJ0958479p020543_001N031_r0096b_regimg3.jpg.gz', 'acisfJ0959180p020259_001N031_r0054b_regimg3.jpg.gz', 'acisfJ1201527m185305_001N028_r0333b_regimg3.jpg.gz', 'acisfJ1001027p022815_001N021_r0022b_regimg3.jpg.gz', 'acisfJ1001292p015934_001N030_r0253b_regimg3.jpg.gz', 'acisfJ1000181p015731_001N031_r0185b_regimg3.fits', 'acisfJ1002019p022207_001N021_r0167b_regimg3.jpg.gz', 'acisfJ1000026p023344_001N031_r0020b_regimg3.jpg.gz', 'acisfJ1149341p222725_002N027_r0062b_regimg3.jpg.gz', 'acisfJ1120012p064141_001N020_r0001b_regimg3.jpg.gz', 'acisfJ1002019p022207_001N031_r0045b_regimg3.fits', 'acisfJ1000217p022329_001N029_r0087b_regimg3.fits', 'acisfJ1000482p015447_001N030_r0019b_regimg3.fits', 'acisfJ1001402p020705_001N029_r0244b_regimg3.fits', 'acisfJ1236516p621303_001N026_r0001b_regimg3.fits', 'acisfJ1000181p015731_001N030_r0226b_regimg3.fits', 'acisfJ1001183p015203_001N031_r0068b_regimg3.fits', 'acisfJ1000299p020542_001N030_r0236b_regimg3.jpg.gz', 'acisfJ1000589p013718_001N031_r0129b_regimg3.fits', 'acisfJ1000482p015447_001N031_r0061b_regimg3.fits', 'acisfJ0958203p020845_001N021_r0099b_regimg3.jpg.gz', 'acisfJ1002019p022207_001N021_r0014b_regimg3.jpg.gz', 'acisfJ1001292p015934_001N030_r0249b_regimg3.fits', 'acisfJ1001328p022531_001N031_r0070b_regimg3.fits', 'acisfJ1146116p202412_001N020_r0006b_regimg3.jpg.gz', 'acisfJ1000592p020218_001N030_r0200b_regimg3.jpg.gz', 'acisfJ1120012p064141_001N026_r0047b_regimg3.fits', 'acisfJ1000072p015000_001N031_r0206b_regimg3.jpg.gz', 'acisfJ0958479p020543_001N031_r0085b_regimg3.jpg.gz', 'acisfJ1000072p015000_001N031_r0177b_regimg3.fits', 'acisfJ1000510p022004_001N021_r0127b_regimg3.jpg.gz', 'acisfJ1002123p020448_001N031_r0199b_regimg3.jpg.gz', 'acisfJ1000592p020218_001N030_r0070b_regimg3.fits', 'acisfJ1000277p013951_001N031_r0158b_regimg3.fits', 'acisfJ1001072p014432_001N031_r0055b_regimg3.fits', 'acisfJ1001328p022531_001N031_r0233b_regimg3.jpg.gz', 'acisfJ0958203p020845_001N029_r0025b_regimg3.fits', 'acisfJ1420147p530007_001N030_r0529b_regimg3.fits', 'acisfJ1000482p015447_001N030_r0099b_regimg3.fits', 'acisfJ1000482p015447_001N030_r0020b_regimg3.jpg.gz', 'acisfJ0958370p015812_001N021_r0060b_regimg3.jpg.gz', 'acisfJ1000592p020218_001N030_r0051b_regimg3.fits', 'acisfJ1001027p022815_001N021_r0175b_regimg3.jpg.gz', 'acisfJ1000072p015000_001N021_r0043b_regimg3.jpg.gz', 'acisfJ0959481p020015_001N021_r0232b_regimg3.jpg.gz', 'acisfJ1000299p020542_001N030_r0238b_regimg3.jpg.gz', 'acisfJ1030266p052411_001N020_r0323b_regimg3.fits', 'acisfJ1120012p064141_001N026_r0027b_regimg3.fits', 'acisfJ1001328p022531_001N031_r0265b_regimg3.fits', 'acisfJ1230504p122408_001N036_r1495b_regimg3.fits', 'acisfJ1420147p530007_001N022_r0530b_regimg3.jpg.gz', 'acisfJ0959509p022532_001N031_r0295b_regimg3.fits', 'acisfJ1002123p020448_001N031_r0199b_regimg3.fits', 'acisfJ1000482p015447_001N031_r0235b_regimg3.jpg.gz', 'acisfJ1000327p023059_001N021_r0018b_regimg3.jpg.gz', 'acisfJ1000072p015000_001N031_r0055b_regimg3.fits', 'acisfJ1000026p023344_001N031_r0288b_regimg3.jpg.gz', 'acisfJ1000482p015447_001N030_r0020b_regimg3.fits', 'acisfJ0958092p020103_001N021_r0033b_regimg3.jpg.gz', 'acisfJ1002222p021159_001N031_r0085b_regimg3.fits', 'acisfJ1000072p015000_001N029_r0063b_regimg3.fits', 'acisfJ1001511p021436_001N031_r0028b_regimg3.jpg.gz', 'acisfJ1000373p014716_001N031_r0208b_regimg3.jpg.gz', 'acisfJ1000510p022004_001N031_r0221b_regimg3.fits', 'acisfJ1002106p022956_001N031_r0046b_regimg3.jpg.gz', 'acisfJ0958597p021353_001N021_r0053b_regimg3.jpg.gz', 'acisfJ0958306p021622_001N031_r0060b_regimg3.fits', 'acisfJ1149288p222105_001N026_r0039b_regimg3.fits', 'acisfJ1000109p024058_001N029_r0001b_regimg3.fits', 'acisfJ1030266p052411_001N020_r0182b_regimg3.jpg.gz', 'acisfJ1000109p024058_001N021_r0001b_regimg3.jpg.gz', 'acisfJ1236360p621436_001N020_r0271b_regimg3.jpg.gz', 'acisfJ1030266p052411_001N020_r0321b_regimg3.fits', 'acisfJ1001328p022531_001N029_r0030b_regimg3.fits', 'acisfJ1419131p524818_001N030_r0485b_regimg3.fits', 'acisfJ1000107p021558_001N029_r0084b_regimg3.fits', 'acisfJ0958203p020845_001N031_r0177b_regimg3.fits', 'acisfJ0958597p021353_001N031_r0203b_regimg3.jpg.gz', 'acisfJ0959299m224911_001N020_r0014b_regimg3.jpg.gz', 'acisfJ1001183p015203_001N030_r0145b_regimg3.jpg.gz', 'acisfJ0959481p020015_001N030_r0093b_regimg3.jpg.gz', 'acisfJ1000373p014716_001N031_r0213b_regimg3.fits', 'acisfJ1000482p015447_001N031_r0059b_regimg3.jpg.gz', 'acisfJ1001211p021720_001N021_r0040b_regimg3.jpg.gz', 'acisfJ1000482p015447_001N030_r0017b_regimg3.fits', 'acisfJ1000373p014716_001N031_r0020b_regimg3.jpg.gz', 'acisfJ0959481p020015_001N030_r0093b_regimg3.fits', 'acisfJ1002499p020946_001N029_r0114b_regimg3.fits', 'acisfJ1230570p121615_001N036_r0378b_regimg3.jpg.gz', 'acisfJ1001328p022531_001N031_r0257b_regimg3.fits', 'acisfJ1236516p621303_001N026_r0003b_regimg3.fits', 'acisfJ1001183p015203_001N031_r0070b_regimg3.jpg.gz', 'acisfJ1420147p530007_001N030_r0149b_regimg3.fits', 'acisfJ1000592p020218_001N031_r0107b_regimg3.jpg.gz', 'acisfJ1420147p530007_001N023_r0142b_regimg3.jpg.gz', 'acisfJ0959371p015244_001N031_r0229b_regimg3.fits', 'acisfJ1420147p530007_001N030_r0132b_regimg3.fits', 'acisfJ1000181p015731_001N031_r0185b_regimg3.jpg.gz', 'acisfJ1000299p020542_001N030_r0243b_regimg3.jpg.gz', 'acisfJ1000181p015731_001N030_r0234b_regimg3.jpg.gz', 'acisfJ1000327p023059_001N021_r0203b_regimg3.jpg.gz', 'acisfJ1000181p015731_001N030_r0177b_regimg3.jpg.gz', 'acisfJ1002384p020202_001N031_r0060b_regimg3.jpg.gz', 'acisfJ1000217p022329_001N031_r0216b_regimg3.fits', 'acisfJ1230334p122951_002N036_r0050b_regimg3.jpg.gz', 'acisfJ0959297p021110_001N031_r0254b_regimg3.fits', 'acisfJ1000217p022329_001N029_r0215b_regimg3.fits', 'acisfJ1149288p222105_001N027_r0098b_regimg3.jpg.gz', 'acisfJ1000026p023344_001N021_r0207b_regimg3.jpg.gz', 'acisfJ1000277p013951_001N031_r0041b_regimg3.fits', 'acisfJ0959371p015244_001N031_r0029b_regimg3.jpg.gz', 'acisfJ1000589p013718_001N031_r0051b_regimg3.jpg.gz', 'acisfJ1212049p273400_001N021_r0024b_regimg3.jpg.gz', 'acisfJ1002019p022207_001N031_r0132b_regimg3.jpg.gz', 'acisfJ1212049p273400_001N026_r0054b_regimg3.fits', 'acisfJ1420147p530007_001N030_r0161b_regimg3.fits', 'acisfJ0958203p020845_001N021_r0025b_regimg3.jpg.gz', 'acisfJ1000299p020542_001N030_r0017b_regimg3.fits', 'acisfJ1420147p530007_001N023_r0351b_regimg3.jpg.gz', 'acisfJ1420147p530007_001N023_r0144b_regimg3.jpg.gz', 'acisfJ1000299p020542_001N030_r0045b_regimg3.fits', 'acisfJ1149341p222725_002N020_r0123b_regimg3.fits', 'acisfJ0958479p020543_001N031_r0094b_regimg3.fits', 'acisfJ1001397p023235_001N031_r0139b_regimg3.fits', 'acisfJ1002123p020448_001N021_r0074b_regimg3.jpg.gz', 'acisfJ1000026p023344_001N031_r0293b_regimg3.jpg.gz', 'acisfJ1002222p021159_001N031_r0158b_regimg3.fits', 'acisfJ1420147p530007_001N022_r0550b_regimg3.jpg.gz', 'acisfJ1206160m084601_001N021_r0052b_regimg3.jpg.gz', 'acisfJ1201548m185204_002N028_r0114b_regimg3.jpg.gz', 'acisfJ1030266p052411_001N020_r0076b_regimg3.fits', 'acisfJ1420280p530201_001N022_r0435b_regimg3.jpg.gz', 'acisfJ1000510p022004_001N029_r0181b_regimg3.fits', 'acisfJ1001328p022531_001N031_r0256b_regimg3.fits', 'acisfJ1000373p014716_001N029_r0015b_regimg3.fits', 'acisfJ1000373p014716_001N031_r0010b_regimg3.fits', 'acisfJ1001183p015203_001N031_r0070b_regimg3.fits', 'acisfJ0958597p021353_001N021_r0133b_regimg3.jpg.gz', 'acisfJ1002106p022956_001N021_r0057b_regimg3.jpg.gz', 'acisfJ1000072p015000_001N031_r0201b_regimg3.jpg.gz', 'acisfJ1000072p015000_001N031_r0201b_regimg3.fits', 'acisfJ0958203p020845_001N031_r0167b_regimg3.jpg.gz', 'acisfJ1002019p022207_001N021_r0059b_regimg3.jpg.gz', 'acisfJ0959299m224911_001N020_r0023b_regimg3.fits', 'acisfJ1000327p023059_001N031_r0008b_regimg3.fits', 'acisfJ1001511p021436_001N031_r0273b_regimg3.fits', 'acisfJ1001292p015934_001N030_r0247b_regimg3.fits', 'acisfJ0958479p020543_001N031_r0011b_regimg3.fits', 'acisfJ1000395p023823_001N029_r0129b_regimg3.fits', 'acisfJ1001027p022815_001N031_r0109b_regimg3.fits', 'acisfJ1002019p022207_001N031_r0240b_regimg3.fits', 'acisfJ1000107p021558_001N021_r0255b_regimg3.jpg.gz', 'acisfJ1201527m185305_001N028_r0165b_regimg3.fits', 'acisfJ1201527m185305_001N028_r0118b_regimg3.fits', 'acisfJ1419131p524818_001N030_r0440b_regimg3.fits', 'acisfJ1000109p024058_001N029_r0174b_regimg3.fits', 'acisfJ0958203p020845_001N021_r0007b_regimg3.jpg.gz', 'acisfJ1420147p530007_001N022_r0529b_regimg3.jpg.gz', 'acisfJ0958370p022359_001N021_r0002b_regimg3.jpg.gz', 'acisfJ1002123p020448_001N029_r0193b_regimg3.fits', 'acisfJ1000026p023344_001N029_r0037b_regimg3.fits', 'acisfJ1001027p022815_001N031_r0161b_regimg3.jpg.gz', 'acisfJ1000482p015447_001N030_r0172b_regimg3.fits', 'acisfJ1000217p022329_001N029_r0043b_regimg3.fits', 'acisfJ1001183p015203_001N030_r0156b_regimg3.fits', 'acisfJ1000026p023344_001N031_r0288b_regimg3.fits', 'acisfJ0958092p020103_001N031_r0151b_regimg3.fits', 'acisfJ1002123p020448_001N029_r0051b_regimg3.fits', 'acisfJ1000109p024058_001N031_r0153b_regimg3.jpg.gz', 'acisfJ0958479p020543_001N031_r0237b_regimg3.jpg.gz', 'acisfJ1001211p021720_001N031_r0032b_regimg3.jpg.gz', 'acisfJ1000026p023344_001N031_r0209b_regimg3.jpg.gz', 'acisfJ1001511p021436_001N029_r0210b_regimg3.fits', 'acisfJ1002019p022207_001N031_r0242b_regimg3.jpg.gz', 'acisfJ1000395p023823_001N031_r0006b_regimg3.jpg.gz', 'acisfJ1001292p015934_001N030_r0245b_regimg3.fits', 'acisfJ1002222p021159_001N031_r0163b_regimg3.fits', 'acisfJ0959180p020259_001N031_r0145b_regimg3.jpg.gz', 'acisfJ1002343p021933_001N029_r0039b_regimg3.fits', 'acisfJ1226428p215013_001N028_r0002b_regimg3.fits', 'acisfJ0959071p015528_001N031_r0187b_regimg3.jpg.gz', 'acisfJ1030285p052522_002N020_r0094b_regimg3.fits', 'acisfJ0959071p015528_001N029_r0177b_regimg3.fits', 'acisfJ1001292p015934_001N030_r0065b_regimg3.jpg.gz', 'acisfJ1002222p021159_001N031_r0088b_regimg3.jpg.gz', 'acisfJ1001402p020705_001N031_r0300b_regimg3.fits', 'acisfJ0959407p021841_001N021_r0329b_regimg3.jpg.gz', 'acisfJ1001027p022815_001N029_r0186b_regimg3.fits', 'acisfJ0959071p015528_001N031_r0133b_regimg3.jpg.gz', 'acisfJ1420280p530201_001N030_r0090b_regimg3.fits', 'acisfJ1000482p015447_001N030_r0024b_regimg3.jpg.gz', 'acisfJ1149341p222725_002N027_r0050b_regimg3.jpg.gz', 'acisfJ1001072p014432_001N031_r0054b_regimg3.fits', 'acisfJ1236516p621303_001N020_r0237b_regimg3.jpg.gz', 'acisfJ1420280p530201_001N030_r0486b_regimg3.fits', 'acisfJ1420280p530201_001N022_r0089b_regimg3.jpg.gz', 'acisfJ1201548m185204_002N028_r0377b_regimg3.fits', 'acisfJ1030285p052522_002N020_r0194b_regimg3.jpg.gz', 'acisfJ1420147p530007_001N030_r0308b_regimg3.fits', 'acisfJ1120012p064141_001N020_r0027b_regimg3.jpg.gz', 'acisfJ1420280p530201_001N030_r0087b_regimg3.fits', 'acisfJ1000181p015731_001N031_r0090b_regimg3.jpg.gz', 'acisfJ1420147p530007_001N030_r0301b_regimg3.fits', 'acisfJ1001072p014432_001N031_r0161b_regimg3.fits', 'acisfJ0958092p020103_001N029_r0054b_regimg3.fits', 'acisfJ1002499p020946_001N031_r0047b_regimg3.fits', 'acisfJ1201548m185204_002N028_r0110b_regimg3.fits', 'acisfJ1000026p023344_001N031_r0295b_regimg3.fits', 'acisfJ1001511p021436_001N029_r0220b_regimg3.fits', 'acisfJ1001402p020705_001N030_r0185b_regimg3.fits', 'acisfJ0958306p021622_001N029_r0012b_regimg3.fits', 'acisfJ0959481p020015_001N031_r0254b_regimg3.jpg.gz', 'acisfJ1230334p122951_002N036_r0050b_regimg3.fits', 'acisfJ1420147p530007_001N030_r0536b_regimg3.fits', 'acisfJ1413134m031256_001N022_r0015b_regimg3.jpg.gz', 'acisfJ1000589p013718_001N031_r0027b_regimg3.jpg.gz', 'acisfJ1000026p023344_001N021_r0013b_regimg3.jpg.gz', 'acisfJ1030285p052522_002N020_r0117b_regimg3.jpg.gz', 'acisfJ1030285p052522_002N020_r0081b_regimg3.jpg.gz', 'acisfJ1236516p621303_001N026_r0237b_regimg3.fits', 'acisfJ0958479p020543_001N031_r0014b_regimg3.fits', 'acisfJ1002123p020448_001N031_r0224b_regimg3.fits', 'acisfJ1000277p013951_001N031_r0041b_regimg3.jpg.gz', 'acisfJ1001183p015203_001N031_r0068b_regimg3.jpg.gz', 'acisfJ0958370p015812_001N031_r0091b_regimg3.fits', 'acisfJ1000510p022004_001N021_r0178b_regimg3.jpg.gz', 'acisfJ1001211p021720_001N021_r0039b_regimg3.jpg.gz', 'acisfJ1000109p024058_001N031_r0189b_regimg3.jpg.gz', 'acisfJ1000408p021313_001N029_r0211b_regimg3.fits', 'acisfJ1237038p621303_001N020_r0190b_regimg3.jpg.gz', 'acisfJ1002499p020946_001N031_r0124b_regimg3.fits', 'acisfJ1000395p023823_001N029_r0130b_regimg3.fits', 'acisfJ1002106p022956_001N031_r0090b_regimg3.fits', 'acisfJ1001397p023235_001N021_r0074b_regimg3.jpg.gz', 'acisfJ0959297p021110_001N031_r0254b_regimg3.jpg.gz', 'acisfJ1000181p015731_001N031_r0090b_regimg3.fits', 'acisfJ1420280p530201_001N022_r0467b_regimg3.jpg.gz', 'acisfJ1000589p013718_001N031_r0036b_regimg3.jpg.gz', 'acisfJ1001072p014432_001N031_r0015b_regimg3.jpg.gz', 'acisfJ1030285p052522_002N020_r0093b_regimg3.fits', 'acisfJ1001027p022815_001N031_r0242b_regimg3.jpg.gz', 'acisfJ1000482p015447_001N031_r0270b_regimg3.jpg.gz', 'acisfJ1000109p024058_001N021_r0100b_regimg3.jpg.gz', 'acisfJ0958370p022359_001N029_r0062b_regimg3.fits', 'acisfJ1001511p021436_001N031_r0216b_regimg3.jpg.gz', 'acisfJ1030285p052522_002N020_r0081b_regimg3.fits', 'acisfJ0959599p014221_001N029_r0127b_regimg3.fits', 'acisfJ1420147p530007_001N023_r0206b_regimg3.jpg.gz', 'acisfJ1000277p013951_001N031_r0031b_regimg3.fits', 'acisfJ1000373p014716_001N031_r0215b_regimg3.fits', 'acisfJ1000277p013951_001N029_r0080b_regimg3.fits', 'acisfJ1236516p621303_001N026_r0265b_regimg3.fits', 'acisfJ1146116p202412_001N026_r0009b_regimg3.fits', 'acisfJ1002222p021159_001N031_r0180b_regimg3.jpg.gz', 'acisfJ1000592p020218_001N030_r0003b_regimg3.fits', 'acisfJ1000482p015447_001N031_r0072b_regimg3.fits', 'acisfJ0958203p020845_001N031_r0167b_regimg3.fits', 'acisfJ1002019p022207_001N031_r0242b_regimg3.fits', 'acisfJ1000181p015731_001N030_r0176b_regimg3.jpg.gz', 'acisfJ1000592p020218_001N030_r0070b_regimg3.jpg.gz', 'acisfJ0959481p020015_001N030_r0261b_regimg3.fits', 'acisfJ1001328p022531_001N029_r0032b_regimg3.fits', 'acisfJ1457012p243701_001N026_r0050b_regimg3.fits', 'acisfJ1420147p530007_001N030_r0134b_regimg3.fits', 'acisfJ1002222p021159_001N031_r0142b_regimg3.fits', 'acisfJ1201527m185305_001N028_r0125b_regimg3.jpg.gz', 'acisfJ0958092p020103_001N031_r0148b_regimg3.fits', 'acisfJ1000395p023823_001N021_r0033b_regimg3.jpg.gz', 'acisfJ0959071p015528_001N029_r0029b_regimg3.fits', 'acisfJ1001072p014432_001N031_r0017b_regimg3.fits', 'acisfJ1149288p222105_001N021_r0064b_regimg3.jpg.gz', 'acisfJ1001027p022815_001N031_r0176b_regimg3.fits', 'acisfJ1001211p021720_001N031_r0282b_regimg3.fits', 'acisfJ1000592p020218_001N030_r0117b_regimg3.jpg.gz', 'acisfJ1002019p022207_001N029_r0018b_regimg3.fits', 'acisfJ1000181p015731_001N030_r0220b_regimg3.fits', 'acisfJ1149341p222725_002N027_r0006b_regimg3.jpg.gz', 'acisfJ1001511p021436_001N029_r0204b_regimg3.fits', 'acisfJ1001183p015203_001N031_r0016b_regimg3.jpg.gz', 'acisfJ1001511p021436_001N031_r0029b_regimg3.jpg.gz', 'acisfJ1001328p022531_001N021_r0253b_regimg3.jpg.gz', 'acisfJ0958479p020543_001N029_r0041b_regimg3.fits', 'acisfJ1419131p524818_001N023_r0421b_regimg3.jpg.gz', 'acisfJ1420147p530007_001N030_r0229b_regimg3.fits', 'acisfJ0959599p014221_001N031_r0157b_regimg3.fits', 'acisfJ1212049p273400_001N021_r0001b_regimg3.jpg.gz', 'acisfJ0959371p015244_001N031_r0230b_regimg3.fits', 'acisfJ0959481p020015_001N021_r0192b_regimg3.jpg.gz', 'acisfJ0958203p020845_001N029_r0010b_regimg3.fits', 'acisfJ1000299p020542_001N031_r0008b_regimg3.jpg.gz', 'acisfJ1148186p525155_001N020_r0051b_regimg3.fits', 'acisfJ1002019p022207_001N031_r0215b_regimg3.fits', 'acisfJ1030285p052522_002N020_r0089b_regimg3.jpg.gz', 'acisfJ1001183p015203_001N030_r0208b_regimg3.fits', 'acisfJ1001292p015934_001N030_r0100b_regimg3.fits', 'acisfJ0958306p021622_001N031_r0005b_regimg3.jpg.gz', 'acisfJ1030285p052522_002N020_r0089b_regimg3.fits', 'acisfJ1000277p013951_001N031_r0156b_regimg3.fits', 'acisfJ1420147p530007_001N030_r0104b_regimg3.fits', 'acisfJ1000072p015000_001N031_r0184b_regimg3.fits', 'acisfJ1000327p023059_001N029_r0209b_regimg3.fits', 'acisfJ0958479p020543_001N021_r0024b_regimg3.jpg.gz', 'acisfJ1000373p014716_001N031_r0020b_regimg3.fits', 'acisfJ1420147p530007_001N023_r0203b_regimg3.jpg.gz', 'acisfJ1420147p530007_001N023_r0366b_regimg3.jpg.gz', 'acisfJ1000482p015447_001N030_r0212b_regimg3.fits', 'acisfJ0958203p020845_001N031_r0159b_regimg3.jpg.gz', 'acisfJ0957482p023714_001N029_r0027b_regimg3.fits', 'acisfJ0958479p020543_001N031_r0191b_regimg3.jpg.gz', 'acisfJ1420147p530007_001N023_r0104b_regimg3.jpg.gz', 'acisfJ1201548m185204_002N028_r0239b_regimg3.jpg.gz', 'acisfJ1000510p022004_001N021_r0177b_regimg3.jpg.gz', 'acisfJ0958203p020845_001N021_r0004b_regimg3.jpg.gz', 'acisfJ1148186p525155_001N020_r0050b_regimg3.jpg.gz', 'acisfJ1000217p022329_001N031_r0204b_regimg3.jpg.gz', 'acisfJ1001027p022815_001N021_r0049b_regimg3.jpg.gz', 'acisfJ1002384p020202_001N031_r0060b_regimg3.fits', 'acisfJ1419131p524818_001N030_r0433b_regimg3.fits', 'acisfJ1237038p621303_001N026_r0423b_regimg3.fits', 'acisfJ0959297p021110_001N031_r0255b_regimg3.fits', 'acisfJ1001328p022531_001N021_r0012b_regimg3.jpg.gz', 'acisfJ1149288p222105_001N027_r0009b_regimg3.fits', 'acisfJ1000482p015447_001N031_r0038b_regimg3.jpg.gz', 'acisfJ1201527m185305_001N028_r0129b_regimg3.fits', 'acisfJ1002384p020202_001N031_r0124b_regimg3.jpg.gz', 'acisfJ1001183p015203_001N031_r0219b_regimg3.fits', 'acisfJ1030285p052522_002N020_r0128b_regimg3.fits', 'acisfJ1000592p020218_001N030_r0032b_regimg3.fits', 'acisfJ0958479p020543_001N031_r0171b_regimg3.fits', 'acisfJ1001328p022531_001N031_r0005b_regimg3.fits', 'acisfJ0959324p023628_001N021_r0220b_regimg3.jpg.gz', 'acisfJ1201527m185305_001N027_r0116b_regimg3.fits', 'acisfJ1420147p530007_001N030_r0142b_regimg3.fits', 'acisfJ1001397p023235_001N029_r0169b_regimg3.fits', 'acisfJ1000181p015731_001N030_r0179b_regimg3.jpg.gz', 'acisfJ1420280p530201_001N030_r0098b_regimg3.fits', 'acisfJ1001328p022531_001N021_r0177b_regimg3.jpg.gz', 'acisfJ1001402p020705_001N031_r0292b_regimg3.jpg.gz', 'acisfJ1000299p020542_001N030_r0049b_regimg3.fits', 'acisfJ1001511p021436_001N021_r0239b_regimg3.jpg.gz', 'acisfJ1030266p052411_001N020_r0178b_regimg3.jpg.gz', 'acisfJ1000373p014716_001N031_r0024b_regimg3.jpg.gz', 'acisfJ1000327p023059_001N031_r0022b_regimg3.jpg.gz', 'acisfJ1420147p530007_001N023_r0149b_regimg3.jpg.gz', 'acisfJ1002019p022207_001N031_r0037b_regimg3.fits', 'acisfJ1002222p021159_001N029_r0159b_regimg3.fits', 'acisfJ1001402p020705_001N030_r0101b_regimg3.fits', 'acisfJ1002222p021159_001N031_r0183b_regimg3.jpg.gz', 'acisfJ1000181p015731_001N030_r0175b_regimg3.jpg.gz', 'acisfJ1030266p052411_001N020_r0323b_regimg3.jpg.gz', 'acisfJ0958479p020543_001N031_r0234b_regimg3.jpg.gz', 'acisfJ0959509p022532_001N031_r0295b_regimg3.jpg.gz', 'acisfJ1001328p022531_001N029_r0008b_regimg3.fits', 'acisfJ1000181p015731_001N030_r0139b_regimg3.jpg.gz', 'acisfJ0959297p021110_001N031_r0171b_regimg3.fits', 'acisfJ1002222p021159_001N021_r0044b_regimg3.jpg.gz', 'acisfJ1001183p015203_001N030_r0221b_regimg3.jpg.gz', 'acisfJ1000592p020218_001N030_r0249b_regimg3.jpg.gz', 'acisfJ1000592p020218_001N031_r0113b_regimg3.fits', 'acisfJ1001072p014432_001N031_r0022b_regimg3.jpg.gz', 'acisfJ1000327p023059_001N021_r0029b_regimg3.jpg.gz', 'acisfJ1001211p021720_001N029_r0040b_regimg3.fits', 'acisfJ0958203p020845_001N031_r0173b_regimg3.fits', 'acisfJ1201548m185204_002N028_r0093b_regimg3.fits', 'acisfJ0958370p022359_001N031_r0061b_regimg3.jpg.gz', 'acisfJ0959481p020015_001N030_r0211b_regimg3.fits', 'acisfJ1000026p023344_001N031_r0225b_regimg3.fits', 'acisfJ1000327p023059_001N029_r0012b_regimg3.fits', 'acisfJ1001511p021436_001N021_r0188b_regimg3.jpg.gz', 'acisfJ0958306p021622_001N031_r0058b_regimg3.fits', 'acisfJ1001183p015203_001N030_r0110b_regimg3.fits', 'acisfJ1457012p243701_001N020_r0050b_regimg3.jpg.gz', 'acisfJ0958092p020103_001N031_r0029b_regimg3.fits', 'acisfJ1002019p022207_001N029_r0044b_regimg3.fits', 'acisfJ1002499p020946_001N031_r0059b_regimg3.jpg.gz', 'acisfJ1000072p015000_001N031_r0180b_regimg3.fits', 'acisfJ1000373p014716_001N031_r0209b_regimg3.fits', 'acisfJ1000482p015447_001N031_r0062b_regimg3.fits', 'acisfJ1000327p023059_001N031_r0067b_regimg3.fits', 'acisfJ1030266p052411_001N020_r0078b_regimg3.fits', 'acisfJ1420280p530201_001N030_r0434b_regimg3.fits', 'acisfJ1420280p530201_001N022_r0077b_regimg3.jpg.gz', 'acisfJ0958306p021622_001N031_r0088b_regimg3.jpg.gz', 'acisfJ1000072p015000_001N031_r0157b_regimg3.fits', 'acisfJ0958479p020543_001N031_r0100b_regimg3.jpg.gz', 'acisfJ1001072p014432_001N031_r0008b_regimg3.jpg.gz', 'acisfJ1002499p020946_001N021_r0134b_regimg3.jpg.gz', 'acisfJ1000026p023344_001N029_r0223b_regimg3.fits', 'acisfJ1000395p023823_001N031_r0067b_regimg3.jpg.gz', 'acisfJ1002384p020202_001N031_r0043b_regimg3.fits', 'acisfJ0958203p020845_001N031_r0030b_regimg3.fits', 'acisfJ1000217p022329_001N031_r0032b_regimg3.jpg.gz', 'acisfJ0959509p022532_001N031_r0053b_regimg3.fits', 'acisfJ1002384p020202_001N031_r0027b_regimg3.jpg.gz', 'acisfJ1001328p022531_001N029_r0170b_regimg3.fits', 'acisfJ1420147p530007_001N023_r0143b_regimg3.jpg.gz', 'acisfJ1002123p020448_001N031_r0055b_regimg3.fits', 'acisfJ1000592p020218_001N031_r0247b_regimg3.fits', 'acisfJ1000592p020218_001N030_r0011b_regimg3.jpg.gz', 'acisfJ1001511p021436_001N029_r0246b_regimg3.fits', 'acisfJ1001072p014432_001N031_r0014b_regimg3.jpg.gz', 'acisfJ1001328p022531_001N031_r0299b_regimg3.fits', 'acisfJ1149341p222725_002N027_r0055b_regimg3.jpg.gz', 'acisfJ1000277p013951_001N031_r0064b_regimg3.fits', 'acisfJ1002343p021933_001N031_r0153b_regimg3.jpg.gz', 'acisfJ1001511p021436_001N031_r0253b_regimg3.fits', 'acisfJ1002343p021933_001N030_r0160b_regimg3.fits', 'acisfJ1420147p530007_001N023_r0131b_regimg3.jpg.gz', 'acisfJ1002499p020946_001N021_r0121b_regimg3.jpg.gz', 'acisfJ1002384p020202_001N021_r0109b_regimg3.jpg.gz', 'acisfJ1002019p022207_001N029_r0072b_regimg3.fits', 'acisfJ1245445p032358_001N026_r0085b_regimg3.fits', 'acisfJ1000277p013951_001N031_r0033b_regimg3.fits', 'acisfJ1001292p015934_001N030_r0245b_regimg3.jpg.gz', 'acisfJ0959371p015244_001N031_r0218b_regimg3.jpg.gz', 'acisfJ1000482p015447_001N030_r0093b_regimg3.fits', 'acisfJ1000510p022004_001N021_r0059b_regimg3.jpg.gz', 'acisfJ1001072p014432_001N031_r0019b_regimg3.jpg.gz', 'acisfJ1000373p014716_001N021_r0146b_regimg3.jpg.gz', 'acisfJ1420147p530007_001N030_r0155b_regimg3.fits', 'acisfJ0959481p020015_001N031_r0084b_regimg3.jpg.gz', 'acisfJ1001402p020705_001N021_r0244b_regimg3.jpg.gz', 'acisfJ1002019p022207_001N021_r0044b_regimg3.jpg.gz', 'acisfJ1000181p015731_001N031_r0228b_regimg3.fits', 'acisfJ1000026p023344_001N029_r0216b_regimg3.fits', 'acisfJ1000299p020542_001N030_r0094b_regimg3.fits', 'acisfJ1000026p023344_001N021_r0037b_regimg3.jpg.gz', 'acisfJ0959509p022532_001N031_r0078b_regimg3.fits', 'acisfJ1000217p022329_001N029_r0218b_regimg3.fits', 'acisfJ1001183p015203_001N031_r0219b_regimg3.jpg.gz', 'acisfJ1001387p014152_001N031_r0115b_regimg3.jpg.gz', 'acisfJ1001211p021720_001N021_r0263b_regimg3.jpg.gz', 'acisfJ1419131p524818_001N023_r0422b_regimg3.jpg.gz', 'acisfJ1237038p621303_001N026_r0009b_regimg3.fits', 'acisfJ1001511p021436_001N031_r0274b_regimg3.jpg.gz', 'acisfJ1201548m185204_002N028_r0153b_regimg3.jpg.gz', 'acisfJ0958203p020845_001N029_r0045b_regimg3.fits', 'acisfJ0958203p020845_001N021_r0154b_regimg3.jpg.gz', 'acisfJ1001183p015203_001N030_r0214b_regimg3.jpg.gz', 'acisfJ1201527m185305_001N028_r0127b_regimg3.fits', 'acisfJ1001027p022815_001N029_r0165b_regimg3.fits', 'acisfJ1000482p015447_001N031_r0066b_regimg3.fits', 'acisfJ1001511p021436_001N021_r0246b_regimg3.jpg.gz', 'acisfJ1000181p015731_001N031_r0235b_regimg3.jpg.gz', 'acisfJ1000482p015447_001N030_r0030b_regimg3.fits', 'acisfJ0959297p021110_001N029_r0088b_regimg3.fits', 'acisfJ0959297p021110_001N031_r0258b_regimg3.fits', 'acisfJ1149288p222105_001N027_r0098b_regimg3.fits', 'acisfJ1001027p022815_001N031_r0244b_regimg3.fits', 'acisfJ1000482p015447_001N030_r0023b_regimg3.fits', 'acisfJ1001328p022531_001N029_r0176b_regimg3.fits', 'acisfJ1000408p021313_001N030_r0084b_regimg3.jpg.gz', 'acisfJ1000327p023059_001N031_r0022b_regimg3.fits', 'acisfJ1002384p020202_001N031_r0043b_regimg3.jpg.gz', 'acisfJ1201548m185204_002N028_r0110b_regimg3.jpg.gz', 'acisfJ1000373p014716_001N031_r0125b_regimg3.fits', 'acisfJ1001511p021436_001N031_r0028b_regimg3.fits', 'acisfJ1000327p023059_001N029_r0009b_regimg3.fits', 'acisfJ0959371p015244_001N031_r0170b_regimg3.fits', 'acisfJ1001511p021436_001N029_r0209b_regimg3.fits', 'acisfJ1001211p021720_001N029_r0036b_regimg3.fits', 'acisfJ1001511p021436_001N031_r0050b_regimg3.jpg.gz', 'acisfJ0959481p020015_001N030_r0241b_regimg3.jpg.gz', 'acisfJ1226428p215013_001N022_r0002b_regimg3.jpg.gz', 'acisfJ1000072p015000_001N031_r0200b_regimg3.jpg.gz', 'acisfJ0959071p015528_001N021_r0040b_regimg3.jpg.gz', 'acisfJ0958370p015812_001N031_r0168b_regimg3.fits', 'acisfJ0958203p020845_001N031_r0079b_regimg3.jpg.gz', 'acisfJ0959481p020015_001N030_r0241b_regimg3.fits', 'acisfJ1000217p022329_001N021_r0215b_regimg3.jpg.gz', 'acisfJ1000217p022329_001N021_r0205b_regimg3.jpg.gz', 'acisfJ1001292p015934_001N031_r0196b_regimg3.fits', 'acisfJ1000327p023059_001N031_r0046b_regimg3.jpg.gz', 'acisfJ1001183p015203_001N030_r0025b_regimg3.fits', 'acisfJ1000482p015447_001N030_r0180b_regimg3.fits', 'acisfJ1002106p022956_001N021_r0116b_regimg3.jpg.gz', 'acisfJ1000217p022329_001N029_r0231b_regimg3.fits', 'acisfJ1236516p621303_001N021_r0003b_regimg3.jpg.gz', 'acisfJ1002499p020946_001N031_r0005b_regimg3.fits', 'acisfJ1000592p020218_001N030_r0200b_regimg3.fits', 'acisfJ1001511p021436_001N031_r0029b_regimg3.fits', 'acisfJ1000109p024058_001N029_r0171b_regimg3.fits', 'acisfJ1420280p530201_001N030_r0088b_regimg3.fits', 'acisfJ1001402p020705_001N029_r0250b_regimg3.fits', 'acisfJ1001027p022815_001N031_r0264b_regimg3.fits', 'acisfJ1420280p530201_001N022_r0068b_regimg3.jpg.gz', 'acisfJ1000026p023344_001N031_r0301b_regimg3.fits', 'acisfJ1002222p021159_001N031_r0074b_regimg3.fits', 'acisfJ1000395p023823_001N029_r0050b_regimg3.fits', 'acisfJ1419131p524818_001N023_r0433b_regimg3.jpg.gz', 'acisfJ0958479p020543_001N029_r0107b_regimg3.fits', 'acisfJ1000026p023344_001N031_r0298b_regimg3.fits', 'acisfJ1002019p022207_001N031_r0265b_regimg3.fits', 'acisfJ1001397p023235_001N029_r0001b_regimg3.fits', 'acisfJ1000589p013718_001N031_r0133b_regimg3.jpg.gz', 'acisfJ1001511p021436_001N031_r0200b_regimg3.jpg.gz', 'acisfJ0958479p020543_001N021_r0018b_regimg3.jpg.gz', 'acisfJ1030285p052522_002N020_r0085b_regimg3.fits', 'acisfJ1000277p013951_001N029_r0123b_regimg3.fits', 'acisfJ1000482p015447_001N030_r0091b_regimg3.jpg.gz', 'acisfJ1001511p021436_001N031_r0186b_regimg3.jpg.gz', 'acisfJ1002222p021159_001N031_r0128b_regimg3.jpg.gz', 'acisfJ1001511p021436_001N029_r0088b_regimg3.fits', 'acisfJ0959481p020015_001N029_r0192b_regimg3.fits', 'acisfJ0958597p021353_001N031_r0059b_regimg3.jpg.gz', 'acisfJ0958597p021353_001N031_r0203b_regimg3.fits', 'acisfJ0958306p021622_001N031_r0048b_regimg3.jpg.gz', 'acisfJ1149341p222725_002N020_r0123b_regimg3.jpg.gz', 'acisfJ1000510p022004_001N021_r0118b_regimg3.jpg.gz', 'acisfJ1420280p530201_001N022_r0063b_regimg3.jpg.gz', 'acisfJ0959180p020259_001N029_r0229b_regimg3.fits', 'acisfJ1001183p015203_001N030_r0215b_regimg3.fits', 'acisfJ1002384p020202_001N029_r0132b_regimg3.fits', 'acisfJ1000373p014716_001N029_r0149b_regimg3.fits', 'acisfJ1001402p020705_001N029_r0246b_regimg3.fits', 'acisfJ0959509p022532_001N031_r0209b_regimg3.jpg.gz', 'acisfJ1236516p621303_001N021_r0004b_regimg3.jpg.gz', 'acisfJ1457012p243701_001N020_r0030b_regimg3.jpg.gz', 'acisfJ1000482p015447_001N030_r0181b_regimg3.jpg.gz', 'acisfJ1420280p530201_001N030_r0045b_regimg3.fits', 'acisfJ1002384p020202_001N021_r0080b_regimg3.jpg.gz', 'acisfJ1030266p052411_001N020_r0115b_regimg3.jpg.gz', 'acisfJ1001183p015203_001N030_r0027b_regimg3.fits', 'acisfJ1000299p020542_001N030_r0002b_regimg3.jpg.gz', 'acisfJ1236516p621303_001N020_r0154b_regimg3.jpg.gz', 'acisfJ0958203p020845_001N031_r0033b_regimg3.fits', 'acisfJ1000277p013951_001N031_r0139b_regimg3.fits', 'acisfJ1000592p020218_001N030_r0068b_regimg3.jpg.gz', 'acisfJ1001511p021436_001N021_r0058b_regimg3.jpg.gz', 'acisfJ1001513p014945_001N031_r0101b_regimg3.jpg.gz', 'acisfJ1201527m185305_001N028_r0121b_regimg3.jpg.gz', 'acisfJ1201527m185305_001N028_r0127b_regimg3.jpg.gz', 'acisfJ0959481p020015_001N029_r0233b_regimg3.fits', 'acisfJ0958306p021622_001N031_r0010b_regimg3.fits', 'acisfJ1000327p023059_001N031_r0010b_regimg3.fits', 'acisfJ1230570p121615_001N036_r0272b_regimg3.jpg.gz', 'acisfJ1000299p020542_001N030_r0236b_regimg3.fits', 'acisfJ1001292p015934_001N030_r0185b_regimg3.jpg.gz', 'acisfJ0959481p020015_001N030_r0212b_regimg3.jpg.gz', 'acisfJ1000277p013951_001N031_r0127b_regimg3.fits', 'acisfJ1000510p022004_001N031_r0251b_regimg3.fits', 'acisfJ1201527m185305_001N028_r0126b_regimg3.fits', 'acisfJ1149288p222105_001N027_r0050b_regimg3.jpg.gz', 'acisfJ1001511p021436_001N029_r0188b_regimg3.fits', 'acisfJ1420280p530201_001N030_r0096b_regimg3.fits', 'acisfJ1000026p023344_001N031_r0018b_regimg3.jpg.gz', 'acisfJ1000327p023059_001N029_r0002b_regimg3.fits', 'acisfJ1149341p222725_002N027_r0002b_regimg3.jpg.gz', 'acisfJ1000482p015447_001N030_r0019b_regimg3.jpg.gz', 'acisfJ0958203p020845_001N031_r0070b_regimg3.jpg.gz', 'acisfJ1420147p530007_001N023_r0150b_regimg3.jpg.gz', 'acisfJ1001387p014152_001N031_r0115b_regimg3.fits', 'acisfJ1002106p022956_001N031_r0164b_regimg3.jpg.gz', 'acisfJ1001027p022815_001N029_r0175b_regimg3.fits', 'acisfJ1420147p530007_001N023_r0301b_regimg3.jpg.gz', 'acisfJ0958597p021353_001N031_r0268b_regimg3.jpg.gz', 'acisfJ1000482p015447_001N030_r0050b_regimg3.fits', 'acisfJ0958306p021622_001N031_r0008b_regimg3.jpg.gz', 'acisfJ1420280p530201_001N030_r0460b_regimg3.fits', 'acisfJ1001072p014432_001N031_r0055b_regimg3.jpg.gz', 'acisfJ1001387p014152_001N031_r0100b_regimg3.jpg.gz', 'acisfJ1001387p014152_001N031_r0100b_regimg3.fits', 'acisfJ1000592p020218_001N030_r0010b_regimg3.jpg.gz', 'acisfJ1030266p052411_001N020_r0322b_regimg3.fits', 'acisfJ1420147p530007_001N022_r0539b_regimg3.jpg.gz', 'acisfJ1420147p530007_001N023_r0132b_regimg3.jpg.gz', 'acisfJ0959297p021110_001N031_r0268b_regimg3.jpg.gz', 'acisfJ1000026p023344_001N029_r0215b_regimg3.fits', 'acisfJ1000181p015731_001N030_r0020b_regimg3.fits', 'acisfJ1000277p013951_001N031_r0054b_regimg3.fits', 'acisfJ1149341p222725_002N020_r0131b_regimg3.jpg.gz', 'acisfJ1001328p022531_001N021_r0172b_regimg3.jpg.gz', 'acisfJ1201548m185204_002N028_r0093b_regimg3.jpg.gz', 'acisfJ1201548m185204_002N028_r0103b_regimg3.jpg.gz', 'acisfJ1000592p020218_001N031_r0050b_regimg3.fits', 'acisfJ1002499p020946_001N031_r0007b_regimg3.jpg.gz', 'acisfJ1001183p015203_001N030_r0216b_regimg3.jpg.gz', 'acisfJ1000373p014716_001N031_r0043b_regimg3.fits', 'acisfJ1000482p015447_001N029_r0217b_regimg3.fits', 'acisfJ1001211p021720_001N021_r0120b_regimg3.jpg.gz', 'acisfJ1000299p020542_001N030_r0310b_regimg3.fits', 'acisfJ1245445p032358_001N026_r0086b_regimg3.fits', 'acisfJ1000181p015731_001N031_r0173b_regimg3.fits', 'acisfJ0958203p020845_001N029_r0034b_regimg3.fits', 'acisfJ1237038p621303_001N020_r0423b_regimg3.jpg.gz', 'acisfJ1000327p023059_001N029_r0099b_regimg3.fits', 'acisfJ1000408p021313_001N031_r0290b_regimg3.fits', 'acisfJ1000277p013951_001N031_r0156b_regimg3.jpg.gz', 'acisfJ1000277p013951_001N031_r0127b_regimg3.jpg.gz', 'acisfJ1420280p530201_001N030_r0140b_regimg3.fits', 'acisfJ1000408p021313_001N031_r0281b_regimg3.fits', 'acisfJ1000026p023344_001N021_r0010b_regimg3.jpg.gz', 'acisfJ1000026p023344_001N029_r0213b_regimg3.fits', 'acisfJ1030266p052411_001N020_r0127b_regimg3.jpg.gz', 'acisfJ1000026p023344_001N031_r0296b_regimg3.jpg.gz', 'acisfJ0958370p022359_001N029_r0002b_regimg3.fits', 'acisfJ1001027p022815_001N029_r0182b_regimg3.fits', 'acisfJ0958092p020103_001N029_r0033b_regimg3.fits', 'acisfJ0959180p020259_001N031_r0257b_regimg3.fits', 'acisfJ1001328p022531_001N029_r0168b_regimg3.fits', 'acisfJ1420280p530201_001N022_r0149b_regimg3.jpg.gz', 'acisfJ1230473p122258_002N036_r1756b_regimg3.jpg.gz', 'acisfJ1001402p020705_001N029_r0125b_regimg3.fits', 'acisfJ1001511p021436_001N031_r0233b_regimg3.fits', 'acisfJ1420147p530007_001N030_r0127b_regimg3.fits', 'acisfJ1002123p020448_001N031_r0195b_regimg3.jpg.gz', 'acisfJ1001511p021436_001N021_r0088b_regimg3.jpg.gz', 'acisfJ0958306p021622_001N031_r0088b_regimg3.fits', 'acisfJ1002222p021159_001N029_r0156b_regimg3.fits', 'acisfJ1000327p023059_001N031_r0059b_regimg3.fits', 'acisfJ1002343p021933_001N031_r0115b_regimg3.jpg.gz', 'acisfJ1001402p020705_001N031_r0286b_regimg3.jpg.gz', 'acisfJ1001511p021436_001N029_r0058b_regimg3.fits', 'acisfJ0959481p020015_001N030_r0252b_regimg3.jpg.gz', 'acisfJ0959509p022532_001N021_r0297b_regimg3.jpg.gz', 'acisfJ1000510p022004_001N021_r0270b_regimg3.jpg.gz', 'acisfJ1001292p015934_001N030_r0248b_regimg3.fits', 'acisfJ1001511p021436_001N031_r0200b_regimg3.fits', 'acisfJ1149288p222105_001N027_r0050b_regimg3.fits', 'acisfJ1148186p525155_001N020_r0004b_regimg3.fits', 'acisfJ1001402p020705_001N031_r0300b_regimg3.jpg.gz', 'acisfJ1001402p020705_001N030_r0101b_regimg3.jpg.gz', 'acisfJ0958597p021353_001N031_r0270b_regimg3.fits', 'acisfJ1201527m185305_001N028_r0133b_regimg3.fits', 'acisfJ1420147p530007_001N030_r0143b_regimg3.fits', 'acisfJ1120012p064141_001N026_r0021b_regimg3.fits', 'acisfJ1000592p020218_001N030_r0068b_regimg3.fits', 'acisfJ1002009p015702_001N031_r0128b_regimg3.fits', 'acisfJ0958479p020543_001N031_r0223b_regimg3.fits', 'acisfJ1000072p015000_001N031_r0199b_regimg3.fits', 'acisfJ0958370p022359_001N031_r0176b_regimg3.fits', 'acisfJ1002009p015702_001N031_r0198b_regimg3.fits', 'acisfJ1148186p525155_001N020_r0011b_regimg3.fits', 'acisfJ1000217p022329_001N031_r0036b_regimg3.jpg.gz', 'acisfJ1001101p020949_001N030_r0089b_regimg3.fits', 'acisfJ1000510p022004_001N021_r0047b_regimg3.jpg.gz', 'acisfJ0958092p020103_001N031_r0153b_regimg3.fits', 'acisfJ1002343p021933_001N021_r0039b_regimg3.jpg.gz', 'acisfJ1002222p021159_001N031_r0141b_regimg3.jpg.gz', 'acisfJ1245445p032358_001N026_r0111b_regimg3.fits', 'acisfJ0959071p015528_001N021_r0029b_regimg3.jpg.gz', 'acisfJ0959481p020015_001N030_r0209b_regimg3.jpg.gz', 'acisfJ1001292p015934_001N031_r0252b_regimg3.jpg.gz', 'acisfJ1001397p023235_001N021_r0084b_regimg3.jpg.gz', 'acisfJ1420280p530201_001N030_r0077b_regimg3.fits', 'acisfJ1001027p022815_001N031_r0244b_regimg3.jpg.gz', 'acisfJ1001511p021436_001N021_r0220b_regimg3.jpg.gz', 'acisfJ0958203p020845_001N031_r0159b_regimg3.fits', 'acisfJ1420280p530201_001N030_r0079b_regimg3.fits', 'acisfJ1002384p020202_001N031_r0124b_regimg3.fits', 'acisfJ0959481p020015_001N030_r0259b_regimg3.fits', 'acisfJ0958203p020845_001N031_r0157b_regimg3.fits', 'acisfJ1002106p022956_001N029_r0057b_regimg3.fits', 'acisfJ1000373p014716_001N029_r0146b_regimg3.fits', 'acisfJ1000327p023059_001N021_r0028b_regimg3.jpg.gz', 'acisfJ0959481p020015_001N030_r0258b_regimg3.fits', 'acisfJ1000510p022004_001N031_r0179b_regimg3.fits', 'acisfJ0959180p020259_001N021_r0229b_regimg3.jpg.gz', 'acisfJ1201527m185305_001N028_r0119b_regimg3.fits', 'acisfJ1001101p020949_001N031_r0246b_regimg3.fits', 'acisfJ1000026p023344_001N029_r0214b_regimg3.fits', 'acisfJ1002499p020946_001N031_r0008b_regimg3.jpg.gz', 'acisfJ0959599p014221_001N031_r0128b_regimg3.jpg.gz', 'acisfJ1420147p530007_001N023_r0097b_regimg3.jpg.gz', 'acisfJ1000181p015731_001N030_r0034b_regimg3.fits', 'acisfJ0959071p015528_001N031_r0187b_regimg3.fits', 'acisfJ1000510p022004_001N029_r0127b_regimg3.fits', 'acisfJ0959481p020015_001N030_r0213b_regimg3.jpg.gz', 'acisfJ1000592p020218_001N031_r0239b_regimg3.fits', 'acisfJ1000482p015447_001N030_r0032b_regimg3.jpg.gz', 'acisfJ1457012p243701_001N026_r0029b_regimg3.fits', 'acisfJ0958370p015812_001N021_r0067b_regimg3.jpg.gz', 'acisfJ0958479p020543_001N031_r0175b_regimg3.jpg.gz', 'acisfJ1001292p015934_001N031_r0183b_regimg3.jpg.gz', 'acisfJ1149288p222105_001N027_r0009b_regimg3.jpg.gz', 'acisfJ1000373p014716_001N031_r0025b_regimg3.fits', 'acisfJ1030285p052522_002N020_r0358b_regimg3.jpg.gz', 'acisfJ1000327p023059_001N031_r0046b_regimg3.fits', 'acisfJ1212049p273400_001N021_r0054b_regimg3.jpg.gz', 'acisfJ1149288p222105_001N020_r0129b_regimg3.jpg.gz', 'acisfJ1149341p222725_002N027_r0035b_regimg3.jpg.gz', 'acisfJ1002019p022207_001N031_r0132b_regimg3.fits', 'acisfJ1420147p530007_001N030_r0154b_regimg3.fits', 'acisfJ0959071p015528_001N029_r0040b_regimg3.fits', 'acisfJ1000072p015000_001N031_r0163b_regimg3.jpg.gz', 'acisfJ1420280p530201_001N030_r0479b_regimg3.fits', 'acisfJ1000592p020218_001N030_r0240b_regimg3.fits', 'acisfJ1001183p015203_001N031_r0211b_regimg3.jpg.gz', 'acisfJ1000592p020218_001N030_r0117b_regimg3.fits', 'acisfJ1001511p021436_001N031_r0237b_regimg3.fits', 'acisfJ1000299p020542_001N030_r0014b_regimg3.jpg.gz', 'acisfJ1419131p524818_001N030_r0481b_regimg3.fits', 'acisfJ1201548m185204_002N028_r0240b_regimg3.jpg.gz', 'acisfJ1000373p014716_001N031_r0220b_regimg3.jpg.gz', 'acisfJ0959599p014221_001N031_r0135b_regimg3.jpg.gz', 'acisfJ1002019p022207_001N021_r0162b_regimg3.jpg.gz', 'acisfJ0958306p021622_001N021_r0001b_regimg3.jpg.gz', 'acisfJ1201527m185305_001N028_r0119b_regimg3.jpg.gz', 'acisfJ0958203p020845_001N031_r0052b_regimg3.jpg.gz', 'acisfJ1002499p020946_001N031_r0005b_regimg3.jpg.gz', 'acisfJ0958479p020543_001N031_r0172b_regimg3.jpg.gz', 'acisfJ1237038p621303_001N020_r0427b_regimg3.jpg.gz', 'acisfJ1001211p021720_001N029_r0212b_regimg3.fits', 'acisfJ1000589p013718_001N031_r0124b_regimg3.fits', 'acisfJ1000510p022004_001N021_r0041b_regimg3.jpg.gz', 'acisfJ0958597p021353_001N031_r0060b_regimg3.jpg.gz', 'acisfJ1002499p020946_001N031_r0073b_regimg3.jpg.gz', 'acisfJ0959481p020015_001N031_r0264b_regimg3.jpg.gz', 'acisfJ1000217p022329_001N029_r0023b_regimg3.fits', 'acisfJ1000327p023059_001N021_r0012b_regimg3.jpg.gz', 'acisfJ1002019p022207_001N031_r0035b_regimg3.jpg.gz', 'acisfJ1002499p020946_001N021_r0006b_regimg3.jpg.gz', 'acisfJ1001183p015203_001N031_r0076b_regimg3.jpg.gz', 'acisfJ0958306p021622_001N029_r0016b_regimg3.fits', 'acisfJ0958597p021353_001N031_r0089b_regimg3.jpg.gz', 'acisfJ1000327p023059_001N021_r0207b_regimg3.jpg.gz', 'acisfJ0959071p015528_001N031_r0045b_regimg3.fits', 'acisfJ0959481p020015_001N021_r0233b_regimg3.jpg.gz', 'acisfJ1002499p020946_001N029_r0004b_regimg3.fits', 'acisfJ1000299p020542_001N030_r0242b_regimg3.fits', 'acisfJ0958597p021353_001N021_r0009b_regimg3.jpg.gz', 'acisfJ1001183p015203_001N030_r0154b_regimg3.fits', 'acisfJ0958479p020543_001N021_r0021b_regimg3.jpg.gz', 'acisfJ0958370p022359_001N031_r0176b_regimg3.jpg.gz', 'acisfJ0959071p015528_001N031_r0131b_regimg3.fits', 'acisfJ0958479p020543_001N029_r0015b_regimg3.fits', 'acisfJ1420280p530201_001N022_r0459b_regimg3.jpg.gz', 'acisfJ1002222p021159_001N029_r0044b_regimg3.fits', 'acisfJ1000277p013951_001N021_r0124b_regimg3.jpg.gz', 'acisfJ0958479p020543_001N031_r0233b_regimg3.fits', 'acisfJ1000181p015731_001N030_r0175b_regimg3.fits', 'acisfJ1000395p023823_001N029_r0135b_regimg3.fits', 'acisfJ0959180p020259_001N029_r0069b_regimg3.fits', 'acisfJ0958370p015812_001N029_r0028b_regimg3.fits', 'acisfJ1420280p530201_001N030_r0467b_regimg3.fits', 'acisfJ1002343p021933_001N031_r0152b_regimg3.jpg.gz', 'acisfJ1002123p020448_001N029_r0192b_regimg3.fits', 'acisfJ1411578m030714_001N026_r0010b_regimg3.fits', 'acisfJ0958597p021353_001N031_r0187b_regimg3.fits', 'acisfJ1000072p015000_001N031_r0217b_regimg3.jpg.gz', 'acisfJ1001292p015934_001N030_r0197b_regimg3.jpg.gz', 'acisfJ0959481p020015_001N031_r0069b_regimg3.jpg.gz', 'acisfJ1000395p023823_001N021_r0129b_regimg3.jpg.gz', 'acisfJ1002343p021933_001N031_r0152b_regimg3.fits', 'acisfJ1002123p020448_001N031_r0029b_regimg3.jpg.gz', 'acisfJ1001402p020705_001N031_r0287b_regimg3.jpg.gz', 'acisfJ1000373p014716_001N021_r0015b_regimg3.jpg.gz', 'acisfJ1000592p020218_001N030_r0022b_regimg3.fits', 'acisfJ0958479p020543_001N031_r0172b_regimg3.fits', 'acisfJ1000482p015447_001N030_r0050b_regimg3.jpg.gz', 'acisfJ1000217p022329_001N021_r0039b_regimg3.jpg.gz', 'acisfJ1201548m185204_002N028_r0106b_regimg3.jpg.gz', 'acisfJ1420147p530007_001N023_r0308b_regimg3.jpg.gz', 'acisfJ1000217p022329_001N021_r0071b_regimg3.jpg.gz', 'acisfJ1002019p022207_001N031_r0179b_regimg3.fits', 'acisfJ1002222p021159_001N031_r0067b_regimg3.fits', 'acisfJ1236516p621303_001N021_r0152b_regimg3.jpg.gz', 'acisfJ1001183p015203_001N030_r0035b_regimg3.jpg.gz', 'acisfJ1000026p023344_001N029_r0208b_regimg3.fits', 'acisfJ0959324p023628_001N029_r0220b_regimg3.fits', 'acisfJ1002499p020946_001N031_r0039b_regimg3.fits', 'acisfJ1001183p015203_001N030_r0035b_regimg3.fits', 'acisfJ1149341p222725_002N027_r0029b_regimg3.jpg.gz', 'acisfJ1001292p015934_001N030_r0253b_regimg3.fits', 'acisfJ1002222p021159_001N031_r0158b_regimg3.jpg.gz', 'acisfJ1030266p052411_001N020_r0078b_regimg3.jpg.gz', 'acisfJ1000510p022004_001N021_r0182b_regimg3.jpg.gz', 'acisfJ1420147p530007_001N023_r0158b_regimg3.jpg.gz', 'acisfJ1000026p023344_001N031_r0001b_regimg3.jpg.gz', 'acisfJ1000592p020218_001N030_r0002b_regimg3.jpg.gz', 'acisfJ0959297p021110_001N031_r0171b_regimg3.jpg.gz', 'acisfJ1420147p530007_001N030_r0530b_regimg3.fits', 'acisfJ1000589p013718_001N031_r0027b_regimg3.fits', 'acisfJ1001183p015203_001N030_r0023b_regimg3.fits', 'acisfJ1000327p023059_001N031_r0310b_regimg3.fits', 'acisfJ1001292p015934_001N030_r0109b_regimg3.jpg.gz', 'acisfJ1001328p022531_001N029_r0258b_regimg3.fits', 'acisfJ1149288p222105_001N020_r0129b_regimg3.fits', 'acisfJ1002019p022207_001N021_r0230b_regimg3.jpg.gz', 'acisfJ1001397p023235_001N031_r0139b_regimg3.jpg.gz', 'acisfJ0959371p015244_001N031_r0180b_regimg3.jpg.gz', 'acisfJ1001183p015203_001N030_r0051b_regimg3.jpg.gz', 'acisfJ1120012p064141_001N020_r0021b_regimg3.jpg.gz', 'acisfJ1420147p530007_001N030_r0099b_regimg3.fits', 'acisfJ0958306p021622_001N031_r0143b_regimg3.jpg.gz', 'acisfJ1001328p022531_001N031_r0035b_regimg3.fits', 'acisfJ0959481p020015_001N029_r0191b_regimg3.fits', 'acisfJ1201548m185204_002N028_r0114b_regimg3.fits', 'acisfJ1001027p022815_001N031_r0181b_regimg3.fits', 'acisfJ1000217p022329_001N029_r0039b_regimg3.fits', 'acisfJ1001183p015203_001N030_r0019b_regimg3.jpg.gz', 'acisfJ1001397p023235_001N029_r0084b_regimg3.fits', 'acisfJ1000072p015000_001N031_r0165b_regimg3.jpg.gz', 'acisfJ1420147p530007_001N030_r0200b_regimg3.fits', 'acisfJ1001511p021436_001N021_r0204b_regimg3.jpg.gz', 'acisfJ1001183p015203_001N030_r0218b_regimg3.jpg.gz', 'acisfJ0959180p020259_001N021_r0015b_regimg3.jpg.gz', 'acisfJ1001072p014432_001N031_r0014b_regimg3.fits', 'acisfJ1001183p015203_001N030_r0019b_regimg3.fits', 'acisfJ1000072p015000_001N031_r0009b_regimg3.fits', 'acisfJ1000510p022004_001N029_r0059b_regimg3.fits', 'acisfJ1000373p014716_001N021_r0150b_regimg3.jpg.gz', 'acisfJ0959071p015528_001N021_r0030b_regimg3.jpg.gz', 'acisfJ1001511p021436_001N021_r0209b_regimg3.jpg.gz', 'acisfJ1000482p015447_001N031_r0213b_regimg3.fits', 'acisfJ1001402p020705_001N031_r0286b_regimg3.fits', 'acisfJ1001328p022531_001N031_r0233b_regimg3.fits', 'acisfJ1206160m084601_001N026_r0074b_regimg3.fits', 'acisfJ1001402p020705_001N031_r0288b_regimg3.jpg.gz', 'acisfJ1001183p015203_001N031_r0093b_regimg3.fits', 'acisfJ1000072p015000_001N029_r0070b_regimg3.fits', 'acisfJ1002123p020448_001N030_r0226b_regimg3.jpg.gz', 'acisfJ1001072p014432_001N031_r0023b_regimg3.fits', 'acisfJ1001211p021720_001N031_r0267b_regimg3.jpg.gz', 'acisfJ0958597p021353_001N029_r0182b_regimg3.fits', 'acisfJ0959371p015244_001N031_r0219b_regimg3.jpg.gz', 'acisfJ1000589p013718_001N031_r0130b_regimg3.fits', 'acisfJ1001211p021720_001N031_r0267b_regimg3.fits', 'acisfJ1000026p023344_001N029_r0207b_regimg3.fits', 'acisfJ0958479p020543_001N031_r0014b_regimg3.jpg.gz', 'acisfJ1420147p530007_001N023_r0148b_regimg3.jpg.gz', 'acisfJ1420280p530201_001N022_r0057b_regimg3.jpg.gz', 'acisfJ1000510p022004_001N031_r0239b_regimg3.fits', 'acisfJ1000395p023823_001N029_r0112b_regimg3.fits', 'acisfJ1002222p021159_001N029_r0149b_regimg3.fits', 'acisfJ1001328p022531_001N031_r0299b_regimg3.jpg.gz', 'acisfJ0959071p015528_001N029_r0194b_regimg3.fits', 'acisfJ1149288p222105_001N027_r0053b_regimg3.jpg.gz', 'acisfJ1002106p022956_001N029_r0044b_regimg3.fits', 'acisfJ0959509p022532_001N031_r0020b_regimg3.jpg.gz', 'acisfJ0959180p020259_001N029_r0052b_regimg3.fits', 'acisfJ1230504p122408_001N036_r0721b_regimg3.jpg.gz', 'acisfJ1001511p021436_001N031_r0256b_regimg3.fits', 'acisfJ1001328p022531_001N030_r0301b_regimg3.fits', 'acisfJ1002222p021159_001N031_r0161b_regimg3.fits', 'acisfJ1001387p014152_001N031_r0120b_regimg3.jpg.gz', 'acisfJ1146116p202412_001N020_r0009b_regimg3.jpg.gz', 'acisfJ1000592p020218_001N030_r0108b_regimg3.jpg.gz', 'acisfJ1001072p014432_001N031_r0161b_regimg3.jpg.gz', 'acisfJ1000592p020218_001N030_r0016b_regimg3.jpg.gz', 'acisfJ1000181p015731_001N030_r0227b_regimg3.jpg.gz', 'acisfJ1030285p052522_002N020_r0358b_regimg3.fits', 'acisfJ1002499p020946_001N031_r0047b_regimg3.jpg.gz', 'acisfJ1001183p015203_001N030_r0213b_regimg3.fits', 'acisfJ1002343p021933_001N031_r0153b_regimg3.fits', 'acisfJ1002222p021159_001N031_r0180b_regimg3.fits', 'acisfJ1419131p524818_001N030_r0427b_regimg3.fits', 'acisfJ1001402p020705_001N031_r0287b_regimg3.fits', 'acisfJ0957482p023714_001N021_r0001b_regimg3.jpg.gz', 'acisfJ1206160m084601_001N021_r0043b_regimg3.jpg.gz', 'acisfJ1000026p023344_001N029_r0013b_regimg3.fits', 'acisfJ1420147p530007_001N030_r0158b_regimg3.fits', 'acisfJ1201527m185305_001N028_r0388b_regimg3.fits', 'acisfJ1149341p222725_002N027_r0004b_regimg3.jpg.gz', 'acisfJ1226428p215013_001N022_r0001b_regimg3.jpg.gz', 'acisfJ1420147p530007_001N023_r0154b_regimg3.jpg.gz', 'acisfJ0958597p021353_001N031_r0059b_regimg3.fits', 'acisfJ1000327p023059_001N031_r0206b_regimg3.jpg.gz', 'acisfJ1000592p020218_001N030_r0109b_regimg3.jpg.gz', 'acisfJ1000181p015731_001N031_r0206b_regimg3.jpg.gz', 'acisfJ1000482p015447_001N031_r0070b_regimg3.jpg.gz', 'acisfJ0959297p021110_001N031_r0168b_regimg3.fits', 'acisfJ1420280p530201_001N030_r0078b_regimg3.fits', 'acisfJ1000109p024058_001N021_r0154b_regimg3.jpg.gz', 'acisfJ0959180p020259_001N029_r0070b_regimg3.fits', 'acisfJ1001328p022531_001N021_r0115b_regimg3.jpg.gz', 'acisfJ1002123p020448_001N029_r0113b_regimg3.fits', 'acisfJ1001183p015203_001N031_r0093b_regimg3.jpg.gz', 'acisfJ0958370p015812_001N031_r0177b_regimg3.jpg.gz', 'acisfJ1002499p020946_001N031_r0008b_regimg3.fits', 'acisfJ1000592p020218_001N030_r0033b_regimg3.jpg.gz', 'acisfJ1002019p022207_001N029_r0166b_regimg3.fits', 'acisfJ1001511p021436_001N021_r0041b_regimg3.jpg.gz', 'acisfJ1000592p020218_001N030_r0080b_regimg3.fits', 'acisfJ0958479p020543_001N031_r0183b_regimg3.jpg.gz', 'acisfJ0958479p020543_001N029_r0102b_regimg3.fits', 'acisfJ1000327p023059_001N031_r0006b_regimg3.fits', 'acisfJ1206160m084601_001N026_r0043b_regimg3.fits', 'acisfJ0959071p015528_001N021_r0195b_regimg3.jpg.gz', 'acisfJ1001511p021436_001N031_r0260b_regimg3.fits', 'acisfJ1000482p015447_001N030_r0017b_regimg3.jpg.gz', 'acisfJ1001397p023235_001N029_r0136b_regimg3.fits', 'acisfJ1001328p022531_001N021_r0243b_regimg3.jpg.gz', 'acisfJ1421328p531328_001N030_r0303b_regimg3.fits', 'acisfJ0957597p021843_001N021_r0083b_regimg3.jpg.gz', 'acisfJ1000592p020218_001N030_r0086b_regimg3.fits', 'acisfJ1237038p621303_001N020_r0415b_regimg3.jpg.gz', 'acisfJ1001511p021436_001N031_r0274b_regimg3.fits', 'acisfJ1001183p015203_001N031_r0031b_regimg3.fits', 'acisfJ0959071p015528_001N031_r0045b_regimg3.jpg.gz', 'acisfJ1001402p020705_001N031_r0255b_regimg3.jpg.gz', 'acisfJ1000277p013951_001N031_r0146b_regimg3.fits', 'acisfJ1000299p020542_001N030_r0049b_regimg3.jpg.gz', 'acisfJ0959509p022532_001N021_r0224b_regimg3.jpg.gz', 'acisfJ1000482p015447_001N031_r0070b_regimg3.fits', 'acisfJ1030266p052411_001N020_r0083b_regimg3.fits', 'acisfJ1201548m185204_002N028_r0383b_regimg3.fits', 'acisfJ0958203p020845_001N031_r0179b_regimg3.jpg.gz', 'acisfJ1420280p530201_001N030_r0086b_regimg3.fits', 'acisfJ1000327p023059_001N031_r0017b_regimg3.fits', 'acisfJ1000592p020218_001N030_r0019b_regimg3.fits', 'acisfJ1001511p021436_001N031_r0021b_regimg3.fits', 'acisfJ1002499p020946_001N021_r0114b_regimg3.jpg.gz', 'acisfJ1000299p020542_001N030_r0094b_regimg3.jpg.gz', 'acisfJ1000181p015731_001N031_r0031b_regimg3.jpg.gz', 'acisfJ1002222p021159_001N031_r0183b_regimg3.fits', 'acisfJ1000217p022329_001N031_r0115b_regimg3.jpg.gz', 'acisfJ1000026p023344_001N031_r0295b_regimg3.jpg.gz', 'acisfJ1001292p015934_001N030_r0250b_regimg3.fits', 'acisfJ1002123p020448_001N021_r0113b_regimg3.jpg.gz', 'acisfJ1000510p022004_001N021_r0254b_regimg3.jpg.gz', 'acisfJ1212049p273400_001N026_r0024b_regimg3.fits', 'acisfJ0959481p020015_001N030_r0210b_regimg3.jpg.gz', 'acisfJ1001511p021436_001N031_r0259b_regimg3.jpg.gz', 'acisfJ1000327p023059_001N021_r0192b_regimg3.jpg.gz', 'acisfJ1000277p013951_001N029_r0124b_regimg3.fits', 'acisfJ0959071p015528_001N029_r0030b_regimg3.fits', 'acisfJ0958479p020543_001N031_r0224b_regimg3.jpg.gz', 'acisfJ1230473p122258_002N036_r1701b_regimg3.jpg.gz', 'acisfJ0959180p020259_001N021_r0021b_regimg3.jpg.gz', 'acisfJ1000592p020218_001N030_r0010b_regimg3.fits', 'acisfJ1120012p064141_001N026_r0055b_regimg3.fits', 'acisfJ1001328p022531_001N021_r0250b_regimg3.jpg.gz', 'acisfJ1000181p015731_001N031_r0214b_regimg3.jpg.gz', 'acisfJ1001292p015934_001N030_r0121b_regimg3.fits', 'acisfJ1001292p015934_001N031_r0063b_regimg3.jpg.gz', 'acisfJ1420280p530201_001N022_r0086b_regimg3.jpg.gz', 'acisfJ1420147p530007_001N030_r0527b_regimg3.fits', 'acisfJ1001292p015934_001N031_r0252b_regimg3.fits', 'acisfJ1002123p020448_001N031_r0053b_regimg3.jpg.gz', 'acisfJ1000482p015447_001N021_r0150b_regimg3.jpg.gz', 'acisfJ1237038p621303_001N026_r0006b_regimg3.fits', 'acisfJ1002019p022207_001N031_r0234b_regimg3.jpg.gz', 'acisfJ0959180p020259_001N031_r0271b_regimg3.jpg.gz', 'acisfJ1000589p013718_001N031_r0129b_regimg3.jpg.gz', 'acisfJ1001292p015934_001N030_r0004b_regimg3.jpg.gz', 'acisfJ1001183p015203_001N030_r0155b_regimg3.fits', 'acisfJ1000592p020218_001N030_r0003b_regimg3.jpg.gz', 'acisfJ1000592p020218_001N030_r0080b_regimg3.jpg.gz', 'acisfJ1000373p014716_001N031_r0198b_regimg3.fits', 'acisfJ1030285p052522_002N020_r0090b_regimg3.fits', 'acisfJ1001027p022815_001N021_r0163b_regimg3.jpg.gz', 'acisfJ1420280p530201_001N030_r0061b_regimg3.fits', 'acisfJ0958370p015812_001N021_r0028b_regimg3.jpg.gz', 'acisfJ1001397p023235_001N021_r0136b_regimg3.jpg.gz', 'acisfJ1000181p015731_001N031_r0249b_regimg3.jpg.gz', 'acisfJ1420280p530201_001N030_r0447b_regimg3.fits', 'acisfJ1000482p015447_001N030_r0031b_regimg3.fits', 'acisfJ1000327p023059_001N029_r0029b_regimg3.fits', 'acisfJ1001402p020705_001N031_r0295b_regimg3.jpg.gz', 'acisfJ1000299p020542_001N031_r0103b_regimg3.jpg.gz', 'acisfJ1002222p021159_001N031_r0147b_regimg3.jpg.gz', 'acisfJ1001397p023235_001N031_r0064b_regimg3.fits', 'acisfJ1420147p530007_001N022_r0525b_regimg3.jpg.gz', 'acisfJ1001328p022531_001N021_r0173b_regimg3.jpg.gz', 'acisfJ1420280p530201_001N030_r0083b_regimg3.fits', 'acisfJ1001402p020705_001N031_r0255b_regimg3.fits', 'acisfJ1000592p020218_001N031_r0056b_regimg3.fits', 'acisfJ0959297p021110_001N021_r0164b_regimg3.jpg.gz', 'acisfJ1149288p222105_001N026_r0061b_regimg3.fits', 'acisfJ1001183p015203_001N031_r0203b_regimg3.fits', 'acisfJ1000510p022004_001N031_r0236b_regimg3.fits', 'acisfJ1420280p530201_001N030_r0435b_regimg3.fits', 'acisfJ0958306p021622_001N021_r0012b_regimg3.jpg.gz', 'acisfJ1001402p020705_001N031_r0291b_regimg3.jpg.gz', 'acisfJ1030285p052522_002N020_r0128b_regimg3.jpg.gz', 'acisfJ1000482p015447_001N030_r0234b_regimg3.fits', 'acisfJ1002123p020448_001N021_r0051b_regimg3.jpg.gz', 'acisfJ1000482p015447_001N030_r0180b_regimg3.jpg.gz', 'acisfJ0959371p015244_001N031_r0029b_regimg3.fits', 'acisfJ1000026p023344_001N031_r0294b_regimg3.fits', 'acisfJ1000327p023059_001N031_r0035b_regimg3.fits', 'acisfJ1002123p020448_001N031_r0018b_regimg3.fits', 'acisfJ1000482p015447_001N030_r0023b_regimg3.jpg.gz', 'acisfJ1000408p021313_001N030_r0231b_regimg3.jpg.gz', 'acisfJ1237038p621303_001N026_r0416b_regimg3.fits', 'acisfJ0958203p020845_001N029_r0007b_regimg3.fits', 'acisfJ1001027p022815_001N021_r0243b_regimg3.jpg.gz', 'acisfJ1001211p021720_001N029_r0263b_regimg3.fits', 'acisfJ1002019p022207_001N031_r0210b_regimg3.fits', 'acisfJ1002222p021159_001N031_r0046b_regimg3.fits', 'acisfJ0958306p021622_001N031_r0060b_regimg3.jpg.gz', 'acisfJ1002019p022207_001N031_r0200b_regimg3.fits', 'acisfJ1002123p020448_001N031_r0200b_regimg3.fits', 'acisfJ1002222p021159_001N031_r0147b_regimg3.fits', 'acisfJ1201548m185204_002N028_r0102b_regimg3.jpg.gz', 'acisfJ1230504p122408_001N036_r1495b_regimg3.jpg.gz', 'acisfJ1000026p023344_001N021_r0213b_regimg3.jpg.gz', 'acisfJ0959599p014221_001N029_r0126b_regimg3.fits', 'acisfJ1002499p020946_001N031_r0046b_regimg3.fits', 'acisfJ0958092p020103_001N031_r0153b_regimg3.jpg.gz', 'acisfJ1000373p014716_001N031_r0025b_regimg3.jpg.gz', 'acisfJ1002019p022207_001N030_r0273b_regimg3.jpg.gz', 'acisfJ1000026p023344_001N021_r0220b_regimg3.jpg.gz', 'acisfJ1003079p015931_001N031_r0077b_regimg3.jpg.gz', 'acisfJ1420147p530007_001N030_r0203b_regimg3.fits', 'acisfJ0958203p020845_001N031_r0156b_regimg3.fits', 'acisfJ1206160m084601_001N026_r0041b_regimg3.fits', 'acisfJ1002384p020202_001N031_r0030b_regimg3.fits', 'acisfJ0959509p022532_001N021_r0222b_regimg3.jpg.gz', 'acisfJ1000373p014716_001N031_r0215b_regimg3.jpg.gz', 'acisfJ1000327p023059_001N031_r0059b_regimg3.jpg.gz', 'acisfJ0959297p021110_001N031_r0170b_regimg3.jpg.gz', 'acisfJ1000373p014716_001N031_r0220b_regimg3.fits', 'acisfJ1000327p023059_001N031_r0008b_regimg3.jpg.gz', 'acisfJ1000299p020542_001N030_r0017b_regimg3.jpg.gz', 'acisfJ1000299p020542_001N030_r0310b_regimg3.jpg.gz', 'acisfJ1001328p022531_001N029_r0021b_regimg3.fits', 'acisfJ1002384p020202_001N021_r0022b_regimg3.jpg.gz', 'acisfJ1245445p032358_001N026_r0159b_regimg3.fits', 'acisfJ0959599p014221_001N031_r0157b_regimg3.jpg.gz', 'acisfJ1001511p021436_001N031_r0213b_regimg3.fits', 'acisfJ1000408p021313_001N021_r0213b_regimg3.jpg.gz', 'acisfJ1001511p021436_001N031_r0024b_regimg3.jpg.gz', 'acisfJ0958479p020543_001N031_r0183b_regimg3.fits', 'acisfJ1001387p014152_001N031_r0120b_regimg3.fits', 'acisfJ1205225m074238_001N026_r0064b_regimg3.fits', 'acisfJ1001183p015203_001N031_r0152b_regimg3.fits', 'acisfJ1000277p013951_001N031_r0146b_regimg3.jpg.gz', 'acisfJ0959297p021110_001N031_r0170b_regimg3.fits', 'acisfJ1002222p021159_001N031_r0128b_regimg3.fits', 'acisfJ1000026p023344_001N021_r0215b_regimg3.jpg.gz', 'acisfJ1000181p015731_001N031_r0205b_regimg3.fits', 'acisfJ1420147p530007_001N030_r0205b_regimg3.fits', 'acisfJ1000072p015000_001N031_r0197b_regimg3.fits', 'acisfJ1001211p021720_001N031_r0142b_regimg3.fits', 'acisfJ0959071p015528_001N031_r0132b_regimg3.jpg.gz', 'acisfJ1030266p052411_001N020_r0115b_regimg3.fits', 'acisfJ1002019p022207_001N031_r0169b_regimg3.jpg.gz', 'acisfJ0959481p020015_001N030_r0214b_regimg3.fits', 'acisfJ1201527m185305_001N028_r0304b_regimg3.jpg.gz', 'acisfJ0958479p020543_001N031_r0171b_regimg3.jpg.gz', 'acisfJ1000217p022329_001N021_r0057b_regimg3.jpg.gz', 'acisfJ1420147p530007_001N030_r0379b_regimg3.fits', 'acisfJ1001511p021436_001N029_r0247b_regimg3.fits', 'acisfJ1000109p024058_001N031_r0127b_regimg3.fits', 'acisfJ1000510p022004_001N031_r0224b_regimg3.fits', 'acisfJ1000277p013951_001N031_r0057b_regimg3.jpg.gz', 'acisfJ0958306p021622_001N031_r0085b_regimg3.jpg.gz', 'acisfJ1000408p021313_001N030_r0084b_regimg3.fits', 'acisfJ1149341p222725_002N027_r0029b_regimg3.fits', 'acisfJ1237038p621303_001N021_r0004b_regimg3.jpg.gz', 'acisfJ0958370p015812_001N029_r0047b_regimg3.fits', 'acisfJ1236516p621303_001N026_r0277b_regimg3.fits', 'acisfJ1000395p023823_001N021_r0068b_regimg3.jpg.gz', 'acisfJ1000510p022004_001N031_r0217b_regimg3.fits', 'acisfJ0959180p020259_001N029_r0015b_regimg3.fits', 'acisfJ1000277p013951_001N031_r0159b_regimg3.jpg.gz', 'acisfJ1000181p015731_001N030_r0220b_regimg3.jpg.gz', 'acisfJ0958203p020845_001N031_r0043b_regimg3.jpg.gz', 'acisfJ1120012p064141_001N020_r0042b_regimg3.jpg.gz', 'acisfJ1236516p621303_001N026_r0154b_regimg3.fits', 'acisfJ0958203p020845_001N031_r0156b_regimg3.jpg.gz', 'acisfJ1201548m185204_002N028_r0377b_regimg3.jpg.gz', 'acisfJ1000109p024058_001N031_r0127b_regimg3.jpg.gz', 'acisfJ1420147p530007_001N022_r0536b_regimg3.jpg.gz', 'acisfJ1000181p015731_001N031_r0235b_regimg3.fits', 'acisfJ1002019p022207_001N021_r0028b_regimg3.jpg.gz', 'acisfJ1148186p525155_001N020_r0067b_regimg3.fits', 'acisfJ1001109p023517_001N029_r0169b_regimg3.fits', 'acisfJ1002499p020946_001N031_r0039b_regimg3.jpg.gz', 'acisfJ1002499p020946_001N031_r0073b_regimg3.fits', 'acisfJ0958597p021353_001N031_r0190b_regimg3.jpg.gz', 'acisfJ1001402p020705_001N021_r0181b_regimg3.jpg.gz', 'acisfJ1002343p021933_001N031_r0138b_regimg3.fits', 'acisfJ1000482p015447_001N030_r0056b_regimg3.jpg.gz', 'acisfJ0958370p015812_001N029_r0217b_regimg3.fits', 'acisfJ1002123p020448_001N031_r0055b_regimg3.jpg.gz', 'acisfJ1420280p530201_001N030_r0438b_regimg3.fits', 'acisfJ1001397p023235_001N031_r0176b_regimg3.jpg.gz', 'acisfJ1000395p023823_001N021_r0132b_regimg3.jpg.gz', 'acisfJ1002019p022207_001N031_r0215b_regimg3.jpg.gz', 'acisfJ0959481p020015_001N031_r0264b_regimg3.fits', 'acisfJ1001183p015203_001N030_r0099b_regimg3.fits', 'acisfJ1000589p013718_001N031_r0052b_regimg3.fits', 'acisfJ1001027p022815_001N031_r0062b_regimg3.jpg.gz', 'acisfJ0959599p014221_001N021_r0127b_regimg3.jpg.gz', 'acisfJ1000072p015000_001N031_r0084b_regimg3.fits', 'acisfJ1338245m194258_001N020_r0105b_regimg3.jpg.gz', 'acisfJ1000109p024058_001N029_r0041b_regimg3.fits', 'acisfJ1420280p530201_001N030_r0151b_regimg3.fits', 'acisfJ1002106p022956_001N033_r9002b_regimg3.fits', 'acisfJ1001101p020949_001N031_r0247b_regimg3.jpg.gz', 'acisfJ0958203p020845_001N031_r0091b_regimg3.jpg.gz', 'acisfJ0958203p020845_001N031_r0052b_regimg3.fits', 'acisfJ1002343p021933_001N031_r0114b_regimg3.jpg.gz', 'acisfJ1000181p015731_001N030_r0187b_regimg3.jpg.gz', 'acisfJ1030266p052411_001N020_r0127b_regimg3.fits', 'acisfJ1420280p530201_001N022_r0457b_regimg3.jpg.gz', 'acisfJ1002123p020448_001N031_r0195b_regimg3.fits', 'acisfJ0958306p021622_001N029_r0136b_regimg3.fits', 'acisfJ0959180p020259_001N021_r0231b_regimg3.jpg.gz', 'acisfJ1000589p013718_001N031_r0049b_regimg3.jpg.gz', 'acisfJ1002106p022956_001N029_r0115b_regimg3.fits', 'acisfJ1000327p023059_001N031_r0054b_regimg3.jpg.gz', 'acisfJ1000482p015447_001N031_r0107b_regimg3.fits', 'acisfJ1000408p021313_001N030_r0001b_regimg3.fits', 'acisfJ0958370p015812_001N021_r0036b_regimg3.jpg.gz', 'acisfJ0958203p020845_001N029_r0099b_regimg3.fits', 'acisfJ0958203p020845_001N029_r0061b_regimg3.fits', 'acisfJ1000217p022329_001N021_r0043b_regimg3.jpg.gz', 'acisfJ1000299p020542_001N030_r0311b_regimg3.jpg.gz', 'acisfJ1001328p022531_001N031_r0035b_regimg3.jpg.gz', 'acisfJ0959599p014221_001N031_r0135b_regimg3.fits', 'acisfJ1000181p015731_001N030_r0187b_regimg3.fits', 'acisfJ1000072p015000_001N031_r0080b_regimg3.jpg.gz', 'acisfJ0959599p014221_001N029_r0124b_regimg3.fits', 'acisfJ1000181p015731_001N031_r0205b_regimg3.jpg.gz', 'acisfJ1001027p022815_001N021_r0086b_regimg3.jpg.gz', 'acisfJ1000026p023344_001N031_r0018b_regimg3.fits', 'acisfJ1002123p020448_001N021_r0192b_regimg3.jpg.gz', 'acisfJ1237038p621303_001N026_r0415b_regimg3.fits', 'acisfJ1002106p022956_001N021_r0115b_regimg3.jpg.gz', 'acisfJ1000482p015447_001N030_r0171b_regimg3.jpg.gz', 'acisfJ1000482p015447_001N031_r0039b_regimg3.jpg.gz', 'acisfJ1001072p014432_001N031_r0023b_regimg3.jpg.gz', 'acisfJ0958370p015812_001N029_r0023b_regimg3.fits', 'acisfJ0958370p015812_001N031_r0168b_regimg3.jpg.gz', 'acisfJ0958370p015812_001N029_r0067b_regimg3.fits', 'acisfJ1420280p530201_001N030_r0176b_regimg3.fits', 'acisfJ1000395p023823_001N029_r0121b_regimg3.fits', 'acisfJ1000373p014716_001N031_r0168b_regimg3.jpg.gz', 'acisfJ1000072p015000_001N031_r0055b_regimg3.jpg.gz', 'acisfJ1000299p020542_001N031_r0013b_regimg3.fits', 'acisfJ1420280p530201_001N022_r0060b_regimg3.jpg.gz', 'acisfJ1420147p530007_001N030_r0539b_regimg3.fits', 'acisfJ1001183p015203_001N030_r0216b_regimg3.fits', 'acisfJ1001183p015203_001N030_r0156b_regimg3.jpg.gz', 'acisfJ0959599p014221_001N031_r0128b_regimg3.fits', 'acisfJ1000181p015731_001N031_r0252b_regimg3.jpg.gz', 'acisfJ1000327p023059_001N029_r0205b_regimg3.fits', 'acisfJ1002222p021159_001N031_r0161b_regimg3.jpg.gz', 'acisfJ1002123p020448_001N031_r0013b_regimg3.jpg.gz', 'acisfJ1001511p021436_001N031_r0025b_regimg3.fits', 'acisfJ1000482p015447_001N030_r0175b_regimg3.jpg.gz', 'acisfJ1001211p021720_001N021_r0096b_regimg3.jpg.gz', 'acisfJ1201548m185204_002N028_r0206b_regimg3.jpg.gz', 'acisfJ1030285p052522_002N020_r0095b_regimg3.fits', 'acisfJ1001402p020705_001N031_r0248b_regimg3.jpg.gz', 'acisfJ1001101p020949_001N030_r0004b_regimg3.jpg.gz', 'acisfJ1000482p015447_001N031_r0213b_regimg3.jpg.gz', 'acisfJ1000327p023059_001N031_r0191b_regimg3.fits', 'acisfJ1237038p621303_001N020_r0009b_regimg3.jpg.gz', 'acisfJ1001027p022815_001N021_r0103b_regimg3.jpg.gz', 'acisfJ0958092p020103_001N031_r0151b_regimg3.jpg.gz', 'acisfJ1000026p023344_001N021_r0214b_regimg3.jpg.gz', 'acisfJ1000510p022004_001N031_r0239b_regimg3.jpg.gz', 'acisfJ1420147p530007_001N030_r0159b_regimg3.fits', 'acisfJ1149288p222105_001N027_r0038b_regimg3.fits', 'acisfJ1001292p015934_001N030_r0065b_regimg3.fits', 'acisfJ1000072p015000_001N031_r0184b_regimg3.jpg.gz', 'acisfJ0958597p021353_001N031_r0089b_regimg3.fits', 'acisfJ1001027p022815_001N031_r0242b_regimg3.fits', 'acisfJ0959180p020259_001N031_r0226b_regimg3.jpg.gz', 'acisfJ1001027p022815_001N029_r0022b_regimg3.fits', 'acisfJ1420147p530007_001N030_r0150b_regimg3.fits', 'acisfJ1002019p022207_001N031_r0238b_regimg3.jpg.gz', 'acisfJ1002106p022956_001N031_r0164b_regimg3.fits', 'acisfJ1149288p222105_001N027_r0040b_regimg3.fits', 'acisfJ0959180p020259_001N029_r0230b_regimg3.fits', 'acisfJ1002222p021159_001N031_r0068b_regimg3.jpg.gz', 'acisfJ1000592p020218_001N030_r0012b_regimg3.jpg.gz', 'acisfJ1001402p020705_001N031_r0253b_regimg3.fits', 'acisfJ0958479p020543_001N021_r0166b_regimg3.jpg.gz', 'acisfJ1001328p022531_001N031_r0265b_regimg3.jpg.gz', 'acisfJ1002499p020946_001N029_r0112b_regimg3.fits', 'acisfJ1000327p023059_001N029_r0098b_regimg3.fits', 'acisfJ1000408p021313_001N021_r0211b_regimg3.jpg.gz', 'acisfJ1030266p052411_001N020_r0116b_regimg3.fits', 'acisfJ1000327p023059_001N029_r0192b_regimg3.fits', 'acisfJ1001511p021436_001N021_r0238b_regimg3.jpg.gz', 'acisfJ1237038p621303_001N020_r0416b_regimg3.jpg.gz', 'acisfJ1000589p013718_001N031_r0052b_regimg3.jpg.gz', 'acisfJ1000327p023059_001N031_r0191b_regimg3.jpg.gz', 'acisfJ1000327p023059_001N029_r0041b_regimg3.fits', 'acisfJ1000026p023344_001N029_r0210b_regimg3.fits', 'acisfJ0958306p021622_001N031_r0068b_regimg3.jpg.gz', 'acisfJ1000482p015447_001N030_r0037b_regimg3.fits', 'acisfJ1000327p023059_001N031_r0206b_regimg3.fits', 'acisfJ1000510p022004_001N021_r0276b_regimg3.jpg.gz', 'acisfJ1420280p530201_001N022_r0076b_regimg3.jpg.gz', 'acisfJ1000395p023823_001N031_r0055b_regimg3.jpg.gz', 'acisfJ1236516p621303_001N026_r0152b_regimg3.fits', 'acisfJ0958597p021353_001N031_r0178b_regimg3.fits', 'acisfJ1001328p022531_001N031_r0256b_regimg3.jpg.gz', 'acisfJ0958479p020543_001N029_r0007b_regimg3.fits', 'acisfJ1002019p022207_001N029_r0053b_regimg3.fits', 'acisfJ1001402p020705_001N031_r0214b_regimg3.jpg.gz', 'acisfJ1002019p022207_001N031_r0212b_regimg3.fits', 'acisfJ1000217p022329_001N031_r0112b_regimg3.jpg.gz', 'acisfJ1000482p015447_001N031_r0001b_regimg3.fits', 'acisfJ1000181p015731_001N031_r0031b_regimg3.fits', 'acisfJ1001511p021436_001N021_r0206b_regimg3.jpg.gz', 'acisfJ1030266p052411_001N020_r0320b_regimg3.jpg.gz', 'acisfJ1002499p020946_001N029_r0134b_regimg3.fits', 'acisfJ1226428p215013_001N028_r0001b_regimg3.fits', 'acisfJ1245445p032358_001N026_r0087b_regimg3.fits', 'acisfJ1001027p022815_001N031_r0264b_regimg3.jpg.gz', 'acisfJ1030285p052522_002N020_r0118b_regimg3.jpg.gz', 'acisfJ0959071p015528_001N029_r0025b_regimg3.fits', 'acisfJ1420147p530007_001N023_r0145b_regimg3.jpg.gz', 'acisfJ1000592p020218_001N031_r0113b_regimg3.jpg.gz', 'acisfJ1001397p023235_001N021_r0169b_regimg3.jpg.gz', 'acisfJ1002123p020448_001N021_r0107b_regimg3.jpg.gz', 'acisfJ1420280p530201_001N030_r0175b_regimg3.fits', 'acisfJ1000181p015731_001N031_r0051b_regimg3.jpg.gz', 'acisfJ0959297p021110_001N031_r0253b_regimg3.fits', 'acisfJ0959509p022532_001N021_r0288b_regimg3.jpg.gz', 'acisfJ1148186p525155_001N020_r0051b_regimg3.jpg.gz', 'acisfJ1001183p015203_001N031_r0076b_regimg3.fits', 'acisfJ1000592p020218_001N030_r0084b_regimg3.jpg.gz', 'acisfJ1236516p621303_001N020_r0153b_regimg3.jpg.gz', 'acisfJ1201548m185204_002N028_r0396b_regimg3.fits', 'acisfJ1002499p020946_001N029_r0002b_regimg3.fits', 'acisfJ1001027p022815_001N029_r0049b_regimg3.fits', 'acisfJ1002019p022207_001N031_r0265b_regimg3.jpg.gz', 'acisfJ1000072p015000_001N031_r0120b_regimg3.fits', 'acisfJ0959509p022532_001N029_r0141b_regimg3.fits', 'acisfJ1000217p022329_001N031_r0038b_regimg3.fits', 'acisfJ0958370p015812_001N021_r0217b_regimg3.jpg.gz', 'acisfJ1000482p015447_001N030_r0226b_regimg3.jpg.gz', 'acisfJ1000327p023059_001N031_r0043b_regimg3.fits', 'acisfJ1001328p022531_001N021_r0176b_regimg3.jpg.gz', 'acisfJ1000592p020218_001N030_r0249b_regimg3.fits', 'acisfJ1000217p022329_001N031_r0271b_regimg3.jpg.gz', 'acisfJ0959481p020015_001N030_r0108b_regimg3.jpg.gz', 'acisfJ0958203p020845_001N029_r0004b_regimg3.fits', 'acisfJ0958479p020543_001N031_r0005b_regimg3.jpg.gz', 'acisfJ1000510p022004_001N031_r0080b_regimg3.fits', 'acisfJ1002019p022207_001N021_r0053b_regimg3.jpg.gz', 'acisfJ1000217p022329_001N029_r0121b_regimg3.fits', 'acisfJ1002384p020202_001N031_r0121b_regimg3.fits', 'acisfJ1000026p023344_001N031_r0296b_regimg3.fits', 'acisfJ1002123p020448_001N031_r0013b_regimg3.fits', 'acisfJ1002499p020946_001N021_r0002b_regimg3.jpg.gz', 'acisfJ1001292p015934_001N030_r0058b_regimg3.jpg.gz', 'acisfJ1201527m185305_001N028_r0304b_regimg3.fits', 'acisfJ1001027p022815_001N031_r0161b_regimg3.fits', 'acisfJ1000592p020218_001N030_r0016b_regimg3.fits', 'acisfJ0958479p020543_001N021_r0061b_regimg3.jpg.gz', 'acisfJ0959509p022532_001N029_r0222b_regimg3.fits', 'acisfJ1000217p022329_001N031_r0204b_regimg3.fits', 'acisfJ1000181p015731_001N030_r0222b_regimg3.jpg.gz', 'acisfJ1001511p021436_001N031_r0266b_regimg3.fits', 'acisfJ1001101p020949_001N031_r0214b_regimg3.fits', 'acisfJ1000217p022329_001N031_r0266b_regimg3.fits', 'acisfJ1002384p020202_001N031_r0024b_regimg3.fits', 'acisfJ1148186p525155_001N020_r0011b_regimg3.jpg.gz', 'acisfJ1000482p015447_001N030_r0171b_regimg3.fits', 'acisfJ1230473p122258_002N036_r1701b_regimg3.fits', 'acisfJ1002222p021159_001N029_r0004b_regimg3.fits', 'acisfJ1000072p015000_001N021_r0029b_regimg3.jpg.gz', 'acisfJ1001183p015203_001N031_r0016b_regimg3.fits', 'acisfJ0958370p015812_001N031_r0026b_regimg3.fits', 'acisfJ1002009p015702_001N030_r0129b_regimg3.jpg.gz', 'acisfJ0959180p020259_001N031_r0272b_regimg3.jpg.gz', 'acisfJ0959297p021110_001N021_r0159b_regimg3.jpg.gz', 'acisfJ1420280p530201_001N022_r0460b_regimg3.jpg.gz', 'acisfJ1000408p021313_001N030_r0001b_regimg3.jpg.gz', 'acisfJ0959371p015244_001N021_r0169b_regimg3.jpg.gz', 'acisfJ0958203p020845_001N021_r0034b_regimg3.jpg.gz', 'acisfJ0959297p021110_001N031_r0163b_regimg3.jpg.gz', 'acisfJ1419131p524818_001N023_r0427b_regimg3.jpg.gz', 'acisfJ1000373p014716_001N031_r0164b_regimg3.fits', 'acisfJ0958370p015812_001N021_r0059b_regimg3.jpg.gz', 'acisfJ1000589p013718_001N031_r0051b_regimg3.fits', 'acisfJ1002009p015702_001N030_r0129b_regimg3.fits', 'acisfJ1000327p023059_001N031_r0289b_regimg3.fits', 'acisfJ1000181p015731_001N031_r0228b_regimg3.jpg.gz', 'acisfJ1002384p020202_001N021_r0074b_regimg3.jpg.gz', 'acisfJ1000181p015731_001N031_r0214b_regimg3.fits', 'acisfJ1001292p015934_001N030_r0109b_regimg3.fits', 'acisfJ1002499p020946_001N031_r0071b_regimg3.fits', 'acisfJ1001211p021720_001N029_r0096b_regimg3.fits', 'acisfJ1000026p023344_001N031_r0011b_regimg3.fits', 'acisfJ1236516p621303_001N026_r0284b_regimg3.fits', 'acisfJ1000181p015731_001N030_r0223b_regimg3.fits', 'acisfJ1000181p015731_001N030_r0234b_regimg3.fits', 'acisfJ1000181p015731_001N030_r0223b_regimg3.jpg.gz', 'acisfJ1000373p014716_001N029_r0150b_regimg3.fits', 'acisfJ0958203p020845_001N031_r0157b_regimg3.jpg.gz', 'acisfJ1420280p530201_001N022_r0140b_regimg3.jpg.gz', 'acisfJ1001511p021436_001N031_r0024b_regimg3.fits', 'acisfJ0958092p020103_001N021_r0089b_regimg3.jpg.gz', 'acisfJ0959509p022532_001N029_r0224b_regimg3.fits', 'acisfJ1420280p530201_001N030_r0057b_regimg3.fits', 'acisfJ1001328p022531_001N029_r0177b_regimg3.fits', 'acisfJ1002222p021159_001N031_r0074b_regimg3.jpg.gz', 'acisfJ1002384p020202_001N031_r0068b_regimg3.fits', 'acisfJ1201527m185305_001N028_r0110b_regimg3.fits', 'acisfJ1030266p052411_001N020_r0080b_regimg3.jpg.gz', 'acisfJ1001183p015203_001N030_r0099b_regimg3.jpg.gz', 'acisfJ1001397p023235_001N021_r0166b_regimg3.jpg.gz', 'acisfJ0958306p021622_001N031_r0143b_regimg3.fits', 'acisfJ1000181p015731_001N030_r0225b_regimg3.fits', 'acisfJ1420280p530201_001N030_r0082b_regimg3.fits', 'acisfJ1206160m084601_001N021_r0044b_regimg3.jpg.gz', 'acisfJ1000026p023344_001N029_r0060b_regimg3.fits', 'acisfJ1420280p530201_001N022_r0082b_regimg3.jpg.gz', 'acisfJ1002222p021159_001N021_r0066b_regimg3.jpg.gz', 'acisfJ1000217p022329_001N029_r0027b_regimg3.fits', 'acisfJ1001328p022531_001N029_r0172b_regimg3.fits', 'acisfJ1001292p015934_001N030_r0198b_regimg3.jpg.gz', 'acisfJ0958479p020543_001N031_r0236b_regimg3.fits', 'acisfJ1002384p020202_001N021_r0112b_regimg3.jpg.gz', 'acisfJ1000482p015447_001N030_r0212b_regimg3.jpg.gz', 'acisfJ1120012p064141_001N020_r0047b_regimg3.jpg.gz', 'acisfJ1001328p022531_001N021_r0244b_regimg3.jpg.gz', 'acisfJ1030266p052411_001N020_r0076b_regimg3.jpg.gz', 'acisfJ0959481p020015_001N030_r0154b_regimg3.jpg.gz', 'acisfJ1001328p022531_001N029_r0244b_regimg3.fits', 'acisfJ1000072p015000_001N031_r0120b_regimg3.jpg.gz', 'acisfJ1000592p020218_001N031_r0050b_regimg3.jpg.gz', 'acisfJ1002222p021159_001N031_r0139b_regimg3.jpg.gz', 'acisfJ1002499p020946_001N029_r0006b_regimg3.fits', 'acisfJ1001292p015934_001N030_r0248b_regimg3.jpg.gz', 'acisfJ1001511p021436_001N030_r0019b_regimg3.fits', 'acisfJ1120012p064141_001N026_r0033b_regimg3.fits', 'acisfJ1000026p023344_001N031_r0284b_regimg3.fits', 'acisfJ1000592p020218_001N030_r0108b_regimg3.fits', 'acisfJ1148186p525155_001N020_r0060b_regimg3.jpg.gz', 'acisfJ1002019p022207_001N021_r0229b_regimg3.jpg.gz', 'acisfJ1237038p621303_001N020_r0006b_regimg3.jpg.gz', 'acisfJ0958479p020543_001N031_r0011b_regimg3.jpg.gz', 'acisfJ1000373p014716_001N031_r0182b_regimg3.jpg.gz', 'acisfJ1001183p015203_001N031_r0002b_regimg3.fits', 'acisfJ1000482p015447_001N029_r0149b_regimg3.fits', 'acisfJ1457012p243701_001N020_r0029b_regimg3.jpg.gz', 'acisfJ1002123p020448_001N021_r0197b_regimg3.jpg.gz', 'acisfJ1001511p021436_001N031_r0021b_regimg3.jpg.gz', 'acisfJ0958370p015812_001N031_r0032b_regimg3.fits', 'acisfJ0958092p020103_001N021_r0054b_regimg3.jpg.gz', 'acisfJ1000327p023059_001N029_r0061b_regimg3.fits', 'acisfJ1000592p020218_001N031_r0081b_regimg3.jpg.gz', 'acisfJ1420147p530007_001N023_r0155b_regimg3.jpg.gz', 'acisfJ1002384p020202_001N029_r0112b_regimg3.fits', 'acisfJ0959180p020259_001N021_r0070b_regimg3.jpg.gz', 'acisfJ0958479p020543_001N029_r0061b_regimg3.fits', 'acisfJ1000592p020218_001N030_r0019b_regimg3.jpg.gz', 'acisfJ1237038p621303_001N026_r0337b_regimg3.fits', 'acisfJ1245445p032358_001N020_r0086b_regimg3.jpg.gz', 'acisfJ1420280p530201_001N022_r0443b_regimg3.jpg.gz', 'acisfJ1001328p022531_001N021_r0008b_regimg3.jpg.gz', 'acisfJ1000026p023344_001N029_r0015b_regimg3.fits', 'acisfJ0959071p015528_001N021_r0193b_regimg3.jpg.gz', 'acisfJ0959509p022532_001N021_r0226b_regimg3.jpg.gz', 'acisfJ1000482p015447_001N030_r0093b_regimg3.jpg.gz', 'acisfJ0958479p020543_001N029_r0024b_regimg3.fits', 'acisfJ1000299p020542_001N030_r0044b_regimg3.jpg.gz', 'acisfJ1000072p015000_001N031_r0221b_regimg3.fits', 'acisfJ0957597p021843_001N029_r0055b_regimg3.fits', 'acisfJ1000592p020218_001N030_r0022b_regimg3.jpg.gz', 'acisfJ1420280p530201_001N030_r0046b_regimg3.fits', 'acisfJ1000482p015447_001N030_r0090b_regimg3.jpg.gz', 'acisfJ0958113p014325_001N031_r0030b_regimg3.jpg.gz', 'acisfJ1000026p023344_001N031_r0293b_regimg3.fits', 'acisfJ1000589p013718_001N031_r0131b_regimg3.fits', 'acisfJ1000072p015000_001N031_r0220b_regimg3.fits', 'acisfJ1000217p022329_001N021_r0121b_regimg3.jpg.gz', 'acisfJ1000072p015000_001N031_r0064b_regimg3.jpg.gz', 'acisfJ1000510p022004_001N031_r0220b_regimg3.fits', 'acisfJ1001328p022531_001N031_r0070b_regimg3.jpg.gz', 'acisfJ1001183p015203_001N030_r0055b_regimg3.fits', 'acisfJ0958203p020845_001N029_r0182b_regimg3.fits', 'acisfJ1000327p023059_001N031_r0284b_regimg3.fits', 'acisfJ1131517m123158_002N029_r0057b_regimg3.fits', 'acisfJ1001328p022531_001N031_r0251b_regimg3.fits', 'acisfJ1030266p052411_001N020_r0114b_regimg3.fits', 'acisfJ1201527m185305_001N028_r0165b_regimg3.jpg.gz', 'acisfJ1000510p022004_001N031_r0175b_regimg3.fits', 'acisfJ0958203p020845_001N031_r0168b_regimg3.fits', 'acisfJ1000373p014716_001N031_r0066b_regimg3.jpg.gz', 'acisfJ1000482p015447_001N030_r0056b_regimg3.fits', 'acisfJ1002123p020448_001N031_r0075b_regimg3.jpg.gz', 'acisfJ1420280p530201_001N030_r0075b_regimg3.fits', 'acisfJ1002499p020946_001N031_r0034b_regimg3.fits', 'acisfJ1201527m185305_001N028_r0303b_regimg3.jpg.gz', 'acisfJ1000026p023344_001N031_r0001b_regimg3.fits', 'acisfJ1000482p015447_001N030_r0033b_regimg3.fits', 'acisfJ0958597p021353_001N029_r0053b_regimg3.fits', 'acisfJ1001292p015934_001N031_r0183b_regimg3.fits', 'acisfJ0959071p015528_001N031_r0131b_regimg3.jpg.gz', 'acisfJ1001397p023235_001N031_r0064b_regimg3.jpg.gz', 'acisfJ1120012p064141_001N020_r0055b_regimg3.jpg.gz', 'acisfJ1201527m185305_001N028_r0126b_regimg3.jpg.gz', 'acisfJ1000395p023823_001N031_r0156b_regimg3.fits', 'acisfJ1000181p015731_001N031_r0079b_regimg3.jpg.gz', 'acisfJ1001511p021436_001N031_r0186b_regimg3.fits', 'acisfJ1000482p015447_001N030_r0033b_regimg3.jpg.gz', 'acisfJ1001511p021436_001N029_r0191b_regimg3.fits', 'acisfJ0958597p021353_001N031_r0187b_regimg3.jpg.gz', 'acisfJ1001511p021436_001N031_r0256b_regimg3.jpg.gz', 'acisfJ1000181p015731_001N030_r0179b_regimg3.fits', 'acisfJ1420280p530201_001N022_r0088b_regimg3.jpg.gz', 'acisfJ1001027p022815_001N029_r0086b_regimg3.fits', 'acisfJ1000181p015731_001N030_r0186b_regimg3.jpg.gz', 'acisfJ0959297p021110_001N029_r0159b_regimg3.fits', 'acisfJ1000217p022329_001N029_r0029b_regimg3.fits', 'acisfJ0957482p023714_001N029_r0002b_regimg3.fits', 'acisfJ1148186p525155_001N020_r0004b_regimg3.jpg.gz', 'acisfJ1000482p015447_001N031_r0026b_regimg3.jpg.gz', 'acisfJ1000510p022004_001N031_r0268b_regimg3.jpg.gz', 'acisfJ0958479p020543_001N031_r0094b_regimg3.jpg.gz', 'acisfJ1420147p530007_001N030_r0535b_regimg3.fits', 'acisfJ0959481p020015_001N030_r0251b_regimg3.jpg.gz', 'acisfJ1002019p022207_001N031_r0176b_regimg3.jpg.gz', 'acisfJ1206357m074212_001N026_r0038b_regimg3.fits', 'acisfJ1420280p530201_001N022_r0046b_regimg3.jpg.gz', 'acisfJ1201527m185305_001N021_r0135b_regimg3.jpg.gz', 'acisfJ1000327p023059_001N021_r0194b_regimg3.jpg.gz', 'acisfJ0958370p015812_001N021_r0035b_regimg3.jpg.gz', 'acisfJ1419131p524818_001N023_r0442b_regimg3.jpg.gz', 'acisfJ1201527m185305_001N028_r0110b_regimg3.jpg.gz', 'acisfJ1001511p021436_001N031_r0014b_regimg3.jpg.gz', 'acisfJ1001027p022815_001N029_r0163b_regimg3.fits', 'acisfJ1149341p222725_002N027_r0004b_regimg3.fits', 'acisfJ1000510p022004_001N029_r0178b_regimg3.fits', 'acisfJ1002019p022207_001N031_r0035b_regimg3.fits', 'acisfJ1420280p530201_001N030_r0081b_regimg3.fits', 'acisfJ0959371p015244_001N031_r0230b_regimg3.jpg.gz', 'acisfJ1002019p022207_001N029_r0230b_regimg3.fits', 'acisfJ1000026p023344_001N031_r0298b_regimg3.jpg.gz', 'acisfJ0959509p022532_001N031_r0078b_regimg3.jpg.gz', 'acisfJ1002384p020202_001N029_r0119b_regimg3.fits', 'acisfJ0959481p020015_001N030_r0210b_regimg3.fits', 'acisfJ0959371p015244_001N021_r0205b_regimg3.jpg.gz', 'acisfJ1000592p020218_001N030_r0199b_regimg3.jpg.gz', 'acisfJ0958092p020103_001N029_r0041b_regimg3.fits', 'acisfJ1000277p013951_001N031_r0050b_regimg3.jpg.gz', 'acisfJ1420280p530201_001N022_r0176b_regimg3.jpg.gz', 'acisfJ1000510p022004_001N031_r0287b_regimg3.jpg.gz', 'acisfJ1420147p530007_001N023_r0153b_regimg3.jpg.gz', 'acisfJ1002384p020202_001N029_r0026b_regimg3.fits', 'acisfJ0958597p021353_001N021_r0182b_regimg3.jpg.gz', 'acisfJ1457012p243701_001N020_r0033b_regimg3.jpg.gz', 'acisfJ1000026p023344_001N021_r0210b_regimg3.jpg.gz', 'acisfJ1420280p530201_001N022_r0061b_regimg3.jpg.gz', 'acisfJ0958370p015812_001N031_r0032b_regimg3.jpg.gz', 'acisfJ1001511p021436_001N031_r0025b_regimg3.jpg.gz', 'acisfJ1000592p020218_001N030_r0049b_regimg3.jpg.gz', 'acisfJ1000181p015731_001N030_r0226b_regimg3.jpg.gz', 'acisfJ1001027p022815_001N021_r0165b_regimg3.jpg.gz', 'acisfJ1000181p015731_001N030_r0186b_regimg3.fits', 'acisfJ0959481p020015_001N031_r0265b_regimg3.jpg.gz', 'acisfJ1000026p023344_001N031_r0012b_regimg3.fits', 'acisfJ1149288p222105_001N021_r0076b_regimg3.jpg.gz', 'acisfJ0958479p020543_001N031_r0223b_regimg3.jpg.gz', 'acisfJ1001211p021720_001N029_r0039b_regimg3.fits', 'acisfJ1000277p013951_001N031_r0054b_regimg3.jpg.gz', 'acisfJ1001183p015203_001N030_r0208b_regimg3.jpg.gz', 'acisfJ1001211p021720_001N029_r0120b_regimg3.fits', 'acisfJ1000217p022329_001N031_r0035b_regimg3.fits', 'acisfJ1000217p022329_001N021_r0218b_regimg3.jpg.gz', 'acisfJ1000277p013951_001N031_r0157b_regimg3.fits', 'acisfJ1000395p023823_001N029_r0068b_regimg3.fits', 'acisfJ1000482p015447_001N031_r0038b_regimg3.fits', 'acisfJ1002222p021159_001N031_r0140b_regimg3.fits', 'acisfJ1148186p525155_001N020_r0009b_regimg3.fits', 'acisfJ1000181p015731_001N031_r0082b_regimg3.jpg.gz', 'acisfJ1030285p052522_002N020_r0195b_regimg3.fits', 'acisfJ1001072p014432_001N031_r0024b_regimg3.jpg.gz', 'acisfJ1420280p530201_001N022_r0064b_regimg3.jpg.gz', 'acisfJ1001027p022815_001N031_r0181b_regimg3.jpg.gz', 'acisfJ0958597p021353_001N031_r0214b_regimg3.jpg.gz', 'acisfJ1000395p023823_001N031_r0067b_regimg3.fits', 'acisfJ0959481p020015_001N030_r0214b_regimg3.jpg.gz', 'acisfJ0958306p021622_001N021_r0016b_regimg3.jpg.gz', 'acisfJ0959071p015528_001N031_r0133b_regimg3.fits', 'acisfJ1001402p020705_001N031_r0301b_regimg3.fits', 'acisfJ1000482p015447_001N030_r0099b_regimg3.jpg.gz', 'acisfJ1000109p024058_001N029_r0156b_regimg3.fits', 'acisfJ1000181p015731_001N031_r0249b_regimg3.fits', 'acisfJ1000072p015000_001N021_r0070b_regimg3.jpg.gz', 'acisfJ1420280p530201_001N022_r0087b_regimg3.jpg.gz', 'acisfJ0958203p020845_001N021_r0047b_regimg3.jpg.gz', 'acisfJ1000327p023059_001N031_r0289b_regimg3.jpg.gz', 'acisfJ0959180p020259_001N021_r0232b_regimg3.jpg.gz', 'acisfJ1000026p023344_001N021_r0212b_regimg3.jpg.gz', 'acisfJ1420147p530007_001N030_r0525b_regimg3.fits', 'acisfJ0958370p022359_001N021_r0128b_regimg3.jpg.gz', 'acisfJ0957597p021843_001N031_r0091b_regimg3.jpg.gz', 'acisfJ1245445p032358_001N020_r0085b_regimg3.jpg.gz', 'acisfJ1000181p015731_001N031_r0207b_regimg3.fits', 'acisfJ0958203p020845_001N031_r0070b_regimg3.fits', 'acisfJ1001183p015203_001N031_r0152b_regimg3.jpg.gz', 'acisfJ1148186p525155_001N020_r0067b_regimg3.jpg.gz', 'acisfJ1000482p015447_001N031_r0224b_regimg3.jpg.gz', 'acisfJ1000482p015447_001N031_r0223b_regimg3.jpg.gz', 'acisfJ1002222p021159_001N031_r0032b_regimg3.jpg.gz', 'acisfJ1000299p020542_001N031_r0103b_regimg3.fits', 'acisfJ1201527m185305_001N028_r0388b_regimg3.jpg.gz', 'acisfJ1000482p015447_001N031_r0055b_regimg3.jpg.gz', 'acisfJ1420147p530007_001N023_r0141b_regimg3.jpg.gz', 'acisfJ1000395p023823_001N031_r0053b_regimg3.fits', 'acisfJ1002019p022207_001N029_r0162b_regimg3.fits', 'acisfJ1003079p015931_001N029_r0069b_regimg3.fits', 'acisfJ0959481p020015_001N030_r0212b_regimg3.fits', 'acisfJ1000026p023344_001N029_r0221b_regimg3.fits', 'acisfJ1002222p021159_001N031_r0032b_regimg3.fits', 'acisfJ1149288p222105_001N026_r0032b_regimg3.fits', 'acisfJ1000482p015447_001N031_r0026b_regimg3.fits', 'acisfJ0959297p021110_001N029_r0162b_regimg3.fits', 'acisfJ1000373p014716_001N031_r0012b_regimg3.fits', 'acisfJ1001328p022531_001N029_r0243b_regimg3.fits', 'acisfJ1000327p023059_001N029_r0018b_regimg3.fits', 'acisfJ0958479p020543_001N031_r0237b_regimg3.fits', 'acisfJ1001101p020949_001N031_r0246b_regimg3.jpg.gz', 'acisfJ0959371p015244_001N031_r0219b_regimg3.fits', 'acisfJ1000408p021313_001N031_r0283b_regimg3.jpg.gz', 'acisfJ1419131p524818_001N023_r0440b_regimg3.jpg.gz', 'acisfJ1201527m185305_001N028_r0493b_regimg3.fits', 'acisfJ1000510p022004_001N029_r0177b_regimg3.fits', 'acisfJ1420147p530007_001N023_r0127b_regimg3.jpg.gz', 'acisfJ1000408p021313_001N031_r0283b_regimg3.fits', 'acisfJ0959297p021110_001N031_r0168b_regimg3.jpg.gz', 'acisfJ1201527m185305_001N028_r0125b_regimg3.fits', 'acisfJ1002384p020202_001N021_r0132b_regimg3.jpg.gz', 'acisfJ1236516p621303_001N021_r0258b_regimg3.jpg.gz', 'acisfJ1001183p015203_001N030_r0217b_regimg3.fits', 'acisfJ1002222p021159_001N021_r0159b_regimg3.jpg.gz', 'acisfJ1000217p022329_001N031_r0271b_regimg3.fits', 'acisfJ1001101p020949_001N030_r0004b_regimg3.fits', 'acisfJ1000482p015447_001N030_r0069b_regimg3.fits', 'acisfJ1000109p024058_001N029_r0040b_regimg3.fits', 'acisfJ1001183p015203_001N030_r0062b_regimg3.jpg.gz', 'acisfJ0958203p020845_001N031_r0043b_regimg3.fits', 'acisfJ1001402p020705_001N031_r0253b_regimg3.jpg.gz', 'acisfJ0958479p020543_001N021_r0015b_regimg3.jpg.gz', 'acisfJ1201548m185204_002N028_r0103b_regimg3.fits', 'acisfJ1001183p015203_001N031_r0018b_regimg3.fits', 'acisfJ1001397p023235_001N029_r0074b_regimg3.fits', 'acisfJ1201527m185305_001N027_r0135b_regimg3.fits', 'acisfJ1002384p020202_001N031_r0056b_regimg3.fits', 'acisfJ1001292p015934_001N031_r0079b_regimg3.jpg.gz', 'acisfJ0958597p021353_001N029_r0009b_regimg3.fits', 'acisfJ1030266p052411_001N020_r0178b_regimg3.fits', 'acisfJ1000327p023059_001N021_r0021b_regimg3.jpg.gz', 'acisfJ1002222p021159_001N031_r0140b_regimg3.jpg.gz', 'acisfJ1001072p014432_001N031_r0149b_regimg3.jpg.gz', 'acisfJ1002019p022207_001N031_r0177b_regimg3.jpg.gz', 'acisfJ0959180p020259_001N031_r0167b_regimg3.jpg.gz', 'acisfJ0958479p020543_001N031_r0191b_regimg3.fits', 'acisfJ1000109p024058_001N021_r0169b_regimg3.jpg.gz', 'acisfJ1001292p015934_001N030_r0247b_regimg3.jpg.gz', 'acisfJ1000299p020542_001N030_r0311b_regimg3.fits', 'acisfJ0958203p020845_001N031_r0098b_regimg3.jpg.gz', 'acisfJ1002384p020202_001N029_r0029b_regimg3.fits', 'acisfJ1000072p015000_001N029_r0005b_regimg3.fits', 'acisfJ0958306p021622_001N031_r0059b_regimg3.jpg.gz', 'acisfJ1001211p021720_001N029_r0281b_regimg3.fits', 'acisfJ1000592p020218_001N030_r0099b_regimg3.fits', 'acisfJ1420280p530201_001N022_r0079b_regimg3.jpg.gz', 'acisfJ1000592p020218_001N030_r0092b_regimg3.fits', 'acisfJ1001328p022531_001N029_r0253b_regimg3.fits', 'acisfJ1420280p530201_001N030_r0064b_regimg3.fits', 'acisfJ1001183p015203_001N031_r0057b_regimg3.jpg.gz', 'acisfJ1001101p020949_001N030_r0248b_regimg3.fits', 'acisfJ0957482p023714_001N021_r0002b_regimg3.jpg.gz', 'acisfJ0959481p020015_001N031_r0069b_regimg3.fits', 'acisfJ1000277p013951_001N021_r0123b_regimg3.jpg.gz', 'acisfJ1001211p021720_001N029_r0073b_regimg3.fits', 'acisfJ1420280p530201_001N030_r0089b_regimg3.fits', 'acisfJ1001511p021436_001N031_r0260b_regimg3.jpg.gz', 'acisfJ1000277p013951_001N031_r0158b_regimg3.jpg.gz', 'acisfJ1000277p013951_001N031_r0162b_regimg3.fits', 'acisfJ1420147p530007_001N023_r0134b_regimg3.jpg.gz', 'acisfJ1000373p014716_001N029_r0023b_regimg3.fits', 'acisfJ1002343p021933_001N030_r0160b_regimg3.jpg.gz', 'acisfJ0959481p020015_001N030_r0154b_regimg3.fits', 'acisfJ1000592p020218_001N030_r0002b_regimg3.fits', 'acisfJ1000299p020542_001N030_r0309b_regimg3.jpg.gz', 'acisfJ1001328p022531_001N029_r0173b_regimg3.fits', 'acisfJ1001397p023235_001N029_r0166b_regimg3.fits', 'acisfJ1146116p202412_001N020_r0012b_regimg3.jpg.gz', 'acisfJ1030285p052522_002N020_r0085b_regimg3.jpg.gz', 'acisfJ1000181p015731_001N030_r0177b_regimg3.fits', 'acisfJ1001511p021436_001N029_r0206b_regimg3.fits', 'acisfJ0959599p014221_001N021_r0124b_regimg3.jpg.gz', 'acisfJ1000327p023059_001N031_r0310b_regimg3.jpg.gz', 'acisfJ1420280p530201_001N030_r0068b_regimg3.fits', 'acisfJ0958306p021622_001N029_r0091b_regimg3.fits', 'acisfJ0958479p020543_001N031_r0234b_regimg3.fits', 'acisfJ1001292p015934_001N031_r0079b_regimg3.fits', 'acisfJ0958203p020845_001N021_r0010b_regimg3.jpg.gz', 'acisfJ1420147p530007_001N030_r0163b_regimg3.fits', 'acisfJ1030285p052522_002N020_r0195b_regimg3.jpg.gz', 'acisfJ1000181p015731_001N031_r0173b_regimg3.jpg.gz', 'acisfJ1000592p020218_001N030_r0248b_regimg3.jpg.gz', 'acisfJ1120012p064141_001N020_r0002b_regimg3.jpg.gz', 'acisfJ1000299p020542_001N030_r0244b_regimg3.jpg.gz', 'acisfJ1002499p020946_001N031_r0138b_regimg3.jpg.gz', 'acisfJ1000109p024058_001N031_r0004b_regimg3.fits', 'acisfJ1237038p621303_001N020_r0337b_regimg3.jpg.gz', 'acisfJ0958597p021353_001N031_r0190b_regimg3.fits', 'acisfJ1000217p022329_001N031_r0096b_regimg3.fits', 'acisfJ0958306p021622_001N031_r0085b_regimg3.fits', 'acisfJ1420147p530007_001N030_r0144b_regimg3.fits', 'acisfJ1120012p064141_001N020_r0031b_regimg3.jpg.gz', 'acisfJ1000395p023823_001N021_r0121b_regimg3.jpg.gz', 'acisfJ1000592p020218_001N030_r0106b_regimg3.fits', 'acisfJ1000373p014716_001N031_r0066b_regimg3.fits', 'acisfJ1002222p021159_001N030_r0179b_regimg3.jpg.gz', 'acisfJ0958203p020845_001N031_r0030b_regimg3.jpg.gz', 'acisfJ1420147p530007_001N030_r0126b_regimg3.fits', 'acisfJ1000589p013718_001N031_r0133b_regimg3.fits', 'acisfJ1001328p022531_001N031_r0257b_regimg3.jpg.gz', 'acisfJ1148186p525155_001N020_r0009b_regimg3.jpg.gz', 'acisfJ1148186p525155_001N020_r0001b_regimg3.jpg.gz', 'acisfJ1000072p015000_001N031_r0206b_regimg3.fits', 'acisfJ1000217p022329_001N031_r0216b_regimg3.jpg.gz', 'acisfJ1000482p015447_001N031_r0059b_regimg3.fits', 'acisfJ1000109p024058_001N031_r0153b_regimg3.fits', 'acisfJ1001511p021436_001N029_r0165b_regimg3.fits', 'acisfJ1002106p022956_001N031_r0090b_regimg3.jpg.gz', 'acisfJ1411578m030714_001N021_r0010b_regimg3.jpg.gz', 'acisfJ1149341p222725_002N020_r0131b_regimg3.fits', 'acisfJ0958479p020543_001N029_r0010b_regimg3.fits', 'acisfJ1420280p530201_001N022_r0053b_regimg3.jpg.gz', 'acisfJ1000327p023059_001N021_r0004b_regimg3.jpg.gz', 'acisfJ1002499p020946_001N021_r0126b_regimg3.jpg.gz', 'acisfJ1000408p021313_001N029_r0213b_regimg3.fits', 'acisfJ1001328p022531_001N021_r0023b_regimg3.jpg.gz', 'acisfJ1001328p022531_001N021_r0202b_regimg3.jpg.gz', 'acisfJ1001328p022531_001N021_r0170b_regimg3.jpg.gz', 'acisfJ1002019p022207_001N031_r0200b_regimg3.jpg.gz', 'acisfJ1000277p013951_001N031_r0040b_regimg3.jpg.gz', 'acisfJ0959481p020015_001N021_r0191b_regimg3.jpg.gz', 'acisfJ1000327p023059_001N031_r0236b_regimg3.jpg.gz', 'acisfJ1420280p530201_001N022_r0479b_regimg3.jpg.gz', 'acisfJ1000592p020218_001N031_r0107b_regimg3.fits', 'acisfJ1420280p530201_001N030_r0094b_regimg3.fits', 'acisfJ1212049p273400_001N026_r0023b_regimg3.fits', 'acisfJ1000592p020218_001N030_r0069b_regimg3.jpg.gz', 'acisfJ1000373p014716_001N031_r0182b_regimg3.fits', 'acisfJ0958479p020543_001N031_r0175b_regimg3.fits', 'acisfJ1000327p023059_001N031_r0017b_regimg3.jpg.gz', 'acisfJ1000217p022329_001N021_r0087b_regimg3.jpg.gz', 'acisfJ1230570p121615_001N036_r0272b_regimg3.fits', 'acisfJ1000395p023823_001N031_r0109b_regimg3.fits', 'acisfJ1001511p021436_001N029_r0041b_regimg3.fits', 'acisfJ1002019p022207_001N031_r0234b_regimg3.fits', 'acisfJ1002384p020202_001N031_r0044b_regimg3.fits', 'acisfJ0958479p020543_001N029_r0017b_regimg3.fits', 'acisfJ1001513p014945_001N031_r0101b_regimg3.fits', 'acisfJ1001402p020705_001N021_r0250b_regimg3.jpg.gz', 'acisfJ1000327p023059_001N029_r0207b_regimg3.fits', 'acisfJ1000327p023059_001N021_r0066b_regimg3.jpg.gz', 'acisfJ1001511p021436_001N031_r0216b_regimg3.fits', 'acisfJ0958092p020103_001N031_r0029b_regimg3.jpg.gz', 'acisfJ1000592p020218_001N030_r0005b_regimg3.fits', 'acisfJ0959481p020015_001N030_r0209b_regimg3.fits', 'acisfJ0959371p015244_001N031_r0170b_regimg3.jpg.gz', 'acisfJ0957482p023714_001N021_r0065b_regimg3.jpg.gz', 'acisfJ1001511p021436_001N031_r0050b_regimg3.fits', 'acisfJ1000109p024058_001N021_r0104b_regimg3.jpg.gz', 'acisfJ1000277p013951_001N031_r0157b_regimg3.jpg.gz', 'acisfJ1000327p023059_001N021_r0209b_regimg3.jpg.gz', 'acisfJ1030285p052522_002N020_r0116b_regimg3.fits', 'acisfJ1000026p023344_001N021_r0060b_regimg3.jpg.gz', 'acisfJ1002499p020946_001N029_r0123b_regimg3.fits', 'acisfJ0959481p020015_001N030_r0252b_regimg3.fits', 'acisfJ1120012p064141_001N026_r0042b_regimg3.fits', 'acisfJ1000026p023344_001N031_r0012b_regimg3.jpg.gz', 'acisfJ1201548m185204_002N028_r0217b_regimg3.jpg.gz', 'acisfJ1001072p014432_001N031_r0018b_regimg3.fits', 'acisfJ1201548m185204_002N028_r0153b_regimg3.fits', 'acisfJ1001328p022531_001N021_r0067b_regimg3.jpg.gz', 'acisfJ1001292p015934_001N031_r0196b_regimg3.jpg.gz', 'acisfJ1148186p525155_001N020_r0001b_regimg3.fits', 'acisfJ1149288p222105_001N026_r0076b_regimg3.fits', 'acisfJ1000482p015447_001N030_r0169b_regimg3.fits', 'acisfJ1001328p022531_001N029_r0250b_regimg3.fits', 'acisfJ0958479p020543_001N029_r0019b_regimg3.fits', 'acisfJ1000395p023823_001N021_r0112b_regimg3.jpg.gz', 'acisfJ1000217p022329_001N029_r0057b_regimg3.fits', 'acisfJ1030285p052522_002N020_r0185b_regimg3.fits', 'acisfJ1420147p530007_001N023_r0156b_regimg3.jpg.gz', 'acisfJ1420147p530007_001N023_r0229b_regimg3.jpg.gz', 'acisfJ1000217p022329_001N021_r0029b_regimg3.jpg.gz', 'acisfJ0957597p021843_001N021_r0007b_regimg3.jpg.gz', 'acisfJ1149288p222105_001N021_r0032b_regimg3.jpg.gz', 'acisfJ1000327p023059_001N029_r0208b_regimg3.fits', 'acisfJ1206160m084601_001N026_r0052b_regimg3.fits', 'acisfJ1002222p021159_001N031_r0056b_regimg3.jpg.gz', 'acisfJ1000510p022004_001N031_r0179b_regimg3.jpg.gz', 'acisfJ1000217p022329_001N021_r0214b_regimg3.jpg.gz', 'acisfJ1000181p015731_001N030_r0093b_regimg3.jpg.gz', 'acisfJ0957597p021843_001N029_r0007b_regimg3.fits', 'acisfJ1001027p022815_001N031_r0176b_regimg3.jpg.gz', 'acisfJ1001211p021720_001N031_r0071b_regimg3.jpg.gz', 'acisfJ1001328p022531_001N021_r0029b_regimg3.jpg.gz', 'acisfJ0959371p015244_001N029_r0205b_regimg3.fits', 'acisfJ1000510p022004_001N029_r0047b_regimg3.fits', 'acisfJ0958306p021622_001N021_r0009b_regimg3.jpg.gz', 'acisfJ0958370p015812_001N031_r0057b_regimg3.fits', 'acisfJ1002222p021159_001N031_r0046b_regimg3.jpg.gz', 'acisfJ0959481p020015_001N031_r0255b_regimg3.jpg.gz', 'acisfJ1000482p015447_001N030_r0069b_regimg3.jpg.gz', 'acisfJ0958370p015812_001N029_r0035b_regimg3.fits', 'acisfJ1001328p022531_001N031_r0005b_regimg3.jpg.gz', 'acisfJ0959299m224911_001N020_r0015b_regimg3.fits', 'acisfJ1000408p021313_001N030_r0231b_regimg3.fits', 'acisfJ0958306p021622_001N031_r0058b_regimg3.jpg.gz', 'acisfJ1237038p621303_001N026_r0427b_regimg3.fits', 'acisfJ1000589p013718_001N031_r0028b_regimg3.jpg.gz', 'acisfJ1001402p020705_001N031_r0288b_regimg3.fits', 'acisfJ1420147p530007_001N030_r0125b_regimg3.fits', 'acisfJ0959297p021110_001N021_r0162b_regimg3.jpg.gz', 'acisfJ1000592p020218_001N031_r0239b_regimg3.jpg.gz', 'acisfJ1149288p222105_001N027_r0038b_regimg3.jpg.gz', 'acisfJ1201548m185204_002N028_r0240b_regimg3.fits', 'acisfJ1000395p023823_001N021_r0050b_regimg3.jpg.gz', 'acisfJ1002222p021159_001N029_r0157b_regimg3.fits', 'acisfJ1236516p621303_001N020_r0001b_regimg3.jpg.gz', 'acisfJ1001183p015203_001N030_r0145b_regimg3.fits', 'acisfJ0959481p020015_001N030_r0261b_regimg3.jpg.gz', 'acisfJ1420280p530201_001N022_r0447b_regimg3.jpg.gz', 'acisfJ1420147p530007_001N023_r0200b_regimg3.jpg.gz', 'acisfJ1420280p530201_001N022_r0090b_regimg3.jpg.gz', 'acisfJ1000510p022004_001N031_r0255b_regimg3.jpg.gz', 'acisfJ1000181p015731_001N031_r0252b_regimg3.fits', 'acisfJ1001328p022531_001N029_r0013b_regimg3.fits', 'acisfJ1149341p222725_002N027_r0002b_regimg3.fits', 'acisfJ1000026p023344_001N031_r0285b_regimg3.fits', 'acisfJ1131517m123158_002N029_r0057b_regimg3.jpg.gz', 'acisfJ1000217p022329_001N031_r0031b_regimg3.jpg.gz', 'acisfJ1001072p014432_001N031_r0016b_regimg3.jpg.gz', 'acisfJ1148186p525155_001N020_r0062b_regimg3.fits', 'acisfJ0958370p015812_001N021_r0047b_regimg3.jpg.gz', 'acisfJ1001292p015934_001N030_r0124b_regimg3.fits', 'acisfJ1148186p525155_001N020_r0014b_regimg3.fits', 'acisfJ1000277p013951_001N031_r0064b_regimg3.jpg.gz', 'acisfJ1201548m185204_002N028_r0383b_regimg3.jpg.gz', 'acisfJ1000510p022004_001N031_r0217b_regimg3.jpg.gz', 'acisfJ1000327p023059_001N021_r0098b_regimg3.jpg.gz', 'acisfJ1000109p024058_001N031_r0189b_regimg3.fits', 'acisfJ1000072p015000_001N029_r0029b_regimg3.fits', 'acisfJ1000026p023344_001N031_r0209b_regimg3.fits', 'acisfJ1420280p530201_001N030_r0230b_regimg3.fits', 'acisfJ1030285p052522_002N020_r0093b_regimg3.jpg.gz', 'acisfJ0958306p021622_001N031_r0005b_regimg3.fits', 'acisfJ1148186p525155_001N020_r0006b_regimg3.fits', 'acisfJ1000217p022329_001N031_r0266b_regimg3.jpg.gz', 'acisfJ1148186p525155_001N020_r0006b_regimg3.jpg.gz', 'acisfJ1420280p530201_001N022_r0098b_regimg3.jpg.gz', 'acisfJ1338245m194258_001N021_r0118b_regimg3.jpg.gz', 'acisfJ0958370p022359_001N029_r0128b_regimg3.fits', 'acisfJ1000109p024058_001N029_r0170b_regimg3.fits', 'acisfJ1002019p022207_001N031_r0177b_regimg3.fits', 'acisfJ1001183p015203_001N031_r0018b_regimg3.jpg.gz', 'acisfJ1001402p020705_001N031_r0292b_regimg3.fits', 'acisfJ0958597p021353_001N031_r0268b_regimg3.fits', 'acisfJ1030266p052411_001N020_r0114b_regimg3.jpg.gz', 'acisfJ1421328p531328_001N022_r0357b_regimg3.jpg.gz', 'acisfJ1000373p014716_001N031_r0041b_regimg3.jpg.gz', 'acisfJ1001101p020949_001N031_r0247b_regimg3.fits', 'acisfJ1001072p014432_001N031_r0082b_regimg3.jpg.gz', 'acisfJ1001511p021436_001N029_r0238b_regimg3.fits', 'acisfJ1001183p015203_001N031_r0203b_regimg3.jpg.gz', 'acisfJ1000592p020218_001N030_r0018b_regimg3.fits', 'acisfJ1000217p022329_001N029_r0205b_regimg3.fits', 'acisfJ1421328p531328_001N030_r0300b_regimg3.fits', 'acisfJ1000373p014716_001N031_r0236b_regimg3.fits', 'acisfJ1000277p013951_001N031_r0139b_regimg3.jpg.gz', 'acisfJ1000482p015447_001N030_r0024b_regimg3.fits', 'acisfJ0959599p014221_001N031_r0156b_regimg3.fits', 'acisfJ1149288p222105_001N027_r0053b_regimg3.fits', 'acisfJ1000592p020218_001N030_r0012b_regimg3.fits', 'acisfJ1001027p022815_001N029_r0103b_regimg3.fits', 'acisfJ1001072p014432_001N031_r0022b_regimg3.fits', 'acisfJ1001072p014432_001N031_r0018b_regimg3.jpg.gz', 'acisfJ1000482p015447_001N031_r0072b_regimg3.jpg.gz', 'acisfJ0959297p021110_001N021_r0088b_regimg3.jpg.gz', 'acisfJ1002019p022207_001N029_r0167b_regimg3.fits', 'acisfJ1002019p022207_001N031_r0250b_regimg3.fits', 'acisfJ1000327p023059_001N031_r0067b_regimg3.jpg.gz', 'acisfJ1000217p022329_001N021_r0219b_regimg3.jpg.gz', 'acisfJ1420280p530201_001N030_r0233b_regimg3.fits', 'acisfJ1001292p015934_001N030_r0158b_regimg3.jpg.gz', 'acisfJ1001027p022815_001N031_r0238b_regimg3.fits', 'acisfJ1000327p023059_001N021_r0108b_regimg3.jpg.gz', 'acisfJ1420147p530007_001N023_r0107b_regimg3.jpg.gz', 'acisfJ0958306p021622_001N031_r0059b_regimg3.fits', 'acisfJ1000408p021313_001N030_r0092b_regimg3.jpg.gz', 'acisfJ1000217p022329_001N029_r0030b_regimg3.fits', 'acisfJ1230504p122408_001N036_r0721b_regimg3.fits', 'acisfJ0959071p015528_001N021_r0177b_regimg3.jpg.gz', 'acisfJ1421328p531328_001N030_r0357b_regimg3.fits', 'acisfJ1420147p530007_001N030_r0366b_regimg3.fits', 'acisfJ1000592p020218_001N030_r0084b_regimg3.fits', 'acisfJ0958370p015812_001N031_r0057b_regimg3.jpg.gz', 'acisfJ0959371p015244_001N031_r0229b_regimg3.jpg.gz', 'acisfJ1000181p015731_001N031_r0037b_regimg3.fits', 'acisfJ1000395p023823_001N031_r0053b_regimg3.jpg.gz', 'acisfJ0959180p020259_001N029_r0231b_regimg3.fits', 'acisfJ1001109p023517_001N021_r0169b_regimg3.jpg.gz', 'acisfJ1000592p020218_001N030_r0052b_regimg3.fits', 'acisfJ1000181p015731_001N030_r0139b_regimg3.fits', 'acisfJ0958597p021353_001N031_r0265b_regimg3.fits', 'acisfJ1001292p015934_001N030_r0250b_regimg3.jpg.gz', 'acisfJ1030285p052522_002N020_r0206b_regimg3.jpg.gz', 'acisfJ0959599p014221_001N031_r0156b_regimg3.jpg.gz', 'acisfJ1001183p015203_001N030_r0055b_regimg3.jpg.gz', 'acisfJ1131551m123229_001N029_r0065b_regimg3.fits', 'acisfJ1000217p022329_001N031_r0035b_regimg3.jpg.gz', 'acisfJ1000482p015447_001N031_r0062b_regimg3.jpg.gz', 'acisfJ1001511p021436_001N031_r0211b_regimg3.jpg.gz', 'acisfJ0957597p021843_001N031_r0087b_regimg3.jpg.gz', 'acisfJ1002499p020946_001N031_r0046b_regimg3.jpg.gz', 'acisfJ1421328p531328_001N030_r0291b_regimg3.fits', 'acisfJ1230473p122258_002N036_r1756b_regimg3.fits', 'acisfJ0959599p014221_001N021_r0126b_regimg3.jpg.gz', 'acisfJ1030266p052411_001N020_r0080b_regimg3.fits', 'acisfJ0958370p015812_001N031_r0169b_regimg3.jpg.gz', 'acisfJ1000510p022004_001N029_r0270b_regimg3.fits', 'acisfJ1000277p013951_001N031_r0040b_regimg3.fits', 'acisfJ1001292p015934_001N030_r0025b_regimg3.jpg.gz', 'acisfJ1000327p023059_001N029_r0024b_regimg3.fits', 'acisfJ0959180p020259_001N031_r0271b_regimg3.fits', 'acisfJ1000592p020218_001N030_r0112b_regimg3.fits', 'acisfJ0958479p020543_001N029_r0018b_regimg3.fits', 'acisfJ1236516p621303_001N020_r0391b_regimg3.jpg.gz', 'acisfJ1001292p015934_001N030_r0003b_regimg3.fits', 'acisfJ1421328p531328_001N022_r0303b_regimg3.jpg.gz', 'acisfJ1000109p024058_001N031_r0003b_regimg3.fits', 'acisfJ1000181p015731_001N031_r0079b_regimg3.fits', 'acisfJ0958597p021353_001N029_r0174b_regimg3.fits', 'acisfJ1000482p015447_001N030_r0090b_regimg3.fits', 'acisfJ1002222p021159_001N029_r0066b_regimg3.fits', 'acisfJ1000395p023823_001N031_r0156b_regimg3.jpg.gz', 'acisfJ0958203p020845_001N021_r0061b_regimg3.jpg.gz', 'acisfJ1201527m185305_001N028_r0333b_regimg3.fits', 'acisfJ1120012p064141_001N026_r0026b_regimg3.fits', 'acisfJ1000482p015447_001N030_r0172b_regimg3.jpg.gz', 'acisfJ1420280p530201_001N030_r0101b_regimg3.fits', 'acisfJ0959509p022532_001N021_r0141b_regimg3.jpg.gz', 'acisfJ1420280p530201_001N022_r0096b_regimg3.jpg.gz', 'acisfJ0958203p020845_001N029_r0154b_regimg3.fits', 'acisfJ1001292p015934_001N030_r0251b_regimg3.jpg.gz', 'acisfJ1000482p015447_001N030_r0226b_regimg3.fits', 'acisfJ0959297p021110_001N031_r0268b_regimg3.fits', 'acisfJ0959509p022532_001N029_r0226b_regimg3.fits', 'acisfJ0959180p020259_001N029_r0232b_regimg3.fits', 'acisfJ1148186p525155_001N020_r0060b_regimg3.fits', 'acisfJ1001397p023235_001N029_r0137b_regimg3.fits', 'acisfJ1000109p024058_001N031_r0078b_regimg3.jpg.gz', 'acisfJ0958203p020845_001N031_r0189b_regimg3.jpg.gz', 'acisfJ1000510p022004_001N031_r0251b_regimg3.jpg.gz', 'acisfJ0958370p015812_001N029_r0074b_regimg3.fits', 'acisfJ1201527m185305_001N028_r0133b_regimg3.jpg.gz', 'acisfJ1002123p020448_001N031_r0200b_regimg3.jpg.gz', 'acisfJ1000327p023059_001N029_r0021b_regimg3.fits', 'acisfJ1000109p024058_001N031_r0078b_regimg3.fits', 'acisfJ1002019p022207_001N021_r0018b_regimg3.jpg.gz', 'acisfJ1201527m185305_001N028_r0129b_regimg3.jpg.gz', 'acisfJ1000277p013951_001N031_r0162b_regimg3.jpg.gz', 'acisfJ1000395p023823_001N029_r0033b_regimg3.fits', 'acisfJ1236516p621303_001N026_r0004b_regimg3.fits', 'acisfJ1001402p020705_001N030_r0185b_regimg3.jpg.gz', 'acisfJ0959481p020015_001N031_r0254b_regimg3.fits', 'acisfJ1002222p021159_001N021_r0157b_regimg3.jpg.gz', 'acisfJ1002384p020202_001N029_r0022b_regimg3.fits', 'acisfJ1001072p014432_001N031_r0054b_regimg3.jpg.gz', 'acisfJ0958479p020543_001N021_r0007b_regimg3.jpg.gz', 'acisfJ1000299p020542_001N031_r0009b_regimg3.jpg.gz', 'acisfJ1001511p021436_001N031_r0211b_regimg3.fits', 'acisfJ1000072p015000_001N031_r0084b_regimg3.jpg.gz', 'acisfJ1149341p222725_002N027_r0055b_regimg3.fits', 'acisfJ1000181p015731_001N031_r0224b_regimg3.jpg.gz', 'acisfJ0959297p021110_001N031_r0255b_regimg3.jpg.gz', 'acisfJ0958203p020845_001N021_r0182b_regimg3.jpg.gz', 'acisfJ1000109p024058_001N031_r0004b_regimg3.jpg.gz', 'acisfJ0959481p020015_001N030_r0259b_regimg3.jpg.gz', 'acisfJ1002222p021159_001N031_r0085b_regimg3.jpg.gz', 'acisfJ1001072p014432_001N031_r0007b_regimg3.fits', 'acisfJ1201548m185204_002N028_r0106b_regimg3.fits', 'acisfJ0958306p021622_001N031_r0068b_regimg3.fits', 'acisfJ1001101p020949_001N030_r0089b_regimg3.jpg.gz', 'acisfJ0958203p020845_001N031_r0079b_regimg3.fits', 'acisfJ1000592p020218_001N030_r0069b_regimg3.fits', 'acisfJ1000510p022004_001N021_r0180b_regimg3.jpg.gz', 'acisfJ0959599p014221_001N031_r0139b_regimg3.jpg.gz', 'acisfJ0958597p021353_001N029_r0133b_regimg3.fits', 'acisfJ1237038p621303_001N026_r0191b_regimg3.fits', 'acisfJ1002019p022207_001N031_r0178b_regimg3.fits', 'acisfJ1000277p013951_001N031_r0031b_regimg3.jpg.gz', 'acisfJ1420280p530201_001N022_r0045b_regimg3.jpg.gz', 'acisfJ0959481p020015_001N030_r0106b_regimg3.jpg.gz', 'acisfJ1000299p020542_001N031_r0008b_regimg3.fits', 'acisfJ1000277p013951_001N031_r0159b_regimg3.fits', 'acisfJ1001328p022531_001N029_r0202b_regimg3.fits', 'acisfJ1420147p530007_001N030_r0351b_regimg3.fits', 'acisfJ1420280p530201_001N022_r0093b_regimg3.jpg.gz', 'acisfJ0958306p021622_001N031_r0048b_regimg3.fits', 'acisfJ1001402p020705_001N029_r0181b_regimg3.fits', 'acisfJ0958479p020543_001N031_r0173b_regimg3.fits', 'acisfJ1149288p222105_001N027_r0040b_regimg3.jpg.gz', 'acisfJ1000327p023059_001N021_r0002b_regimg3.jpg.gz', 'acisfJ1148186p525155_001N020_r0002b_regimg3.jpg.gz', 'acisfJ1201527m185305_001N028_r0303b_regimg3.fits', 'acisfJ1000072p015000_001N031_r0215b_regimg3.jpg.gz', 'acisfJ1000510p022004_001N031_r0275b_regimg3.jpg.gz', 'acisfJ1002019p022207_001N031_r0250b_regimg3.jpg.gz', 'acisfJ1000373p014716_001N031_r0198b_regimg3.jpg.gz', 'acisfJ1001328p022531_001N029_r0023b_regimg3.fits', 'acisfJ0959180p020259_001N031_r0273b_regimg3.jpg.gz', 'acisfJ1000072p015000_001N031_r0180b_regimg3.jpg.gz', 'acisfJ1000373p014716_001N031_r0057b_regimg3.jpg.gz', 'acisfJ1000395p023823_001N029_r0132b_regimg3.fits', 'acisfJ1002343p021933_001N031_r0114b_regimg3.fits', 'acisfJ1000109p024058_001N021_r0041b_regimg3.jpg.gz', 'acisfJ1000589p013718_001N031_r0131b_regimg3.jpg.gz', 'acisfJ0958113p014325_001N031_r0030b_regimg3.fits', 'acisfJ1001402p020705_001N021_r0256b_regimg3.jpg.gz', 'acisfJ1003079p015931_001N021_r0069b_regimg3.jpg.gz', 'acisfJ0959180p020259_001N021_r0052b_regimg3.jpg.gz', 'acisfJ1000510p022004_001N031_r0221b_regimg3.jpg.gz', 'acisfJ1000510p022004_001N029_r0180b_regimg3.fits', 'acisfJ1000395p023823_001N029_r0110b_regimg3.fits', 'acisfJ0959180p020259_001N021_r0230b_regimg3.jpg.gz', 'acisfJ1000592p020218_001N030_r0049b_regimg3.fits', 'acisfJ1001328p022531_001N031_r0252b_regimg3.fits', 'acisfJ1002222p021159_001N031_r0163b_regimg3.jpg.gz', 'acisfJ1002123p020448_001N030_r0226b_regimg3.fits', 'acisfJ1201548m185204_002N028_r0396b_regimg3.jpg.gz', 'acisfJ1000395p023823_001N021_r0002b_regimg3.jpg.gz', 'acisfJ1421328p531328_001N022_r0291b_regimg3.jpg.gz', 'acisfJ1000026p023344_001N029_r0055b_regimg3.fits', 'acisfJ1002384p020202_001N031_r0030b_regimg3.jpg.gz', 'acisfJ0959071p015528_001N031_r0132b_regimg3.fits', 'acisfJ1002019p022207_001N029_r0028b_regimg3.fits', 'acisfJ1000107p021558_001N029_r0074b_regimg3.fits', 'acisfJ1030266p052411_001N020_r0322b_regimg3.jpg.gz', 'acisfJ1002222p021159_001N031_r0056b_regimg3.fits', 'acisfJ1001328p022531_001N021_r0013b_regimg3.jpg.gz', 'acisfJ1002343p021933_001N031_r0151b_regimg3.fits', 'acisfJ1420280p530201_001N022_r0094b_regimg3.jpg.gz', 'acisfJ0959481p020015_001N030_r0258b_regimg3.jpg.gz', 'acisfJ1002123p020448_001N031_r0169b_regimg3.fits', 'acisfJ1000327p023059_001N029_r0194b_regimg3.fits', 'acisfJ1000181p015731_001N031_r0037b_regimg3.jpg.gz', 'acisfJ1000026p023344_001N021_r0128b_regimg3.jpg.gz', 'acisfJ0959071p015528_001N029_r0193b_regimg3.fits', 'acisfJ1002384p020202_001N029_r0074b_regimg3.fits', 'acisfJ1030266p052411_001N020_r0320b_regimg3.fits', 'acisfJ1000327p023059_001N029_r0004b_regimg3.fits', 'acisfJ1002343p021933_001N031_r0138b_regimg3.jpg.gz', 'acisfJ1001511p021436_001N030_r0019b_regimg3.jpg.gz', 'acisfJ1000072p015000_001N031_r0199b_regimg3.jpg.gz', 'acisfJ1000373p014716_001N031_r0208b_regimg3.fits', 'acisfJ1001211p021720_001N021_r0036b_regimg3.jpg.gz', 'acisfJ1000327p023059_001N029_r0217b_regimg3.fits', 'acisfJ1001292p015934_001N030_r0025b_regimg3.fits', 'acisfJ1000217p022329_001N031_r0060b_regimg3.fits', 'acisfJ1001511p021436_001N031_r0251b_regimg3.jpg.gz', 'acisfJ0958203p020845_001N031_r0179b_regimg3.fits', 'acisfJ1236516p621303_001N026_r0153b_regimg3.fits', 'acisfJ1001328p022531_001N021_r0032b_regimg3.jpg.gz', 'acisfJ1149288p222105_001N021_r0039b_regimg3.jpg.gz', 'acisfJ1002384p020202_001N031_r0042b_regimg3.jpg.gz', 'acisfJ1030285p052522_002N020_r0206b_regimg3.fits', 'acisfJ1000026p023344_001N021_r0055b_regimg3.jpg.gz', 'acisfJ1338245m194258_001N026_r0105b_regimg3.fits', 'acisfJ1002343p021933_001N031_r0115b_regimg3.fits', 'acisfJ1000408p021313_001N031_r0290b_regimg3.jpg.gz', 'acisfJ1002019p022207_001N031_r0176b_regimg3.fits', 'acisfJ0958370p022359_001N021_r0062b_regimg3.jpg.gz', 'acisfJ1000072p015000_001N031_r0200b_regimg3.fits', 'acisfJ1000482p015447_001N031_r0224b_regimg3.fits', 'acisfJ1420280p530201_001N022_r0233b_regimg3.jpg.gz', 'acisfJ1001402p020705_001N029_r0232b_regimg3.fits', 'acisfJ1000109p024058_001N021_r0156b_regimg3.jpg.gz', 'acisfJ1000072p015000_001N031_r0157b_regimg3.jpg.gz', 'acisfJ1002222p021159_001N021_r0149b_regimg3.jpg.gz', 'acisfJ1000327p023059_001N021_r0208b_regimg3.jpg.gz', 'acisfJ1001292p015934_001N031_r0093b_regimg3.fits', 'acisfJ1230570p121615_001N036_r0378b_regimg3.fits', 'acisfJ1003079p015931_001N031_r0077b_regimg3.fits', 'acisfJ1148186p525155_001N020_r0002b_regimg3.fits', 'acisfJ1000026p023344_001N031_r0020b_regimg3.fits', 'acisfJ1000327p023059_001N029_r0108b_regimg3.fits', 'acisfJ1420147p530007_001N030_r0131b_regimg3.fits', 'acisfJ1000510p022004_001N031_r0255b_regimg3.fits', 'acisfJ1002343p021933_001N031_r0151b_regimg3.jpg.gz', 'acisfJ1000589p013718_001N031_r0028b_regimg3.fits', 'acisfJ1000217p022329_001N029_r0110b_regimg3.fits', 'acisfJ0959599p014221_001N031_r0139b_regimg3.fits', 'acisfJ1000026p023344_001N031_r0285b_regimg3.jpg.gz', 'acisfJ1000217p022329_001N031_r0036b_regimg3.fits', 'acisfJ0958203p020845_001N031_r0174b_regimg3.fits', 'acisfJ1000482p015447_001N030_r0091b_regimg3.fits', 'acisfJ0958203p020845_001N031_r0162b_regimg3.fits', 'acisfJ1001211p021720_001N029_r0239b_regimg3.fits', 'acisfJ1000592p020218_001N030_r0011b_regimg3.fits', 'acisfJ1001183p015203_001N030_r0217b_regimg3.jpg.gz', 'acisfJ1001402p020705_001N031_r0254b_regimg3.jpg.gz', 'acisfJ0958203p020845_001N031_r0177b_regimg3.jpg.gz', 'acisfJ1001511p021436_001N021_r0168b_regimg3.jpg.gz', 'acisfJ0959297p021110_001N029_r0164b_regimg3.fits', 'acisfJ1000299p020542_001N031_r0009b_regimg3.fits', 'acisfJ0959481p020015_001N030_r0251b_regimg3.fits', 'acisfJ1002499p020946_001N031_r0059b_regimg3.fits', 'acisfJ0958370p015812_001N031_r0177b_regimg3.fits', 'acisfJ0958306p021622_001N031_r0154b_regimg3.fits', 'acisfJ1002384p020202_001N031_r0027b_regimg3.fits', 'acisfJ1001183p015203_001N030_r0154b_regimg3.jpg.gz', 'acisfJ1000026p023344_001N021_r0208b_regimg3.jpg.gz', 'acisfJ0958479p020543_001N029_r0023b_regimg3.fits', 'acisfJ1000592p020218_001N030_r0032b_regimg3.jpg.gz', 'acisfJ1002123p020448_001N031_r0018b_regimg3.jpg.gz', 'acisfJ1420147p530007_001N030_r0147b_regimg3.fits', 'acisfJ1421328p531328_001N022_r0361b_regimg3.jpg.gz', 'acisfJ1120012p064141_001N026_r0031b_regimg3.fits', 'acisfJ1212049p273400_001N021_r0044b_regimg3.jpg.gz', 'acisfJ1001328p022531_001N031_r0078b_regimg3.fits', 'acisfJ1120012p064141_001N026_r0002b_regimg3.fits', 'acisfJ1000181p015731_001N031_r0207b_regimg3.jpg.gz', 'acisfJ0958597p021353_001N021_r0174b_regimg3.jpg.gz', 'acisfJ1002019p022207_001N021_r0072b_regimg3.jpg.gz', 'acisfJ1000482p015447_001N030_r0175b_regimg3.fits', 'acisfJ1030285p052522_002N020_r0118b_regimg3.fits', 'acisfJ1001402p020705_001N031_r0291b_regimg3.fits', 'acisfJ0958306p021622_001N031_r0003b_regimg3.fits', 'acisfJ1000373p014716_001N031_r0012b_regimg3.jpg.gz', 'acisfJ1149341p222725_002N027_r0062b_regimg3.fits', 'acisfJ0958479p020543_001N021_r0010b_regimg3.jpg.gz', 'acisfJ1000107p021558_001N021_r0074b_regimg3.jpg.gz', 'acisfJ0959599p014221_001N031_r0016b_regimg3.fits', 'acisfJ1001027p022815_001N021_r0186b_regimg3.jpg.gz', 'acisfJ0957482p023714_001N021_r0027b_regimg3.jpg.gz', 'acisfJ1120012p064141_001N026_r0001b_regimg3.fits', 'acisfJ1000395p023823_001N031_r0160b_regimg3.fits', 'acisfJ1000373p014716_001N031_r0057b_regimg3.fits', 'acisfJ0958597p021353_001N031_r0266b_regimg3.fits', 'acisfJ1002019p022207_001N031_r0110b_regimg3.fits']\n"
     ]
    }
   ],
   "source": [
    "#Stacked Observation Detections Table Chandra\n",
    "\n",
    "stack_obs = pd.read_csv('./cscresults_nodup.tsv', sep='\\t', comment='#')\n",
    "\n",
    "#print(stack_obs.columns)\n",
    "\n",
    "\n",
    "#choose the best stack image for each object based on likelihood in broadband\n",
    "unique_obj = stack_obs['master_source.name'].unique()\n",
    "\n",
    "chosen_stacks = pd.DataFrame(columns=stack_obs.columns)\n",
    "\n",
    "for obj in unique_obj:\n",
    "    #print('Processing object:', obj)\n",
    "    \n",
    "    obj_stacks= stack_obs[stack_obs['master_source.name'] == obj]\n",
    "\n",
    "    max_row = obj_stacks[obj_stacks['stack_source.likelihood_b'] == obj_stacks['stack_source.likelihood_b'].max()]\n",
    "\n",
    "    chosen_stacks = pd.concat([chosen_stacks, max_row], ignore_index=True)\n",
    "\n",
    "#check for multiple sources in the same stack region image\n",
    "chosen_stacks_dup=chosen_stacks[chosen_stacks.duplicated(subset=['stack_source.detect_stack_id','stack_source.region_id'], \n",
    "                                       keep=False)]\n",
    "\n",
    "print(f\"The number of best stack images is {len(chosen_stacks)} - should match the number of unique objects {len(unique_obj)}\")\n",
    "print(f\"The number of total stack images was {len(stack_obs)}\")\n",
    "print(f\"The number of sources which share a 'best stack image' with another source is {len(chosen_stacks_dup)}\")\n",
    "\n",
    "#folder with the downloaded chandra stack region images\n",
    "filepath='/home/jacoblevine7/AGN_proj/agn_storage/chan_pix/cdapackage.6.20250707.175119.001'\n",
    "filenames= os.listdir(filepath)\n",
    "print(filenames)\n",
    "\n",
    "#Stripping the .gz extension and decompressing the files\n",
    "for file in os.listdir(filepath):\n",
    "    if file.endswith('.fits.gz'):\n",
    "        print(file)\n",
    "        os.system(f'gzip -d {os.path.join(filepath,file)}')  # Decompress the file\n",
    "\n",
    "good_filenames = np.empty(dtype=str, shape=0)\n",
    "\n",
    "#choose which files to put into the chan_pix_good folder - id matching the stack source image \n",
    "for filename in filenames:\n",
    "    if filename.endswith('.fits'):\n",
    "        for i in range(len(chosen_stacks)):\n",
    "            row = chosen_stacks.iloc[i]\n",
    "            if row['stack_source.detect_stack_id'] in filename:\n",
    "                if str(row['stack_source.region_id']).zfill(4)+'b' in filename:\n",
    "                    \n",
    "                    good_filenames = np.append(good_filenames, filename)\n",
    "\n",
    "# make a new pandas series with the good filenames\n",
    "good_filenames = pd.Series(good_filenames, name='chan_filename')\n",
    "\n",
    "csc_table = pd.read_csv('./csc_table.csv', sep=',')\n",
    "csc_table['chan_filename'] = good_filenames\n",
    "csc_table.to_csv('./csc_table.csv', index=False, sep=',')\n",
    "\n",
    "destination_folder = '/home/jacoblevine7/AGN_proj/agn_storage/chan_pix/chan_pix_good'\n",
    "\n",
    "for i in range(len(good_filenames)):\n",
    "    source_path = os.path.join(filepath, good_filenames[i])\n",
    "    destination_path = os.path.join(destination_folder, good_filenames[i])\n",
    "\n",
    "    os.system(f'cp {source_path} {destination_path}')  # Use cp command to copy files\n",
    "\n"
   ]
  },
  {
   "cell_type": "code",
   "execution_count": 6,
   "metadata": {},
   "outputs": [
    {
     "name": "stdout",
     "output_type": "stream",
     "text": [
      "csc\n",
      "\n",
      "Par001\n",
      "\n",
      "Par002\n",
      "\n",
      "Par003\n",
      "\n",
      "Par004\n",
      "\n",
      "Par005\n",
      "\n",
      "Par006\n",
      "\n",
      "Par007\n",
      "\n"
     ]
    },
    {
     "name": "stderr",
     "output_type": "stream",
     "text": [
      "WARNING: NoResultsWarning: No matching rows were found in the query. [astroquery.heasarc.core]\n"
     ]
    },
    {
     "name": "stdout",
     "output_type": "stream",
     "text": [
      "Nothing found for Par007\n",
      "Par008\n",
      "\n",
      "Par009\n",
      "\n",
      "Par010\n",
      "\n"
     ]
    },
    {
     "name": "stderr",
     "output_type": "stream",
     "text": [
      "WARNING: NoResultsWarning: No matching rows were found in the query. [astroquery.heasarc.core]\n"
     ]
    },
    {
     "name": "stdout",
     "output_type": "stream",
     "text": [
      "Nothing found for Par010\n",
      "Par011\n",
      "\n",
      "Par012\n",
      "\n"
     ]
    },
    {
     "name": "stderr",
     "output_type": "stream",
     "text": [
      "WARNING: NoResultsWarning: No matching rows were found in the query. [astroquery.heasarc.core]\n"
     ]
    },
    {
     "name": "stdout",
     "output_type": "stream",
     "text": [
      "Nothing found for Par012\n",
      "Par013\n",
      "\n"
     ]
    },
    {
     "name": "stderr",
     "output_type": "stream",
     "text": [
      "WARNING: NoResultsWarning: No matching rows were found in the query. [astroquery.heasarc.core]\n"
     ]
    },
    {
     "name": "stdout",
     "output_type": "stream",
     "text": [
      "Nothing found for Par013\n",
      "Par014\n",
      "\n",
      "Par015\n",
      "\n"
     ]
    },
    {
     "name": "stderr",
     "output_type": "stream",
     "text": [
      "WARNING: NoResultsWarning: No matching rows were found in the query. [astroquery.heasarc.core]\n"
     ]
    },
    {
     "name": "stdout",
     "output_type": "stream",
     "text": [
      "Nothing found for Par015\n",
      "Par016\n",
      "\n"
     ]
    },
    {
     "name": "stderr",
     "output_type": "stream",
     "text": [
      "WARNING: NoResultsWarning: No matching rows were found in the query. [astroquery.heasarc.core]\n"
     ]
    },
    {
     "name": "stdout",
     "output_type": "stream",
     "text": [
      "Nothing found for Par016\n",
      "Par017\n",
      "\n",
      "Par018\n",
      "\n"
     ]
    },
    {
     "name": "stderr",
     "output_type": "stream",
     "text": [
      "WARNING: NoResultsWarning: No matching rows were found in the query. [astroquery.heasarc.core]\n"
     ]
    },
    {
     "name": "stdout",
     "output_type": "stream",
     "text": [
      "Nothing found for Par018\n",
      "Par019\n",
      "\n"
     ]
    },
    {
     "name": "stderr",
     "output_type": "stream",
     "text": [
      "WARNING: NoResultsWarning: No matching rows were found in the query. [astroquery.heasarc.core]\n"
     ]
    },
    {
     "name": "stdout",
     "output_type": "stream",
     "text": [
      "Nothing found for Par019\n",
      "Par020\n",
      "\n",
      "Par021\n",
      "\n"
     ]
    },
    {
     "name": "stderr",
     "output_type": "stream",
     "text": [
      "WARNING: NoResultsWarning: No matching rows were found in the query. [astroquery.heasarc.core]\n"
     ]
    },
    {
     "name": "stdout",
     "output_type": "stream",
     "text": [
      "Nothing found for Par021\n",
      "Par022\n",
      "\n",
      "Par023\n",
      "\n",
      "Par024\n",
      "\n",
      "Par025\n",
      "\n",
      "Par026\n",
      "\n",
      "Par027\n",
      "\n",
      "Par028\n",
      "\n",
      "Par029\n",
      "\n",
      "Par030\n",
      "\n"
     ]
    },
    {
     "name": "stderr",
     "output_type": "stream",
     "text": [
      "WARNING: NoResultsWarning: No matching rows were found in the query. [astroquery.heasarc.core]\n"
     ]
    },
    {
     "name": "stdout",
     "output_type": "stream",
     "text": [
      "Nothing found for Par030\n",
      "Par031\n",
      "\n",
      "Par032\n",
      "\n",
      "Par033\n",
      "\n",
      "Par034\n",
      "\n"
     ]
    },
    {
     "name": "stderr",
     "output_type": "stream",
     "text": [
      "WARNING: NoResultsWarning: No matching rows were found in the query. [astroquery.heasarc.core]\n"
     ]
    },
    {
     "name": "stdout",
     "output_type": "stream",
     "text": [
      "Nothing found for Par034\n",
      "Par035\n",
      "\n",
      "Par036\n",
      "\n"
     ]
    },
    {
     "name": "stderr",
     "output_type": "stream",
     "text": [
      "WARNING: NoResultsWarning: No matching rows were found in the query. [astroquery.heasarc.core]\n"
     ]
    },
    {
     "name": "stdout",
     "output_type": "stream",
     "text": [
      "Nothing found for Par036\n",
      "Par037\n",
      "\n"
     ]
    },
    {
     "name": "stderr",
     "output_type": "stream",
     "text": [
      "WARNING: NoResultsWarning: No matching rows were found in the query. [astroquery.heasarc.core]\n"
     ]
    },
    {
     "name": "stdout",
     "output_type": "stream",
     "text": [
      "Nothing found for Par037\n",
      "Par038\n",
      "\n",
      "Par039\n",
      "\n"
     ]
    },
    {
     "name": "stderr",
     "output_type": "stream",
     "text": [
      "WARNING: NoResultsWarning: No matching rows were found in the query. [astroquery.heasarc.core]\n"
     ]
    },
    {
     "name": "stdout",
     "output_type": "stream",
     "text": [
      "Nothing found for Par039\n",
      "Par040\n",
      "\n",
      "Par041\n",
      "\n",
      "Par042\n",
      "\n"
     ]
    },
    {
     "name": "stderr",
     "output_type": "stream",
     "text": [
      "WARNING: NoResultsWarning: No matching rows were found in the query. [astroquery.heasarc.core]\n"
     ]
    },
    {
     "name": "stdout",
     "output_type": "stream",
     "text": [
      "Nothing found for Par042\n",
      "Par043\n",
      "\n",
      "Par044\n",
      "\n"
     ]
    },
    {
     "name": "stderr",
     "output_type": "stream",
     "text": [
      "WARNING: NoResultsWarning: No matching rows were found in the query. [astroquery.heasarc.core]\n"
     ]
    },
    {
     "name": "stdout",
     "output_type": "stream",
     "text": [
      "Nothing found for Par044\n",
      "Par045\n",
      "\n"
     ]
    },
    {
     "name": "stderr",
     "output_type": "stream",
     "text": [
      "WARNING: NoResultsWarning: No matching rows were found in the query. [astroquery.heasarc.core]\n"
     ]
    },
    {
     "name": "stdout",
     "output_type": "stream",
     "text": [
      "Nothing found for Par045\n",
      "Par046\n",
      "\n",
      "Par047\n",
      "\n",
      "Par048\n",
      "\n",
      "Par049\n",
      "\n",
      "Par050\n",
      "\n",
      "Par051\n",
      "\n",
      "Par052\n",
      "\n",
      "Par053\n",
      "\n",
      "Par054\n",
      "\n"
     ]
    },
    {
     "name": "stderr",
     "output_type": "stream",
     "text": [
      "WARNING: NoResultsWarning: No matching rows were found in the query. [astroquery.heasarc.core]\n"
     ]
    },
    {
     "name": "stdout",
     "output_type": "stream",
     "text": [
      "Nothing found for Par054\n",
      "Par055\n",
      "\n"
     ]
    },
    {
     "name": "stderr",
     "output_type": "stream",
     "text": [
      "WARNING: NoResultsWarning: No matching rows were found in the query. [astroquery.heasarc.core]\n"
     ]
    },
    {
     "name": "stdout",
     "output_type": "stream",
     "text": [
      "Nothing found for Par055\n",
      "Par056\n",
      "\n",
      "Par057\n",
      "\n",
      "Par058\n",
      "\n"
     ]
    },
    {
     "name": "stderr",
     "output_type": "stream",
     "text": [
      "WARNING: NoResultsWarning: No matching rows were found in the query. [astroquery.heasarc.core]\n"
     ]
    },
    {
     "name": "stdout",
     "output_type": "stream",
     "text": [
      "Nothing found for Par058\n",
      "Par059\n",
      "\n",
      "Par060\n",
      "\n",
      "Par061\n",
      "\n"
     ]
    },
    {
     "name": "stderr",
     "output_type": "stream",
     "text": [
      "WARNING: NoResultsWarning: No matching rows were found in the query. [astroquery.heasarc.core]\n"
     ]
    },
    {
     "name": "stdout",
     "output_type": "stream",
     "text": [
      "Nothing found for Par061\n",
      "Par062\n",
      "\n"
     ]
    },
    {
     "name": "stderr",
     "output_type": "stream",
     "text": [
      "WARNING: NoResultsWarning: No matching rows were found in the query. [astroquery.heasarc.core]\n"
     ]
    },
    {
     "name": "stdout",
     "output_type": "stream",
     "text": [
      "Nothing found for Par062\n",
      "Par063\n",
      "\n",
      "xmmstack\n",
      "\n",
      "Par001\n",
      "\n",
      "Par002\n",
      "\n",
      "Par003\n",
      "\n",
      "Par004\n",
      "\n"
     ]
    },
    {
     "name": "stderr",
     "output_type": "stream",
     "text": [
      "WARNING: NoResultsWarning: No matching rows were found in the query. [astroquery.heasarc.core]\n"
     ]
    },
    {
     "name": "stdout",
     "output_type": "stream",
     "text": [
      "Nothing found for Par004\n",
      "Par005\n",
      "\n",
      "Par006\n",
      "\n",
      "Par007\n",
      "\n",
      "Par008\n",
      "\n",
      "Par009\n",
      "\n"
     ]
    },
    {
     "name": "stderr",
     "output_type": "stream",
     "text": [
      "WARNING: NoResultsWarning: No matching rows were found in the query. [astroquery.heasarc.core]\n"
     ]
    },
    {
     "name": "stdout",
     "output_type": "stream",
     "text": [
      "Nothing found for Par009\n",
      "Par010\n",
      "\n",
      "Par011\n",
      "\n"
     ]
    },
    {
     "name": "stderr",
     "output_type": "stream",
     "text": [
      "WARNING: NoResultsWarning: No matching rows were found in the query. [astroquery.heasarc.core]\n"
     ]
    },
    {
     "name": "stdout",
     "output_type": "stream",
     "text": [
      "Nothing found for Par011\n",
      "Par012\n",
      "\n"
     ]
    },
    {
     "name": "stderr",
     "output_type": "stream",
     "text": [
      "WARNING: NoResultsWarning: No matching rows were found in the query. [astroquery.heasarc.core]\n"
     ]
    },
    {
     "name": "stdout",
     "output_type": "stream",
     "text": [
      "Nothing found for Par012\n",
      "Par013\n",
      "\n"
     ]
    },
    {
     "name": "stderr",
     "output_type": "stream",
     "text": [
      "WARNING: NoResultsWarning: No matching rows were found in the query. [astroquery.heasarc.core]\n"
     ]
    },
    {
     "name": "stdout",
     "output_type": "stream",
     "text": [
      "Nothing found for Par013\n",
      "Par014\n",
      "\n"
     ]
    },
    {
     "name": "stderr",
     "output_type": "stream",
     "text": [
      "WARNING: NoResultsWarning: No matching rows were found in the query. [astroquery.heasarc.core]\n"
     ]
    },
    {
     "name": "stdout",
     "output_type": "stream",
     "text": [
      "Nothing found for Par014\n",
      "Par015\n",
      "\n"
     ]
    },
    {
     "name": "stderr",
     "output_type": "stream",
     "text": [
      "WARNING: NoResultsWarning: No matching rows were found in the query. [astroquery.heasarc.core]\n"
     ]
    },
    {
     "name": "stdout",
     "output_type": "stream",
     "text": [
      "Nothing found for Par015\n",
      "Par016\n",
      "\n"
     ]
    },
    {
     "name": "stderr",
     "output_type": "stream",
     "text": [
      "WARNING: NoResultsWarning: No matching rows were found in the query. [astroquery.heasarc.core]\n"
     ]
    },
    {
     "name": "stdout",
     "output_type": "stream",
     "text": [
      "Nothing found for Par016\n",
      "Par017\n",
      "\n",
      "Par018\n",
      "\n"
     ]
    },
    {
     "name": "stderr",
     "output_type": "stream",
     "text": [
      "WARNING: NoResultsWarning: No matching rows were found in the query. [astroquery.heasarc.core]\n"
     ]
    },
    {
     "name": "stdout",
     "output_type": "stream",
     "text": [
      "Nothing found for Par018\n",
      "Par019\n",
      "\n"
     ]
    },
    {
     "name": "stderr",
     "output_type": "stream",
     "text": [
      "WARNING: NoResultsWarning: No matching rows were found in the query. [astroquery.heasarc.core]\n"
     ]
    },
    {
     "name": "stdout",
     "output_type": "stream",
     "text": [
      "Nothing found for Par019\n",
      "Par020\n",
      "\n",
      "Par021\n",
      "\n"
     ]
    },
    {
     "name": "stderr",
     "output_type": "stream",
     "text": [
      "WARNING: NoResultsWarning: No matching rows were found in the query. [astroquery.heasarc.core]\n"
     ]
    },
    {
     "name": "stdout",
     "output_type": "stream",
     "text": [
      "Nothing found for Par021\n",
      "Par022\n",
      "\n",
      "Par023\n",
      "\n",
      "Par024\n",
      "\n",
      "Par025\n",
      "\n",
      "Par026\n",
      "\n",
      "Par027\n",
      "\n",
      "Par028\n",
      "\n",
      "Par029\n",
      "\n",
      "Par030\n",
      "\n",
      "Par031\n",
      "\n",
      "Par032\n",
      "\n",
      "Par033\n",
      "\n"
     ]
    },
    {
     "name": "stderr",
     "output_type": "stream",
     "text": [
      "WARNING: NoResultsWarning: No matching rows were found in the query. [astroquery.heasarc.core]\n"
     ]
    },
    {
     "name": "stdout",
     "output_type": "stream",
     "text": [
      "Nothing found for Par033\n",
      "Par034\n",
      "\n"
     ]
    },
    {
     "name": "stderr",
     "output_type": "stream",
     "text": [
      "WARNING: NoResultsWarning: No matching rows were found in the query. [astroquery.heasarc.core]\n"
     ]
    },
    {
     "name": "stdout",
     "output_type": "stream",
     "text": [
      "Nothing found for Par034\n",
      "Par035\n",
      "\n",
      "Par036\n",
      "\n",
      "Par037\n",
      "\n",
      "Par038\n",
      "\n"
     ]
    },
    {
     "name": "stderr",
     "output_type": "stream",
     "text": [
      "WARNING: NoResultsWarning: No matching rows were found in the query. [astroquery.heasarc.core]\n"
     ]
    },
    {
     "name": "stdout",
     "output_type": "stream",
     "text": [
      "Nothing found for Par038\n",
      "Par039\n",
      "\n"
     ]
    },
    {
     "name": "stderr",
     "output_type": "stream",
     "text": [
      "WARNING: NoResultsWarning: No matching rows were found in the query. [astroquery.heasarc.core]\n"
     ]
    },
    {
     "name": "stdout",
     "output_type": "stream",
     "text": [
      "Nothing found for Par039\n",
      "Par040\n",
      "\n",
      "Par041\n",
      "\n"
     ]
    },
    {
     "name": "stderr",
     "output_type": "stream",
     "text": [
      "WARNING: NoResultsWarning: No matching rows were found in the query. [astroquery.heasarc.core]\n"
     ]
    },
    {
     "name": "stdout",
     "output_type": "stream",
     "text": [
      "Nothing found for Par041\n",
      "Par042\n",
      "\n"
     ]
    },
    {
     "name": "stderr",
     "output_type": "stream",
     "text": [
      "WARNING: NoResultsWarning: No matching rows were found in the query. [astroquery.heasarc.core]\n"
     ]
    },
    {
     "name": "stdout",
     "output_type": "stream",
     "text": [
      "Nothing found for Par042\n",
      "Par043\n",
      "\n",
      "Par044\n",
      "\n"
     ]
    },
    {
     "name": "stderr",
     "output_type": "stream",
     "text": [
      "WARNING: NoResultsWarning: No matching rows were found in the query. [astroquery.heasarc.core]\n"
     ]
    },
    {
     "name": "stdout",
     "output_type": "stream",
     "text": [
      "Nothing found for Par044\n",
      "Par045\n",
      "\n"
     ]
    },
    {
     "name": "stderr",
     "output_type": "stream",
     "text": [
      "WARNING: NoResultsWarning: No matching rows were found in the query. [astroquery.heasarc.core]\n"
     ]
    },
    {
     "name": "stdout",
     "output_type": "stream",
     "text": [
      "Nothing found for Par045\n",
      "Par046\n",
      "\n",
      "Par047\n",
      "\n",
      "Par048\n",
      "\n",
      "Par049\n",
      "\n",
      "Par050\n",
      "\n",
      "Par051\n",
      "\n",
      "Par052\n",
      "\n",
      "Par053\n",
      "\n",
      "Par054\n",
      "\n",
      "Par055\n",
      "\n",
      "Par056\n",
      "\n",
      "Par057\n",
      "\n",
      "Par058\n",
      "\n"
     ]
    },
    {
     "name": "stderr",
     "output_type": "stream",
     "text": [
      "WARNING: NoResultsWarning: No matching rows were found in the query. [astroquery.heasarc.core]\n"
     ]
    },
    {
     "name": "stdout",
     "output_type": "stream",
     "text": [
      "Nothing found for Par058\n",
      "Par059\n",
      "\n",
      "Par060\n",
      "\n"
     ]
    },
    {
     "name": "stderr",
     "output_type": "stream",
     "text": [
      "WARNING: NoResultsWarning: No matching rows were found in the query. [astroquery.heasarc.core]\n"
     ]
    },
    {
     "name": "stdout",
     "output_type": "stream",
     "text": [
      "Nothing found for Par060\n",
      "Par061\n",
      "\n"
     ]
    },
    {
     "name": "stderr",
     "output_type": "stream",
     "text": [
      "WARNING: NoResultsWarning: No matching rows were found in the query. [astroquery.heasarc.core]\n"
     ]
    },
    {
     "name": "stdout",
     "output_type": "stream",
     "text": [
      "Nothing found for Par061\n",
      "Par062\n",
      "\n"
     ]
    },
    {
     "name": "stderr",
     "output_type": "stream",
     "text": [
      "WARNING: NoResultsWarning: No matching rows were found in the query. [astroquery.heasarc.core]\n"
     ]
    },
    {
     "name": "stdout",
     "output_type": "stream",
     "text": [
      "Nothing found for Par062\n",
      "Par063\n",
      "\n",
      "Nothing found for Par063\n"
     ]
    },
    {
     "name": "stderr",
     "output_type": "stream",
     "text": [
      "WARNING: NoResultsWarning: No matching rows were found in the query. [astroquery.heasarc.core]\n"
     ]
    }
   ],
   "source": [
    "df_counts=pd.DataFrame(columns=catalog_names.keys(),index=par_names)\n",
    "\n",
    "#identifying number of objects in each field for chandra and xmm\n",
    "\n",
    "for j in range(len((catalog_names.values()))):\n",
    "    print(list(catalog_names.values())[j]+'\\n')\n",
    "\n",
    "    column_counts=np.zeros(len(par_coords_list))\n",
    "\n",
    "    for i in range(len(par_coords_list)):\n",
    "\n",
    "            current_par=par_names[i]\n",
    "\n",
    "            print(current_par+'\\n')\n",
    "\n",
    "            #query chandra\n",
    "            result = Heasarc.query_region(par_coords_list[i],catalog=list(catalog_names.values())[j],radius=check_radius)\n",
    "\n",
    "            if len(result) > 0:\n",
    "                column_counts[i]=len(result)\n",
    "            else:\n",
    "                print(\"Nothing found for \"+ current_par)\n",
    "                continue\n",
    "\n",
    "    df_counts[list(catalog_names.keys())[j]]=column_counts"
   ]
  },
  {
   "cell_type": "code",
   "execution_count": 7,
   "metadata": {},
   "outputs": [
    {
     "name": "stdout",
     "output_type": "stream",
     "text": [
      "        chandra   xmm\n",
      "Par001      4.0  14.0\n",
      "Par002     13.0  16.0\n",
      "Par003     19.0  11.0\n",
      "Par004      2.0   0.0\n",
      "Par005     18.0   6.0\n",
      "...         ...   ...\n",
      "Par059      4.0  10.0\n",
      "Par060     17.0   0.0\n",
      "Par061      0.0   0.0\n",
      "Par062      0.0   0.0\n",
      "Par063      3.0   0.0\n",
      "\n",
      "[63 rows x 2 columns]\n",
      "406.0 298.0\n"
     ]
    }
   ],
   "source": [
    "print(df_counts)\n",
    "print(sum(df_counts['chandra']),sum(df_counts['xmm']))"
   ]
  },
  {
   "cell_type": "code",
   "execution_count": null,
   "metadata": {},
   "outputs": [],
   "source": [
    "lrd_counts=np.zeros(len(par_coords_list))\n",
    "\n",
    "for i in range(len(par_coords_list)):\n",
    "\n",
    "    current_par=par_names[i]\n",
    "\n",
    "    print(current_par+'\\n')\n",
    "\n",
    "    #query chandra\n",
    "    result = Vizier.query_region(par_coords_list[i],catalog='J/A+A/693/L2',radius=check_radius)\n",
    "\n",
    "    if len(result) > 0:\n",
    "        print(len(result[0]))\n",
    "        lrd_counts[i]=len(result[0])\n",
    "    else:\n",
    "        print(\"Nothing found for \"+ current_par)\n",
    "        continue\n",
    "\n",
    "df_counts['lrd']=lrd_counts"
   ]
  },
  {
   "cell_type": "markdown",
   "metadata": {},
   "source": [
    "Now that we know how many observations are in each field for both csc2.1 and xmmssc dr14, our next step is to actually extract their parameters, while appending an extra column that says the par they were discovered in. Chandra first - LOOK AT VIZIER FOR WHICH COLUMNS YOU NEED TO KEEP, sig, error ellipse, etc, maybe major fluxes"
   ]
  },
  {
   "cell_type": "code",
   "execution_count": 8,
   "metadata": {},
   "outputs": [
    {
     "name": "stderr",
     "output_type": "stream",
     "text": [
      "WARNING: MergeConflictWarning: Cannot merge meta key 'description' types <class 'str'> and <class 'str'>, choosing description=\"Query result for:\\nSELECT name,ra,dec,significance,error_ellipse_r0,error_ellipse_r1,error_ellipse_angle FROM csc WHERE CONTAINS(POINT('ICRS',ra,dec),CIRCLE('ICRS',177.145372,52.7788105,0.05))=1\" [astropy.utils.metadata.merge]\n",
      "WARNING: MergeConflictWarning: Cannot merge meta key 'description' types <class 'str'> and <class 'str'>, choosing description=\"Query result for:\\nSELECT name,ra,dec,significance,error_ellipse_r0,error_ellipse_r1,error_ellipse_angle FROM csc WHERE CONTAINS(POINT('ICRS',ra,dec),CIRCLE('ICRS',150.4103959,2.4051779,0.05))=1\" [astropy.utils.metadata.merge]\n",
      "WARNING: MergeConflictWarning: Cannot merge meta key 'description' types <class 'str'> and <class 'str'>, choosing description=\"Query result for:\\nSELECT name,ra,dec,significance,error_ellipse_r0,error_ellipse_r1,error_ellipse_angle FROM csc WHERE CONTAINS(POINT('ICRS',ra,dec),CIRCLE('ICRS',186.7047854,21.6989889,0.05))=1\" [astropy.utils.metadata.merge]\n",
      "WARNING: MergeConflictWarning: Cannot merge meta key 'description' types <class 'str'> and <class 'str'>, choosing description=\"Query result for:\\nSELECT name,ra,dec,significance,error_ellipse_r0,error_ellipse_r1,error_ellipse_angle FROM csc WHERE CONTAINS(POINT('ICRS',ra,dec),CIRCLE('ICRS',150.6536983,2.0855801,0.05))=1\" [astropy.utils.metadata.merge]\n",
      "WARNING: MergeConflictWarning: Cannot merge meta key 'description' types <class 'str'> and <class 'str'>, choosing description=\"Query result for:\\nSELECT name,ra,dec,significance,error_ellipse_r0,error_ellipse_r1,error_ellipse_angle FROM csc WHERE CONTAINS(POINT('ICRS',ra,dec),CIRCLE('ICRS',150.6762156,2.1293049,0.05))=1\" [astropy.utils.metadata.merge]\n",
      "WARNING: NoResultsWarning: No matching rows were found in the query. [astroquery.heasarc.core]\n",
      "WARNING: MergeConflictWarning: Cannot merge meta key 'description' types <class 'str'> and <class 'str'>, choosing description=\"Query result for:\\nSELECT name,ra,dec,significance,error_ellipse_r0,error_ellipse_r1,error_ellipse_angle FROM csc WHERE CONTAINS(POINT('ICRS',ra,dec),CIRCLE('ICRS',102.4303092,70.3818912,0.05))=1\" [astropy.utils.metadata.merge]\n",
      "WARNING: MergeConflictWarning: Cannot merge meta key 'description' types <class 'str'> and <class 'str'>, choosing description=\"Query result for:\\nSELECT name,ra,dec,significance,error_ellipse_r0,error_ellipse_r1,error_ellipse_angle FROM csc WHERE CONTAINS(POINT('ICRS',ra,dec),CIRCLE('ICRS',170.1264772,6.7062311,0.05))=1\" [astropy.utils.metadata.merge]\n",
      "WARNING: MergeConflictWarning: Cannot merge meta key 'description' types <class 'str'> and <class 'str'>, choosing description=\"Query result for:\\nSELECT name,ra,dec,significance,error_ellipse_r0,error_ellipse_r1,error_ellipse_angle FROM csc WHERE CONTAINS(POINT('ICRS',ra,dec),CIRCLE('ICRS',183.1322959,27.4870882,0.05))=1\" [astropy.utils.metadata.merge]\n",
      "WARNING: NoResultsWarning: No matching rows were found in the query. [astroquery.heasarc.core]\n",
      "WARNING: MergeConflictWarning: Cannot merge meta key 'description' types <class 'str'> and <class 'str'>, choosing description=\"Query result for:\\nSELECT name,ra,dec,significance,error_ellipse_r0,error_ellipse_r1,error_ellipse_angle FROM csc WHERE CONTAINS(POINT('ICRS',ra,dec),CIRCLE('ICRS',205.5720258,9.308067,0.05))=1\" [astropy.utils.metadata.merge]\n",
      "WARNING: MergeConflictWarning: Cannot merge meta key 'description' types <class 'str'> and <class 'str'>, choosing description=\"Query result for:\\nSELECT name,ra,dec,significance,error_ellipse_r0,error_ellipse_r1,error_ellipse_angle FROM csc WHERE CONTAINS(POINT('ICRS',ra,dec),CIRCLE('ICRS',204.5789783,-19.8794778,0.05))=1\" [astropy.utils.metadata.merge]\n",
      "WARNING: NoResultsWarning: No matching rows were found in the query. [astroquery.heasarc.core]\n",
      "WARNING: MergeConflictWarning: Cannot merge meta key 'description' types <class 'str'> and <class 'str'>, choosing description=\"Query result for:\\nSELECT name,ra,dec,significance,error_ellipse_r0,error_ellipse_r1,error_ellipse_angle FROM csc WHERE CONTAINS(POINT('ICRS',ra,dec),CIRCLE('ICRS',221.6227941,-23.2860626,0.05))=1\" [astropy.utils.metadata.merge]\n",
      "WARNING: NoResultsWarning: No matching rows were found in the query. [astroquery.heasarc.core]\n",
      "WARNING: MergeConflictWarning: Cannot merge meta key 'description' types <class 'str'> and <class 'str'>, choosing description=\"Query result for:\\nSELECT name,ra,dec,significance,error_ellipse_r0,error_ellipse_r1,error_ellipse_angle FROM csc WHERE CONTAINS(POINT('ICRS',ra,dec),CIRCLE('ICRS',130.5298837,1.6983955,0.05))=1\" [astropy.utils.metadata.merge]\n",
      "WARNING: MergeConflictWarning: Cannot merge meta key 'description' types <class 'str'> and <class 'str'>, choosing description=\"Query result for:\\nSELECT name,ra,dec,significance,error_ellipse_r0,error_ellipse_r1,error_ellipse_angle FROM csc WHERE CONTAINS(POINT('ICRS',ra,dec),CIRCLE('ICRS',224.3278892,24.7169779,0.05))=1\" [astropy.utils.metadata.merge]\n",
      "WARNING: NoResultsWarning: No matching rows were found in the query. [astroquery.heasarc.core]\n",
      "WARNING: MergeConflictWarning: Cannot merge meta key 'description' types <class 'str'> and <class 'str'>, choosing description=\"Query result for:\\nSELECT name,ra,dec,significance,error_ellipse_r0,error_ellipse_r1,error_ellipse_angle FROM csc WHERE CONTAINS(POINT('ICRS',ra,dec),CIRCLE('ICRS',155.4060634,18.1657443,0.05))=1\" [astropy.utils.metadata.merge]\n",
      "WARNING: NoResultsWarning: No matching rows were found in the query. [astroquery.heasarc.core]\n",
      "WARNING: MergeConflictWarning: Cannot merge meta key 'description' types <class 'str'> and <class 'str'>, choosing description=\"Query result for:\\nSELECT name,ra,dec,significance,error_ellipse_r0,error_ellipse_r1,error_ellipse_angle FROM csc WHERE CONTAINS(POINT('ICRS',ra,dec),CIRCLE('ICRS',152.6594154,-4.7508,0.05))=1\" [astropy.utils.metadata.merge]\n",
      "WARNING: MergeConflictWarning: Cannot merge meta key 'description' types <class 'str'> and <class 'str'>, choosing description=\"Query result for:\\nSELECT name,ra,dec,significance,error_ellipse_r0,error_ellipse_r1,error_ellipse_angle FROM csc WHERE CONTAINS(POINT('ICRS',ra,dec),CIRCLE('ICRS',150.3011088,1.8910817,0.05))=1\" [astropy.utils.metadata.merge]\n",
      "WARNING: NoResultsWarning: No matching rows were found in the query. [astroquery.heasarc.core]\n",
      "WARNING: MergeConflictWarning: Cannot merge meta key 'description' types <class 'str'> and <class 'str'>, choosing description=\"Query result for:\\nSELECT name,ra,dec,significance,error_ellipse_r0,error_ellipse_r1,error_ellipse_angle FROM csc WHERE CONTAINS(POINT('ICRS',ra,dec),CIRCLE('ICRS',159.2102447,1.7162864,0.05))=1\" [astropy.utils.metadata.merge]\n",
      "WARNING: NoResultsWarning: No matching rows were found in the query. [astroquery.heasarc.core]\n",
      "WARNING: MergeConflictWarning: Cannot merge meta key 'description' types <class 'str'> and <class 'str'>, choosing description=\"Query result for:\\nSELECT name,ra,dec,significance,error_ellipse_r0,error_ellipse_r1,error_ellipse_angle FROM csc WHERE CONTAINS(POINT('ICRS',ra,dec),CIRCLE('ICRS',130.3650701,48.6033456,0.05))=1\" [astropy.utils.metadata.merge]\n",
      "WARNING: MergeConflictWarning: Cannot merge meta key 'description' types <class 'str'> and <class 'str'>, choosing description=\"Query result for:\\nSELECT name,ra,dec,significance,error_ellipse_r0,error_ellipse_r1,error_ellipse_angle FROM csc WHERE CONTAINS(POINT('ICRS',ra,dec),CIRCLE('ICRS',149.622923,2.2251064,0.05))=1\" [astropy.utils.metadata.merge]\n",
      "WARNING: NoResultsWarning: No matching rows were found in the query. [astroquery.heasarc.core]\n",
      "WARNING: MergeConflictWarning: Cannot merge meta key 'description' types <class 'str'> and <class 'str'>, choosing description=\"Query result for:\\nSELECT name,ra,dec,significance,error_ellipse_r0,error_ellipse_r1,error_ellipse_angle FROM csc WHERE CONTAINS(POINT('ICRS',ra,dec),CIRCLE('ICRS',161.1635171,33.9294614,0.05))=1\" [astropy.utils.metadata.merge]\n",
      "WARNING: MergeConflictWarning: Cannot merge meta key 'description' types <class 'str'> and <class 'str'>, choosing description=\"Query result for:\\nSELECT name,ra,dec,significance,error_ellipse_r0,error_ellipse_r1,error_ellipse_angle FROM csc WHERE CONTAINS(POINT('ICRS',ra,dec),CIRCLE('ICRS',177.2619897,22.4367759,0.05))=1\" [astropy.utils.metadata.merge]\n",
      "WARNING: MergeConflictWarning: Cannot merge meta key 'description' types <class 'str'> and <class 'str'>, choosing description=\"Query result for:\\nSELECT name,ra,dec,significance,error_ellipse_r0,error_ellipse_r1,error_ellipse_angle FROM csc WHERE CONTAINS(POINT('ICRS',ra,dec),CIRCLE('ICRS',150.0655286,2.5519213,0.05))=1\" [astropy.utils.metadata.merge]\n",
      "WARNING: MergeConflictWarning: Cannot merge meta key 'description' types <class 'str'> and <class 'str'>, choosing description=\"Query result for:\\nSELECT name,ra,dec,significance,error_ellipse_r0,error_ellipse_r1,error_ellipse_angle FROM csc WHERE CONTAINS(POINT('ICRS',ra,dec),CIRCLE('ICRS',150.1315237,2.4996595,0.05))=1\" [astropy.utils.metadata.merge]\n",
      "WARNING: MergeConflictWarning: Cannot merge meta key 'description' types <class 'str'> and <class 'str'>, choosing description=\"Query result for:\\nSELECT name,ra,dec,significance,error_ellipse_r0,error_ellipse_r1,error_ellipse_angle FROM csc WHERE CONTAINS(POINT('ICRS',ra,dec),CIRCLE('ICRS',150.245773,1.9774739,0.05))=1\" [astropy.utils.metadata.merge]\n",
      "WARNING: MergeConflictWarning: Cannot merge meta key 'description' types <class 'str'> and <class 'str'>, choosing description=\"Query result for:\\nSELECT name,ra,dec,significance,error_ellipse_r0,error_ellipse_r1,error_ellipse_angle FROM csc WHERE CONTAINS(POINT('ICRS',ra,dec),CIRCLE('ICRS',150.122717,2.4398773,0.05))=1\" [astropy.utils.metadata.merge]\n",
      "WARNING: MergeConflictWarning: Cannot merge meta key 'description' types <class 'str'> and <class 'str'>, choosing description=\"Query result for:\\nSELECT name,ra,dec,significance,error_ellipse_r0,error_ellipse_r1,error_ellipse_angle FROM csc WHERE CONTAINS(POINT('ICRS',ra,dec),CIRCLE('ICRS',172.9448009,-12.3606496,0.05))=1\" [astropy.utils.metadata.merge]\n",
      "WARNING: MergeConflictWarning: Cannot merge meta key 'description' types <class 'str'> and <class 'str'>, choosing description=\"Query result for:\\nSELECT name,ra,dec,significance,error_ellipse_r0,error_ellipse_r1,error_ellipse_angle FROM csc WHERE CONTAINS(POINT('ICRS',ra,dec),CIRCLE('ICRS',150.087407,2.4185307,0.05))=1\" [astropy.utils.metadata.merge]\n",
      "WARNING: MergeConflictWarning: Cannot merge meta key 'description' types <class 'str'> and <class 'str'>, choosing description=\"Query result for:\\nSELECT name,ra,dec,significance,error_ellipse_r0,error_ellipse_r1,error_ellipse_angle FROM csc WHERE CONTAINS(POINT('ICRS',ra,dec),CIRCLE('ICRS',150.2522872,1.7285573,0.05))=1\" [astropy.utils.metadata.merge]\n",
      "WARNING: NoResultsWarning: No matching rows were found in the query. [astroquery.heasarc.core]\n",
      "WARNING: MergeConflictWarning: Cannot merge meta key 'description' types <class 'str'> and <class 'str'>, choosing description=\"Query result for:\\nSELECT name,ra,dec,significance,error_ellipse_r0,error_ellipse_r1,error_ellipse_angle FROM csc WHERE CONTAINS(POINT('ICRS',ra,dec),CIRCLE('ICRS',216.0875674,24.2475067,0.05))=1\" [astropy.utils.metadata.merge]\n",
      "WARNING: MergeConflictWarning: Cannot merge meta key 'description' types <class 'str'> and <class 'str'>, choosing description=\"Query result for:\\nSELECT name,ra,dec,significance,error_ellipse_r0,error_ellipse_r1,error_ellipse_angle FROM csc WHERE CONTAINS(POINT('ICRS',ra,dec),CIRCLE('ICRS',187.7406477,12.5610561,0.05))=1\" [astropy.utils.metadata.merge]\n",
      "WARNING: MergeConflictWarning: Cannot merge meta key 'description' types <class 'str'> and <class 'str'>, choosing description=\"Query result for:\\nSELECT name,ra,dec,significance,error_ellipse_r0,error_ellipse_r1,error_ellipse_angle FROM csc WHERE CONTAINS(POINT('ICRS',ra,dec),CIRCLE('ICRS',180.4252837,-18.808734,0.05))=1\" [astropy.utils.metadata.merge]\n",
      "WARNING: MergeConflictWarning: Cannot merge meta key 'description' types <class 'str'> and <class 'str'>, choosing description=\"Query result for:\\nSELECT name,ra,dec,significance,error_ellipse_r0,error_ellipse_r1,error_ellipse_angle FROM csc WHERE CONTAINS(POINT('ICRS',ra,dec),CIRCLE('ICRS',176.4223951,20.3820559,0.05))=1\" [astropy.utils.metadata.merge]\n",
      "WARNING: NoResultsWarning: No matching rows were found in the query. [astroquery.heasarc.core]\n",
      "WARNING: MergeConflictWarning: Cannot merge meta key 'description' types <class 'str'> and <class 'str'>, choosing description=\"Query result for:\\nSELECT name,ra,dec,significance,error_ellipse_r0,error_ellipse_r1,error_ellipse_angle FROM csc WHERE CONTAINS(POINT('ICRS',ra,dec),CIRCLE('ICRS',190.4031028,22.4995389,0.05))=1\" [astropy.utils.metadata.merge]\n",
      "WARNING: MergeConflictWarning: Cannot merge meta key 'description' types <class 'str'> and <class 'str'>, choosing description=\"Query result for:\\nSELECT name,ra,dec,significance,error_ellipse_r0,error_ellipse_r1,error_ellipse_angle FROM csc WHERE CONTAINS(POINT('ICRS',ra,dec),CIRCLE('ICRS',181.5579466,-8.6302916,0.05))=1\" [astropy.utils.metadata.merge]\n",
      "WARNING: NoResultsWarning: No matching rows were found in the query. [astroquery.heasarc.core]\n",
      "WARNING: MergeConflictWarning: Cannot merge meta key 'description' types <class 'str'> and <class 'str'>, choosing description=\"Query result for:\\nSELECT name,ra,dec,significance,error_ellipse_r0,error_ellipse_r1,error_ellipse_angle FROM csc WHERE CONTAINS(POINT('ICRS',ra,dec),CIRCLE('ICRS',184.2851993,2.7440134,0.05))=1\" [astropy.utils.metadata.merge]\n",
      "WARNING: NoResultsWarning: No matching rows were found in the query. [astroquery.heasarc.core]\n",
      "WARNING: MergeConflictWarning: Cannot merge meta key 'description' types <class 'str'> and <class 'str'>, choosing description=\"Query result for:\\nSELECT name,ra,dec,significance,error_ellipse_r0,error_ellipse_r1,error_ellipse_angle FROM csc WHERE CONTAINS(POINT('ICRS',ra,dec),CIRCLE('ICRS',180.3574955,2.3583209,0.05))=1\" [astropy.utils.metadata.merge]\n",
      "WARNING: MergeConflictWarning: Cannot merge meta key 'description' types <class 'str'> and <class 'str'>, choosing description=\"Query result for:\\nSELECT name,ra,dec,significance,error_ellipse_r0,error_ellipse_r1,error_ellipse_angle FROM csc WHERE CONTAINS(POINT('ICRS',ra,dec),CIRCLE('ICRS',215.1343707,53.0534482,0.05))=1\" [astropy.utils.metadata.merge]\n",
      "WARNING: NoResultsWarning: No matching rows were found in the query. [astroquery.heasarc.core]\n",
      "WARNING: MergeConflictWarning: Cannot merge meta key 'description' types <class 'str'> and <class 'str'>, choosing description=\"Query result for:\\nSELECT name,ra,dec,significance,error_ellipse_r0,error_ellipse_r1,error_ellipse_angle FROM csc WHERE CONTAINS(POINT('ICRS',ra,dec),CIRCLE('ICRS',182.9192702,-1.1318991,0.05))=1\" [astropy.utils.metadata.merge]\n",
      "WARNING: MergeConflictWarning: Cannot merge meta key 'description' types <class 'str'> and <class 'str'>, choosing description=\"Query result for:\\nSELECT name,ra,dec,significance,error_ellipse_r0,error_ellipse_r1,error_ellipse_angle FROM csc WHERE CONTAINS(POINT('ICRS',ra,dec),CIRCLE('ICRS',181.3629013,-7.5363055,0.05))=1\" [astropy.utils.metadata.merge]\n",
      "WARNING: MergeConflictWarning: Cannot merge meta key 'description' types <class 'str'> and <class 'str'>, choosing description=\"Query result for:\\nSELECT name,ra,dec,significance,error_ellipse_r0,error_ellipse_r1,error_ellipse_angle FROM csc WHERE CONTAINS(POINT('ICRS',ra,dec),CIRCLE('ICRS',191.4234497,3.5618425,0.05))=1\" [astropy.utils.metadata.merge]\n",
      "WARNING: NoResultsWarning: No matching rows were found in the query. [astroquery.heasarc.core]\n",
      "WARNING: MergeConflictWarning: Cannot merge meta key 'description' types <class 'str'> and <class 'str'>, choosing description=\"Query result for:\\nSELECT name,ra,dec,significance,error_ellipse_r0,error_ellipse_r1,error_ellipse_angle FROM csc WHERE CONTAINS(POINT('ICRS',ra,dec),CIRCLE('ICRS',195.1846319,12.5341354,0.05))=1\" [astropy.utils.metadata.merge]\n",
      "WARNING: MergeConflictWarning: Cannot merge meta key 'description' types <class 'str'> and <class 'str'>, choosing description=\"Query result for:\\nSELECT name,ra,dec,significance,error_ellipse_r0,error_ellipse_r1,error_ellipse_angle FROM csc WHERE CONTAINS(POINT('ICRS',ra,dec),CIRCLE('ICRS',213.2233645,-3.2187078,0.05))=1\" [astropy.utils.metadata.merge]\n",
      "WARNING: NoResultsWarning: No matching rows were found in the query. [astroquery.heasarc.core]\n",
      "WARNING: MergeConflictWarning: Cannot merge meta key 'description' types <class 'str'> and <class 'str'>, choosing description=\"Query result for:\\nSELECT name,ra,dec,significance,error_ellipse_r0,error_ellipse_r1,error_ellipse_angle FROM csc WHERE CONTAINS(POINT('ICRS',ra,dec),CIRCLE('ICRS',265.7442374,67.0902047,0.05))=1\" [astropy.utils.metadata.merge]\n",
      "WARNING: NoResultsWarning: No matching rows were found in the query. [astroquery.heasarc.core]\n",
      "WARNING: MergeConflictWarning: Cannot merge meta key 'description' types <class 'str'> and <class 'str'>, choosing description=\"Query result for:\\nSELECT name,ra,dec,significance,error_ellipse_r0,error_ellipse_r1,error_ellipse_angle FROM csc WHERE CONTAINS(POINT('ICRS',ra,dec),CIRCLE('ICRS',137.7250701,-4.4086121,0.05))=1\" [astropy.utils.metadata.merge]\n",
      "WARNING: MergeConflictWarning: Cannot merge meta key 'description' types <class 'str'> and <class 'str'>, choosing description=\"Query result for:\\nSELECT name,ra,dec,significance,error_ellipse_r0,error_ellipse_r1,error_ellipse_angle FROM csc WHERE CONTAINS(POINT('ICRS',ra,dec),CIRCLE('ICRS',149.3468686,2.5384074,0.05))=1\" [astropy.utils.metadata.merge]\n",
      "WARNING: MergeConflictWarning: Cannot merge meta key 'description' types <class 'str'> and <class 'str'>, choosing description=\"Query result for:\\nSELECT name,ra,dec,significance,error_ellipse_r0,error_ellipse_r1,error_ellipse_angle FROM csc WHERE CONTAINS(POINT('ICRS',ra,dec),CIRCLE('ICRS',149.4398783,2.1723808,0.05))=1\" [astropy.utils.metadata.merge]\n",
      "WARNING: MergeConflictWarning: Cannot merge meta key 'description' types <class 'str'> and <class 'str'>, choosing description=\"Query result for:\\nSELECT name,ra,dec,significance,error_ellipse_r0,error_ellipse_r1,error_ellipse_angle FROM csc WHERE CONTAINS(POINT('ICRS',ra,dec),CIRCLE('ICRS',149.4029133,1.6714444,0.05))=1\" [astropy.utils.metadata.merge]\n",
      "WARNING: MergeConflictWarning: Cannot merge meta key 'description' types <class 'str'> and <class 'str'>, choosing description=\"Query result for:\\nSELECT name,ra,dec,significance,error_ellipse_r0,error_ellipse_r1,error_ellipse_angle FROM csc WHERE CONTAINS(POINT('ICRS',ra,dec),CIRCLE('ICRS',149.7024376,2.0589467,0.05))=1\" [astropy.utils.metadata.merge]\n",
      "WARNING: MergeConflictWarning: Cannot merge meta key 'description' types <class 'str'> and <class 'str'>, choosing description=\"Query result for:\\nSELECT name,ra,dec,significance,error_ellipse_r0,error_ellipse_r1,error_ellipse_angle FROM csc WHERE CONTAINS(POINT('ICRS',ra,dec),CIRCLE('ICRS',189.1800244,62.0654165,0.05))=1\" [astropy.utils.metadata.merge]\n",
      "WARNING: MergeConflictWarning: Cannot merge meta key 'description' types <class 'str'> and <class 'str'>, choosing description=\"Query result for:\\nSELECT name,ra,dec,significance,error_ellipse_r0,error_ellipse_r1,error_ellipse_angle FROM csc WHERE CONTAINS(POINT('ICRS',ra,dec),CIRCLE('ICRS',150.5036633,2.263394,0.05))=1\" [astropy.utils.metadata.merge]\n",
      "WARNING: MergeConflictWarning: Cannot merge meta key 'description' types <class 'str'> and <class 'str'>, choosing description=\"Query result for:\\nSELECT name,ra,dec,significance,error_ellipse_r0,error_ellipse_r1,error_ellipse_angle FROM csc WHERE CONTAINS(POINT('ICRS',ra,dec),CIRCLE('ICRS',150.1552214,2.041839,0.05))=1\" [astropy.utils.metadata.merge]\n",
      "WARNING: MergeConflictWarning: Cannot merge meta key 'description' types <class 'str'> and <class 'str'>, choosing description=\"Query result for:\\nSELECT name,ra,dec,significance,error_ellipse_r0,error_ellipse_r1,error_ellipse_angle FROM csc WHERE CONTAINS(POINT('ICRS',ra,dec),CIRCLE('ICRS',150.1030697,1.7931779,0.05))=1\" [astropy.utils.metadata.merge]\n",
      "WARNING: NoResultsWarning: No matching rows were found in the query. [astroquery.heasarc.core]\n",
      "WARNING: MergeConflictWarning: Cannot merge meta key 'description' types <class 'str'> and <class 'str'>, choosing description=\"Query result for:\\nSELECT name,ra,dec,significance,error_ellipse_r0,error_ellipse_r1,error_ellipse_angle FROM csc WHERE CONTAINS(POINT('ICRS',ra,dec),CIRCLE('ICRS',214.5759308,52.2796828,0.05))=1\" [astropy.utils.metadata.merge]\n",
      "WARNING: NoResultsWarning: No matching rows were found in the query. [astroquery.heasarc.core]\n",
      "WARNING: MergeConflictWarning: Cannot merge meta key 'description' types <class 'str'> and <class 'str'>, choosing description=\"Query result for:\\nSELECT name,ra,dec,significance,error_ellipse_r0,error_ellipse_r1,error_ellipse_angle FROM csc WHERE CONTAINS(POINT('ICRS',ra,dec),CIRCLE('ICRS',177.4168452,22.1796794,0.05))=1\" [astropy.utils.metadata.merge]\n",
      "WARNING: MergeConflictWarning: Cannot merge meta key 'description' types <class 'str'> and <class 'str'>, choosing description=\"Query result for:\\nSELECT name,ra,dec,significance,error_ellipse_r0,error_ellipse_r1,error_ellipse_angle FROM csc WHERE CONTAINS(POINT('ICRS',ra,dec),CIRCLE('ICRS',169.9978926,6.5094453,0.05))=1\" [astropy.utils.metadata.merge]\n",
      "WARNING: MergeConflictWarning: Cannot merge meta key 'description' types <class 'str'> and <class 'str'>, choosing description=\"Query result for:\\nSELECT name,ra,dec,significance,error_ellipse_r0,error_ellipse_r1,error_ellipse_angle FROM csc WHERE CONTAINS(POINT('ICRS',ra,dec),CIRCLE('ICRS',177.4628389,22.2952512,0.05))=1\" [astropy.utils.metadata.merge]\n",
      "WARNING: NoResultsWarning: No matching rows were found in the query. [astroquery.heasarc.core]\n",
      "WARNING: MergeConflictWarning: Cannot merge meta key 'description' types <class 'str'> and <class 'str'>, choosing description=\"Query result for:\\nSELECT name,ra,dec,significance,error_ellipse_r0,error_ellipse_r1,error_ellipse_angle FROM csc WHERE CONTAINS(POINT('ICRS',ra,dec),CIRCLE('ICRS',177.5042438,22.6834367,0.05))=1\" [astropy.utils.metadata.merge]\n",
      "WARNING: MergeConflictWarning: Cannot merge meta key 'description' types <class 'str'> and <class 'str'>, choosing description=\"Query result for:\\nSELECT name,ra,dec,significance,error_ellipse_r0,error_ellipse_r1,error_ellipse_angle FROM csc WHERE CONTAINS(POINT('ICRS',ra,dec),CIRCLE('ICRS',169.9723865,6.7628474,0.05))=1\" [astropy.utils.metadata.merge]\n",
      "WARNING: MergeConflictWarning: Cannot merge meta key 'description' types <class 'str'> and <class 'str'>, choosing description=\"Query result for:\\nSELECT name,ra,dec,significance,error_ellipse_r0,error_ellipse_r1,error_ellipse_angle FROM csc WHERE CONTAINS(POINT('ICRS',ra,dec),CIRCLE('ICRS',157.5820923,5.5249115,0.05))=1\" [astropy.utils.metadata.merge]\n",
      "WARNING: NoResultsWarning: No matching rows were found in the query. [astroquery.heasarc.core]\n",
      "WARNING: MergeConflictWarning: Cannot merge meta key 'description' types <class 'str'> and <class 'str'>, choosing description=\"Query result for:\\nSELECT name,ra,dec,significance,error_ellipse_r0,error_ellipse_r1,error_ellipse_angle FROM csc WHERE CONTAINS(POINT('ICRS',ra,dec),CIRCLE('ICRS',159.1929805,-2.4619514,0.05))=1\" [astropy.utils.metadata.merge]\n",
      "WARNING: NoResultsWarning: No matching rows were found in the query. [astroquery.heasarc.core]\n",
      "WARNING: MergeConflictWarning: Cannot merge meta key 'description' types <class 'str'> and <class 'str'>, choosing description=\"Query result for:\\nSELECT name,ra,dec,significance,error_ellipse_r0,error_ellipse_r1,error_ellipse_angle FROM csc WHERE CONTAINS(POINT('ICRS',ra,dec),CIRCLE('ICRS',188.1922631,9.3749902,0.05))=1\" [astropy.utils.metadata.merge]\n"
     ]
    },
    {
     "name": "stdout",
     "output_type": "stream",
     "text": [
      "         name             ra        dec     ... error_ellipse_angle par_name\n",
      "                         deg        deg     ...         deg                 \n",
      "--------------------- ---------- ---------- ... ------------------- --------\n",
      "2CXO J111959.4+063641 169.997826   6.611406 ...             136.167   Par001\n",
      "2CXO J112001.2+063610 170.005175   6.602871 ...             138.979   Par001\n",
      "2CXO J112008.8+063438 170.036895   6.577439 ...               0.000   Par001\n",
      "2CXO J112009.1+063814 170.038094   6.637490 ...             119.970   Par001\n",
      "2CXO J114824.6+524847 177.102851  52.813074 ...             177.741   Par002\n",
      "2CXO J114824.3+524815 177.101473  52.804438 ...             175.473   Par002\n",
      "2CXO J114825.1+524724 177.104584  52.790179 ...             170.290   Par002\n",
      "2CXO J114831.2+524807 177.130191  52.802157 ...             172.773   Par002\n",
      "2CXO J114833.2+524845 177.138346  52.812741 ...             166.376   Par002\n",
      "                  ...        ...        ... ...                 ...      ...\n",
      "2CXO J103023.4+053015 157.597752   5.504229 ...              26.478   Par060\n",
      "2CXO J103025.3+053321 157.605691   5.555889 ...              67.815   Par060\n",
      "2CXO J103025.8+053020 157.607582   5.505701 ...              17.943   Par060\n",
      "2CXO J103026.0+053346 157.608721   5.562934 ...              56.847   Par060\n",
      "2CXO J103026.4+053121 157.610743   5.522903 ...              26.552   Par060\n",
      "2CXO J103027.1+052917 157.613073   5.488196 ...              28.315   Par060\n",
      "2CXO J103028.4+053114 157.618569   5.520807 ...              61.549   Par060\n",
      "2CXO J095946.7-224853 149.944730 -22.814813 ...             110.534   Par063\n",
      "2CXO J095951.8-224728 149.965982 -22.791243 ...              94.947   Par063\n",
      "2CXO J100001.0-224713 150.004490 -22.787133 ...              88.957   Par063\n",
      "Length = 406 rows\n"
     ]
    },
    {
     "name": "stderr",
     "output_type": "stream",
     "text": [
      "WARNING: MergeConflictWarning: Cannot merge meta key 'description' types <class 'str'> and <class 'str'>, choosing description=\"Query result for:\\nSELECT name,ra,dec,significance,error_ellipse_r0,error_ellipse_r1,error_ellipse_angle FROM csc WHERE CONTAINS(POINT('ICRS',ra,dec),CIRCLE('ICRS',149.9702594,-22.8246009,0.05))=1\" [astropy.utils.metadata.merge]\n"
     ]
    }
   ],
   "source": [
    "chan_cols='name,ra,dec,significance,error_ellipse_r0,error_ellipse_r1,error_ellipse_angle'\n",
    "\n",
    "for i in range(len(par_coords_list)):\n",
    "    \n",
    "    #we already did the first one\n",
    "    if i==0:\n",
    "        csc_table=Heasarc.query_region(par_coords_list[i],catalog='csc',radius=check_radius,columns=chan_cols)\n",
    "        add_col=tab.Column(np.repeat(par_names[i],len(csc_table)),name='par_name')\n",
    "        csc_table.add_column(add_col)\n",
    "        continue\n",
    "    current_par=par_names[i]\n",
    "    add_table=Heasarc.query_region(par_coords_list[i],catalog='csc',radius=check_radius,columns=chan_cols)\n",
    "    add_col=tab.Column(np.repeat(par_names[i],len(add_table)),name='par_name')\n",
    "    add_table.add_column(add_col)\n",
    "    csc_table=tab.vstack([csc_table,add_table])\n",
    "\n",
    "print(csc_table)"
   ]
  },
  {
   "cell_type": "code",
   "execution_count": 7,
   "metadata": {},
   "outputs": [
    {
     "name": "stderr",
     "output_type": "stream",
     "text": [
      "WARNING: MergeConflictWarning: Cannot merge meta key 'description' types <class 'str'> and <class 'str'>, choosing description=\"Query result for:\\nSELECT detid, srcid, name, src_num, obsid, ra, dec, error_radius, ep_extent, ep_extent_error, ep_extent_ml, sc_ra, sc_dec, sc_poserr, sc_det_ml FROM xmmssc WHERE CONTAINS(POINT('ICRS',ra,dec),CIRCLE('ICRS',177.145372,52.7788105,0.05))=1\" [astropy.utils.metadata.merge]\n",
      "WARNING: MergeConflictWarning: Cannot merge meta key 'description' types <class 'str'> and <class 'str'>, choosing description=\"Query result for:\\nSELECT detid, srcid, name, src_num, obsid, ra, dec, error_radius, ep_extent, ep_extent_error, ep_extent_ml, sc_ra, sc_dec, sc_poserr, sc_det_ml FROM xmmssc WHERE CONTAINS(POINT('ICRS',ra,dec),CIRCLE('ICRS',150.4103959,2.4051779,0.05))=1\" [astropy.utils.metadata.merge]\n",
      "WARNING: NoResultsWarning: No matching rows were found in the query. [astroquery.heasarc.core]\n",
      "WARNING: MergeConflictWarning: Cannot merge meta key 'description' types <class 'str'> and <class 'str'>, choosing description=\"Query result for:\\nSELECT detid, srcid, name, src_num, obsid, ra, dec, error_radius, ep_extent, ep_extent_error, ep_extent_ml, sc_ra, sc_dec, sc_poserr, sc_det_ml FROM xmmssc WHERE CONTAINS(POINT('ICRS',ra,dec),CIRCLE('ICRS',186.7047854,21.6989889,0.05))=1\" [astropy.utils.metadata.merge]\n",
      "WARNING: MergeConflictWarning: Cannot merge meta key 'description' types <class 'str'> and <class 'str'>, choosing description=\"Query result for:\\nSELECT detid, srcid, name, src_num, obsid, ra, dec, error_radius, ep_extent, ep_extent_error, ep_extent_ml, sc_ra, sc_dec, sc_poserr, sc_det_ml FROM xmmssc WHERE CONTAINS(POINT('ICRS',ra,dec),CIRCLE('ICRS',150.6536983,2.0855801,0.05))=1\" [astropy.utils.metadata.merge]\n",
      "WARNING: MergeConflictWarning: Cannot merge meta key 'description' types <class 'str'> and <class 'str'>, choosing description=\"Query result for:\\nSELECT detid, srcid, name, src_num, obsid, ra, dec, error_radius, ep_extent, ep_extent_error, ep_extent_ml, sc_ra, sc_dec, sc_poserr, sc_det_ml FROM xmmssc WHERE CONTAINS(POINT('ICRS',ra,dec),CIRCLE('ICRS',150.6762156,2.1293049,0.05))=1\" [astropy.utils.metadata.merge]\n",
      "WARNING: MergeConflictWarning: Cannot merge meta key 'description' types <class 'str'> and <class 'str'>, choosing description=\"Query result for:\\nSELECT detid, srcid, name, src_num, obsid, ra, dec, error_radius, ep_extent, ep_extent_error, ep_extent_ml, sc_ra, sc_dec, sc_poserr, sc_det_ml FROM xmmssc WHERE CONTAINS(POINT('ICRS',ra,dec),CIRCLE('ICRS',102.4303092,70.3818912,0.05))=1\" [astropy.utils.metadata.merge]\n",
      "WARNING: MergeConflictWarning: Cannot merge meta key 'description' types <class 'str'> and <class 'str'>, choosing description=\"Query result for:\\nSELECT detid, srcid, name, src_num, obsid, ra, dec, error_radius, ep_extent, ep_extent_error, ep_extent_ml, sc_ra, sc_dec, sc_poserr, sc_det_ml FROM xmmssc WHERE CONTAINS(POINT('ICRS',ra,dec),CIRCLE('ICRS',170.1264772,6.7062311,0.05))=1\" [astropy.utils.metadata.merge]\n",
      "WARNING: MergeConflictWarning: Cannot merge meta key 'description' types <class 'str'> and <class 'str'>, choosing description=\"Query result for:\\nSELECT detid, srcid, name, src_num, obsid, ra, dec, error_radius, ep_extent, ep_extent_error, ep_extent_ml, sc_ra, sc_dec, sc_poserr, sc_det_ml FROM xmmssc WHERE CONTAINS(POINT('ICRS',ra,dec),CIRCLE('ICRS',183.1322959,27.4870882,0.05))=1\" [astropy.utils.metadata.merge]\n",
      "WARNING: MergeConflictWarning: Cannot merge meta key 'description' types <class 'str'> and <class 'str'>, choosing description=\"Query result for:\\nSELECT detid, srcid, name, src_num, obsid, ra, dec, error_radius, ep_extent, ep_extent_error, ep_extent_ml, sc_ra, sc_dec, sc_poserr, sc_det_ml FROM xmmssc WHERE CONTAINS(POINT('ICRS',ra,dec),CIRCLE('ICRS',205.5720258,9.308067,0.05))=1\" [astropy.utils.metadata.merge]\n",
      "WARNING: NoResultsWarning: No matching rows were found in the query. [astroquery.heasarc.core]\n",
      "WARNING: MergeConflictWarning: Cannot merge meta key 'description' types <class 'str'> and <class 'str'>, choosing description=\"Query result for:\\nSELECT detid, srcid, name, src_num, obsid, ra, dec, error_radius, ep_extent, ep_extent_error, ep_extent_ml, sc_ra, sc_dec, sc_poserr, sc_det_ml FROM xmmssc WHERE CONTAINS(POINT('ICRS',ra,dec),CIRCLE('ICRS',204.5789783,-19.8794778,0.05))=1\" [astropy.utils.metadata.merge]\n",
      "WARNING: NoResultsWarning: No matching rows were found in the query. [astroquery.heasarc.core]\n",
      "WARNING: MergeConflictWarning: Cannot merge meta key 'description' types <class 'str'> and <class 'str'>, choosing description=\"Query result for:\\nSELECT detid, srcid, name, src_num, obsid, ra, dec, error_radius, ep_extent, ep_extent_error, ep_extent_ml, sc_ra, sc_dec, sc_poserr, sc_det_ml FROM xmmssc WHERE CONTAINS(POINT('ICRS',ra,dec),CIRCLE('ICRS',221.6227941,-23.2860626,0.05))=1\" [astropy.utils.metadata.merge]\n",
      "WARNING: NoResultsWarning: No matching rows were found in the query. [astroquery.heasarc.core]\n",
      "WARNING: MergeConflictWarning: Cannot merge meta key 'description' types <class 'str'> and <class 'str'>, choosing description=\"Query result for:\\nSELECT detid, srcid, name, src_num, obsid, ra, dec, error_radius, ep_extent, ep_extent_error, ep_extent_ml, sc_ra, sc_dec, sc_poserr, sc_det_ml FROM xmmssc WHERE CONTAINS(POINT('ICRS',ra,dec),CIRCLE('ICRS',130.5298837,1.6983955,0.05))=1\" [astropy.utils.metadata.merge]\n",
      "WARNING: MergeConflictWarning: Cannot merge meta key 'description' types <class 'str'> and <class 'str'>, choosing description=\"Query result for:\\nSELECT detid, srcid, name, src_num, obsid, ra, dec, error_radius, ep_extent, ep_extent_error, ep_extent_ml, sc_ra, sc_dec, sc_poserr, sc_det_ml FROM xmmssc WHERE CONTAINS(POINT('ICRS',ra,dec),CIRCLE('ICRS',224.3278892,24.7169779,0.05))=1\" [astropy.utils.metadata.merge]\n",
      "WARNING: MergeConflictWarning: Cannot merge meta key 'description' types <class 'str'> and <class 'str'>, choosing description=\"Query result for:\\nSELECT detid, srcid, name, src_num, obsid, ra, dec, error_radius, ep_extent, ep_extent_error, ep_extent_ml, sc_ra, sc_dec, sc_poserr, sc_det_ml FROM xmmssc WHERE CONTAINS(POINT('ICRS',ra,dec),CIRCLE('ICRS',155.4060634,18.1657443,0.05))=1\" [astropy.utils.metadata.merge]\n",
      "WARNING: MergeConflictWarning: Cannot merge meta key 'description' types <class 'str'> and <class 'str'>, choosing description=\"Query result for:\\nSELECT detid, srcid, name, src_num, obsid, ra, dec, error_radius, ep_extent, ep_extent_error, ep_extent_ml, sc_ra, sc_dec, sc_poserr, sc_det_ml FROM xmmssc WHERE CONTAINS(POINT('ICRS',ra,dec),CIRCLE('ICRS',152.6594154,-4.7508,0.05))=1\" [astropy.utils.metadata.merge]\n",
      "WARNING: MergeConflictWarning: Cannot merge meta key 'description' types <class 'str'> and <class 'str'>, choosing description=\"Query result for:\\nSELECT detid, srcid, name, src_num, obsid, ra, dec, error_radius, ep_extent, ep_extent_error, ep_extent_ml, sc_ra, sc_dec, sc_poserr, sc_det_ml FROM xmmssc WHERE CONTAINS(POINT('ICRS',ra,dec),CIRCLE('ICRS',150.3011088,1.8910817,0.05))=1\" [astropy.utils.metadata.merge]\n",
      "WARNING: NoResultsWarning: No matching rows were found in the query. [astroquery.heasarc.core]\n",
      "WARNING: MergeConflictWarning: Cannot merge meta key 'description' types <class 'str'> and <class 'str'>, choosing description=\"Query result for:\\nSELECT detid, srcid, name, src_num, obsid, ra, dec, error_radius, ep_extent, ep_extent_error, ep_extent_ml, sc_ra, sc_dec, sc_poserr, sc_det_ml FROM xmmssc WHERE CONTAINS(POINT('ICRS',ra,dec),CIRCLE('ICRS',159.2102447,1.7162864,0.05))=1\" [astropy.utils.metadata.merge]\n",
      "WARNING: NoResultsWarning: No matching rows were found in the query. [astroquery.heasarc.core]\n",
      "WARNING: MergeConflictWarning: Cannot merge meta key 'description' types <class 'str'> and <class 'str'>, choosing description=\"Query result for:\\nSELECT detid, srcid, name, src_num, obsid, ra, dec, error_radius, ep_extent, ep_extent_error, ep_extent_ml, sc_ra, sc_dec, sc_poserr, sc_det_ml FROM xmmssc WHERE CONTAINS(POINT('ICRS',ra,dec),CIRCLE('ICRS',130.3650701,48.6033456,0.05))=1\" [astropy.utils.metadata.merge]\n",
      "WARNING: MergeConflictWarning: Cannot merge meta key 'description' types <class 'str'> and <class 'str'>, choosing description=\"Query result for:\\nSELECT detid, srcid, name, src_num, obsid, ra, dec, error_radius, ep_extent, ep_extent_error, ep_extent_ml, sc_ra, sc_dec, sc_poserr, sc_det_ml FROM xmmssc WHERE CONTAINS(POINT('ICRS',ra,dec),CIRCLE('ICRS',149.622923,2.2251064,0.05))=1\" [astropy.utils.metadata.merge]\n",
      "WARNING: NoResultsWarning: No matching rows were found in the query. [astroquery.heasarc.core]\n",
      "WARNING: MergeConflictWarning: Cannot merge meta key 'description' types <class 'str'> and <class 'str'>, choosing description=\"Query result for:\\nSELECT detid, srcid, name, src_num, obsid, ra, dec, error_radius, ep_extent, ep_extent_error, ep_extent_ml, sc_ra, sc_dec, sc_poserr, sc_det_ml FROM xmmssc WHERE CONTAINS(POINT('ICRS',ra,dec),CIRCLE('ICRS',161.1635171,33.9294614,0.05))=1\" [astropy.utils.metadata.merge]\n",
      "WARNING: MergeConflictWarning: Cannot merge meta key 'description' types <class 'str'> and <class 'str'>, choosing description=\"Query result for:\\nSELECT detid, srcid, name, src_num, obsid, ra, dec, error_radius, ep_extent, ep_extent_error, ep_extent_ml, sc_ra, sc_dec, sc_poserr, sc_det_ml FROM xmmssc WHERE CONTAINS(POINT('ICRS',ra,dec),CIRCLE('ICRS',177.2619897,22.4367759,0.05))=1\" [astropy.utils.metadata.merge]\n",
      "WARNING: MergeConflictWarning: Cannot merge meta key 'description' types <class 'str'> and <class 'str'>, choosing description=\"Query result for:\\nSELECT detid, srcid, name, src_num, obsid, ra, dec, error_radius, ep_extent, ep_extent_error, ep_extent_ml, sc_ra, sc_dec, sc_poserr, sc_det_ml FROM xmmssc WHERE CONTAINS(POINT('ICRS',ra,dec),CIRCLE('ICRS',150.0655286,2.5519213,0.05))=1\" [astropy.utils.metadata.merge]\n",
      "WARNING: MergeConflictWarning: Cannot merge meta key 'description' types <class 'str'> and <class 'str'>, choosing description=\"Query result for:\\nSELECT detid, srcid, name, src_num, obsid, ra, dec, error_radius, ep_extent, ep_extent_error, ep_extent_ml, sc_ra, sc_dec, sc_poserr, sc_det_ml FROM xmmssc WHERE CONTAINS(POINT('ICRS',ra,dec),CIRCLE('ICRS',150.1315237,2.4996595,0.05))=1\" [astropy.utils.metadata.merge]\n",
      "WARNING: MergeConflictWarning: Cannot merge meta key 'description' types <class 'str'> and <class 'str'>, choosing description=\"Query result for:\\nSELECT detid, srcid, name, src_num, obsid, ra, dec, error_radius, ep_extent, ep_extent_error, ep_extent_ml, sc_ra, sc_dec, sc_poserr, sc_det_ml FROM xmmssc WHERE CONTAINS(POINT('ICRS',ra,dec),CIRCLE('ICRS',150.245773,1.9774739,0.05))=1\" [astropy.utils.metadata.merge]\n",
      "WARNING: MergeConflictWarning: Cannot merge meta key 'description' types <class 'str'> and <class 'str'>, choosing description=\"Query result for:\\nSELECT detid, srcid, name, src_num, obsid, ra, dec, error_radius, ep_extent, ep_extent_error, ep_extent_ml, sc_ra, sc_dec, sc_poserr, sc_det_ml FROM xmmssc WHERE CONTAINS(POINT('ICRS',ra,dec),CIRCLE('ICRS',150.122717,2.4398773,0.05))=1\" [astropy.utils.metadata.merge]\n",
      "WARNING: MergeConflictWarning: Cannot merge meta key 'description' types <class 'str'> and <class 'str'>, choosing description=\"Query result for:\\nSELECT detid, srcid, name, src_num, obsid, ra, dec, error_radius, ep_extent, ep_extent_error, ep_extent_ml, sc_ra, sc_dec, sc_poserr, sc_det_ml FROM xmmssc WHERE CONTAINS(POINT('ICRS',ra,dec),CIRCLE('ICRS',172.9448009,-12.3606496,0.05))=1\" [astropy.utils.metadata.merge]\n",
      "WARNING: MergeConflictWarning: Cannot merge meta key 'description' types <class 'str'> and <class 'str'>, choosing description=\"Query result for:\\nSELECT detid, srcid, name, src_num, obsid, ra, dec, error_radius, ep_extent, ep_extent_error, ep_extent_ml, sc_ra, sc_dec, sc_poserr, sc_det_ml FROM xmmssc WHERE CONTAINS(POINT('ICRS',ra,dec),CIRCLE('ICRS',150.087407,2.4185307,0.05))=1\" [astropy.utils.metadata.merge]\n",
      "WARNING: MergeConflictWarning: Cannot merge meta key 'description' types <class 'str'> and <class 'str'>, choosing description=\"Query result for:\\nSELECT detid, srcid, name, src_num, obsid, ra, dec, error_radius, ep_extent, ep_extent_error, ep_extent_ml, sc_ra, sc_dec, sc_poserr, sc_det_ml FROM xmmssc WHERE CONTAINS(POINT('ICRS',ra,dec),CIRCLE('ICRS',150.2522872,1.7285573,0.05))=1\" [astropy.utils.metadata.merge]\n",
      "WARNING: MergeConflictWarning: Cannot merge meta key 'description' types <class 'str'> and <class 'str'>, choosing description=\"Query result for:\\nSELECT detid, srcid, name, src_num, obsid, ra, dec, error_radius, ep_extent, ep_extent_error, ep_extent_ml, sc_ra, sc_dec, sc_poserr, sc_det_ml FROM xmmssc WHERE CONTAINS(POINT('ICRS',ra,dec),CIRCLE('ICRS',216.0875674,24.2475067,0.05))=1\" [astropy.utils.metadata.merge]\n",
      "WARNING: MergeConflictWarning: Cannot merge meta key 'description' types <class 'str'> and <class 'str'>, choosing description=\"Query result for:\\nSELECT detid, srcid, name, src_num, obsid, ra, dec, error_radius, ep_extent, ep_extent_error, ep_extent_ml, sc_ra, sc_dec, sc_poserr, sc_det_ml FROM xmmssc WHERE CONTAINS(POINT('ICRS',ra,dec),CIRCLE('ICRS',187.7406477,12.5610561,0.05))=1\" [astropy.utils.metadata.merge]\n",
      "WARNING: MergeConflictWarning: Cannot merge meta key 'description' types <class 'str'> and <class 'str'>, choosing description=\"Query result for:\\nSELECT detid, srcid, name, src_num, obsid, ra, dec, error_radius, ep_extent, ep_extent_error, ep_extent_ml, sc_ra, sc_dec, sc_poserr, sc_det_ml FROM xmmssc WHERE CONTAINS(POINT('ICRS',ra,dec),CIRCLE('ICRS',180.4252837,-18.808734,0.05))=1\" [astropy.utils.metadata.merge]\n",
      "WARNING: MergeConflictWarning: Cannot merge meta key 'description' types <class 'str'> and <class 'str'>, choosing description=\"Query result for:\\nSELECT detid, srcid, name, src_num, obsid, ra, dec, error_radius, ep_extent, ep_extent_error, ep_extent_ml, sc_ra, sc_dec, sc_poserr, sc_det_ml FROM xmmssc WHERE CONTAINS(POINT('ICRS',ra,dec),CIRCLE('ICRS',176.4223951,20.3820559,0.05))=1\" [astropy.utils.metadata.merge]\n",
      "WARNING: NoResultsWarning: No matching rows were found in the query. [astroquery.heasarc.core]\n",
      "WARNING: MergeConflictWarning: Cannot merge meta key 'description' types <class 'str'> and <class 'str'>, choosing description=\"Query result for:\\nSELECT detid, srcid, name, src_num, obsid, ra, dec, error_radius, ep_extent, ep_extent_error, ep_extent_ml, sc_ra, sc_dec, sc_poserr, sc_det_ml FROM xmmssc WHERE CONTAINS(POINT('ICRS',ra,dec),CIRCLE('ICRS',190.4031028,22.4995389,0.05))=1\" [astropy.utils.metadata.merge]\n",
      "WARNING: MergeConflictWarning: Cannot merge meta key 'description' types <class 'str'> and <class 'str'>, choosing description=\"Query result for:\\nSELECT detid, srcid, name, src_num, obsid, ra, dec, error_radius, ep_extent, ep_extent_error, ep_extent_ml, sc_ra, sc_dec, sc_poserr, sc_det_ml FROM xmmssc WHERE CONTAINS(POINT('ICRS',ra,dec),CIRCLE('ICRS',181.5579466,-8.6302916,0.05))=1\" [astropy.utils.metadata.merge]\n",
      "WARNING: MergeConflictWarning: Cannot merge meta key 'description' types <class 'str'> and <class 'str'>, choosing description=\"Query result for:\\nSELECT detid, srcid, name, src_num, obsid, ra, dec, error_radius, ep_extent, ep_extent_error, ep_extent_ml, sc_ra, sc_dec, sc_poserr, sc_det_ml FROM xmmssc WHERE CONTAINS(POINT('ICRS',ra,dec),CIRCLE('ICRS',184.2851993,2.7440134,0.05))=1\" [astropy.utils.metadata.merge]\n",
      "WARNING: MergeConflictWarning: Cannot merge meta key 'description' types <class 'str'> and <class 'str'>, choosing description=\"Query result for:\\nSELECT detid, srcid, name, src_num, obsid, ra, dec, error_radius, ep_extent, ep_extent_error, ep_extent_ml, sc_ra, sc_dec, sc_poserr, sc_det_ml FROM xmmssc WHERE CONTAINS(POINT('ICRS',ra,dec),CIRCLE('ICRS',180.3574955,2.3583209,0.05))=1\" [astropy.utils.metadata.merge]\n",
      "WARNING: NoResultsWarning: No matching rows were found in the query. [astroquery.heasarc.core]\n",
      "WARNING: MergeConflictWarning: Cannot merge meta key 'description' types <class 'str'> and <class 'str'>, choosing description=\"Query result for:\\nSELECT detid, srcid, name, src_num, obsid, ra, dec, error_radius, ep_extent, ep_extent_error, ep_extent_ml, sc_ra, sc_dec, sc_poserr, sc_det_ml FROM xmmssc WHERE CONTAINS(POINT('ICRS',ra,dec),CIRCLE('ICRS',215.1343707,53.0534482,0.05))=1\" [astropy.utils.metadata.merge]\n",
      "WARNING: NoResultsWarning: No matching rows were found in the query. [astroquery.heasarc.core]\n",
      "WARNING: MergeConflictWarning: Cannot merge meta key 'description' types <class 'str'> and <class 'str'>, choosing description=\"Query result for:\\nSELECT detid, srcid, name, src_num, obsid, ra, dec, error_radius, ep_extent, ep_extent_error, ep_extent_ml, sc_ra, sc_dec, sc_poserr, sc_det_ml FROM xmmssc WHERE CONTAINS(POINT('ICRS',ra,dec),CIRCLE('ICRS',182.9192702,-1.1318991,0.05))=1\" [astropy.utils.metadata.merge]\n",
      "WARNING: MergeConflictWarning: Cannot merge meta key 'description' types <class 'str'> and <class 'str'>, choosing description=\"Query result for:\\nSELECT detid, srcid, name, src_num, obsid, ra, dec, error_radius, ep_extent, ep_extent_error, ep_extent_ml, sc_ra, sc_dec, sc_poserr, sc_det_ml FROM xmmssc WHERE CONTAINS(POINT('ICRS',ra,dec),CIRCLE('ICRS',181.3629013,-7.5363055,0.05))=1\" [astropy.utils.metadata.merge]\n",
      "WARNING: NoResultsWarning: No matching rows were found in the query. [astroquery.heasarc.core]\n",
      "WARNING: MergeConflictWarning: Cannot merge meta key 'description' types <class 'str'> and <class 'str'>, choosing description=\"Query result for:\\nSELECT detid, srcid, name, src_num, obsid, ra, dec, error_radius, ep_extent, ep_extent_error, ep_extent_ml, sc_ra, sc_dec, sc_poserr, sc_det_ml FROM xmmssc WHERE CONTAINS(POINT('ICRS',ra,dec),CIRCLE('ICRS',191.4234497,3.5618425,0.05))=1\" [astropy.utils.metadata.merge]\n",
      "WARNING: NoResultsWarning: No matching rows were found in the query. [astroquery.heasarc.core]\n",
      "WARNING: MergeConflictWarning: Cannot merge meta key 'description' types <class 'str'> and <class 'str'>, choosing description=\"Query result for:\\nSELECT detid, srcid, name, src_num, obsid, ra, dec, error_radius, ep_extent, ep_extent_error, ep_extent_ml, sc_ra, sc_dec, sc_poserr, sc_det_ml FROM xmmssc WHERE CONTAINS(POINT('ICRS',ra,dec),CIRCLE('ICRS',195.1846319,12.5341354,0.05))=1\" [astropy.utils.metadata.merge]\n",
      "WARNING: MergeConflictWarning: Cannot merge meta key 'description' types <class 'str'> and <class 'str'>, choosing description=\"Query result for:\\nSELECT detid, srcid, name, src_num, obsid, ra, dec, error_radius, ep_extent, ep_extent_error, ep_extent_ml, sc_ra, sc_dec, sc_poserr, sc_det_ml FROM xmmssc WHERE CONTAINS(POINT('ICRS',ra,dec),CIRCLE('ICRS',213.2233645,-3.2187078,0.05))=1\" [astropy.utils.metadata.merge]\n",
      "WARNING: NoResultsWarning: No matching rows were found in the query. [astroquery.heasarc.core]\n",
      "WARNING: MergeConflictWarning: Cannot merge meta key 'description' types <class 'str'> and <class 'str'>, choosing description=\"Query result for:\\nSELECT detid, srcid, name, src_num, obsid, ra, dec, error_radius, ep_extent, ep_extent_error, ep_extent_ml, sc_ra, sc_dec, sc_poserr, sc_det_ml FROM xmmssc WHERE CONTAINS(POINT('ICRS',ra,dec),CIRCLE('ICRS',265.7442374,67.0902047,0.05))=1\" [astropy.utils.metadata.merge]\n",
      "WARNING: NoResultsWarning: No matching rows were found in the query. [astroquery.heasarc.core]\n",
      "WARNING: MergeConflictWarning: Cannot merge meta key 'description' types <class 'str'> and <class 'str'>, choosing description=\"Query result for:\\nSELECT detid, srcid, name, src_num, obsid, ra, dec, error_radius, ep_extent, ep_extent_error, ep_extent_ml, sc_ra, sc_dec, sc_poserr, sc_det_ml FROM xmmssc WHERE CONTAINS(POINT('ICRS',ra,dec),CIRCLE('ICRS',137.7250701,-4.4086121,0.05))=1\" [astropy.utils.metadata.merge]\n",
      "WARNING: MergeConflictWarning: Cannot merge meta key 'description' types <class 'str'> and <class 'str'>, choosing description=\"Query result for:\\nSELECT detid, srcid, name, src_num, obsid, ra, dec, error_radius, ep_extent, ep_extent_error, ep_extent_ml, sc_ra, sc_dec, sc_poserr, sc_det_ml FROM xmmssc WHERE CONTAINS(POINT('ICRS',ra,dec),CIRCLE('ICRS',149.3468686,2.5384074,0.05))=1\" [astropy.utils.metadata.merge]\n",
      "WARNING: MergeConflictWarning: Cannot merge meta key 'description' types <class 'str'> and <class 'str'>, choosing description=\"Query result for:\\nSELECT detid, srcid, name, src_num, obsid, ra, dec, error_radius, ep_extent, ep_extent_error, ep_extent_ml, sc_ra, sc_dec, sc_poserr, sc_det_ml FROM xmmssc WHERE CONTAINS(POINT('ICRS',ra,dec),CIRCLE('ICRS',149.4398783,2.1723808,0.05))=1\" [astropy.utils.metadata.merge]\n",
      "WARNING: MergeConflictWarning: Cannot merge meta key 'description' types <class 'str'> and <class 'str'>, choosing description=\"Query result for:\\nSELECT detid, srcid, name, src_num, obsid, ra, dec, error_radius, ep_extent, ep_extent_error, ep_extent_ml, sc_ra, sc_dec, sc_poserr, sc_det_ml FROM xmmssc WHERE CONTAINS(POINT('ICRS',ra,dec),CIRCLE('ICRS',149.4029133,1.6714444,0.05))=1\" [astropy.utils.metadata.merge]\n",
      "WARNING: MergeConflictWarning: Cannot merge meta key 'description' types <class 'str'> and <class 'str'>, choosing description=\"Query result for:\\nSELECT detid, srcid, name, src_num, obsid, ra, dec, error_radius, ep_extent, ep_extent_error, ep_extent_ml, sc_ra, sc_dec, sc_poserr, sc_det_ml FROM xmmssc WHERE CONTAINS(POINT('ICRS',ra,dec),CIRCLE('ICRS',149.7024376,2.0589467,0.05))=1\" [astropy.utils.metadata.merge]\n",
      "WARNING: MergeConflictWarning: Cannot merge meta key 'description' types <class 'str'> and <class 'str'>, choosing description=\"Query result for:\\nSELECT detid, srcid, name, src_num, obsid, ra, dec, error_radius, ep_extent, ep_extent_error, ep_extent_ml, sc_ra, sc_dec, sc_poserr, sc_det_ml FROM xmmssc WHERE CONTAINS(POINT('ICRS',ra,dec),CIRCLE('ICRS',189.1800244,62.0654165,0.05))=1\" [astropy.utils.metadata.merge]\n",
      "WARNING: MergeConflictWarning: Cannot merge meta key 'description' types <class 'str'> and <class 'str'>, choosing description=\"Query result for:\\nSELECT detid, srcid, name, src_num, obsid, ra, dec, error_radius, ep_extent, ep_extent_error, ep_extent_ml, sc_ra, sc_dec, sc_poserr, sc_det_ml FROM xmmssc WHERE CONTAINS(POINT('ICRS',ra,dec),CIRCLE('ICRS',150.5036633,2.263394,0.05))=1\" [astropy.utils.metadata.merge]\n",
      "WARNING: MergeConflictWarning: Cannot merge meta key 'description' types <class 'str'> and <class 'str'>, choosing description=\"Query result for:\\nSELECT detid, srcid, name, src_num, obsid, ra, dec, error_radius, ep_extent, ep_extent_error, ep_extent_ml, sc_ra, sc_dec, sc_poserr, sc_det_ml FROM xmmssc WHERE CONTAINS(POINT('ICRS',ra,dec),CIRCLE('ICRS',150.1552214,2.041839,0.05))=1\" [astropy.utils.metadata.merge]\n",
      "WARNING: MergeConflictWarning: Cannot merge meta key 'description' types <class 'str'> and <class 'str'>, choosing description=\"Query result for:\\nSELECT detid, srcid, name, src_num, obsid, ra, dec, error_radius, ep_extent, ep_extent_error, ep_extent_ml, sc_ra, sc_dec, sc_poserr, sc_det_ml FROM xmmssc WHERE CONTAINS(POINT('ICRS',ra,dec),CIRCLE('ICRS',150.1030697,1.7931779,0.05))=1\" [astropy.utils.metadata.merge]\n",
      "WARNING: MergeConflictWarning: Cannot merge meta key 'description' types <class 'str'> and <class 'str'>, choosing description=\"Query result for:\\nSELECT detid, srcid, name, src_num, obsid, ra, dec, error_radius, ep_extent, ep_extent_error, ep_extent_ml, sc_ra, sc_dec, sc_poserr, sc_det_ml FROM xmmssc WHERE CONTAINS(POINT('ICRS',ra,dec),CIRCLE('ICRS',214.5759308,52.2796828,0.05))=1\" [astropy.utils.metadata.merge]\n",
      "WARNING: MergeConflictWarning: Cannot merge meta key 'description' types <class 'str'> and <class 'str'>, choosing description=\"Query result for:\\nSELECT detid, srcid, name, src_num, obsid, ra, dec, error_radius, ep_extent, ep_extent_error, ep_extent_ml, sc_ra, sc_dec, sc_poserr, sc_det_ml FROM xmmssc WHERE CONTAINS(POINT('ICRS',ra,dec),CIRCLE('ICRS',177.4168452,22.1796794,0.05))=1\" [astropy.utils.metadata.merge]\n",
      "WARNING: MergeConflictWarning: Cannot merge meta key 'description' types <class 'str'> and <class 'str'>, choosing description=\"Query result for:\\nSELECT detid, srcid, name, src_num, obsid, ra, dec, error_radius, ep_extent, ep_extent_error, ep_extent_ml, sc_ra, sc_dec, sc_poserr, sc_det_ml FROM xmmssc WHERE CONTAINS(POINT('ICRS',ra,dec),CIRCLE('ICRS',169.9978926,6.5094453,0.05))=1\" [astropy.utils.metadata.merge]\n",
      "WARNING: MergeConflictWarning: Cannot merge meta key 'description' types <class 'str'> and <class 'str'>, choosing description=\"Query result for:\\nSELECT detid, srcid, name, src_num, obsid, ra, dec, error_radius, ep_extent, ep_extent_error, ep_extent_ml, sc_ra, sc_dec, sc_poserr, sc_det_ml FROM xmmssc WHERE CONTAINS(POINT('ICRS',ra,dec),CIRCLE('ICRS',177.4628389,22.2952512,0.05))=1\" [astropy.utils.metadata.merge]\n",
      "WARNING: NoResultsWarning: No matching rows were found in the query. [astroquery.heasarc.core]\n",
      "WARNING: MergeConflictWarning: Cannot merge meta key 'description' types <class 'str'> and <class 'str'>, choosing description=\"Query result for:\\nSELECT detid, srcid, name, src_num, obsid, ra, dec, error_radius, ep_extent, ep_extent_error, ep_extent_ml, sc_ra, sc_dec, sc_poserr, sc_det_ml FROM xmmssc WHERE CONTAINS(POINT('ICRS',ra,dec),CIRCLE('ICRS',177.5042438,22.6834367,0.05))=1\" [astropy.utils.metadata.merge]\n",
      "WARNING: MergeConflictWarning: Cannot merge meta key 'description' types <class 'str'> and <class 'str'>, choosing description=\"Query result for:\\nSELECT detid, srcid, name, src_num, obsid, ra, dec, error_radius, ep_extent, ep_extent_error, ep_extent_ml, sc_ra, sc_dec, sc_poserr, sc_det_ml FROM xmmssc WHERE CONTAINS(POINT('ICRS',ra,dec),CIRCLE('ICRS',169.9723865,6.7628474,0.05))=1\" [astropy.utils.metadata.merge]\n",
      "WARNING: MergeConflictWarning: Cannot merge meta key 'description' types <class 'str'> and <class 'str'>, choosing description=\"Query result for:\\nSELECT detid, srcid, name, src_num, obsid, ra, dec, error_radius, ep_extent, ep_extent_error, ep_extent_ml, sc_ra, sc_dec, sc_poserr, sc_det_ml FROM xmmssc WHERE CONTAINS(POINT('ICRS',ra,dec),CIRCLE('ICRS',157.5820923,5.5249115,0.05))=1\" [astropy.utils.metadata.merge]\n",
      "WARNING: MergeConflictWarning: Cannot merge meta key 'description' types <class 'str'> and <class 'str'>, choosing description=\"Query result for:\\nSELECT detid, srcid, name, src_num, obsid, ra, dec, error_radius, ep_extent, ep_extent_error, ep_extent_ml, sc_ra, sc_dec, sc_poserr, sc_det_ml FROM xmmssc WHERE CONTAINS(POINT('ICRS',ra,dec),CIRCLE('ICRS',159.1929805,-2.4619514,0.05))=1\" [astropy.utils.metadata.merge]\n",
      "WARNING: NoResultsWarning: No matching rows were found in the query. [astroquery.heasarc.core]\n",
      "WARNING: MergeConflictWarning: Cannot merge meta key 'description' types <class 'str'> and <class 'str'>, choosing description=\"Query result for:\\nSELECT detid, srcid, name, src_num, obsid, ra, dec, error_radius, ep_extent, ep_extent_error, ep_extent_ml, sc_ra, sc_dec, sc_poserr, sc_det_ml FROM xmmssc WHERE CONTAINS(POINT('ICRS',ra,dec),CIRCLE('ICRS',188.1922631,9.3749902,0.05))=1\" [astropy.utils.metadata.merge]\n"
     ]
    },
    {
     "name": "stdout",
     "output_type": "stream",
     "text": [
      "     detid           srcid               name         ... sc_det_ml par_name\n",
      "                                                      ...                   \n",
      "--------------- --------------- --------------------- ... --------- --------\n",
      "106939903015035 206939901010018 4XMM J112008.5+063405 ...    356.99   Par001\n",
      "108849904010129 206939902015162 4XMM J112011.6+063417 ...    20.004   Par001\n",
      "106939902010003 206939901010002 4XMM J112014.8+063341 ...    5756.5   Par001\n",
      "106939901010002 206939901010002 4XMM J112014.8+063341 ...    5756.5   Par001\n",
      "106939902010158 206939902010158 4XMM J112005.6+063733 ...    7.8045   Par001\n",
      "106939902010101 206939902010101 4XMM J112015.2+063654 ...    20.465   Par001\n",
      "106939903010045 206939901010044 4XMM J112006.7+063351 ...    142.67   Par001\n",
      "106939901010088 206939901010088 4XMM J112009.8+063337 ...    9.3716   Par001\n",
      "106939902010013 206939901010010 4XMM J111959.5+063641 ...    1038.9   Par001\n",
      "            ...             ...                   ... ...       ...      ...\n",
      "108031611010061 208031611010061 4XMM J103652.9-022529 ...    15.829   Par061\n",
      "108031611010091 208031611010091 4XMM J103639.4-022654 ...    7.9661   Par061\n",
      "108031611010004 208031611010004 4XMM J103648.8-022818 ...    1198.1   Par061\n",
      "108031611010022 208031611010022 4XMM J103652.4-022629 ...     97.35   Par061\n",
      "108031611010002 208031611010002 4XMM J103654.0-022725 ...    2342.6   Par061\n",
      "108521807010023 208521807010023 4XMM J095957.6-224959 ...    144.85   Par063\n",
      "108521807010099 208521807010099 4XMM J095946.6-224854 ...    7.3516   Par063\n",
      "108521807010014 208521807010014 4XMM J095951.7-224726 ...    307.03   Par063\n",
      "108521807010048 208521807010048 4XMM J095954.4-224946 ...    37.958   Par063\n",
      "108521807010066 208521807010066 4XMM J095958.9-225022 ...    30.119   Par063\n",
      "Length = 876 rows\n"
     ]
    },
    {
     "name": "stderr",
     "output_type": "stream",
     "text": [
      "WARNING: MergeConflictWarning: Cannot merge meta key 'description' types <class 'str'> and <class 'str'>, choosing description=\"Query result for:\\nSELECT detid, srcid, name, src_num, obsid, ra, dec, error_radius, ep_extent, ep_extent_error, ep_extent_ml, sc_ra, sc_dec, sc_poserr, sc_det_ml FROM xmmssc WHERE CONTAINS(POINT('ICRS',ra,dec),CIRCLE('ICRS',149.9702594,-22.8246009,0.05))=1\" [astropy.utils.metadata.merge]\n"
     ]
    }
   ],
   "source": [
    "#do the first one outside the loop\n",
    "\n",
    "xmm_cols='detid, srcid, name, src_num, obsid, ra, dec, error_radius, ep_extent, ep_extent_error, ep_extent_ml, sc_ra, sc_dec, sc_poserr, sc_det_ml'\n",
    "\n",
    "for i in range(len(par_coords_list)):\n",
    "    \n",
    "    #we already did the first one\n",
    "    if i==0:\n",
    "        xmm_table=Heasarc.query_region(par_coords_list[i],catalog='xmmssc',radius=check_radius,columns=xmm_cols)\n",
    "        add_col=tab.Column(np.repeat(par_names[i],len(xmm_table)),name='par_name')\n",
    "        xmm_table.add_column(add_col)\n",
    "        continue\n",
    "    current_par=par_names[i]\n",
    "    add_table=Heasarc.query_region(par_coords_list[i],catalog='xmmssc',radius=check_radius,columns=xmm_cols)\n",
    "    add_col=tab.Column(np.repeat(par_names[i],len(add_table)),name='par_name')\n",
    "    add_table.add_column(add_col)\n",
    "    xmm_table=tab.vstack([xmm_table,add_table])\n",
    "\n",
    "print(xmm_table)\n",
    "\n",
    "\n",
    "    \n"
   ]
  },
  {
   "cell_type": "code",
   "execution_count": 12,
   "metadata": {},
   "outputs": [
    {
     "ename": "AttributeError",
     "evalue": "'list' object has no attribute 'replace'",
     "output_type": "error",
     "traceback": [
      "\u001b[0;31m---------------------------------------------------------------------------\u001b[0m",
      "\u001b[0;31mAttributeError\u001b[0m                            Traceback (most recent call last)",
      "Cell \u001b[0;32mIn[12], line 4\u001b[0m\n\u001b[1;32m      1\u001b[0m \u001b[38;5;66;03m#len(set(xmm_table['srcid'])),len(set(xmm_table['obsid']))\u001b[39;00m\n\u001b[1;32m      2\u001b[0m \n\u001b[1;32m      3\u001b[0m \u001b[38;5;66;03m#np.savetxt('xmm_table.csv',xmm_table,delimiter=',',header=xmm_table.colnames, fmt='%s')\u001b[39;00m\n\u001b[0;32m----> 4\u001b[0m \u001b[43mnp\u001b[49m\u001b[38;5;241;43m.\u001b[39;49m\u001b[43msavetxt\u001b[49m\u001b[43m(\u001b[49m\u001b[38;5;124;43m'\u001b[39;49m\u001b[38;5;124;43mcsc_table.csv\u001b[39;49m\u001b[38;5;124;43m'\u001b[39;49m\u001b[43m,\u001b[49m\u001b[43mcsc_table\u001b[49m\u001b[43m,\u001b[49m\u001b[43mdelimiter\u001b[49m\u001b[38;5;241;43m=\u001b[39;49m\u001b[38;5;124;43m'\u001b[39;49m\u001b[38;5;124;43m,\u001b[39;49m\u001b[38;5;124;43m'\u001b[39;49m\u001b[43m,\u001b[49m\u001b[43mheader\u001b[49m\u001b[38;5;241;43m=\u001b[39;49m\u001b[43mcsc_table\u001b[49m\u001b[38;5;241;43m.\u001b[39;49m\u001b[43mcolnames\u001b[49m\u001b[43m,\u001b[49m\u001b[43m \u001b[49m\u001b[43mfmt\u001b[49m\u001b[38;5;241;43m=\u001b[39;49m\u001b[38;5;124;43m'\u001b[39;49m\u001b[38;5;132;43;01m%s\u001b[39;49;00m\u001b[38;5;124;43m'\u001b[39;49m\u001b[43m)\u001b[49m\n\u001b[1;32m      6\u001b[0m \u001b[38;5;66;03m#xmm_table.write('xmm_table.csv',format='csv')\u001b[39;00m\n\u001b[1;32m      7\u001b[0m \u001b[38;5;66;03m#csc_table.write('csc_table.csv',format='csv')\u001b[39;00m\n\u001b[1;32m      8\u001b[0m \u001b[38;5;66;03m#csc_table['ra','dec'].write('csc_table.tsv',format='tsv')\u001b[39;00m\n",
      "File \u001b[0;32m<__array_function__ internals>:180\u001b[0m, in \u001b[0;36msavetxt\u001b[0;34m(*args, **kwargs)\u001b[0m\n",
      "File \u001b[0;32m~/.local/lib/python3.10/site-packages/numpy/lib/npyio.py:1577\u001b[0m, in \u001b[0;36msavetxt\u001b[0;34m(fname, X, fmt, delimiter, newline, header, footer, comments, encoding)\u001b[0m\n\u001b[1;32m   1574\u001b[0m     \u001b[38;5;28;01mraise\u001b[39;00m \u001b[38;5;167;01mValueError\u001b[39;00m(\u001b[38;5;124m'\u001b[39m\u001b[38;5;124minvalid fmt: \u001b[39m\u001b[38;5;132;01m%r\u001b[39;00m\u001b[38;5;124m'\u001b[39m \u001b[38;5;241m%\u001b[39m (fmt,))\n\u001b[1;32m   1576\u001b[0m \u001b[38;5;28;01mif\u001b[39;00m \u001b[38;5;28mlen\u001b[39m(header) \u001b[38;5;241m>\u001b[39m \u001b[38;5;241m0\u001b[39m:\n\u001b[0;32m-> 1577\u001b[0m     header \u001b[38;5;241m=\u001b[39m \u001b[43mheader\u001b[49m\u001b[38;5;241;43m.\u001b[39;49m\u001b[43mreplace\u001b[49m(\u001b[38;5;124m'\u001b[39m\u001b[38;5;130;01m\\n\u001b[39;00m\u001b[38;5;124m'\u001b[39m, \u001b[38;5;124m'\u001b[39m\u001b[38;5;130;01m\\n\u001b[39;00m\u001b[38;5;124m'\u001b[39m \u001b[38;5;241m+\u001b[39m comments)\n\u001b[1;32m   1578\u001b[0m     fh\u001b[38;5;241m.\u001b[39mwrite(comments \u001b[38;5;241m+\u001b[39m header \u001b[38;5;241m+\u001b[39m newline)\n\u001b[1;32m   1579\u001b[0m \u001b[38;5;28;01mif\u001b[39;00m iscomplex_X:\n",
      "\u001b[0;31mAttributeError\u001b[0m: 'list' object has no attribute 'replace'"
     ]
    }
   ],
   "source": [
    "#len(set(xmm_table['srcid'])),len(set(xmm_table['obsid']))\n",
    "\n",
    "#np.savetxt('xmm_table.csv',xmm_table,delimiter=',',header=xmm_table.colnames, fmt='%s')\n",
    "np.savetxt('csc_table.csv',csc_table,delimiter=',',header=csc_table.colnames, fmt='%s')\n",
    "\n",
    "#xmm_table.write('xmm_table.csv',format='csv')\n",
    "#csc_table.write('csc_table.csv',format='csv')\n",
    "#csc_table['ra','dec'].write('csc_table.tsv',format='tsv')"
   ]
  },
  {
   "cell_type": "code",
   "execution_count": 9,
   "metadata": {},
   "outputs": [
    {
     "data": {
      "image/png": "[encoded data removed]",
      "text/plain": [
       "<Figure size 640x480 with 1 Axes>"
      ]
     },
     "metadata": {},
     "output_type": "display_data"
    }
   ],
   "source": [
    "plt.figure()\n",
    "plt.plot(csc_table['ra'],csc_table['dec'],'.')\n",
    "plt.plot(xmm_table['ra'],xmm_table['dec'],'.')\n",
    "plt.show()\n",
    "\n",
    "xmm_unique_table=tab.unique(xmm_table,keys='srcid')\n",
    "\n",
    "chan_coords=coord.SkyCoord(ra=csc_table['ra'],dec=csc_table['dec'],unit=(u.deg, u.deg))\n",
    "xmm_coords=coord.SkyCoord(ra=xmm_unique_table['sc_ra'],dec=xmm_unique_table['sc_dec'],unit=(u.deg, u.deg))\n",
    "\n",
    "chan_match_idx, d2d, d3d = chan_coords.match_to_catalog_sky(xmm_coords,)\n",
    "\n",
    "match_radius=3*u.arcsec\n",
    "dist_mask=d2d<match_radius\n"
   ]
  },
  {
   "cell_type": "code",
   "execution_count": 12,
   "metadata": {},
   "outputs": [
    {
     "data": {
      "image/png": "[encoded data removed]",
      "text/plain": [
       "<Figure size 640x480 with 1 Axes>"
      ]
     },
     "metadata": {},
     "output_type": "display_data"
    }
   ],
   "source": [
    "plt.figure()\n",
    "plt.hist(d2d.arcsec[d2d<10*u.arcsec],bins=100)\n",
    "plt.show()"
   ]
  }
 ],
 "metadata": {
  "kernelspec": {
   "display_name": "Python 3",
   "language": "python",
   "name": "python3"
  },
  "language_info": {
   "codemirror_mode": {
    "name": "ipython",
    "version": 3
   },
   "file_extension": ".py",
   "mimetype": "text/x-python",
   "name": "python",
   "nbconvert_exporter": "python",
   "pygments_lexer": "ipython3",
   "version": "3.10.12"
  }
 },
 "nbformat": 4,
 "nbformat_minor": 2
}
