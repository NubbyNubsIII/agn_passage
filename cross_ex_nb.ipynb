{
 "cells": [
  {
   "cell_type": "markdown",
   "metadata": {},
   "source": [
    "First, Compile a list of all chandra sources that could possibly be in PASSAGE (within 3 arcmin of the center)"
   ]
  },
  {
   "cell_type": "code",
   "execution_count": 39,
   "metadata": {},
   "outputs": [],
   "source": [
    "import numpy as np\n",
    "import matplotlib.pyplot as plt\n",
    "import matplotlib as mpl\n",
    "import astropy.coordinates as coord\n",
    "from astroquery.heasarc import Heasarc\n",
    "from astropy.utils.data import download_file\n",
    "import astropy.units as u\n",
    "import pandas as pd\n",
    "from astroquery.vizier import Vizier\n",
    "import astropy.table as tab"
   ]
  },
  {
   "cell_type": "code",
   "execution_count": 23,
   "metadata": {},
   "outputs": [],
   "source": [
    "check_radius=0.05*u.deg #=3 arcmin\n",
    "catalog_names = {'chandra':'csc',\n",
    "                 'xmm':'xmmssc'}\n",
    "                 \n",
    "par_coords_import=np.loadtxt('./par_coords.csv',dtype='str',delimiter=',')\n",
    "par_coords_list=coord.SkyCoord(ra=par_coords_import[:,1],dec=par_coords_import[:,2],unit=(u.deg, u.deg))\n",
    "par_names=par_coords_import[:,0]"
   ]
  },
  {
   "cell_type": "code",
   "execution_count": null,
   "metadata": {},
   "outputs": [],
   "source": [
    "df_counts=pd.DataFrame(columns=catalog_names.keys(),index=par_names)\n",
    "\n",
    "#identifying number of objects in each field for chandra and xmm\n",
    "\n",
    "for j in range(len((catalog_names.values()))):\n",
    "    print(list(catalog_names.values())[j]+'\\n')\n",
    "\n",
    "    column_counts=np.zeros(len(par_coords_list))\n",
    "\n",
    "    for i in range(len(par_coords_list)):\n",
    "\n",
    "            current_par=par_names[i]\n",
    "\n",
    "            print(current_par+'\\n')\n",
    "\n",
    "            #query chandra\n",
    "            result = Heasarc.query_region(par_coords_list[i],catalog=list(catalog_names.values())[j],radius=check_radius)\n",
    "\n",
    "            if len(result) > 0:\n",
    "                column_counts[i]=len(result)\n",
    "            else:\n",
    "                print(\"Nothing found for \"+ current_par)\n",
    "                continue\n",
    "\n",
    "    df_counts[list(catalog_names.keys())[j]]=column_counts"
   ]
  },
  {
   "cell_type": "code",
   "execution_count": 24,
   "metadata": {},
   "outputs": [
    {
     "name": "stdout",
     "output_type": "stream",
     "text": [
      "        chandra   xmm\n",
      "Par001      4.0  31.0\n",
      "Par002     13.0  16.0\n",
      "Par003     19.0  36.0\n",
      "Par004      2.0   0.0\n",
      "Par005     18.0  16.0\n",
      "...         ...   ...\n",
      "Par059      4.0  34.0\n",
      "Par060     17.0  14.0\n",
      "Par061      0.0   7.0\n",
      "Par062      0.0   0.0\n",
      "Par063      3.0   5.0\n",
      "\n",
      "[63 rows x 2 columns]\n",
      "406.0 876.0\n"
     ]
    }
   ],
   "source": [
    "print(df_counts)\n",
    "print(sum(df_counts['chandra']),sum(df_counts['xmm']))"
   ]
  },
  {
   "cell_type": "code",
   "execution_count": null,
   "metadata": {},
   "outputs": [],
   "source": [
    "lrd_counts=np.zeros(len(par_coords_list))\n",
    "\n",
    "for i in range(len(par_coords_list)):\n",
    "\n",
    "    current_par=par_names[i]\n",
    "\n",
    "    print(current_par+'\\n')\n",
    "\n",
    "    #query chandra\n",
    "    result = Vizier.query_region(par_coords_list[i],catalog='J/A+A/693/L2',radius=check_radius)\n",
    "\n",
    "    if len(result) > 0:\n",
    "        print(len(result[0]))\n",
    "        lrd_counts[i]=len(result[0])\n",
    "    else:\n",
    "        print(\"Nothing found for \"+ current_par)\n",
    "        continue\n",
    "\n",
    "df_counts['lrd']=lrd_counts"
   ]
  },
  {
   "cell_type": "markdown",
   "metadata": {},
   "source": [
    "Now that we know how many observations are in each field for both csc2.1 and xmmssc dr14, our next step is to actually extract their parameters, while appending an extra column that says the par they were discovered in. Chandra first - LOOK AT VIZIER FOR WHICH COLUMNS YOU NEED TO KEEP, sig, error ellipse, etc, maybe major fluxes"
   ]
  },
  {
   "cell_type": "code",
   "execution_count": null,
   "metadata": {},
   "outputs": [],
   "source": [
    "#do the first one outside the loop\n",
    "\n",
    "chan_cols='name,ra,dec,significance,error_ellipse_r0,error_ellipse_r1,error_ellipse_angle'\n",
    "\n",
    "for i in range(len(par_coords_list)):\n",
    "    \n",
    "    #we already did the first one\n",
    "    if i==0:\n",
    "        csc_table=Heasarc.query_region(par_coords_list[i],catalog='csc',radius=check_radius,columns=chan_cols)\n",
    "        add_col=tab.Column(np.repeat(par_names[i],len(csc_table)),name='par_name')\n",
    "        csc_table.add_column(add_col)\n",
    "        continue\n",
    "    current_par=par_names[i]\n",
    "    add_table=Heasarc.query_region(par_coords_list[i],catalog='csc',radius=check_radius,columns=chan_cols)\n",
    "    add_col=tab.Column(np.repeat(par_names[i],len(add_table)),name='par_name')\n",
    "    add_table.add_column(add_col)\n",
    "    csc_table=tab.vstack([csc_table,add_table])\n",
    "\n",
    "print(csc_table)"
   ]
  },
  {
   "cell_type": "code",
   "execution_count": 51,
   "metadata": {},
   "outputs": [
    {
     "name": "stderr",
     "output_type": "stream",
     "text": [
      "WARNING: MergeConflictWarning: Cannot merge meta key 'description' types <class 'str'> and <class 'str'>, choosing description=\"Query result for:\\nSELECT detid, srcid, name, src_num, obsid, ra, dec, error_radius, ep_extent, ep_extent_error, ep_extent_ml, sc_ra, sc_dec, sc_poserr, sc_det_ml FROM xmmssc WHERE CONTAINS(POINT('ICRS',ra,dec),CIRCLE('ICRS',177.145372,52.7788105,0.05))=1\" [astropy.utils.metadata.merge]\n",
      "WARNING: MergeConflictWarning: Cannot merge meta key 'description' types <class 'str'> and <class 'str'>, choosing description=\"Query result for:\\nSELECT detid, srcid, name, src_num, obsid, ra, dec, error_radius, ep_extent, ep_extent_error, ep_extent_ml, sc_ra, sc_dec, sc_poserr, sc_det_ml FROM xmmssc WHERE CONTAINS(POINT('ICRS',ra,dec),CIRCLE('ICRS',150.4103959,2.4051779,0.05))=1\" [astropy.utils.metadata.merge]\n",
      "WARNING: NoResultsWarning: No matching rows were found in the query. [astroquery.heasarc.core]\n",
      "WARNING: MergeConflictWarning: Cannot merge meta key 'description' types <class 'str'> and <class 'str'>, choosing description=\"Query result for:\\nSELECT detid, srcid, name, src_num, obsid, ra, dec, error_radius, ep_extent, ep_extent_error, ep_extent_ml, sc_ra, sc_dec, sc_poserr, sc_det_ml FROM xmmssc WHERE CONTAINS(POINT('ICRS',ra,dec),CIRCLE('ICRS',186.7047854,21.6989889,0.05))=1\" [astropy.utils.metadata.merge]\n",
      "WARNING: MergeConflictWarning: Cannot merge meta key 'description' types <class 'str'> and <class 'str'>, choosing description=\"Query result for:\\nSELECT detid, srcid, name, src_num, obsid, ra, dec, error_radius, ep_extent, ep_extent_error, ep_extent_ml, sc_ra, sc_dec, sc_poserr, sc_det_ml FROM xmmssc WHERE CONTAINS(POINT('ICRS',ra,dec),CIRCLE('ICRS',150.6536983,2.0855801,0.05))=1\" [astropy.utils.metadata.merge]\n",
      "WARNING: MergeConflictWarning: Cannot merge meta key 'description' types <class 'str'> and <class 'str'>, choosing description=\"Query result for:\\nSELECT detid, srcid, name, src_num, obsid, ra, dec, error_radius, ep_extent, ep_extent_error, ep_extent_ml, sc_ra, sc_dec, sc_poserr, sc_det_ml FROM xmmssc WHERE CONTAINS(POINT('ICRS',ra,dec),CIRCLE('ICRS',150.6762156,2.1293049,0.05))=1\" [astropy.utils.metadata.merge]\n",
      "WARNING: MergeConflictWarning: Cannot merge meta key 'description' types <class 'str'> and <class 'str'>, choosing description=\"Query result for:\\nSELECT detid, srcid, name, src_num, obsid, ra, dec, error_radius, ep_extent, ep_extent_error, ep_extent_ml, sc_ra, sc_dec, sc_poserr, sc_det_ml FROM xmmssc WHERE CONTAINS(POINT('ICRS',ra,dec),CIRCLE('ICRS',102.4303092,70.3818912,0.05))=1\" [astropy.utils.metadata.merge]\n",
      "WARNING: MergeConflictWarning: Cannot merge meta key 'description' types <class 'str'> and <class 'str'>, choosing description=\"Query result for:\\nSELECT detid, srcid, name, src_num, obsid, ra, dec, error_radius, ep_extent, ep_extent_error, ep_extent_ml, sc_ra, sc_dec, sc_poserr, sc_det_ml FROM xmmssc WHERE CONTAINS(POINT('ICRS',ra,dec),CIRCLE('ICRS',170.1264772,6.7062311,0.05))=1\" [astropy.utils.metadata.merge]\n",
      "WARNING: MergeConflictWarning: Cannot merge meta key 'description' types <class 'str'> and <class 'str'>, choosing description=\"Query result for:\\nSELECT detid, srcid, name, src_num, obsid, ra, dec, error_radius, ep_extent, ep_extent_error, ep_extent_ml, sc_ra, sc_dec, sc_poserr, sc_det_ml FROM xmmssc WHERE CONTAINS(POINT('ICRS',ra,dec),CIRCLE('ICRS',183.1322959,27.4870882,0.05))=1\" [astropy.utils.metadata.merge]\n",
      "WARNING: MergeConflictWarning: Cannot merge meta key 'description' types <class 'str'> and <class 'str'>, choosing description=\"Query result for:\\nSELECT detid, srcid, name, src_num, obsid, ra, dec, error_radius, ep_extent, ep_extent_error, ep_extent_ml, sc_ra, sc_dec, sc_poserr, sc_det_ml FROM xmmssc WHERE CONTAINS(POINT('ICRS',ra,dec),CIRCLE('ICRS',205.5720258,9.308067,0.05))=1\" [astropy.utils.metadata.merge]\n",
      "WARNING: NoResultsWarning: No matching rows were found in the query. [astroquery.heasarc.core]\n",
      "WARNING: MergeConflictWarning: Cannot merge meta key 'description' types <class 'str'> and <class 'str'>, choosing description=\"Query result for:\\nSELECT detid, srcid, name, src_num, obsid, ra, dec, error_radius, ep_extent, ep_extent_error, ep_extent_ml, sc_ra, sc_dec, sc_poserr, sc_det_ml FROM xmmssc WHERE CONTAINS(POINT('ICRS',ra,dec),CIRCLE('ICRS',204.5789783,-19.8794778,0.05))=1\" [astropy.utils.metadata.merge]\n",
      "WARNING: NoResultsWarning: No matching rows were found in the query. [astroquery.heasarc.core]\n",
      "WARNING: MergeConflictWarning: Cannot merge meta key 'description' types <class 'str'> and <class 'str'>, choosing description=\"Query result for:\\nSELECT detid, srcid, name, src_num, obsid, ra, dec, error_radius, ep_extent, ep_extent_error, ep_extent_ml, sc_ra, sc_dec, sc_poserr, sc_det_ml FROM xmmssc WHERE CONTAINS(POINT('ICRS',ra,dec),CIRCLE('ICRS',221.6227941,-23.2860626,0.05))=1\" [astropy.utils.metadata.merge]\n",
      "WARNING: NoResultsWarning: No matching rows were found in the query. [astroquery.heasarc.core]\n",
      "WARNING: MergeConflictWarning: Cannot merge meta key 'description' types <class 'str'> and <class 'str'>, choosing description=\"Query result for:\\nSELECT detid, srcid, name, src_num, obsid, ra, dec, error_radius, ep_extent, ep_extent_error, ep_extent_ml, sc_ra, sc_dec, sc_poserr, sc_det_ml FROM xmmssc WHERE CONTAINS(POINT('ICRS',ra,dec),CIRCLE('ICRS',130.5298837,1.6983955,0.05))=1\" [astropy.utils.metadata.merge]\n",
      "WARNING: MergeConflictWarning: Cannot merge meta key 'description' types <class 'str'> and <class 'str'>, choosing description=\"Query result for:\\nSELECT detid, srcid, name, src_num, obsid, ra, dec, error_radius, ep_extent, ep_extent_error, ep_extent_ml, sc_ra, sc_dec, sc_poserr, sc_det_ml FROM xmmssc WHERE CONTAINS(POINT('ICRS',ra,dec),CIRCLE('ICRS',224.3278892,24.7169779,0.05))=1\" [astropy.utils.metadata.merge]\n",
      "WARNING: MergeConflictWarning: Cannot merge meta key 'description' types <class 'str'> and <class 'str'>, choosing description=\"Query result for:\\nSELECT detid, srcid, name, src_num, obsid, ra, dec, error_radius, ep_extent, ep_extent_error, ep_extent_ml, sc_ra, sc_dec, sc_poserr, sc_det_ml FROM xmmssc WHERE CONTAINS(POINT('ICRS',ra,dec),CIRCLE('ICRS',155.4060634,18.1657443,0.05))=1\" [astropy.utils.metadata.merge]\n",
      "WARNING: MergeConflictWarning: Cannot merge meta key 'description' types <class 'str'> and <class 'str'>, choosing description=\"Query result for:\\nSELECT detid, srcid, name, src_num, obsid, ra, dec, error_radius, ep_extent, ep_extent_error, ep_extent_ml, sc_ra, sc_dec, sc_poserr, sc_det_ml FROM xmmssc WHERE CONTAINS(POINT('ICRS',ra,dec),CIRCLE('ICRS',152.6594154,-4.7508,0.05))=1\" [astropy.utils.metadata.merge]\n",
      "WARNING: MergeConflictWarning: Cannot merge meta key 'description' types <class 'str'> and <class 'str'>, choosing description=\"Query result for:\\nSELECT detid, srcid, name, src_num, obsid, ra, dec, error_radius, ep_extent, ep_extent_error, ep_extent_ml, sc_ra, sc_dec, sc_poserr, sc_det_ml FROM xmmssc WHERE CONTAINS(POINT('ICRS',ra,dec),CIRCLE('ICRS',150.3011088,1.8910817,0.05))=1\" [astropy.utils.metadata.merge]\n",
      "WARNING: NoResultsWarning: No matching rows were found in the query. [astroquery.heasarc.core]\n",
      "WARNING: MergeConflictWarning: Cannot merge meta key 'description' types <class 'str'> and <class 'str'>, choosing description=\"Query result for:\\nSELECT detid, srcid, name, src_num, obsid, ra, dec, error_radius, ep_extent, ep_extent_error, ep_extent_ml, sc_ra, sc_dec, sc_poserr, sc_det_ml FROM xmmssc WHERE CONTAINS(POINT('ICRS',ra,dec),CIRCLE('ICRS',159.2102447,1.7162864,0.05))=1\" [astropy.utils.metadata.merge]\n",
      "WARNING: NoResultsWarning: No matching rows were found in the query. [astroquery.heasarc.core]\n",
      "WARNING: MergeConflictWarning: Cannot merge meta key 'description' types <class 'str'> and <class 'str'>, choosing description=\"Query result for:\\nSELECT detid, srcid, name, src_num, obsid, ra, dec, error_radius, ep_extent, ep_extent_error, ep_extent_ml, sc_ra, sc_dec, sc_poserr, sc_det_ml FROM xmmssc WHERE CONTAINS(POINT('ICRS',ra,dec),CIRCLE('ICRS',130.3650701,48.6033456,0.05))=1\" [astropy.utils.metadata.merge]\n",
      "WARNING: MergeConflictWarning: Cannot merge meta key 'description' types <class 'str'> and <class 'str'>, choosing description=\"Query result for:\\nSELECT detid, srcid, name, src_num, obsid, ra, dec, error_radius, ep_extent, ep_extent_error, ep_extent_ml, sc_ra, sc_dec, sc_poserr, sc_det_ml FROM xmmssc WHERE CONTAINS(POINT('ICRS',ra,dec),CIRCLE('ICRS',149.622923,2.2251064,0.05))=1\" [astropy.utils.metadata.merge]\n",
      "WARNING: NoResultsWarning: No matching rows were found in the query. [astroquery.heasarc.core]\n",
      "WARNING: MergeConflictWarning: Cannot merge meta key 'description' types <class 'str'> and <class 'str'>, choosing description=\"Query result for:\\nSELECT detid, srcid, name, src_num, obsid, ra, dec, error_radius, ep_extent, ep_extent_error, ep_extent_ml, sc_ra, sc_dec, sc_poserr, sc_det_ml FROM xmmssc WHERE CONTAINS(POINT('ICRS',ra,dec),CIRCLE('ICRS',161.1635171,33.9294614,0.05))=1\" [astropy.utils.metadata.merge]\n",
      "WARNING: MergeConflictWarning: Cannot merge meta key 'description' types <class 'str'> and <class 'str'>, choosing description=\"Query result for:\\nSELECT detid, srcid, name, src_num, obsid, ra, dec, error_radius, ep_extent, ep_extent_error, ep_extent_ml, sc_ra, sc_dec, sc_poserr, sc_det_ml FROM xmmssc WHERE CONTAINS(POINT('ICRS',ra,dec),CIRCLE('ICRS',177.2619897,22.4367759,0.05))=1\" [astropy.utils.metadata.merge]\n",
      "WARNING: MergeConflictWarning: Cannot merge meta key 'description' types <class 'str'> and <class 'str'>, choosing description=\"Query result for:\\nSELECT detid, srcid, name, src_num, obsid, ra, dec, error_radius, ep_extent, ep_extent_error, ep_extent_ml, sc_ra, sc_dec, sc_poserr, sc_det_ml FROM xmmssc WHERE CONTAINS(POINT('ICRS',ra,dec),CIRCLE('ICRS',150.0655286,2.5519213,0.05))=1\" [astropy.utils.metadata.merge]\n",
      "WARNING: MergeConflictWarning: Cannot merge meta key 'description' types <class 'str'> and <class 'str'>, choosing description=\"Query result for:\\nSELECT detid, srcid, name, src_num, obsid, ra, dec, error_radius, ep_extent, ep_extent_error, ep_extent_ml, sc_ra, sc_dec, sc_poserr, sc_det_ml FROM xmmssc WHERE CONTAINS(POINT('ICRS',ra,dec),CIRCLE('ICRS',150.1315237,2.4996595,0.05))=1\" [astropy.utils.metadata.merge]\n",
      "WARNING: MergeConflictWarning: Cannot merge meta key 'description' types <class 'str'> and <class 'str'>, choosing description=\"Query result for:\\nSELECT detid, srcid, name, src_num, obsid, ra, dec, error_radius, ep_extent, ep_extent_error, ep_extent_ml, sc_ra, sc_dec, sc_poserr, sc_det_ml FROM xmmssc WHERE CONTAINS(POINT('ICRS',ra,dec),CIRCLE('ICRS',150.245773,1.9774739,0.05))=1\" [astropy.utils.metadata.merge]\n",
      "WARNING: MergeConflictWarning: Cannot merge meta key 'description' types <class 'str'> and <class 'str'>, choosing description=\"Query result for:\\nSELECT detid, srcid, name, src_num, obsid, ra, dec, error_radius, ep_extent, ep_extent_error, ep_extent_ml, sc_ra, sc_dec, sc_poserr, sc_det_ml FROM xmmssc WHERE CONTAINS(POINT('ICRS',ra,dec),CIRCLE('ICRS',150.122717,2.4398773,0.05))=1\" [astropy.utils.metadata.merge]\n",
      "WARNING: MergeConflictWarning: Cannot merge meta key 'description' types <class 'str'> and <class 'str'>, choosing description=\"Query result for:\\nSELECT detid, srcid, name, src_num, obsid, ra, dec, error_radius, ep_extent, ep_extent_error, ep_extent_ml, sc_ra, sc_dec, sc_poserr, sc_det_ml FROM xmmssc WHERE CONTAINS(POINT('ICRS',ra,dec),CIRCLE('ICRS',172.9448009,-12.3606496,0.05))=1\" [astropy.utils.metadata.merge]\n",
      "WARNING: MergeConflictWarning: Cannot merge meta key 'description' types <class 'str'> and <class 'str'>, choosing description=\"Query result for:\\nSELECT detid, srcid, name, src_num, obsid, ra, dec, error_radius, ep_extent, ep_extent_error, ep_extent_ml, sc_ra, sc_dec, sc_poserr, sc_det_ml FROM xmmssc WHERE CONTAINS(POINT('ICRS',ra,dec),CIRCLE('ICRS',150.087407,2.4185307,0.05))=1\" [astropy.utils.metadata.merge]\n",
      "WARNING: MergeConflictWarning: Cannot merge meta key 'description' types <class 'str'> and <class 'str'>, choosing description=\"Query result for:\\nSELECT detid, srcid, name, src_num, obsid, ra, dec, error_radius, ep_extent, ep_extent_error, ep_extent_ml, sc_ra, sc_dec, sc_poserr, sc_det_ml FROM xmmssc WHERE CONTAINS(POINT('ICRS',ra,dec),CIRCLE('ICRS',150.2522872,1.7285573,0.05))=1\" [astropy.utils.metadata.merge]\n",
      "WARNING: MergeConflictWarning: Cannot merge meta key 'description' types <class 'str'> and <class 'str'>, choosing description=\"Query result for:\\nSELECT detid, srcid, name, src_num, obsid, ra, dec, error_radius, ep_extent, ep_extent_error, ep_extent_ml, sc_ra, sc_dec, sc_poserr, sc_det_ml FROM xmmssc WHERE CONTAINS(POINT('ICRS',ra,dec),CIRCLE('ICRS',216.0875674,24.2475067,0.05))=1\" [astropy.utils.metadata.merge]\n",
      "WARNING: MergeConflictWarning: Cannot merge meta key 'description' types <class 'str'> and <class 'str'>, choosing description=\"Query result for:\\nSELECT detid, srcid, name, src_num, obsid, ra, dec, error_radius, ep_extent, ep_extent_error, ep_extent_ml, sc_ra, sc_dec, sc_poserr, sc_det_ml FROM xmmssc WHERE CONTAINS(POINT('ICRS',ra,dec),CIRCLE('ICRS',187.7406477,12.5610561,0.05))=1\" [astropy.utils.metadata.merge]\n",
      "WARNING: MergeConflictWarning: Cannot merge meta key 'description' types <class 'str'> and <class 'str'>, choosing description=\"Query result for:\\nSELECT detid, srcid, name, src_num, obsid, ra, dec, error_radius, ep_extent, ep_extent_error, ep_extent_ml, sc_ra, sc_dec, sc_poserr, sc_det_ml FROM xmmssc WHERE CONTAINS(POINT('ICRS',ra,dec),CIRCLE('ICRS',180.4252837,-18.808734,0.05))=1\" [astropy.utils.metadata.merge]\n",
      "WARNING: MergeConflictWarning: Cannot merge meta key 'description' types <class 'str'> and <class 'str'>, choosing description=\"Query result for:\\nSELECT detid, srcid, name, src_num, obsid, ra, dec, error_radius, ep_extent, ep_extent_error, ep_extent_ml, sc_ra, sc_dec, sc_poserr, sc_det_ml FROM xmmssc WHERE CONTAINS(POINT('ICRS',ra,dec),CIRCLE('ICRS',176.4223951,20.3820559,0.05))=1\" [astropy.utils.metadata.merge]\n",
      "WARNING: NoResultsWarning: No matching rows were found in the query. [astroquery.heasarc.core]\n",
      "WARNING: MergeConflictWarning: Cannot merge meta key 'description' types <class 'str'> and <class 'str'>, choosing description=\"Query result for:\\nSELECT detid, srcid, name, src_num, obsid, ra, dec, error_radius, ep_extent, ep_extent_error, ep_extent_ml, sc_ra, sc_dec, sc_poserr, sc_det_ml FROM xmmssc WHERE CONTAINS(POINT('ICRS',ra,dec),CIRCLE('ICRS',190.4031028,22.4995389,0.05))=1\" [astropy.utils.metadata.merge]\n",
      "WARNING: MergeConflictWarning: Cannot merge meta key 'description' types <class 'str'> and <class 'str'>, choosing description=\"Query result for:\\nSELECT detid, srcid, name, src_num, obsid, ra, dec, error_radius, ep_extent, ep_extent_error, ep_extent_ml, sc_ra, sc_dec, sc_poserr, sc_det_ml FROM xmmssc WHERE CONTAINS(POINT('ICRS',ra,dec),CIRCLE('ICRS',181.5579466,-8.6302916,0.05))=1\" [astropy.utils.metadata.merge]\n",
      "WARNING: MergeConflictWarning: Cannot merge meta key 'description' types <class 'str'> and <class 'str'>, choosing description=\"Query result for:\\nSELECT detid, srcid, name, src_num, obsid, ra, dec, error_radius, ep_extent, ep_extent_error, ep_extent_ml, sc_ra, sc_dec, sc_poserr, sc_det_ml FROM xmmssc WHERE CONTAINS(POINT('ICRS',ra,dec),CIRCLE('ICRS',184.2851993,2.7440134,0.05))=1\" [astropy.utils.metadata.merge]\n",
      "WARNING: MergeConflictWarning: Cannot merge meta key 'description' types <class 'str'> and <class 'str'>, choosing description=\"Query result for:\\nSELECT detid, srcid, name, src_num, obsid, ra, dec, error_radius, ep_extent, ep_extent_error, ep_extent_ml, sc_ra, sc_dec, sc_poserr, sc_det_ml FROM xmmssc WHERE CONTAINS(POINT('ICRS',ra,dec),CIRCLE('ICRS',180.3574955,2.3583209,0.05))=1\" [astropy.utils.metadata.merge]\n",
      "WARNING: NoResultsWarning: No matching rows were found in the query. [astroquery.heasarc.core]\n",
      "WARNING: MergeConflictWarning: Cannot merge meta key 'description' types <class 'str'> and <class 'str'>, choosing description=\"Query result for:\\nSELECT detid, srcid, name, src_num, obsid, ra, dec, error_radius, ep_extent, ep_extent_error, ep_extent_ml, sc_ra, sc_dec, sc_poserr, sc_det_ml FROM xmmssc WHERE CONTAINS(POINT('ICRS',ra,dec),CIRCLE('ICRS',215.1343707,53.0534482,0.05))=1\" [astropy.utils.metadata.merge]\n",
      "WARNING: NoResultsWarning: No matching rows were found in the query. [astroquery.heasarc.core]\n",
      "WARNING: MergeConflictWarning: Cannot merge meta key 'description' types <class 'str'> and <class 'str'>, choosing description=\"Query result for:\\nSELECT detid, srcid, name, src_num, obsid, ra, dec, error_radius, ep_extent, ep_extent_error, ep_extent_ml, sc_ra, sc_dec, sc_poserr, sc_det_ml FROM xmmssc WHERE CONTAINS(POINT('ICRS',ra,dec),CIRCLE('ICRS',182.9192702,-1.1318991,0.05))=1\" [astropy.utils.metadata.merge]\n",
      "WARNING: MergeConflictWarning: Cannot merge meta key 'description' types <class 'str'> and <class 'str'>, choosing description=\"Query result for:\\nSELECT detid, srcid, name, src_num, obsid, ra, dec, error_radius, ep_extent, ep_extent_error, ep_extent_ml, sc_ra, sc_dec, sc_poserr, sc_det_ml FROM xmmssc WHERE CONTAINS(POINT('ICRS',ra,dec),CIRCLE('ICRS',181.3629013,-7.5363055,0.05))=1\" [astropy.utils.metadata.merge]\n",
      "WARNING: NoResultsWarning: No matching rows were found in the query. [astroquery.heasarc.core]\n",
      "WARNING: MergeConflictWarning: Cannot merge meta key 'description' types <class 'str'> and <class 'str'>, choosing description=\"Query result for:\\nSELECT detid, srcid, name, src_num, obsid, ra, dec, error_radius, ep_extent, ep_extent_error, ep_extent_ml, sc_ra, sc_dec, sc_poserr, sc_det_ml FROM xmmssc WHERE CONTAINS(POINT('ICRS',ra,dec),CIRCLE('ICRS',191.4234497,3.5618425,0.05))=1\" [astropy.utils.metadata.merge]\n",
      "WARNING: NoResultsWarning: No matching rows were found in the query. [astroquery.heasarc.core]\n",
      "WARNING: MergeConflictWarning: Cannot merge meta key 'description' types <class 'str'> and <class 'str'>, choosing description=\"Query result for:\\nSELECT detid, srcid, name, src_num, obsid, ra, dec, error_radius, ep_extent, ep_extent_error, ep_extent_ml, sc_ra, sc_dec, sc_poserr, sc_det_ml FROM xmmssc WHERE CONTAINS(POINT('ICRS',ra,dec),CIRCLE('ICRS',195.1846319,12.5341354,0.05))=1\" [astropy.utils.metadata.merge]\n",
      "WARNING: MergeConflictWarning: Cannot merge meta key 'description' types <class 'str'> and <class 'str'>, choosing description=\"Query result for:\\nSELECT detid, srcid, name, src_num, obsid, ra, dec, error_radius, ep_extent, ep_extent_error, ep_extent_ml, sc_ra, sc_dec, sc_poserr, sc_det_ml FROM xmmssc WHERE CONTAINS(POINT('ICRS',ra,dec),CIRCLE('ICRS',213.2233645,-3.2187078,0.05))=1\" [astropy.utils.metadata.merge]\n",
      "WARNING: NoResultsWarning: No matching rows were found in the query. [astroquery.heasarc.core]\n",
      "WARNING: MergeConflictWarning: Cannot merge meta key 'description' types <class 'str'> and <class 'str'>, choosing description=\"Query result for:\\nSELECT detid, srcid, name, src_num, obsid, ra, dec, error_radius, ep_extent, ep_extent_error, ep_extent_ml, sc_ra, sc_dec, sc_poserr, sc_det_ml FROM xmmssc WHERE CONTAINS(POINT('ICRS',ra,dec),CIRCLE('ICRS',265.7442374,67.0902047,0.05))=1\" [astropy.utils.metadata.merge]\n",
      "WARNING: NoResultsWarning: No matching rows were found in the query. [astroquery.heasarc.core]\n",
      "WARNING: MergeConflictWarning: Cannot merge meta key 'description' types <class 'str'> and <class 'str'>, choosing description=\"Query result for:\\nSELECT detid, srcid, name, src_num, obsid, ra, dec, error_radius, ep_extent, ep_extent_error, ep_extent_ml, sc_ra, sc_dec, sc_poserr, sc_det_ml FROM xmmssc WHERE CONTAINS(POINT('ICRS',ra,dec),CIRCLE('ICRS',137.7250701,-4.4086121,0.05))=1\" [astropy.utils.metadata.merge]\n",
      "WARNING: MergeConflictWarning: Cannot merge meta key 'description' types <class 'str'> and <class 'str'>, choosing description=\"Query result for:\\nSELECT detid, srcid, name, src_num, obsid, ra, dec, error_radius, ep_extent, ep_extent_error, ep_extent_ml, sc_ra, sc_dec, sc_poserr, sc_det_ml FROM xmmssc WHERE CONTAINS(POINT('ICRS',ra,dec),CIRCLE('ICRS',149.3468686,2.5384074,0.05))=1\" [astropy.utils.metadata.merge]\n",
      "WARNING: MergeConflictWarning: Cannot merge meta key 'description' types <class 'str'> and <class 'str'>, choosing description=\"Query result for:\\nSELECT detid, srcid, name, src_num, obsid, ra, dec, error_radius, ep_extent, ep_extent_error, ep_extent_ml, sc_ra, sc_dec, sc_poserr, sc_det_ml FROM xmmssc WHERE CONTAINS(POINT('ICRS',ra,dec),CIRCLE('ICRS',149.4398783,2.1723808,0.05))=1\" [astropy.utils.metadata.merge]\n",
      "WARNING: MergeConflictWarning: Cannot merge meta key 'description' types <class 'str'> and <class 'str'>, choosing description=\"Query result for:\\nSELECT detid, srcid, name, src_num, obsid, ra, dec, error_radius, ep_extent, ep_extent_error, ep_extent_ml, sc_ra, sc_dec, sc_poserr, sc_det_ml FROM xmmssc WHERE CONTAINS(POINT('ICRS',ra,dec),CIRCLE('ICRS',149.4029133,1.6714444,0.05))=1\" [astropy.utils.metadata.merge]\n",
      "WARNING: MergeConflictWarning: Cannot merge meta key 'description' types <class 'str'> and <class 'str'>, choosing description=\"Query result for:\\nSELECT detid, srcid, name, src_num, obsid, ra, dec, error_radius, ep_extent, ep_extent_error, ep_extent_ml, sc_ra, sc_dec, sc_poserr, sc_det_ml FROM xmmssc WHERE CONTAINS(POINT('ICRS',ra,dec),CIRCLE('ICRS',149.7024376,2.0589467,0.05))=1\" [astropy.utils.metadata.merge]\n",
      "WARNING: MergeConflictWarning: Cannot merge meta key 'description' types <class 'str'> and <class 'str'>, choosing description=\"Query result for:\\nSELECT detid, srcid, name, src_num, obsid, ra, dec, error_radius, ep_extent, ep_extent_error, ep_extent_ml, sc_ra, sc_dec, sc_poserr, sc_det_ml FROM xmmssc WHERE CONTAINS(POINT('ICRS',ra,dec),CIRCLE('ICRS',189.1800244,62.0654165,0.05))=1\" [astropy.utils.metadata.merge]\n",
      "WARNING: MergeConflictWarning: Cannot merge meta key 'description' types <class 'str'> and <class 'str'>, choosing description=\"Query result for:\\nSELECT detid, srcid, name, src_num, obsid, ra, dec, error_radius, ep_extent, ep_extent_error, ep_extent_ml, sc_ra, sc_dec, sc_poserr, sc_det_ml FROM xmmssc WHERE CONTAINS(POINT('ICRS',ra,dec),CIRCLE('ICRS',150.5036633,2.263394,0.05))=1\" [astropy.utils.metadata.merge]\n",
      "WARNING: MergeConflictWarning: Cannot merge meta key 'description' types <class 'str'> and <class 'str'>, choosing description=\"Query result for:\\nSELECT detid, srcid, name, src_num, obsid, ra, dec, error_radius, ep_extent, ep_extent_error, ep_extent_ml, sc_ra, sc_dec, sc_poserr, sc_det_ml FROM xmmssc WHERE CONTAINS(POINT('ICRS',ra,dec),CIRCLE('ICRS',150.1552214,2.041839,0.05))=1\" [astropy.utils.metadata.merge]\n",
      "WARNING: MergeConflictWarning: Cannot merge meta key 'description' types <class 'str'> and <class 'str'>, choosing description=\"Query result for:\\nSELECT detid, srcid, name, src_num, obsid, ra, dec, error_radius, ep_extent, ep_extent_error, ep_extent_ml, sc_ra, sc_dec, sc_poserr, sc_det_ml FROM xmmssc WHERE CONTAINS(POINT('ICRS',ra,dec),CIRCLE('ICRS',150.1030697,1.7931779,0.05))=1\" [astropy.utils.metadata.merge]\n",
      "WARNING: MergeConflictWarning: Cannot merge meta key 'description' types <class 'str'> and <class 'str'>, choosing description=\"Query result for:\\nSELECT detid, srcid, name, src_num, obsid, ra, dec, error_radius, ep_extent, ep_extent_error, ep_extent_ml, sc_ra, sc_dec, sc_poserr, sc_det_ml FROM xmmssc WHERE CONTAINS(POINT('ICRS',ra,dec),CIRCLE('ICRS',214.5759308,52.2796828,0.05))=1\" [astropy.utils.metadata.merge]\n",
      "WARNING: MergeConflictWarning: Cannot merge meta key 'description' types <class 'str'> and <class 'str'>, choosing description=\"Query result for:\\nSELECT detid, srcid, name, src_num, obsid, ra, dec, error_radius, ep_extent, ep_extent_error, ep_extent_ml, sc_ra, sc_dec, sc_poserr, sc_det_ml FROM xmmssc WHERE CONTAINS(POINT('ICRS',ra,dec),CIRCLE('ICRS',177.4168452,22.1796794,0.05))=1\" [astropy.utils.metadata.merge]\n",
      "WARNING: MergeConflictWarning: Cannot merge meta key 'description' types <class 'str'> and <class 'str'>, choosing description=\"Query result for:\\nSELECT detid, srcid, name, src_num, obsid, ra, dec, error_radius, ep_extent, ep_extent_error, ep_extent_ml, sc_ra, sc_dec, sc_poserr, sc_det_ml FROM xmmssc WHERE CONTAINS(POINT('ICRS',ra,dec),CIRCLE('ICRS',169.9978926,6.5094453,0.05))=1\" [astropy.utils.metadata.merge]\n",
      "WARNING: MergeConflictWarning: Cannot merge meta key 'description' types <class 'str'> and <class 'str'>, choosing description=\"Query result for:\\nSELECT detid, srcid, name, src_num, obsid, ra, dec, error_radius, ep_extent, ep_extent_error, ep_extent_ml, sc_ra, sc_dec, sc_poserr, sc_det_ml FROM xmmssc WHERE CONTAINS(POINT('ICRS',ra,dec),CIRCLE('ICRS',177.4628389,22.2952512,0.05))=1\" [astropy.utils.metadata.merge]\n",
      "WARNING: NoResultsWarning: No matching rows were found in the query. [astroquery.heasarc.core]\n",
      "WARNING: MergeConflictWarning: Cannot merge meta key 'description' types <class 'str'> and <class 'str'>, choosing description=\"Query result for:\\nSELECT detid, srcid, name, src_num, obsid, ra, dec, error_radius, ep_extent, ep_extent_error, ep_extent_ml, sc_ra, sc_dec, sc_poserr, sc_det_ml FROM xmmssc WHERE CONTAINS(POINT('ICRS',ra,dec),CIRCLE('ICRS',177.5042438,22.6834367,0.05))=1\" [astropy.utils.metadata.merge]\n",
      "WARNING: MergeConflictWarning: Cannot merge meta key 'description' types <class 'str'> and <class 'str'>, choosing description=\"Query result for:\\nSELECT detid, srcid, name, src_num, obsid, ra, dec, error_radius, ep_extent, ep_extent_error, ep_extent_ml, sc_ra, sc_dec, sc_poserr, sc_det_ml FROM xmmssc WHERE CONTAINS(POINT('ICRS',ra,dec),CIRCLE('ICRS',169.9723865,6.7628474,0.05))=1\" [astropy.utils.metadata.merge]\n",
      "WARNING: MergeConflictWarning: Cannot merge meta key 'description' types <class 'str'> and <class 'str'>, choosing description=\"Query result for:\\nSELECT detid, srcid, name, src_num, obsid, ra, dec, error_radius, ep_extent, ep_extent_error, ep_extent_ml, sc_ra, sc_dec, sc_poserr, sc_det_ml FROM xmmssc WHERE CONTAINS(POINT('ICRS',ra,dec),CIRCLE('ICRS',157.5820923,5.5249115,0.05))=1\" [astropy.utils.metadata.merge]\n",
      "WARNING: MergeConflictWarning: Cannot merge meta key 'description' types <class 'str'> and <class 'str'>, choosing description=\"Query result for:\\nSELECT detid, srcid, name, src_num, obsid, ra, dec, error_radius, ep_extent, ep_extent_error, ep_extent_ml, sc_ra, sc_dec, sc_poserr, sc_det_ml FROM xmmssc WHERE CONTAINS(POINT('ICRS',ra,dec),CIRCLE('ICRS',159.1929805,-2.4619514,0.05))=1\" [astropy.utils.metadata.merge]\n",
      "WARNING: NoResultsWarning: No matching rows were found in the query. [astroquery.heasarc.core]\n",
      "WARNING: MergeConflictWarning: Cannot merge meta key 'description' types <class 'str'> and <class 'str'>, choosing description=\"Query result for:\\nSELECT detid, srcid, name, src_num, obsid, ra, dec, error_radius, ep_extent, ep_extent_error, ep_extent_ml, sc_ra, sc_dec, sc_poserr, sc_det_ml FROM xmmssc WHERE CONTAINS(POINT('ICRS',ra,dec),CIRCLE('ICRS',188.1922631,9.3749902,0.05))=1\" [astropy.utils.metadata.merge]\n"
     ]
    },
    {
     "name": "stdout",
     "output_type": "stream",
     "text": [
      "     detid           srcid               name         ... sc_det_ml par_name\n",
      "                                                      ...                   \n",
      "--------------- --------------- --------------------- ... --------- --------\n",
      "106939903015035 206939901010018 4XMM J112008.5+063405 ...    356.99   Par001\n",
      "108849904010129 206939902015162 4XMM J112011.6+063417 ...    20.004   Par001\n",
      "106939902010003 206939901010002 4XMM J112014.8+063341 ...    5756.5   Par001\n",
      "106939901010002 206939901010002 4XMM J112014.8+063341 ...    5756.5   Par001\n",
      "106939902010158 206939902010158 4XMM J112005.6+063733 ...    7.8045   Par001\n",
      "106939902010101 206939902010101 4XMM J112015.2+063654 ...    20.465   Par001\n",
      "106939903010045 206939901010044 4XMM J112006.7+063351 ...    142.67   Par001\n",
      "106939901010088 206939901010088 4XMM J112009.8+063337 ...    9.3716   Par001\n",
      "106939902010013 206939901010010 4XMM J111959.5+063641 ...    1038.9   Par001\n",
      "            ...             ...                   ... ...       ...      ...\n",
      "108031611010061 208031611010061 4XMM J103652.9-022529 ...    15.829   Par061\n",
      "108031611010091 208031611010091 4XMM J103639.4-022654 ...    7.9661   Par061\n",
      "108031611010004 208031611010004 4XMM J103648.8-022818 ...    1198.1   Par061\n",
      "108031611010022 208031611010022 4XMM J103652.4-022629 ...     97.35   Par061\n",
      "108031611010002 208031611010002 4XMM J103654.0-022725 ...    2342.6   Par061\n",
      "108521807010023 208521807010023 4XMM J095957.6-224959 ...    144.85   Par063\n",
      "108521807010099 208521807010099 4XMM J095946.6-224854 ...    7.3516   Par063\n",
      "108521807010014 208521807010014 4XMM J095951.7-224726 ...    307.03   Par063\n",
      "108521807010048 208521807010048 4XMM J095954.4-224946 ...    37.958   Par063\n",
      "108521807010066 208521807010066 4XMM J095958.9-225022 ...    30.119   Par063\n",
      "Length = 876 rows\n"
     ]
    },
    {
     "name": "stderr",
     "output_type": "stream",
     "text": [
      "WARNING: MergeConflictWarning: Cannot merge meta key 'description' types <class 'str'> and <class 'str'>, choosing description=\"Query result for:\\nSELECT detid, srcid, name, src_num, obsid, ra, dec, error_radius, ep_extent, ep_extent_error, ep_extent_ml, sc_ra, sc_dec, sc_poserr, sc_det_ml FROM xmmssc WHERE CONTAINS(POINT('ICRS',ra,dec),CIRCLE('ICRS',149.9702594,-22.8246009,0.05))=1\" [astropy.utils.metadata.merge]\n"
     ]
    }
   ],
   "source": [
    "#do the first one outside the loop\n",
    "\n",
    "xmm_cols='detid, srcid, name, src_num, obsid, ra, dec, error_radius, ep_extent, ep_extent_error, ep_extent_ml, sc_ra, sc_dec, sc_poserr, sc_det_ml'\n",
    "\n",
    "for i in range(len(par_coords_list)):\n",
    "    \n",
    "    #we already did the first one\n",
    "    if i==0:\n",
    "        xmm_table=Heasarc.query_region(par_coords_list[i],catalog='xmmssc',radius=check_radius,columns=xmm_cols)\n",
    "        add_col=tab.Column(np.repeat(par_names[i],len(xmm_table)),name='par_name')\n",
    "        xmm_table.add_column(add_col)\n",
    "        continue\n",
    "    current_par=par_names[i]\n",
    "    add_table=Heasarc.query_region(par_coords_list[i],catalog='xmmssc',radius=check_radius,columns=xmm_cols)\n",
    "    add_col=tab.Column(np.repeat(par_names[i],len(add_table)),name='par_name')\n",
    "    add_table.add_column(add_col)\n",
    "    xmm_table=tab.vstack([xmm_table,add_table])\n",
    "\n",
    "print(xmm_table)\n",
    "\n",
    "\n",
    "    \n"
   ]
  },
  {
   "cell_type": "code",
   "execution_count": 49,
   "metadata": {},
   "outputs": [
    {
     "data": {
      "text/plain": [
       "(81, 21)"
      ]
     },
     "execution_count": 49,
     "metadata": {},
     "output_type": "execute_result"
    }
   ],
   "source": [
    "len(set(xmm_table['srcid'])),len(set(xmm_table['obsid']))"
   ]
  },
  {
   "cell_type": "code",
   "execution_count": 55,
   "metadata": {},
   "outputs": [
    {
     "data": {
      "image/png": "[encoded data removed]",
      "text/plain": [
       "<Figure size 640x480 with 1 Axes>"
      ]
     },
     "metadata": {},
     "output_type": "display_data"
    }
   ],
   "source": [
    "plt.figure()\n",
    "plt.plot(csc_table['ra'],csc_table['dec'],'.')\n",
    "plt.plot(xmm_table['ra'],xmm_table['dec'],'.')\n",
    "plt.show()\n",
    "\n",
    "xmm_unique_table=tab.unique(xmm_table,keys='srcid')\n",
    "\n",
    "chan_coords=coord.SkyCoord(ra=csc_table['ra'],dec=csc_table['dec'],unit=(u.deg, u.deg))\n",
    "xmm_coords=coord.SkyCoord(ra=xmm_unique_table['sc_ra'],dec=xmm_unique_table['sc_dec'],unit=(u.deg, u.deg))\n",
    "\n",
    "chan_match_idx, d2d, d3d = chan_coords.match_to_catalog_sky(xmm_coords,)\n",
    "\n",
    "match_radius=3*u.arcsec\n",
    "dist_mask=d2d<match_radius\n"
   ]
  },
  {
   "cell_type": "code",
   "execution_count": 59,
   "metadata": {},
   "outputs": [
    {
     "data": {
      "image/png": "[encoded data removed]",
      "text/plain": [
       "<Figure size 640x480 with 1 Axes>"
      ]
     },
     "metadata": {},
     "output_type": "display_data"
    }
   ],
   "source": [
    "plt.figure()\n",
    "plt.hist(d2d.arcsec[d2d<10*u.arcsec],bins=100)\n",
    "plt.show()"
   ]
  }
 ],
 "metadata": {
  "kernelspec": {
   "display_name": "Python 3",
   "language": "python",
   "name": "python3"
  },
  "language_info": {
   "codemirror_mode": {
    "name": "ipython",
    "version": 3
   },
   "file_extension": ".py",
   "mimetype": "text/x-python",
   "name": "python",
   "nbconvert_exporter": "python",
   "pygments_lexer": "ipython3",
   "version": "3.10.12"
  }
 },
 "nbformat": 4,
 "nbformat_minor": 2
}
