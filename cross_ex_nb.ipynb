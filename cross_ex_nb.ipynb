{
 "cells": [
  {
   "cell_type": "markdown",
   "metadata": {},
   "source": [
    "First, Compile a list of all chandra sources that could possibly be in PASSAGE (within 3 arcmin of the center)"
   ]
  },
  {
   "cell_type": "code",
   "execution_count": null,
   "metadata": {},
   "outputs": [],
   "source": [
    "import numpy as np\n",
    "import matplotlib.pyplot as plt\n",
    "import matplotlib as mpl\n",
    "import astropy.coordinates as coord\n",
    "from astroquery.vizier import Vizier\n",
    "from astroquery.skyview import SkyView\n",
    "from astropy.io import fits\n",
    "from astropy.utils.data import download_file\n",
    "from astropy.wcs import WCS\n",
    "import astropy.units as u\n",
    "from astropy import wcs\n",
    "from matplotlib.patches import Ellipse"
   ]
  },
  {
   "cell_type": "code",
   "execution_count": null,
   "metadata": {},
   "outputs": [],
   "source": [
    "check_radius=0.05*u.deg #=3 arcmin\n",
    "catalog_name = \t'IX/70/csc21mas'\n",
    "par_coords_import=np.loadtxt('./par_coords.csv',dtype='str',delimiter=',')\n",
    "par_coords_list=coord.SkyCoord(ra=par_coords_import[:,1],dec=par_coords_import[:,2],unit=(u.deg, u.deg))\n",
    "par_names=par_coords_import[:,0]"
   ]
  },
  {
   "cell_type": "code",
   "execution_count": null,
   "metadata": {},
   "outputs": [],
   "source": [
    "chandra_counts=np.zeros(len(par_coords_list))\n",
    "\n",
    "for i in range(len(par_coords_list)):\n",
    "\n",
    "\n",
    "\n",
    "        current_par=par_names[i]\n",
    "\n",
    "        print(current_par+'\\n')\n",
    "\n",
    "        #query chandra\n",
    "        chandra_result = Vizier.query_region(par_coords_list[i],catalog=catalog_name,radius=0.05*u.deg)\n",
    "\n",
    "        if len(chandra_result) > 0:\n",
    "            chandra_chandra_result[0]\n",
    "        else:\n",
    "            print(\"Nothing found for \"+ current_par)\n",
    "            continue"
   ]
  }
 ],
 "metadata": {
  "kernelspec": {
   "display_name": "Python 3",
   "language": "python",
   "name": "python3"
  },
  "language_info": {
   "name": "python",
   "version": "3.10.12"
  }
 },
 "nbformat": 4,
 "nbformat_minor": 2
}
