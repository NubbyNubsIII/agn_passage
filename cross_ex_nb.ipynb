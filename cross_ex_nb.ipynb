{
 "cells": [
  {
   "cell_type": "markdown",
   "metadata": {},
   "source": [
    "First, Compile a list of all chandra sources that could possibly be in PASSAGE (within 3 arcmin of the center)"
   ]
  },
  {
   "cell_type": "code",
   "execution_count": 1,
   "metadata": {},
   "outputs": [],
   "source": [
    "import numpy as np\n",
    "\n",
    "import matplotlib.pyplot as plt\n",
    "import matplotlib as mpl\n",
    "import astropy.coordinates as coord\n",
    "from astroquery.heasarc import Heasarc\n",
    "from astropy.utils.data import download_file\n",
    "import astropy.units as u\n",
    "import pandas as pd\n",
    "from astroquery.vizier import Vizier\n",
    "import astropy.table as tab\n",
    "from matplotlib.patches import Circle\n",
    "from ipywidgets import interact\n",
    "import os\n"
   ]
  },
  {
   "cell_type": "code",
   "execution_count": 6,
   "metadata": {},
   "outputs": [],
   "source": [
    "check_radius=0.05*u.deg #=3 arcmin\n",
    "catalog_names = {'chandra':'csc',\n",
    "                 'xmm':'xmmstack',\n",
    "                 'milliquas':'milliquas'}\n",
    "                 \n",
    "par_coords_import=np.loadtxt('./par_coords.csv',dtype='str',delimiter=',')\n",
    "par_coords_list=coord.SkyCoord(ra=par_coords_import[:,1],dec=par_coords_import[:,2],unit=(u.deg, u.deg))\n",
    "par_names=par_coords_import[:,0]"
   ]
  },
  {
   "cell_type": "code",
   "execution_count": 35,
   "metadata": {},
   "outputs": [
    {
     "name": "stdout",
     "output_type": "stream",
     "text": [
      "                      name          ra        dec  significance  \\\n",
      "0    2CXO J111959.4+063641  169.997826   6.611406      4.722222   \n",
      "1    2CXO J112001.2+063610  170.005175   6.602871      2.555556   \n",
      "2    2CXO J112008.8+063438  170.036895   6.577439      2.205128   \n",
      "3    2CXO J112009.1+063814  170.038094   6.637490      4.315789   \n",
      "4    2CXO J114824.6+524847  177.102851  52.813074      2.702703   \n",
      "..                     ...         ...        ...           ...   \n",
      "401  2CXO J103027.1+052917  157.613073   5.488196      4.045455   \n",
      "402  2CXO J103028.4+053114  157.618569   5.520807     11.491644   \n",
      "403  2CXO J095946.7-224853  149.944730 -22.814813      4.833333   \n",
      "404  2CXO J095951.8-224728  149.965982 -22.791243      6.024397   \n",
      "405  2CXO J100001.0-224713  150.004490 -22.787133      3.294118   \n",
      "\n",
      "     error_ellipse_r0  error_ellipse_r1  error_ellipse_angle par_name  \n",
      "0            1.159674          0.635005           136.167155   Par001  \n",
      "1            2.950725          1.257915           138.978518   Par001  \n",
      "2            3.478849          3.478846             0.000000   Par001  \n",
      "3            0.848926          0.682037           119.969583   Par001  \n",
      "4            1.340882          0.676027           177.741472   Par002  \n",
      "..                ...               ...                  ...      ...  \n",
      "401          1.043412          0.679101            28.315096   Par060  \n",
      "402          0.409801          0.329417            61.548617   Par060  \n",
      "403          0.911855          0.590903           110.534065   Par063  \n",
      "404          1.075658          0.724837            94.946808   Par063  \n",
      "405          2.165274          1.262637            88.956928   Par063  \n",
      "\n",
      "[406 rows x 8 columns]\n",
      "387\n"
     ]
    }
   ],
   "source": [
    "temp=pd.read_csv('./csc_table.csv', delimiter=',')\n",
    "print(temp)\n",
    "temp = temp.drop_duplicates(subset=['name'])\n",
    "print(len(temp))\n",
    "temp.to_csv('./csc_table_nodup.tsv', index=False, sep='\\t')\n",
    "\n",
    "\n"
   ]
  },
  {
   "cell_type": "code",
   "execution_count": 3,
   "metadata": {},
   "outputs": [
    {
     "name": "stderr",
     "output_type": "stream",
     "text": [
      "/tmp/ipykernel_8478/1540790532.py:20: FutureWarning: The behavior of DataFrame concatenation with empty or all-NA entries is deprecated. In a future version, this will no longer exclude empty or all-NA columns when determining the result dtypes. To retain the old behavior, exclude the relevant entries before the concat operation.\n",
      "  chosen_stacks = pd.concat([chosen_stacks, max_row], ignore_index=True)\n"
     ]
    },
    {
     "name": "stdout",
     "output_type": "stream",
     "text": [
      "The number of best stack images is 387 - should match the number of unique objects 387\n",
      "The number of total stack images was 1437\n",
      "The number of sources which share a 'best stack image' with another source is 4\n"
     ]
    },
    {
     "ename": "FileNotFoundError",
     "evalue": "[Errno 2] No such file or directory: '/home/jacoblevine7/AGN_proj/agn_storage/chan_pix/cdapackage.6.20250707.175119.001'",
     "output_type": "error",
     "traceback": [
      "\u001b[31m---------------------------------------------------------------------------\u001b[39m",
      "\u001b[31mFileNotFoundError\u001b[39m                         Traceback (most recent call last)",
      "\u001b[36mCell\u001b[39m\u001b[36m \u001b[39m\u001b[32mIn[3]\u001b[39m\u001b[32m, line 32\u001b[39m\n\u001b[32m     30\u001b[39m \u001b[38;5;66;03m#folder with the downloaded chandra stack region images\u001b[39;00m\n\u001b[32m     31\u001b[39m filepath=\u001b[33m'\u001b[39m\u001b[33m/home/jacoblevine7/AGN_proj/agn_storage/chan_pix/cdapackage.6.20250707.175119.001\u001b[39m\u001b[33m'\u001b[39m\n\u001b[32m---> \u001b[39m\u001b[32m32\u001b[39m filenames= \u001b[43mos\u001b[49m\u001b[43m.\u001b[49m\u001b[43mlistdir\u001b[49m\u001b[43m(\u001b[49m\u001b[43mfilepath\u001b[49m\u001b[43m)\u001b[49m\n\u001b[32m     33\u001b[39m \u001b[38;5;28mprint\u001b[39m(filenames)\n\u001b[32m     35\u001b[39m \u001b[38;5;66;03m#Stripping the .gz extension and decompressing the files\u001b[39;00m\n",
      "\u001b[31mFileNotFoundError\u001b[39m: [Errno 2] No such file or directory: '/home/jacoblevine7/AGN_proj/agn_storage/chan_pix/cdapackage.6.20250707.175119.001'"
     ]
    }
   ],
   "source": [
    "#Stacked Observation Detections Table Chandra\n",
    "\n",
    "stack_obs = pd.read_csv('./cscresults_nodup.tsv', sep='\\t', comment='#')\n",
    "\n",
    "#print(stack_obs.columns)\n",
    "\n",
    "\n",
    "#choose the best stack image for each object based on likelihood in broadband\n",
    "unique_obj = stack_obs['master_source.name'].unique()\n",
    "\n",
    "chosen_stacks = pd.DataFrame(columns=stack_obs.columns)\n",
    "\n",
    "for obj in unique_obj:\n",
    "    #print('Processing object:', obj)\n",
    "    \n",
    "    obj_stacks= stack_obs[stack_obs['master_source.name'] == obj]\n",
    "\n",
    "    max_row = obj_stacks[obj_stacks['stack_source.likelihood_b'] == obj_stacks['stack_source.likelihood_b'].max()]\n",
    "\n",
    "    chosen_stacks = pd.concat([chosen_stacks, max_row], ignore_index=True)\n",
    "\n",
    "#check for multiple sources in the same stack region image\n",
    "chosen_stacks_dup=chosen_stacks[chosen_stacks.duplicated(subset=['stack_source.detect_stack_id','stack_source.region_id'], \n",
    "                                       keep=False)]\n",
    "\n",
    "print(f\"The number of best stack images is {len(chosen_stacks)} - should match the number of unique objects {len(unique_obj)}\")\n",
    "print(f\"The number of total stack images was {len(stack_obs)}\")\n",
    "print(f\"The number of sources which share a 'best stack image' with another source is {len(chosen_stacks_dup)}\")\n",
    "\n",
    "#folder with the downloaded chandra stack region images\n",
    "filepath='/home/jacoblevine7/AGN_proj/agn_storage/chan_pix/cdapackage.6.20250707.175119.001'\n",
    "filenames= os.listdir(filepath)\n",
    "print(filenames)\n",
    "\n",
    "#Stripping the .gz extension and decompressing the files\n",
    "for file in os.listdir(filepath):\n",
    "    if file.endswith('.fits.gz'):\n",
    "        print(file)\n",
    "        os.system(f'gzip -d {os.path.join(filepath,file)}')  # Decompress the file\n",
    "\n",
    "good_filenames = np.empty(dtype=str, shape=0)\n",
    "#read in csc table first, then everything needs to be done in the same order as the csc_table.csv\n",
    "csc_table = pd.read_csv('./csc_table.csv', sep=',')\n",
    "\n",
    "\n",
    "\n",
    "#choose which files to put into the chan_pix_good folder - id matching the stack source image \n",
    "\n",
    "\n",
    "#this section is bad, need to make more efficient\n",
    "#it loops through the chosen_stacks and then through all the filenames, which is not efficient\n",
    "#it should loop through the filenames and then check if the filename matches the chosen_stacks\n",
    "\n",
    "for i in range(len(chosen_stacks)):\n",
    "    \n",
    "    row = csc_table.iloc[i]\n",
    "    object_name = row['name']\n",
    "    temp_chosen_row = chosen_stacks[chosen_stacks['master_source.name'] == object_name]\n",
    "\n",
    "    for filename in filenames:\n",
    "        if filename.endswith('.fits'):\n",
    "        \n",
    "\n",
    "            if temp_chosen_row['stack_source.detect_stack_id'].item() in filename:\n",
    "                if str(temp_chosen_row['stack_source.region_id'].item()).zfill(4)+'b' in filename:\n",
    "                    \n",
    "                    good_filenames = np.append(good_filenames, filename)\n",
    "\n",
    "# make a new pandas series with the good filenames\n",
    "good_filenames = pd.Series(good_filenames, name='chan_filename')\n",
    "\n",
    "\n",
    "\n",
    "\n",
    "csc_table['chan_filename'] = good_filenames\n",
    "csc_table.to_csv('./csc_table.csv', index=False, sep=',')\n",
    "\n",
    "destination_folder = '/home/jacoblevine7/AGN_proj/agn_storage/chan_pix/chan_pix_good'\n",
    "\"\"\"\n",
    "for i in range(len(good_filenames)):\n",
    "    source_path = os.path.join(filepath, good_filenames[i])\n",
    "    destination_path = os.path.join(destination_folder, good_filenames[i])\n",
    "\n",
    "    os.system(f'cp {source_path} {destination_path}')  # Use cp command to copy files\n",
    "\"\"\"\n"
   ]
  },
  {
   "cell_type": "code",
   "execution_count": 7,
   "metadata": {},
   "outputs": [
    {
     "name": "stdout",
     "output_type": "stream",
     "text": [
      "csc\n",
      "\n",
      "Par001\n",
      "\n",
      "Par002\n",
      "\n",
      "Par003\n",
      "\n",
      "Par004\n",
      "\n",
      "Par005\n",
      "\n",
      "Par006\n",
      "\n",
      "Par007\n",
      "\n"
     ]
    },
    {
     "name": "stderr",
     "output_type": "stream",
     "text": [
      "WARNING: NoResultsWarning: No matching rows were found in the query. [astroquery.heasarc.core]\n"
     ]
    },
    {
     "name": "stdout",
     "output_type": "stream",
     "text": [
      "Nothing found for Par007\n",
      "Par008\n",
      "\n",
      "Par009\n",
      "\n",
      "Par010\n",
      "\n"
     ]
    },
    {
     "name": "stderr",
     "output_type": "stream",
     "text": [
      "WARNING: NoResultsWarning: No matching rows were found in the query. [astroquery.heasarc.core]\n"
     ]
    },
    {
     "name": "stdout",
     "output_type": "stream",
     "text": [
      "Nothing found for Par010\n",
      "Par011\n",
      "\n",
      "Par012\n",
      "\n"
     ]
    },
    {
     "name": "stderr",
     "output_type": "stream",
     "text": [
      "WARNING: NoResultsWarning: No matching rows were found in the query. [astroquery.heasarc.core]\n"
     ]
    },
    {
     "name": "stdout",
     "output_type": "stream",
     "text": [
      "Nothing found for Par012\n",
      "Par013\n",
      "\n"
     ]
    },
    {
     "name": "stderr",
     "output_type": "stream",
     "text": [
      "WARNING: NoResultsWarning: No matching rows were found in the query. [astroquery.heasarc.core]\n"
     ]
    },
    {
     "name": "stdout",
     "output_type": "stream",
     "text": [
      "Nothing found for Par013\n",
      "Par014\n",
      "\n",
      "Par015\n",
      "\n"
     ]
    },
    {
     "name": "stderr",
     "output_type": "stream",
     "text": [
      "WARNING: NoResultsWarning: No matching rows were found in the query. [astroquery.heasarc.core]\n"
     ]
    },
    {
     "name": "stdout",
     "output_type": "stream",
     "text": [
      "Nothing found for Par015\n",
      "Par016\n",
      "\n"
     ]
    },
    {
     "name": "stderr",
     "output_type": "stream",
     "text": [
      "WARNING: NoResultsWarning: No matching rows were found in the query. [astroquery.heasarc.core]\n"
     ]
    },
    {
     "name": "stdout",
     "output_type": "stream",
     "text": [
      "Nothing found for Par016\n",
      "Par017\n",
      "\n",
      "Par018\n",
      "\n"
     ]
    },
    {
     "name": "stderr",
     "output_type": "stream",
     "text": [
      "WARNING: NoResultsWarning: No matching rows were found in the query. [astroquery.heasarc.core]\n"
     ]
    },
    {
     "name": "stdout",
     "output_type": "stream",
     "text": [
      "Nothing found for Par018\n",
      "Par019\n",
      "\n"
     ]
    },
    {
     "name": "stderr",
     "output_type": "stream",
     "text": [
      "WARNING: NoResultsWarning: No matching rows were found in the query. [astroquery.heasarc.core]\n"
     ]
    },
    {
     "name": "stdout",
     "output_type": "stream",
     "text": [
      "Nothing found for Par019\n",
      "Par020\n",
      "\n",
      "Par021\n",
      "\n"
     ]
    },
    {
     "name": "stderr",
     "output_type": "stream",
     "text": [
      "WARNING: NoResultsWarning: No matching rows were found in the query. [astroquery.heasarc.core]\n"
     ]
    },
    {
     "name": "stdout",
     "output_type": "stream",
     "text": [
      "Nothing found for Par021\n",
      "Par022\n",
      "\n",
      "Par023\n",
      "\n",
      "Par024\n",
      "\n",
      "Par025\n",
      "\n",
      "Par026\n",
      "\n",
      "Par027\n",
      "\n",
      "Par028\n",
      "\n",
      "Par029\n",
      "\n",
      "Par030\n",
      "\n"
     ]
    },
    {
     "name": "stderr",
     "output_type": "stream",
     "text": [
      "WARNING: NoResultsWarning: No matching rows were found in the query. [astroquery.heasarc.core]\n"
     ]
    },
    {
     "name": "stdout",
     "output_type": "stream",
     "text": [
      "Nothing found for Par030\n",
      "Par031\n",
      "\n",
      "Par032\n",
      "\n",
      "Par033\n",
      "\n",
      "Par034\n",
      "\n"
     ]
    },
    {
     "name": "stderr",
     "output_type": "stream",
     "text": [
      "WARNING: NoResultsWarning: No matching rows were found in the query. [astroquery.heasarc.core]\n"
     ]
    },
    {
     "name": "stdout",
     "output_type": "stream",
     "text": [
      "Nothing found for Par034\n",
      "Par035\n",
      "\n",
      "Par036\n",
      "\n"
     ]
    },
    {
     "name": "stderr",
     "output_type": "stream",
     "text": [
      "WARNING: NoResultsWarning: No matching rows were found in the query. [astroquery.heasarc.core]\n"
     ]
    },
    {
     "name": "stdout",
     "output_type": "stream",
     "text": [
      "Nothing found for Par036\n",
      "Par037\n",
      "\n"
     ]
    },
    {
     "name": "stderr",
     "output_type": "stream",
     "text": [
      "WARNING: NoResultsWarning: No matching rows were found in the query. [astroquery.heasarc.core]\n"
     ]
    },
    {
     "name": "stdout",
     "output_type": "stream",
     "text": [
      "Nothing found for Par037\n",
      "Par038\n",
      "\n",
      "Par039\n",
      "\n"
     ]
    },
    {
     "name": "stderr",
     "output_type": "stream",
     "text": [
      "WARNING: NoResultsWarning: No matching rows were found in the query. [astroquery.heasarc.core]\n"
     ]
    },
    {
     "name": "stdout",
     "output_type": "stream",
     "text": [
      "Nothing found for Par039\n",
      "Par040\n",
      "\n",
      "Par041\n",
      "\n",
      "Par042\n",
      "\n"
     ]
    },
    {
     "name": "stderr",
     "output_type": "stream",
     "text": [
      "WARNING: NoResultsWarning: No matching rows were found in the query. [astroquery.heasarc.core]\n"
     ]
    },
    {
     "name": "stdout",
     "output_type": "stream",
     "text": [
      "Nothing found for Par042\n",
      "Par043\n",
      "\n",
      "Par044\n",
      "\n"
     ]
    },
    {
     "name": "stderr",
     "output_type": "stream",
     "text": [
      "WARNING: NoResultsWarning: No matching rows were found in the query. [astroquery.heasarc.core]\n"
     ]
    },
    {
     "name": "stdout",
     "output_type": "stream",
     "text": [
      "Nothing found for Par044\n",
      "Par045\n",
      "\n"
     ]
    },
    {
     "name": "stderr",
     "output_type": "stream",
     "text": [
      "WARNING: NoResultsWarning: No matching rows were found in the query. [astroquery.heasarc.core]\n"
     ]
    },
    {
     "name": "stdout",
     "output_type": "stream",
     "text": [
      "Nothing found for Par045\n",
      "Par046\n",
      "\n",
      "Par047\n",
      "\n",
      "Par048\n",
      "\n",
      "Par049\n",
      "\n",
      "Par050\n",
      "\n",
      "Par051\n",
      "\n",
      "Par052\n",
      "\n",
      "Par053\n",
      "\n",
      "Par054\n",
      "\n"
     ]
    },
    {
     "name": "stderr",
     "output_type": "stream",
     "text": [
      "WARNING: NoResultsWarning: No matching rows were found in the query. [astroquery.heasarc.core]\n"
     ]
    },
    {
     "name": "stdout",
     "output_type": "stream",
     "text": [
      "Nothing found for Par054\n",
      "Par055\n",
      "\n"
     ]
    },
    {
     "name": "stderr",
     "output_type": "stream",
     "text": [
      "WARNING: NoResultsWarning: No matching rows were found in the query. [astroquery.heasarc.core]\n"
     ]
    },
    {
     "name": "stdout",
     "output_type": "stream",
     "text": [
      "Nothing found for Par055\n",
      "Par056\n",
      "\n",
      "Par057\n",
      "\n",
      "Par058\n",
      "\n"
     ]
    },
    {
     "name": "stderr",
     "output_type": "stream",
     "text": [
      "WARNING: NoResultsWarning: No matching rows were found in the query. [astroquery.heasarc.core]\n"
     ]
    },
    {
     "name": "stdout",
     "output_type": "stream",
     "text": [
      "Nothing found for Par058\n",
      "Par059\n",
      "\n",
      "Par060\n",
      "\n",
      "Par061\n",
      "\n"
     ]
    },
    {
     "name": "stderr",
     "output_type": "stream",
     "text": [
      "WARNING: NoResultsWarning: No matching rows were found in the query. [astroquery.heasarc.core]\n"
     ]
    },
    {
     "name": "stdout",
     "output_type": "stream",
     "text": [
      "Nothing found for Par061\n",
      "Par062\n",
      "\n"
     ]
    },
    {
     "name": "stderr",
     "output_type": "stream",
     "text": [
      "WARNING: NoResultsWarning: No matching rows were found in the query. [astroquery.heasarc.core]\n"
     ]
    },
    {
     "name": "stdout",
     "output_type": "stream",
     "text": [
      "Nothing found for Par062\n",
      "Par063\n",
      "\n",
      "xmmstack\n",
      "\n",
      "Par001\n",
      "\n",
      "Par002\n",
      "\n",
      "Par003\n",
      "\n",
      "Par004\n",
      "\n"
     ]
    },
    {
     "name": "stderr",
     "output_type": "stream",
     "text": [
      "WARNING: NoResultsWarning: No matching rows were found in the query. [astroquery.heasarc.core]\n"
     ]
    },
    {
     "name": "stdout",
     "output_type": "stream",
     "text": [
      "Nothing found for Par004\n",
      "Par005\n",
      "\n",
      "Par006\n",
      "\n",
      "Par007\n",
      "\n",
      "Par008\n",
      "\n",
      "Par009\n",
      "\n"
     ]
    },
    {
     "name": "stderr",
     "output_type": "stream",
     "text": [
      "WARNING: NoResultsWarning: No matching rows were found in the query. [astroquery.heasarc.core]\n"
     ]
    },
    {
     "name": "stdout",
     "output_type": "stream",
     "text": [
      "Nothing found for Par009\n",
      "Par010\n",
      "\n",
      "Par011\n",
      "\n"
     ]
    },
    {
     "name": "stderr",
     "output_type": "stream",
     "text": [
      "WARNING: NoResultsWarning: No matching rows were found in the query. [astroquery.heasarc.core]\n"
     ]
    },
    {
     "name": "stdout",
     "output_type": "stream",
     "text": [
      "Nothing found for Par011\n",
      "Par012\n",
      "\n"
     ]
    },
    {
     "name": "stderr",
     "output_type": "stream",
     "text": [
      "WARNING: NoResultsWarning: No matching rows were found in the query. [astroquery.heasarc.core]\n"
     ]
    },
    {
     "name": "stdout",
     "output_type": "stream",
     "text": [
      "Nothing found for Par012\n",
      "Par013\n",
      "\n"
     ]
    },
    {
     "name": "stderr",
     "output_type": "stream",
     "text": [
      "WARNING: NoResultsWarning: No matching rows were found in the query. [astroquery.heasarc.core]\n"
     ]
    },
    {
     "name": "stdout",
     "output_type": "stream",
     "text": [
      "Nothing found for Par013\n",
      "Par014\n",
      "\n"
     ]
    },
    {
     "name": "stderr",
     "output_type": "stream",
     "text": [
      "WARNING: NoResultsWarning: No matching rows were found in the query. [astroquery.heasarc.core]\n"
     ]
    },
    {
     "name": "stdout",
     "output_type": "stream",
     "text": [
      "Nothing found for Par014\n",
      "Par015\n",
      "\n"
     ]
    },
    {
     "name": "stderr",
     "output_type": "stream",
     "text": [
      "WARNING: NoResultsWarning: No matching rows were found in the query. [astroquery.heasarc.core]\n"
     ]
    },
    {
     "name": "stdout",
     "output_type": "stream",
     "text": [
      "Nothing found for Par015\n",
      "Par016\n",
      "\n"
     ]
    },
    {
     "name": "stderr",
     "output_type": "stream",
     "text": [
      "WARNING: NoResultsWarning: No matching rows were found in the query. [astroquery.heasarc.core]\n"
     ]
    },
    {
     "name": "stdout",
     "output_type": "stream",
     "text": [
      "Nothing found for Par016\n",
      "Par017\n",
      "\n",
      "Par018\n",
      "\n"
     ]
    },
    {
     "name": "stderr",
     "output_type": "stream",
     "text": [
      "WARNING: NoResultsWarning: No matching rows were found in the query. [astroquery.heasarc.core]\n"
     ]
    },
    {
     "name": "stdout",
     "output_type": "stream",
     "text": [
      "Nothing found for Par018\n",
      "Par019\n",
      "\n"
     ]
    },
    {
     "name": "stderr",
     "output_type": "stream",
     "text": [
      "WARNING: NoResultsWarning: No matching rows were found in the query. [astroquery.heasarc.core]\n"
     ]
    },
    {
     "name": "stdout",
     "output_type": "stream",
     "text": [
      "Nothing found for Par019\n",
      "Par020\n",
      "\n",
      "Par021\n",
      "\n"
     ]
    },
    {
     "name": "stderr",
     "output_type": "stream",
     "text": [
      "WARNING: NoResultsWarning: No matching rows were found in the query. [astroquery.heasarc.core]\n"
     ]
    },
    {
     "name": "stdout",
     "output_type": "stream",
     "text": [
      "Nothing found for Par021\n",
      "Par022\n",
      "\n",
      "Par023\n",
      "\n",
      "Par024\n",
      "\n",
      "Par025\n",
      "\n",
      "Par026\n",
      "\n",
      "Par027\n",
      "\n",
      "Par028\n",
      "\n",
      "Par029\n",
      "\n",
      "Par030\n",
      "\n",
      "Par031\n",
      "\n",
      "Par032\n",
      "\n",
      "Par033\n",
      "\n"
     ]
    },
    {
     "name": "stderr",
     "output_type": "stream",
     "text": [
      "WARNING: NoResultsWarning: No matching rows were found in the query. [astroquery.heasarc.core]\n"
     ]
    },
    {
     "name": "stdout",
     "output_type": "stream",
     "text": [
      "Nothing found for Par033\n",
      "Par034\n",
      "\n"
     ]
    },
    {
     "name": "stderr",
     "output_type": "stream",
     "text": [
      "WARNING: NoResultsWarning: No matching rows were found in the query. [astroquery.heasarc.core]\n"
     ]
    },
    {
     "name": "stdout",
     "output_type": "stream",
     "text": [
      "Nothing found for Par034\n",
      "Par035\n",
      "\n",
      "Par036\n",
      "\n",
      "Par037\n",
      "\n",
      "Par038\n",
      "\n"
     ]
    },
    {
     "name": "stderr",
     "output_type": "stream",
     "text": [
      "WARNING: NoResultsWarning: No matching rows were found in the query. [astroquery.heasarc.core]\n"
     ]
    },
    {
     "name": "stdout",
     "output_type": "stream",
     "text": [
      "Nothing found for Par038\n",
      "Par039\n",
      "\n"
     ]
    },
    {
     "name": "stderr",
     "output_type": "stream",
     "text": [
      "WARNING: NoResultsWarning: No matching rows were found in the query. [astroquery.heasarc.core]\n"
     ]
    },
    {
     "name": "stdout",
     "output_type": "stream",
     "text": [
      "Nothing found for Par039\n",
      "Par040\n",
      "\n",
      "Par041\n",
      "\n"
     ]
    },
    {
     "name": "stderr",
     "output_type": "stream",
     "text": [
      "WARNING: NoResultsWarning: No matching rows were found in the query. [astroquery.heasarc.core]\n"
     ]
    },
    {
     "name": "stdout",
     "output_type": "stream",
     "text": [
      "Nothing found for Par041\n",
      "Par042\n",
      "\n"
     ]
    },
    {
     "name": "stderr",
     "output_type": "stream",
     "text": [
      "WARNING: NoResultsWarning: No matching rows were found in the query. [astroquery.heasarc.core]\n"
     ]
    },
    {
     "name": "stdout",
     "output_type": "stream",
     "text": [
      "Nothing found for Par042\n",
      "Par043\n",
      "\n",
      "Par044\n",
      "\n"
     ]
    },
    {
     "name": "stderr",
     "output_type": "stream",
     "text": [
      "WARNING: NoResultsWarning: No matching rows were found in the query. [astroquery.heasarc.core]\n"
     ]
    },
    {
     "name": "stdout",
     "output_type": "stream",
     "text": [
      "Nothing found for Par044\n",
      "Par045\n",
      "\n"
     ]
    },
    {
     "name": "stderr",
     "output_type": "stream",
     "text": [
      "WARNING: NoResultsWarning: No matching rows were found in the query. [astroquery.heasarc.core]\n"
     ]
    },
    {
     "name": "stdout",
     "output_type": "stream",
     "text": [
      "Nothing found for Par045\n",
      "Par046\n",
      "\n",
      "Par047\n",
      "\n",
      "Par048\n",
      "\n",
      "Par049\n",
      "\n",
      "Par050\n",
      "\n",
      "Par051\n",
      "\n",
      "Par052\n",
      "\n",
      "Par053\n",
      "\n",
      "Par054\n",
      "\n",
      "Par055\n",
      "\n",
      "Par056\n",
      "\n",
      "Par057\n",
      "\n",
      "Par058\n",
      "\n"
     ]
    },
    {
     "name": "stderr",
     "output_type": "stream",
     "text": [
      "WARNING: NoResultsWarning: No matching rows were found in the query. [astroquery.heasarc.core]\n"
     ]
    },
    {
     "name": "stdout",
     "output_type": "stream",
     "text": [
      "Nothing found for Par058\n",
      "Par059\n",
      "\n",
      "Par060\n",
      "\n"
     ]
    },
    {
     "name": "stderr",
     "output_type": "stream",
     "text": [
      "WARNING: NoResultsWarning: No matching rows were found in the query. [astroquery.heasarc.core]\n"
     ]
    },
    {
     "name": "stdout",
     "output_type": "stream",
     "text": [
      "Nothing found for Par060\n",
      "Par061\n",
      "\n"
     ]
    },
    {
     "name": "stderr",
     "output_type": "stream",
     "text": [
      "WARNING: NoResultsWarning: No matching rows were found in the query. [astroquery.heasarc.core]\n"
     ]
    },
    {
     "name": "stdout",
     "output_type": "stream",
     "text": [
      "Nothing found for Par061\n",
      "Par062\n",
      "\n"
     ]
    },
    {
     "name": "stderr",
     "output_type": "stream",
     "text": [
      "WARNING: NoResultsWarning: No matching rows were found in the query. [astroquery.heasarc.core]\n"
     ]
    },
    {
     "name": "stdout",
     "output_type": "stream",
     "text": [
      "Nothing found for Par062\n",
      "Par063\n",
      "\n"
     ]
    },
    {
     "name": "stderr",
     "output_type": "stream",
     "text": [
      "WARNING: NoResultsWarning: No matching rows were found in the query. [astroquery.heasarc.core]\n"
     ]
    },
    {
     "name": "stdout",
     "output_type": "stream",
     "text": [
      "Nothing found for Par063\n",
      "milliquas\n",
      "\n",
      "Par001\n",
      "\n",
      "Par002\n",
      "\n",
      "Par003\n",
      "\n",
      "Par004\n",
      "\n"
     ]
    },
    {
     "name": "stderr",
     "output_type": "stream",
     "text": [
      "WARNING: NoResultsWarning: No matching rows were found in the query. [astroquery.heasarc.core]\n"
     ]
    },
    {
     "name": "stdout",
     "output_type": "stream",
     "text": [
      "Nothing found for Par004\n",
      "Par005\n",
      "\n",
      "Par006\n",
      "\n",
      "Par007\n",
      "\n"
     ]
    },
    {
     "name": "stderr",
     "output_type": "stream",
     "text": [
      "WARNING: NoResultsWarning: No matching rows were found in the query. [astroquery.heasarc.core]\n"
     ]
    },
    {
     "name": "stdout",
     "output_type": "stream",
     "text": [
      "Nothing found for Par007\n",
      "Par008\n",
      "\n",
      "Par009\n",
      "\n",
      "Par010\n",
      "\n"
     ]
    },
    {
     "name": "stderr",
     "output_type": "stream",
     "text": [
      "WARNING: NoResultsWarning: No matching rows were found in the query. [astroquery.heasarc.core]\n"
     ]
    },
    {
     "name": "stdout",
     "output_type": "stream",
     "text": [
      "Nothing found for Par010\n",
      "Par011\n",
      "\n"
     ]
    },
    {
     "name": "stderr",
     "output_type": "stream",
     "text": [
      "WARNING: NoResultsWarning: No matching rows were found in the query. [astroquery.heasarc.core]\n"
     ]
    },
    {
     "name": "stdout",
     "output_type": "stream",
     "text": [
      "Nothing found for Par011\n",
      "Par012\n",
      "\n"
     ]
    },
    {
     "name": "stderr",
     "output_type": "stream",
     "text": [
      "WARNING: NoResultsWarning: No matching rows were found in the query. [astroquery.heasarc.core]\n"
     ]
    },
    {
     "name": "stdout",
     "output_type": "stream",
     "text": [
      "Nothing found for Par012\n",
      "Par013\n",
      "\n",
      "Par014\n",
      "\n"
     ]
    },
    {
     "name": "stderr",
     "output_type": "stream",
     "text": [
      "WARNING: NoResultsWarning: No matching rows were found in the query. [astroquery.heasarc.core]\n"
     ]
    },
    {
     "name": "stdout",
     "output_type": "stream",
     "text": [
      "Nothing found for Par014\n",
      "Par015\n",
      "\n"
     ]
    },
    {
     "name": "stderr",
     "output_type": "stream",
     "text": [
      "WARNING: NoResultsWarning: No matching rows were found in the query. [astroquery.heasarc.core]\n"
     ]
    },
    {
     "name": "stdout",
     "output_type": "stream",
     "text": [
      "Nothing found for Par015\n",
      "Par016\n",
      "\n"
     ]
    },
    {
     "name": "stderr",
     "output_type": "stream",
     "text": [
      "WARNING: NoResultsWarning: No matching rows were found in the query. [astroquery.heasarc.core]\n"
     ]
    },
    {
     "name": "stdout",
     "output_type": "stream",
     "text": [
      "Nothing found for Par016\n",
      "Par017\n",
      "\n",
      "Par018\n",
      "\n"
     ]
    },
    {
     "name": "stderr",
     "output_type": "stream",
     "text": [
      "WARNING: NoResultsWarning: No matching rows were found in the query. [astroquery.heasarc.core]\n"
     ]
    },
    {
     "name": "stdout",
     "output_type": "stream",
     "text": [
      "Nothing found for Par018\n",
      "Par019\n",
      "\n",
      "Par020\n",
      "\n",
      "Par021\n",
      "\n"
     ]
    },
    {
     "name": "stderr",
     "output_type": "stream",
     "text": [
      "WARNING: NoResultsWarning: No matching rows were found in the query. [astroquery.heasarc.core]\n"
     ]
    },
    {
     "name": "stdout",
     "output_type": "stream",
     "text": [
      "Nothing found for Par021\n",
      "Par022\n",
      "\n",
      "Par023\n",
      "\n",
      "Par024\n",
      "\n",
      "Par025\n",
      "\n",
      "Par026\n",
      "\n",
      "Par027\n",
      "\n"
     ]
    },
    {
     "name": "stderr",
     "output_type": "stream",
     "text": [
      "WARNING: NoResultsWarning: No matching rows were found in the query. [astroquery.heasarc.core]\n"
     ]
    },
    {
     "name": "stdout",
     "output_type": "stream",
     "text": [
      "Nothing found for Par027\n",
      "Par028\n",
      "\n",
      "Par029\n",
      "\n",
      "Par030\n",
      "\n",
      "Par031\n",
      "\n"
     ]
    },
    {
     "name": "stderr",
     "output_type": "stream",
     "text": [
      "WARNING: NoResultsWarning: No matching rows were found in the query. [astroquery.heasarc.core]\n"
     ]
    },
    {
     "name": "stdout",
     "output_type": "stream",
     "text": [
      "Nothing found for Par031\n",
      "Par032\n",
      "\n"
     ]
    },
    {
     "name": "stderr",
     "output_type": "stream",
     "text": [
      "WARNING: NoResultsWarning: No matching rows were found in the query. [astroquery.heasarc.core]\n"
     ]
    },
    {
     "name": "stdout",
     "output_type": "stream",
     "text": [
      "Nothing found for Par032\n",
      "Par033\n",
      "\n",
      "Par034\n",
      "\n",
      "Par035\n",
      "\n"
     ]
    },
    {
     "name": "stderr",
     "output_type": "stream",
     "text": [
      "WARNING: NoResultsWarning: No matching rows were found in the query. [astroquery.heasarc.core]\n"
     ]
    },
    {
     "name": "stdout",
     "output_type": "stream",
     "text": [
      "Nothing found for Par035\n",
      "Par036\n",
      "\n"
     ]
    },
    {
     "name": "stderr",
     "output_type": "stream",
     "text": [
      "WARNING: NoResultsWarning: No matching rows were found in the query. [astroquery.heasarc.core]\n"
     ]
    },
    {
     "name": "stdout",
     "output_type": "stream",
     "text": [
      "Nothing found for Par036\n",
      "Par037\n",
      "\n",
      "Par038\n",
      "\n",
      "Par039\n",
      "\n",
      "Par040\n",
      "\n"
     ]
    },
    {
     "name": "stderr",
     "output_type": "stream",
     "text": [
      "WARNING: NoResultsWarning: No matching rows were found in the query. [astroquery.heasarc.core]\n"
     ]
    },
    {
     "name": "stdout",
     "output_type": "stream",
     "text": [
      "Nothing found for Par040\n",
      "Par041\n",
      "\n",
      "Par042\n",
      "\n"
     ]
    },
    {
     "name": "stderr",
     "output_type": "stream",
     "text": [
      "WARNING: NoResultsWarning: No matching rows were found in the query. [astroquery.heasarc.core]\n"
     ]
    },
    {
     "name": "stdout",
     "output_type": "stream",
     "text": [
      "Nothing found for Par042\n",
      "Par043\n",
      "\n",
      "Par044\n",
      "\n"
     ]
    },
    {
     "name": "stderr",
     "output_type": "stream",
     "text": [
      "WARNING: NoResultsWarning: No matching rows were found in the query. [astroquery.heasarc.core]\n"
     ]
    },
    {
     "name": "stdout",
     "output_type": "stream",
     "text": [
      "Nothing found for Par044\n",
      "Par045\n",
      "\n"
     ]
    },
    {
     "name": "stderr",
     "output_type": "stream",
     "text": [
      "WARNING: NoResultsWarning: No matching rows were found in the query. [astroquery.heasarc.core]\n"
     ]
    },
    {
     "name": "stdout",
     "output_type": "stream",
     "text": [
      "Nothing found for Par045\n",
      "Par046\n",
      "\n",
      "Par047\n",
      "\n",
      "Par048\n",
      "\n",
      "Par049\n",
      "\n",
      "Par050\n",
      "\n",
      "Par051\n",
      "\n",
      "Par052\n",
      "\n",
      "Par053\n",
      "\n",
      "Par054\n",
      "\n",
      "Par055\n",
      "\n",
      "Par056\n",
      "\n",
      "Par057\n",
      "\n"
     ]
    },
    {
     "name": "stderr",
     "output_type": "stream",
     "text": [
      "WARNING: NoResultsWarning: No matching rows were found in the query. [astroquery.heasarc.core]\n"
     ]
    },
    {
     "name": "stdout",
     "output_type": "stream",
     "text": [
      "Nothing found for Par057\n",
      "Par058\n",
      "\n"
     ]
    },
    {
     "name": "stderr",
     "output_type": "stream",
     "text": [
      "WARNING: NoResultsWarning: No matching rows were found in the query. [astroquery.heasarc.core]\n"
     ]
    },
    {
     "name": "stdout",
     "output_type": "stream",
     "text": [
      "Nothing found for Par058\n",
      "Par059\n",
      "\n",
      "Par060\n",
      "\n",
      "Par061\n",
      "\n",
      "Par062\n",
      "\n",
      "Par063\n",
      "\n",
      "Nothing found for Par063\n"
     ]
    },
    {
     "name": "stderr",
     "output_type": "stream",
     "text": [
      "WARNING: NoResultsWarning: No matching rows were found in the query. [astroquery.heasarc.core]\n"
     ]
    }
   ],
   "source": [
    "df_counts=pd.DataFrame(columns=catalog_names.keys(),index=par_names)\n",
    "\n",
    "#identifying number of objects in each field for chandra and xmm\n",
    "\n",
    "for j in range(len((catalog_names.values()))):\n",
    "    print(list(catalog_names.values())[j]+'\\n')\n",
    "\n",
    "    column_counts=np.zeros(len(par_coords_list))\n",
    "\n",
    "    for i in range(len(par_coords_list)):\n",
    "\n",
    "            current_par=par_names[i]\n",
    "\n",
    "            print(current_par+'\\n')\n",
    "\n",
    "            #query chandra\n",
    "            result = Heasarc.query_region(par_coords_list[i],catalog=list(catalog_names.values())[j],radius=check_radius)\n",
    "\n",
    "            if len(result) > 0:\n",
    "                column_counts[i]=len(result)\n",
    "            else:\n",
    "                print(\"Nothing found for \"+ current_par)\n",
    "                continue\n",
    "\n",
    "    df_counts[list(catalog_names.keys())[j]]=column_counts"
   ]
  },
  {
   "cell_type": "code",
   "execution_count": 8,
   "metadata": {},
   "outputs": [
    {
     "name": "stdout",
     "output_type": "stream",
     "text": [
      "        chandra   xmm  milliquas\n",
      "Par001      4.0  14.0        2.0\n",
      "Par002     13.0  16.0        1.0\n",
      "Par003     19.0  11.0        8.0\n",
      "Par004      2.0   0.0        0.0\n",
      "Par005     18.0   6.0        5.0\n",
      "...         ...   ...        ...\n",
      "Par059      4.0  10.0        4.0\n",
      "Par060     17.0   0.0        4.0\n",
      "Par061      0.0   0.0        3.0\n",
      "Par062      0.0   0.0        2.0\n",
      "Par063      3.0   0.0        0.0\n",
      "\n",
      "[63 rows x 3 columns]\n",
      "406.0 298.0 194.0\n"
     ]
    }
   ],
   "source": [
    "print(df_counts)\n",
    "\n",
    "print(sum(df_counts['chandra']),sum(df_counts['xmm']),sum(df_counts['milliquas']))"
   ]
  },
  {
   "cell_type": "code",
   "execution_count": 15,
   "metadata": {},
   "outputs": [
    {
     "name": "stdout",
     "output_type": "stream",
     "text": [
      "Par001\n",
      "\n",
      "Nothing found for Par001\n",
      "Par002\n",
      "\n",
      "Nothing found for Par002\n",
      "Par003\n",
      "\n",
      "7\n",
      "Par004\n",
      "\n",
      "Nothing found for Par004\n",
      "Par005\n",
      "\n",
      "Nothing found for Par005\n",
      "Par006\n",
      "\n",
      "Nothing found for Par006\n",
      "Par007\n",
      "\n",
      "Nothing found for Par007\n",
      "Par008\n",
      "\n",
      "Nothing found for Par008\n",
      "Par009\n",
      "\n",
      "Nothing found for Par009\n",
      "Par010\n",
      "\n",
      "Nothing found for Par010\n",
      "Par011\n",
      "\n",
      "Nothing found for Par011\n",
      "Par012\n",
      "\n",
      "Nothing found for Par012\n",
      "Par013\n",
      "\n",
      "Nothing found for Par013\n",
      "Par014\n",
      "\n",
      "Nothing found for Par014\n",
      "Par015\n",
      "\n",
      "Nothing found for Par015\n",
      "Par016\n",
      "\n",
      "Nothing found for Par016\n",
      "Par017\n",
      "\n",
      "8\n",
      "Par018\n",
      "\n",
      "Nothing found for Par018\n",
      "Par019\n",
      "\n",
      "Nothing found for Par019\n",
      "Par020\n",
      "\n",
      "Nothing found for Par020\n",
      "Par021\n",
      "\n",
      "Nothing found for Par021\n",
      "Par022\n",
      "\n",
      "Nothing found for Par022\n",
      "Par023\n",
      "\n",
      "6\n",
      "Par024\n",
      "\n",
      "7\n",
      "Par025\n",
      "\n",
      "5\n",
      "Par026\n",
      "\n",
      "21\n",
      "Par027\n",
      "\n",
      "Nothing found for Par027\n",
      "Par028\n",
      "\n",
      "19\n",
      "Par029\n",
      "\n",
      "1\n",
      "Par030\n",
      "\n",
      "Nothing found for Par030\n",
      "Par031\n",
      "\n",
      "Nothing found for Par031\n",
      "Par032\n",
      "\n",
      "Nothing found for Par032\n",
      "Par033\n",
      "\n",
      "Nothing found for Par033\n",
      "Par034\n",
      "\n",
      "Nothing found for Par034\n",
      "Par035\n",
      "\n",
      "Nothing found for Par035\n",
      "Par036\n",
      "\n",
      "Nothing found for Par036\n",
      "Par037\n",
      "\n",
      "Nothing found for Par037\n",
      "Par038\n",
      "\n",
      "1\n",
      "Par039\n",
      "\n",
      "Nothing found for Par039\n",
      "Par040\n",
      "\n",
      "Nothing found for Par040\n",
      "Par041\n",
      "\n",
      "Nothing found for Par041\n",
      "Par042\n",
      "\n",
      "Nothing found for Par042\n",
      "Par043\n",
      "\n",
      "Nothing found for Par043\n",
      "Par044\n",
      "\n",
      "Nothing found for Par044\n",
      "Par045\n",
      "\n",
      "Nothing found for Par045\n",
      "Par046\n",
      "\n",
      "Nothing found for Par046\n",
      "Par047\n",
      "\n",
      "Nothing found for Par047\n",
      "Par048\n",
      "\n",
      "Nothing found for Par048\n",
      "Par049\n",
      "\n",
      "4\n",
      "Par050\n",
      "\n",
      "Nothing found for Par050\n",
      "Par051\n",
      "\n",
      "2\n",
      "Par052\n",
      "\n",
      "3\n",
      "Par053\n",
      "\n",
      "1\n",
      "Par054\n",
      "\n",
      "Nothing found for Par054\n",
      "Par055\n",
      "\n",
      "Nothing found for Par055\n",
      "Par056\n",
      "\n",
      "Nothing found for Par056\n",
      "Par057\n",
      "\n",
      "Nothing found for Par057\n",
      "Par058\n",
      "\n",
      "Nothing found for Par058\n",
      "Par059\n",
      "\n",
      "Nothing found for Par059\n",
      "Par060\n",
      "\n",
      "Nothing found for Par060\n",
      "Par061\n",
      "\n",
      "Nothing found for Par061\n",
      "Par062\n",
      "\n",
      "Nothing found for Par062\n",
      "Par063\n",
      "\n",
      "Nothing found for Par063\n"
     ]
    }
   ],
   "source": [
    "lrd_counts=np.zeros(len(par_coords_list))\n",
    "\n",
    "for i in range(len(par_coords_list)):\n",
    "\n",
    "    current_par=par_names[i]\n",
    "\n",
    "    print(current_par+'\\n')\n",
    "\n",
    "    #query chandra\n",
    "    result = Vizier.query_region(par_coords_list[i],catalog='J/A+A/693/L2',radius=check_radius)\n",
    "\n",
    "    if len(result) > 0:\n",
    "        print(len(result[0]))\n",
    "        lrd_counts[i]=len(result[0])\n",
    "    else:\n",
    "        print(\"Nothing found for \"+ current_par)\n",
    "        continue\n",
    "\n",
    "df_counts['lrd']=lrd_counts"
   ]
  },
  {
   "cell_type": "markdown",
   "metadata": {},
   "source": [
    "Now that we know how many observations are in each field for both csc2.1 and xmmssc dr14, our next step is to actually extract their parameters, while appending an extra column that says the par they were discovered in. Chandra first - LOOK AT VIZIER FOR WHICH COLUMNS YOU NEED TO KEEP, sig, error ellipse, etc, maybe major fluxes"
   ]
  },
  {
   "cell_type": "code",
   "execution_count": 8,
   "metadata": {},
   "outputs": [
    {
     "name": "stderr",
     "output_type": "stream",
     "text": [
      "WARNING: MergeConflictWarning: Cannot merge meta key 'description' types <class 'str'> and <class 'str'>, choosing description=\"Query result for:\\nSELECT name,ra,dec,significance,error_ellipse_r0,error_ellipse_r1,error_ellipse_angle FROM csc WHERE CONTAINS(POINT('ICRS',ra,dec),CIRCLE('ICRS',177.145372,52.7788105,0.05))=1\" [astropy.utils.metadata.merge]\n",
      "WARNING: MergeConflictWarning: Cannot merge meta key 'description' types <class 'str'> and <class 'str'>, choosing description=\"Query result for:\\nSELECT name,ra,dec,significance,error_ellipse_r0,error_ellipse_r1,error_ellipse_angle FROM csc WHERE CONTAINS(POINT('ICRS',ra,dec),CIRCLE('ICRS',150.4103959,2.4051779,0.05))=1\" [astropy.utils.metadata.merge]\n",
      "WARNING: MergeConflictWarning: Cannot merge meta key 'description' types <class 'str'> and <class 'str'>, choosing description=\"Query result for:\\nSELECT name,ra,dec,significance,error_ellipse_r0,error_ellipse_r1,error_ellipse_angle FROM csc WHERE CONTAINS(POINT('ICRS',ra,dec),CIRCLE('ICRS',186.7047854,21.6989889,0.05))=1\" [astropy.utils.metadata.merge]\n",
      "WARNING: MergeConflictWarning: Cannot merge meta key 'description' types <class 'str'> and <class 'str'>, choosing description=\"Query result for:\\nSELECT name,ra,dec,significance,error_ellipse_r0,error_ellipse_r1,error_ellipse_angle FROM csc WHERE CONTAINS(POINT('ICRS',ra,dec),CIRCLE('ICRS',150.6536983,2.0855801,0.05))=1\" [astropy.utils.metadata.merge]\n",
      "WARNING: MergeConflictWarning: Cannot merge meta key 'description' types <class 'str'> and <class 'str'>, choosing description=\"Query result for:\\nSELECT name,ra,dec,significance,error_ellipse_r0,error_ellipse_r1,error_ellipse_angle FROM csc WHERE CONTAINS(POINT('ICRS',ra,dec),CIRCLE('ICRS',150.6762156,2.1293049,0.05))=1\" [astropy.utils.metadata.merge]\n",
      "WARNING: NoResultsWarning: No matching rows were found in the query. [astroquery.heasarc.core]\n",
      "WARNING: MergeConflictWarning: Cannot merge meta key 'description' types <class 'str'> and <class 'str'>, choosing description=\"Query result for:\\nSELECT name,ra,dec,significance,error_ellipse_r0,error_ellipse_r1,error_ellipse_angle FROM csc WHERE CONTAINS(POINT('ICRS',ra,dec),CIRCLE('ICRS',102.4303092,70.3818912,0.05))=1\" [astropy.utils.metadata.merge]\n",
      "WARNING: MergeConflictWarning: Cannot merge meta key 'description' types <class 'str'> and <class 'str'>, choosing description=\"Query result for:\\nSELECT name,ra,dec,significance,error_ellipse_r0,error_ellipse_r1,error_ellipse_angle FROM csc WHERE CONTAINS(POINT('ICRS',ra,dec),CIRCLE('ICRS',170.1264772,6.7062311,0.05))=1\" [astropy.utils.metadata.merge]\n",
      "WARNING: MergeConflictWarning: Cannot merge meta key 'description' types <class 'str'> and <class 'str'>, choosing description=\"Query result for:\\nSELECT name,ra,dec,significance,error_ellipse_r0,error_ellipse_r1,error_ellipse_angle FROM csc WHERE CONTAINS(POINT('ICRS',ra,dec),CIRCLE('ICRS',183.1322959,27.4870882,0.05))=1\" [astropy.utils.metadata.merge]\n",
      "WARNING: NoResultsWarning: No matching rows were found in the query. [astroquery.heasarc.core]\n",
      "WARNING: MergeConflictWarning: Cannot merge meta key 'description' types <class 'str'> and <class 'str'>, choosing description=\"Query result for:\\nSELECT name,ra,dec,significance,error_ellipse_r0,error_ellipse_r1,error_ellipse_angle FROM csc WHERE CONTAINS(POINT('ICRS',ra,dec),CIRCLE('ICRS',205.5720258,9.308067,0.05))=1\" [astropy.utils.metadata.merge]\n",
      "WARNING: MergeConflictWarning: Cannot merge meta key 'description' types <class 'str'> and <class 'str'>, choosing description=\"Query result for:\\nSELECT name,ra,dec,significance,error_ellipse_r0,error_ellipse_r1,error_ellipse_angle FROM csc WHERE CONTAINS(POINT('ICRS',ra,dec),CIRCLE('ICRS',204.5789783,-19.8794778,0.05))=1\" [astropy.utils.metadata.merge]\n",
      "WARNING: NoResultsWarning: No matching rows were found in the query. [astroquery.heasarc.core]\n",
      "WARNING: MergeConflictWarning: Cannot merge meta key 'description' types <class 'str'> and <class 'str'>, choosing description=\"Query result for:\\nSELECT name,ra,dec,significance,error_ellipse_r0,error_ellipse_r1,error_ellipse_angle FROM csc WHERE CONTAINS(POINT('ICRS',ra,dec),CIRCLE('ICRS',221.6227941,-23.2860626,0.05))=1\" [astropy.utils.metadata.merge]\n",
      "WARNING: NoResultsWarning: No matching rows were found in the query. [astroquery.heasarc.core]\n",
      "WARNING: MergeConflictWarning: Cannot merge meta key 'description' types <class 'str'> and <class 'str'>, choosing description=\"Query result for:\\nSELECT name,ra,dec,significance,error_ellipse_r0,error_ellipse_r1,error_ellipse_angle FROM csc WHERE CONTAINS(POINT('ICRS',ra,dec),CIRCLE('ICRS',130.5298837,1.6983955,0.05))=1\" [astropy.utils.metadata.merge]\n",
      "WARNING: MergeConflictWarning: Cannot merge meta key 'description' types <class 'str'> and <class 'str'>, choosing description=\"Query result for:\\nSELECT name,ra,dec,significance,error_ellipse_r0,error_ellipse_r1,error_ellipse_angle FROM csc WHERE CONTAINS(POINT('ICRS',ra,dec),CIRCLE('ICRS',224.3278892,24.7169779,0.05))=1\" [astropy.utils.metadata.merge]\n",
      "WARNING: NoResultsWarning: No matching rows were found in the query. [astroquery.heasarc.core]\n",
      "WARNING: MergeConflictWarning: Cannot merge meta key 'description' types <class 'str'> and <class 'str'>, choosing description=\"Query result for:\\nSELECT name,ra,dec,significance,error_ellipse_r0,error_ellipse_r1,error_ellipse_angle FROM csc WHERE CONTAINS(POINT('ICRS',ra,dec),CIRCLE('ICRS',155.4060634,18.1657443,0.05))=1\" [astropy.utils.metadata.merge]\n",
      "WARNING: NoResultsWarning: No matching rows were found in the query. [astroquery.heasarc.core]\n",
      "WARNING: MergeConflictWarning: Cannot merge meta key 'description' types <class 'str'> and <class 'str'>, choosing description=\"Query result for:\\nSELECT name,ra,dec,significance,error_ellipse_r0,error_ellipse_r1,error_ellipse_angle FROM csc WHERE CONTAINS(POINT('ICRS',ra,dec),CIRCLE('ICRS',152.6594154,-4.7508,0.05))=1\" [astropy.utils.metadata.merge]\n",
      "WARNING: MergeConflictWarning: Cannot merge meta key 'description' types <class 'str'> and <class 'str'>, choosing description=\"Query result for:\\nSELECT name,ra,dec,significance,error_ellipse_r0,error_ellipse_r1,error_ellipse_angle FROM csc WHERE CONTAINS(POINT('ICRS',ra,dec),CIRCLE('ICRS',150.3011088,1.8910817,0.05))=1\" [astropy.utils.metadata.merge]\n",
      "WARNING: NoResultsWarning: No matching rows were found in the query. [astroquery.heasarc.core]\n",
      "WARNING: MergeConflictWarning: Cannot merge meta key 'description' types <class 'str'> and <class 'str'>, choosing description=\"Query result for:\\nSELECT name,ra,dec,significance,error_ellipse_r0,error_ellipse_r1,error_ellipse_angle FROM csc WHERE CONTAINS(POINT('ICRS',ra,dec),CIRCLE('ICRS',159.2102447,1.7162864,0.05))=1\" [astropy.utils.metadata.merge]\n",
      "WARNING: NoResultsWarning: No matching rows were found in the query. [astroquery.heasarc.core]\n",
      "WARNING: MergeConflictWarning: Cannot merge meta key 'description' types <class 'str'> and <class 'str'>, choosing description=\"Query result for:\\nSELECT name,ra,dec,significance,error_ellipse_r0,error_ellipse_r1,error_ellipse_angle FROM csc WHERE CONTAINS(POINT('ICRS',ra,dec),CIRCLE('ICRS',130.3650701,48.6033456,0.05))=1\" [astropy.utils.metadata.merge]\n",
      "WARNING: MergeConflictWarning: Cannot merge meta key 'description' types <class 'str'> and <class 'str'>, choosing description=\"Query result for:\\nSELECT name,ra,dec,significance,error_ellipse_r0,error_ellipse_r1,error_ellipse_angle FROM csc WHERE CONTAINS(POINT('ICRS',ra,dec),CIRCLE('ICRS',149.622923,2.2251064,0.05))=1\" [astropy.utils.metadata.merge]\n",
      "WARNING: NoResultsWarning: No matching rows were found in the query. [astroquery.heasarc.core]\n",
      "WARNING: MergeConflictWarning: Cannot merge meta key 'description' types <class 'str'> and <class 'str'>, choosing description=\"Query result for:\\nSELECT name,ra,dec,significance,error_ellipse_r0,error_ellipse_r1,error_ellipse_angle FROM csc WHERE CONTAINS(POINT('ICRS',ra,dec),CIRCLE('ICRS',161.1635171,33.9294614,0.05))=1\" [astropy.utils.metadata.merge]\n",
      "WARNING: MergeConflictWarning: Cannot merge meta key 'description' types <class 'str'> and <class 'str'>, choosing description=\"Query result for:\\nSELECT name,ra,dec,significance,error_ellipse_r0,error_ellipse_r1,error_ellipse_angle FROM csc WHERE CONTAINS(POINT('ICRS',ra,dec),CIRCLE('ICRS',177.2619897,22.4367759,0.05))=1\" [astropy.utils.metadata.merge]\n",
      "WARNING: MergeConflictWarning: Cannot merge meta key 'description' types <class 'str'> and <class 'str'>, choosing description=\"Query result for:\\nSELECT name,ra,dec,significance,error_ellipse_r0,error_ellipse_r1,error_ellipse_angle FROM csc WHERE CONTAINS(POINT('ICRS',ra,dec),CIRCLE('ICRS',150.0655286,2.5519213,0.05))=1\" [astropy.utils.metadata.merge]\n",
      "WARNING: MergeConflictWarning: Cannot merge meta key 'description' types <class 'str'> and <class 'str'>, choosing description=\"Query result for:\\nSELECT name,ra,dec,significance,error_ellipse_r0,error_ellipse_r1,error_ellipse_angle FROM csc WHERE CONTAINS(POINT('ICRS',ra,dec),CIRCLE('ICRS',150.1315237,2.4996595,0.05))=1\" [astropy.utils.metadata.merge]\n",
      "WARNING: MergeConflictWarning: Cannot merge meta key 'description' types <class 'str'> and <class 'str'>, choosing description=\"Query result for:\\nSELECT name,ra,dec,significance,error_ellipse_r0,error_ellipse_r1,error_ellipse_angle FROM csc WHERE CONTAINS(POINT('ICRS',ra,dec),CIRCLE('ICRS',150.245773,1.9774739,0.05))=1\" [astropy.utils.metadata.merge]\n",
      "WARNING: MergeConflictWarning: Cannot merge meta key 'description' types <class 'str'> and <class 'str'>, choosing description=\"Query result for:\\nSELECT name,ra,dec,significance,error_ellipse_r0,error_ellipse_r1,error_ellipse_angle FROM csc WHERE CONTAINS(POINT('ICRS',ra,dec),CIRCLE('ICRS',150.122717,2.4398773,0.05))=1\" [astropy.utils.metadata.merge]\n",
      "WARNING: MergeConflictWarning: Cannot merge meta key 'description' types <class 'str'> and <class 'str'>, choosing description=\"Query result for:\\nSELECT name,ra,dec,significance,error_ellipse_r0,error_ellipse_r1,error_ellipse_angle FROM csc WHERE CONTAINS(POINT('ICRS',ra,dec),CIRCLE('ICRS',172.9448009,-12.3606496,0.05))=1\" [astropy.utils.metadata.merge]\n",
      "WARNING: MergeConflictWarning: Cannot merge meta key 'description' types <class 'str'> and <class 'str'>, choosing description=\"Query result for:\\nSELECT name,ra,dec,significance,error_ellipse_r0,error_ellipse_r1,error_ellipse_angle FROM csc WHERE CONTAINS(POINT('ICRS',ra,dec),CIRCLE('ICRS',150.087407,2.4185307,0.05))=1\" [astropy.utils.metadata.merge]\n",
      "WARNING: MergeConflictWarning: Cannot merge meta key 'description' types <class 'str'> and <class 'str'>, choosing description=\"Query result for:\\nSELECT name,ra,dec,significance,error_ellipse_r0,error_ellipse_r1,error_ellipse_angle FROM csc WHERE CONTAINS(POINT('ICRS',ra,dec),CIRCLE('ICRS',150.2522872,1.7285573,0.05))=1\" [astropy.utils.metadata.merge]\n",
      "WARNING: NoResultsWarning: No matching rows were found in the query. [astroquery.heasarc.core]\n",
      "WARNING: MergeConflictWarning: Cannot merge meta key 'description' types <class 'str'> and <class 'str'>, choosing description=\"Query result for:\\nSELECT name,ra,dec,significance,error_ellipse_r0,error_ellipse_r1,error_ellipse_angle FROM csc WHERE CONTAINS(POINT('ICRS',ra,dec),CIRCLE('ICRS',216.0875674,24.2475067,0.05))=1\" [astropy.utils.metadata.merge]\n",
      "WARNING: MergeConflictWarning: Cannot merge meta key 'description' types <class 'str'> and <class 'str'>, choosing description=\"Query result for:\\nSELECT name,ra,dec,significance,error_ellipse_r0,error_ellipse_r1,error_ellipse_angle FROM csc WHERE CONTAINS(POINT('ICRS',ra,dec),CIRCLE('ICRS',187.7406477,12.5610561,0.05))=1\" [astropy.utils.metadata.merge]\n",
      "WARNING: MergeConflictWarning: Cannot merge meta key 'description' types <class 'str'> and <class 'str'>, choosing description=\"Query result for:\\nSELECT name,ra,dec,significance,error_ellipse_r0,error_ellipse_r1,error_ellipse_angle FROM csc WHERE CONTAINS(POINT('ICRS',ra,dec),CIRCLE('ICRS',180.4252837,-18.808734,0.05))=1\" [astropy.utils.metadata.merge]\n",
      "WARNING: MergeConflictWarning: Cannot merge meta key 'description' types <class 'str'> and <class 'str'>, choosing description=\"Query result for:\\nSELECT name,ra,dec,significance,error_ellipse_r0,error_ellipse_r1,error_ellipse_angle FROM csc WHERE CONTAINS(POINT('ICRS',ra,dec),CIRCLE('ICRS',176.4223951,20.3820559,0.05))=1\" [astropy.utils.metadata.merge]\n",
      "WARNING: NoResultsWarning: No matching rows were found in the query. [astroquery.heasarc.core]\n",
      "WARNING: MergeConflictWarning: Cannot merge meta key 'description' types <class 'str'> and <class 'str'>, choosing description=\"Query result for:\\nSELECT name,ra,dec,significance,error_ellipse_r0,error_ellipse_r1,error_ellipse_angle FROM csc WHERE CONTAINS(POINT('ICRS',ra,dec),CIRCLE('ICRS',190.4031028,22.4995389,0.05))=1\" [astropy.utils.metadata.merge]\n",
      "WARNING: MergeConflictWarning: Cannot merge meta key 'description' types <class 'str'> and <class 'str'>, choosing description=\"Query result for:\\nSELECT name,ra,dec,significance,error_ellipse_r0,error_ellipse_r1,error_ellipse_angle FROM csc WHERE CONTAINS(POINT('ICRS',ra,dec),CIRCLE('ICRS',181.5579466,-8.6302916,0.05))=1\" [astropy.utils.metadata.merge]\n",
      "WARNING: NoResultsWarning: No matching rows were found in the query. [astroquery.heasarc.core]\n",
      "WARNING: MergeConflictWarning: Cannot merge meta key 'description' types <class 'str'> and <class 'str'>, choosing description=\"Query result for:\\nSELECT name,ra,dec,significance,error_ellipse_r0,error_ellipse_r1,error_ellipse_angle FROM csc WHERE CONTAINS(POINT('ICRS',ra,dec),CIRCLE('ICRS',184.2851993,2.7440134,0.05))=1\" [astropy.utils.metadata.merge]\n",
      "WARNING: NoResultsWarning: No matching rows were found in the query. [astroquery.heasarc.core]\n",
      "WARNING: MergeConflictWarning: Cannot merge meta key 'description' types <class 'str'> and <class 'str'>, choosing description=\"Query result for:\\nSELECT name,ra,dec,significance,error_ellipse_r0,error_ellipse_r1,error_ellipse_angle FROM csc WHERE CONTAINS(POINT('ICRS',ra,dec),CIRCLE('ICRS',180.3574955,2.3583209,0.05))=1\" [astropy.utils.metadata.merge]\n",
      "WARNING: MergeConflictWarning: Cannot merge meta key 'description' types <class 'str'> and <class 'str'>, choosing description=\"Query result for:\\nSELECT name,ra,dec,significance,error_ellipse_r0,error_ellipse_r1,error_ellipse_angle FROM csc WHERE CONTAINS(POINT('ICRS',ra,dec),CIRCLE('ICRS',215.1343707,53.0534482,0.05))=1\" [astropy.utils.metadata.merge]\n",
      "WARNING: NoResultsWarning: No matching rows were found in the query. [astroquery.heasarc.core]\n",
      "WARNING: MergeConflictWarning: Cannot merge meta key 'description' types <class 'str'> and <class 'str'>, choosing description=\"Query result for:\\nSELECT name,ra,dec,significance,error_ellipse_r0,error_ellipse_r1,error_ellipse_angle FROM csc WHERE CONTAINS(POINT('ICRS',ra,dec),CIRCLE('ICRS',182.9192702,-1.1318991,0.05))=1\" [astropy.utils.metadata.merge]\n",
      "WARNING: MergeConflictWarning: Cannot merge meta key 'description' types <class 'str'> and <class 'str'>, choosing description=\"Query result for:\\nSELECT name,ra,dec,significance,error_ellipse_r0,error_ellipse_r1,error_ellipse_angle FROM csc WHERE CONTAINS(POINT('ICRS',ra,dec),CIRCLE('ICRS',181.3629013,-7.5363055,0.05))=1\" [astropy.utils.metadata.merge]\n",
      "WARNING: MergeConflictWarning: Cannot merge meta key 'description' types <class 'str'> and <class 'str'>, choosing description=\"Query result for:\\nSELECT name,ra,dec,significance,error_ellipse_r0,error_ellipse_r1,error_ellipse_angle FROM csc WHERE CONTAINS(POINT('ICRS',ra,dec),CIRCLE('ICRS',191.4234497,3.5618425,0.05))=1\" [astropy.utils.metadata.merge]\n",
      "WARNING: NoResultsWarning: No matching rows were found in the query. [astroquery.heasarc.core]\n",
      "WARNING: MergeConflictWarning: Cannot merge meta key 'description' types <class 'str'> and <class 'str'>, choosing description=\"Query result for:\\nSELECT name,ra,dec,significance,error_ellipse_r0,error_ellipse_r1,error_ellipse_angle FROM csc WHERE CONTAINS(POINT('ICRS',ra,dec),CIRCLE('ICRS',195.1846319,12.5341354,0.05))=1\" [astropy.utils.metadata.merge]\n",
      "WARNING: MergeConflictWarning: Cannot merge meta key 'description' types <class 'str'> and <class 'str'>, choosing description=\"Query result for:\\nSELECT name,ra,dec,significance,error_ellipse_r0,error_ellipse_r1,error_ellipse_angle FROM csc WHERE CONTAINS(POINT('ICRS',ra,dec),CIRCLE('ICRS',213.2233645,-3.2187078,0.05))=1\" [astropy.utils.metadata.merge]\n",
      "WARNING: NoResultsWarning: No matching rows were found in the query. [astroquery.heasarc.core]\n",
      "WARNING: MergeConflictWarning: Cannot merge meta key 'description' types <class 'str'> and <class 'str'>, choosing description=\"Query result for:\\nSELECT name,ra,dec,significance,error_ellipse_r0,error_ellipse_r1,error_ellipse_angle FROM csc WHERE CONTAINS(POINT('ICRS',ra,dec),CIRCLE('ICRS',265.7442374,67.0902047,0.05))=1\" [astropy.utils.metadata.merge]\n",
      "WARNING: NoResultsWarning: No matching rows were found in the query. [astroquery.heasarc.core]\n",
      "WARNING: MergeConflictWarning: Cannot merge meta key 'description' types <class 'str'> and <class 'str'>, choosing description=\"Query result for:\\nSELECT name,ra,dec,significance,error_ellipse_r0,error_ellipse_r1,error_ellipse_angle FROM csc WHERE CONTAINS(POINT('ICRS',ra,dec),CIRCLE('ICRS',137.7250701,-4.4086121,0.05))=1\" [astropy.utils.metadata.merge]\n",
      "WARNING: MergeConflictWarning: Cannot merge meta key 'description' types <class 'str'> and <class 'str'>, choosing description=\"Query result for:\\nSELECT name,ra,dec,significance,error_ellipse_r0,error_ellipse_r1,error_ellipse_angle FROM csc WHERE CONTAINS(POINT('ICRS',ra,dec),CIRCLE('ICRS',149.3468686,2.5384074,0.05))=1\" [astropy.utils.metadata.merge]\n",
      "WARNING: MergeConflictWarning: Cannot merge meta key 'description' types <class 'str'> and <class 'str'>, choosing description=\"Query result for:\\nSELECT name,ra,dec,significance,error_ellipse_r0,error_ellipse_r1,error_ellipse_angle FROM csc WHERE CONTAINS(POINT('ICRS',ra,dec),CIRCLE('ICRS',149.4398783,2.1723808,0.05))=1\" [astropy.utils.metadata.merge]\n",
      "WARNING: MergeConflictWarning: Cannot merge meta key 'description' types <class 'str'> and <class 'str'>, choosing description=\"Query result for:\\nSELECT name,ra,dec,significance,error_ellipse_r0,error_ellipse_r1,error_ellipse_angle FROM csc WHERE CONTAINS(POINT('ICRS',ra,dec),CIRCLE('ICRS',149.4029133,1.6714444,0.05))=1\" [astropy.utils.metadata.merge]\n",
      "WARNING: MergeConflictWarning: Cannot merge meta key 'description' types <class 'str'> and <class 'str'>, choosing description=\"Query result for:\\nSELECT name,ra,dec,significance,error_ellipse_r0,error_ellipse_r1,error_ellipse_angle FROM csc WHERE CONTAINS(POINT('ICRS',ra,dec),CIRCLE('ICRS',149.7024376,2.0589467,0.05))=1\" [astropy.utils.metadata.merge]\n",
      "WARNING: MergeConflictWarning: Cannot merge meta key 'description' types <class 'str'> and <class 'str'>, choosing description=\"Query result for:\\nSELECT name,ra,dec,significance,error_ellipse_r0,error_ellipse_r1,error_ellipse_angle FROM csc WHERE CONTAINS(POINT('ICRS',ra,dec),CIRCLE('ICRS',189.1800244,62.0654165,0.05))=1\" [astropy.utils.metadata.merge]\n",
      "WARNING: MergeConflictWarning: Cannot merge meta key 'description' types <class 'str'> and <class 'str'>, choosing description=\"Query result for:\\nSELECT name,ra,dec,significance,error_ellipse_r0,error_ellipse_r1,error_ellipse_angle FROM csc WHERE CONTAINS(POINT('ICRS',ra,dec),CIRCLE('ICRS',150.5036633,2.263394,0.05))=1\" [astropy.utils.metadata.merge]\n",
      "WARNING: MergeConflictWarning: Cannot merge meta key 'description' types <class 'str'> and <class 'str'>, choosing description=\"Query result for:\\nSELECT name,ra,dec,significance,error_ellipse_r0,error_ellipse_r1,error_ellipse_angle FROM csc WHERE CONTAINS(POINT('ICRS',ra,dec),CIRCLE('ICRS',150.1552214,2.041839,0.05))=1\" [astropy.utils.metadata.merge]\n",
      "WARNING: MergeConflictWarning: Cannot merge meta key 'description' types <class 'str'> and <class 'str'>, choosing description=\"Query result for:\\nSELECT name,ra,dec,significance,error_ellipse_r0,error_ellipse_r1,error_ellipse_angle FROM csc WHERE CONTAINS(POINT('ICRS',ra,dec),CIRCLE('ICRS',150.1030697,1.7931779,0.05))=1\" [astropy.utils.metadata.merge]\n",
      "WARNING: NoResultsWarning: No matching rows were found in the query. [astroquery.heasarc.core]\n",
      "WARNING: MergeConflictWarning: Cannot merge meta key 'description' types <class 'str'> and <class 'str'>, choosing description=\"Query result for:\\nSELECT name,ra,dec,significance,error_ellipse_r0,error_ellipse_r1,error_ellipse_angle FROM csc WHERE CONTAINS(POINT('ICRS',ra,dec),CIRCLE('ICRS',214.5759308,52.2796828,0.05))=1\" [astropy.utils.metadata.merge]\n",
      "WARNING: NoResultsWarning: No matching rows were found in the query. [astroquery.heasarc.core]\n",
      "WARNING: MergeConflictWarning: Cannot merge meta key 'description' types <class 'str'> and <class 'str'>, choosing description=\"Query result for:\\nSELECT name,ra,dec,significance,error_ellipse_r0,error_ellipse_r1,error_ellipse_angle FROM csc WHERE CONTAINS(POINT('ICRS',ra,dec),CIRCLE('ICRS',177.4168452,22.1796794,0.05))=1\" [astropy.utils.metadata.merge]\n",
      "WARNING: MergeConflictWarning: Cannot merge meta key 'description' types <class 'str'> and <class 'str'>, choosing description=\"Query result for:\\nSELECT name,ra,dec,significance,error_ellipse_r0,error_ellipse_r1,error_ellipse_angle FROM csc WHERE CONTAINS(POINT('ICRS',ra,dec),CIRCLE('ICRS',169.9978926,6.5094453,0.05))=1\" [astropy.utils.metadata.merge]\n",
      "WARNING: MergeConflictWarning: Cannot merge meta key 'description' types <class 'str'> and <class 'str'>, choosing description=\"Query result for:\\nSELECT name,ra,dec,significance,error_ellipse_r0,error_ellipse_r1,error_ellipse_angle FROM csc WHERE CONTAINS(POINT('ICRS',ra,dec),CIRCLE('ICRS',177.4628389,22.2952512,0.05))=1\" [astropy.utils.metadata.merge]\n",
      "WARNING: NoResultsWarning: No matching rows were found in the query. [astroquery.heasarc.core]\n",
      "WARNING: MergeConflictWarning: Cannot merge meta key 'description' types <class 'str'> and <class 'str'>, choosing description=\"Query result for:\\nSELECT name,ra,dec,significance,error_ellipse_r0,error_ellipse_r1,error_ellipse_angle FROM csc WHERE CONTAINS(POINT('ICRS',ra,dec),CIRCLE('ICRS',177.5042438,22.6834367,0.05))=1\" [astropy.utils.metadata.merge]\n",
      "WARNING: MergeConflictWarning: Cannot merge meta key 'description' types <class 'str'> and <class 'str'>, choosing description=\"Query result for:\\nSELECT name,ra,dec,significance,error_ellipse_r0,error_ellipse_r1,error_ellipse_angle FROM csc WHERE CONTAINS(POINT('ICRS',ra,dec),CIRCLE('ICRS',169.9723865,6.7628474,0.05))=1\" [astropy.utils.metadata.merge]\n",
      "WARNING: MergeConflictWarning: Cannot merge meta key 'description' types <class 'str'> and <class 'str'>, choosing description=\"Query result for:\\nSELECT name,ra,dec,significance,error_ellipse_r0,error_ellipse_r1,error_ellipse_angle FROM csc WHERE CONTAINS(POINT('ICRS',ra,dec),CIRCLE('ICRS',157.5820923,5.5249115,0.05))=1\" [astropy.utils.metadata.merge]\n",
      "WARNING: NoResultsWarning: No matching rows were found in the query. [astroquery.heasarc.core]\n",
      "WARNING: MergeConflictWarning: Cannot merge meta key 'description' types <class 'str'> and <class 'str'>, choosing description=\"Query result for:\\nSELECT name,ra,dec,significance,error_ellipse_r0,error_ellipse_r1,error_ellipse_angle FROM csc WHERE CONTAINS(POINT('ICRS',ra,dec),CIRCLE('ICRS',159.1929805,-2.4619514,0.05))=1\" [astropy.utils.metadata.merge]\n",
      "WARNING: NoResultsWarning: No matching rows were found in the query. [astroquery.heasarc.core]\n",
      "WARNING: MergeConflictWarning: Cannot merge meta key 'description' types <class 'str'> and <class 'str'>, choosing description=\"Query result for:\\nSELECT name,ra,dec,significance,error_ellipse_r0,error_ellipse_r1,error_ellipse_angle FROM csc WHERE CONTAINS(POINT('ICRS',ra,dec),CIRCLE('ICRS',188.1922631,9.3749902,0.05))=1\" [astropy.utils.metadata.merge]\n"
     ]
    },
    {
     "name": "stdout",
     "output_type": "stream",
     "text": [
      "         name             ra        dec     ... error_ellipse_angle par_name\n",
      "                         deg        deg     ...         deg                 \n",
      "--------------------- ---------- ---------- ... ------------------- --------\n",
      "2CXO J111959.4+063641 169.997826   6.611406 ...             136.167   Par001\n",
      "2CXO J112001.2+063610 170.005175   6.602871 ...             138.979   Par001\n",
      "2CXO J112008.8+063438 170.036895   6.577439 ...               0.000   Par001\n",
      "2CXO J112009.1+063814 170.038094   6.637490 ...             119.970   Par001\n",
      "2CXO J114824.6+524847 177.102851  52.813074 ...             177.741   Par002\n",
      "2CXO J114824.3+524815 177.101473  52.804438 ...             175.473   Par002\n",
      "2CXO J114825.1+524724 177.104584  52.790179 ...             170.290   Par002\n",
      "2CXO J114831.2+524807 177.130191  52.802157 ...             172.773   Par002\n",
      "2CXO J114833.2+524845 177.138346  52.812741 ...             166.376   Par002\n",
      "                  ...        ...        ... ...                 ...      ...\n",
      "2CXO J103023.4+053015 157.597752   5.504229 ...              26.478   Par060\n",
      "2CXO J103025.3+053321 157.605691   5.555889 ...              67.815   Par060\n",
      "2CXO J103025.8+053020 157.607582   5.505701 ...              17.943   Par060\n",
      "2CXO J103026.0+053346 157.608721   5.562934 ...              56.847   Par060\n",
      "2CXO J103026.4+053121 157.610743   5.522903 ...              26.552   Par060\n",
      "2CXO J103027.1+052917 157.613073   5.488196 ...              28.315   Par060\n",
      "2CXO J103028.4+053114 157.618569   5.520807 ...              61.549   Par060\n",
      "2CXO J095946.7-224853 149.944730 -22.814813 ...             110.534   Par063\n",
      "2CXO J095951.8-224728 149.965982 -22.791243 ...              94.947   Par063\n",
      "2CXO J100001.0-224713 150.004490 -22.787133 ...              88.957   Par063\n",
      "Length = 406 rows\n"
     ]
    },
    {
     "name": "stderr",
     "output_type": "stream",
     "text": [
      "WARNING: MergeConflictWarning: Cannot merge meta key 'description' types <class 'str'> and <class 'str'>, choosing description=\"Query result for:\\nSELECT name,ra,dec,significance,error_ellipse_r0,error_ellipse_r1,error_ellipse_angle FROM csc WHERE CONTAINS(POINT('ICRS',ra,dec),CIRCLE('ICRS',149.9702594,-22.8246009,0.05))=1\" [astropy.utils.metadata.merge]\n"
     ]
    }
   ],
   "source": [
    "chan_cols='name,ra,dec,significance,error_ellipse_r0,error_ellipse_r1,error_ellipse_angle'\n",
    "\n",
    "for i in range(len(par_coords_list)):\n",
    "    \n",
    "    #we already did the first one\n",
    "    if i==0:\n",
    "        csc_table=Heasarc.query_region(par_coords_list[i],catalog='csc',radius=check_radius,columns=chan_cols)\n",
    "        add_col=tab.Column(np.repeat(par_names[i],len(csc_table)),name='par_name')\n",
    "        csc_table.add_column(add_col)\n",
    "        continue\n",
    "    current_par=par_names[i]\n",
    "    add_table=Heasarc.query_region(par_coords_list[i],catalog='csc',radius=check_radius,columns=chan_cols)\n",
    "    add_col=tab.Column(np.repeat(par_names[i],len(add_table)),name='par_name')\n",
    "    add_table.add_column(add_col)\n",
    "    csc_table=tab.vstack([csc_table,add_table])\n",
    "\n",
    "print(csc_table)"
   ]
  },
  {
   "cell_type": "code",
   "execution_count": 7,
   "metadata": {},
   "outputs": [
    {
     "name": "stderr",
     "output_type": "stream",
     "text": [
      "WARNING: MergeConflictWarning: Cannot merge meta key 'description' types <class 'str'> and <class 'str'>, choosing description=\"Query result for:\\nSELECT detid, srcid, name, src_num, obsid, ra, dec, error_radius, ep_extent, ep_extent_error, ep_extent_ml, sc_ra, sc_dec, sc_poserr, sc_det_ml FROM xmmssc WHERE CONTAINS(POINT('ICRS',ra,dec),CIRCLE('ICRS',177.145372,52.7788105,0.05))=1\" [astropy.utils.metadata.merge]\n",
      "WARNING: MergeConflictWarning: Cannot merge meta key 'description' types <class 'str'> and <class 'str'>, choosing description=\"Query result for:\\nSELECT detid, srcid, name, src_num, obsid, ra, dec, error_radius, ep_extent, ep_extent_error, ep_extent_ml, sc_ra, sc_dec, sc_poserr, sc_det_ml FROM xmmssc WHERE CONTAINS(POINT('ICRS',ra,dec),CIRCLE('ICRS',150.4103959,2.4051779,0.05))=1\" [astropy.utils.metadata.merge]\n",
      "WARNING: NoResultsWarning: No matching rows were found in the query. [astroquery.heasarc.core]\n",
      "WARNING: MergeConflictWarning: Cannot merge meta key 'description' types <class 'str'> and <class 'str'>, choosing description=\"Query result for:\\nSELECT detid, srcid, name, src_num, obsid, ra, dec, error_radius, ep_extent, ep_extent_error, ep_extent_ml, sc_ra, sc_dec, sc_poserr, sc_det_ml FROM xmmssc WHERE CONTAINS(POINT('ICRS',ra,dec),CIRCLE('ICRS',186.7047854,21.6989889,0.05))=1\" [astropy.utils.metadata.merge]\n",
      "WARNING: MergeConflictWarning: Cannot merge meta key 'description' types <class 'str'> and <class 'str'>, choosing description=\"Query result for:\\nSELECT detid, srcid, name, src_num, obsid, ra, dec, error_radius, ep_extent, ep_extent_error, ep_extent_ml, sc_ra, sc_dec, sc_poserr, sc_det_ml FROM xmmssc WHERE CONTAINS(POINT('ICRS',ra,dec),CIRCLE('ICRS',150.6536983,2.0855801,0.05))=1\" [astropy.utils.metadata.merge]\n",
      "WARNING: MergeConflictWarning: Cannot merge meta key 'description' types <class 'str'> and <class 'str'>, choosing description=\"Query result for:\\nSELECT detid, srcid, name, src_num, obsid, ra, dec, error_radius, ep_extent, ep_extent_error, ep_extent_ml, sc_ra, sc_dec, sc_poserr, sc_det_ml FROM xmmssc WHERE CONTAINS(POINT('ICRS',ra,dec),CIRCLE('ICRS',150.6762156,2.1293049,0.05))=1\" [astropy.utils.metadata.merge]\n",
      "WARNING: MergeConflictWarning: Cannot merge meta key 'description' types <class 'str'> and <class 'str'>, choosing description=\"Query result for:\\nSELECT detid, srcid, name, src_num, obsid, ra, dec, error_radius, ep_extent, ep_extent_error, ep_extent_ml, sc_ra, sc_dec, sc_poserr, sc_det_ml FROM xmmssc WHERE CONTAINS(POINT('ICRS',ra,dec),CIRCLE('ICRS',102.4303092,70.3818912,0.05))=1\" [astropy.utils.metadata.merge]\n",
      "WARNING: MergeConflictWarning: Cannot merge meta key 'description' types <class 'str'> and <class 'str'>, choosing description=\"Query result for:\\nSELECT detid, srcid, name, src_num, obsid, ra, dec, error_radius, ep_extent, ep_extent_error, ep_extent_ml, sc_ra, sc_dec, sc_poserr, sc_det_ml FROM xmmssc WHERE CONTAINS(POINT('ICRS',ra,dec),CIRCLE('ICRS',170.1264772,6.7062311,0.05))=1\" [astropy.utils.metadata.merge]\n",
      "WARNING: MergeConflictWarning: Cannot merge meta key 'description' types <class 'str'> and <class 'str'>, choosing description=\"Query result for:\\nSELECT detid, srcid, name, src_num, obsid, ra, dec, error_radius, ep_extent, ep_extent_error, ep_extent_ml, sc_ra, sc_dec, sc_poserr, sc_det_ml FROM xmmssc WHERE CONTAINS(POINT('ICRS',ra,dec),CIRCLE('ICRS',183.1322959,27.4870882,0.05))=1\" [astropy.utils.metadata.merge]\n",
      "WARNING: MergeConflictWarning: Cannot merge meta key 'description' types <class 'str'> and <class 'str'>, choosing description=\"Query result for:\\nSELECT detid, srcid, name, src_num, obsid, ra, dec, error_radius, ep_extent, ep_extent_error, ep_extent_ml, sc_ra, sc_dec, sc_poserr, sc_det_ml FROM xmmssc WHERE CONTAINS(POINT('ICRS',ra,dec),CIRCLE('ICRS',205.5720258,9.308067,0.05))=1\" [astropy.utils.metadata.merge]\n",
      "WARNING: NoResultsWarning: No matching rows were found in the query. [astroquery.heasarc.core]\n",
      "WARNING: MergeConflictWarning: Cannot merge meta key 'description' types <class 'str'> and <class 'str'>, choosing description=\"Query result for:\\nSELECT detid, srcid, name, src_num, obsid, ra, dec, error_radius, ep_extent, ep_extent_error, ep_extent_ml, sc_ra, sc_dec, sc_poserr, sc_det_ml FROM xmmssc WHERE CONTAINS(POINT('ICRS',ra,dec),CIRCLE('ICRS',204.5789783,-19.8794778,0.05))=1\" [astropy.utils.metadata.merge]\n",
      "WARNING: NoResultsWarning: No matching rows were found in the query. [astroquery.heasarc.core]\n",
      "WARNING: MergeConflictWarning: Cannot merge meta key 'description' types <class 'str'> and <class 'str'>, choosing description=\"Query result for:\\nSELECT detid, srcid, name, src_num, obsid, ra, dec, error_radius, ep_extent, ep_extent_error, ep_extent_ml, sc_ra, sc_dec, sc_poserr, sc_det_ml FROM xmmssc WHERE CONTAINS(POINT('ICRS',ra,dec),CIRCLE('ICRS',221.6227941,-23.2860626,0.05))=1\" [astropy.utils.metadata.merge]\n",
      "WARNING: NoResultsWarning: No matching rows were found in the query. [astroquery.heasarc.core]\n",
      "WARNING: MergeConflictWarning: Cannot merge meta key 'description' types <class 'str'> and <class 'str'>, choosing description=\"Query result for:\\nSELECT detid, srcid, name, src_num, obsid, ra, dec, error_radius, ep_extent, ep_extent_error, ep_extent_ml, sc_ra, sc_dec, sc_poserr, sc_det_ml FROM xmmssc WHERE CONTAINS(POINT('ICRS',ra,dec),CIRCLE('ICRS',130.5298837,1.6983955,0.05))=1\" [astropy.utils.metadata.merge]\n",
      "WARNING: MergeConflictWarning: Cannot merge meta key 'description' types <class 'str'> and <class 'str'>, choosing description=\"Query result for:\\nSELECT detid, srcid, name, src_num, obsid, ra, dec, error_radius, ep_extent, ep_extent_error, ep_extent_ml, sc_ra, sc_dec, sc_poserr, sc_det_ml FROM xmmssc WHERE CONTAINS(POINT('ICRS',ra,dec),CIRCLE('ICRS',224.3278892,24.7169779,0.05))=1\" [astropy.utils.metadata.merge]\n",
      "WARNING: MergeConflictWarning: Cannot merge meta key 'description' types <class 'str'> and <class 'str'>, choosing description=\"Query result for:\\nSELECT detid, srcid, name, src_num, obsid, ra, dec, error_radius, ep_extent, ep_extent_error, ep_extent_ml, sc_ra, sc_dec, sc_poserr, sc_det_ml FROM xmmssc WHERE CONTAINS(POINT('ICRS',ra,dec),CIRCLE('ICRS',155.4060634,18.1657443,0.05))=1\" [astropy.utils.metadata.merge]\n",
      "WARNING: MergeConflictWarning: Cannot merge meta key 'description' types <class 'str'> and <class 'str'>, choosing description=\"Query result for:\\nSELECT detid, srcid, name, src_num, obsid, ra, dec, error_radius, ep_extent, ep_extent_error, ep_extent_ml, sc_ra, sc_dec, sc_poserr, sc_det_ml FROM xmmssc WHERE CONTAINS(POINT('ICRS',ra,dec),CIRCLE('ICRS',152.6594154,-4.7508,0.05))=1\" [astropy.utils.metadata.merge]\n",
      "WARNING: MergeConflictWarning: Cannot merge meta key 'description' types <class 'str'> and <class 'str'>, choosing description=\"Query result for:\\nSELECT detid, srcid, name, src_num, obsid, ra, dec, error_radius, ep_extent, ep_extent_error, ep_extent_ml, sc_ra, sc_dec, sc_poserr, sc_det_ml FROM xmmssc WHERE CONTAINS(POINT('ICRS',ra,dec),CIRCLE('ICRS',150.3011088,1.8910817,0.05))=1\" [astropy.utils.metadata.merge]\n",
      "WARNING: NoResultsWarning: No matching rows were found in the query. [astroquery.heasarc.core]\n",
      "WARNING: MergeConflictWarning: Cannot merge meta key 'description' types <class 'str'> and <class 'str'>, choosing description=\"Query result for:\\nSELECT detid, srcid, name, src_num, obsid, ra, dec, error_radius, ep_extent, ep_extent_error, ep_extent_ml, sc_ra, sc_dec, sc_poserr, sc_det_ml FROM xmmssc WHERE CONTAINS(POINT('ICRS',ra,dec),CIRCLE('ICRS',159.2102447,1.7162864,0.05))=1\" [astropy.utils.metadata.merge]\n",
      "WARNING: NoResultsWarning: No matching rows were found in the query. [astroquery.heasarc.core]\n",
      "WARNING: MergeConflictWarning: Cannot merge meta key 'description' types <class 'str'> and <class 'str'>, choosing description=\"Query result for:\\nSELECT detid, srcid, name, src_num, obsid, ra, dec, error_radius, ep_extent, ep_extent_error, ep_extent_ml, sc_ra, sc_dec, sc_poserr, sc_det_ml FROM xmmssc WHERE CONTAINS(POINT('ICRS',ra,dec),CIRCLE('ICRS',130.3650701,48.6033456,0.05))=1\" [astropy.utils.metadata.merge]\n",
      "WARNING: MergeConflictWarning: Cannot merge meta key 'description' types <class 'str'> and <class 'str'>, choosing description=\"Query result for:\\nSELECT detid, srcid, name, src_num, obsid, ra, dec, error_radius, ep_extent, ep_extent_error, ep_extent_ml, sc_ra, sc_dec, sc_poserr, sc_det_ml FROM xmmssc WHERE CONTAINS(POINT('ICRS',ra,dec),CIRCLE('ICRS',149.622923,2.2251064,0.05))=1\" [astropy.utils.metadata.merge]\n",
      "WARNING: NoResultsWarning: No matching rows were found in the query. [astroquery.heasarc.core]\n",
      "WARNING: MergeConflictWarning: Cannot merge meta key 'description' types <class 'str'> and <class 'str'>, choosing description=\"Query result for:\\nSELECT detid, srcid, name, src_num, obsid, ra, dec, error_radius, ep_extent, ep_extent_error, ep_extent_ml, sc_ra, sc_dec, sc_poserr, sc_det_ml FROM xmmssc WHERE CONTAINS(POINT('ICRS',ra,dec),CIRCLE('ICRS',161.1635171,33.9294614,0.05))=1\" [astropy.utils.metadata.merge]\n",
      "WARNING: MergeConflictWarning: Cannot merge meta key 'description' types <class 'str'> and <class 'str'>, choosing description=\"Query result for:\\nSELECT detid, srcid, name, src_num, obsid, ra, dec, error_radius, ep_extent, ep_extent_error, ep_extent_ml, sc_ra, sc_dec, sc_poserr, sc_det_ml FROM xmmssc WHERE CONTAINS(POINT('ICRS',ra,dec),CIRCLE('ICRS',177.2619897,22.4367759,0.05))=1\" [astropy.utils.metadata.merge]\n",
      "WARNING: MergeConflictWarning: Cannot merge meta key 'description' types <class 'str'> and <class 'str'>, choosing description=\"Query result for:\\nSELECT detid, srcid, name, src_num, obsid, ra, dec, error_radius, ep_extent, ep_extent_error, ep_extent_ml, sc_ra, sc_dec, sc_poserr, sc_det_ml FROM xmmssc WHERE CONTAINS(POINT('ICRS',ra,dec),CIRCLE('ICRS',150.0655286,2.5519213,0.05))=1\" [astropy.utils.metadata.merge]\n",
      "WARNING: MergeConflictWarning: Cannot merge meta key 'description' types <class 'str'> and <class 'str'>, choosing description=\"Query result for:\\nSELECT detid, srcid, name, src_num, obsid, ra, dec, error_radius, ep_extent, ep_extent_error, ep_extent_ml, sc_ra, sc_dec, sc_poserr, sc_det_ml FROM xmmssc WHERE CONTAINS(POINT('ICRS',ra,dec),CIRCLE('ICRS',150.1315237,2.4996595,0.05))=1\" [astropy.utils.metadata.merge]\n",
      "WARNING: MergeConflictWarning: Cannot merge meta key 'description' types <class 'str'> and <class 'str'>, choosing description=\"Query result for:\\nSELECT detid, srcid, name, src_num, obsid, ra, dec, error_radius, ep_extent, ep_extent_error, ep_extent_ml, sc_ra, sc_dec, sc_poserr, sc_det_ml FROM xmmssc WHERE CONTAINS(POINT('ICRS',ra,dec),CIRCLE('ICRS',150.245773,1.9774739,0.05))=1\" [astropy.utils.metadata.merge]\n",
      "WARNING: MergeConflictWarning: Cannot merge meta key 'description' types <class 'str'> and <class 'str'>, choosing description=\"Query result for:\\nSELECT detid, srcid, name, src_num, obsid, ra, dec, error_radius, ep_extent, ep_extent_error, ep_extent_ml, sc_ra, sc_dec, sc_poserr, sc_det_ml FROM xmmssc WHERE CONTAINS(POINT('ICRS',ra,dec),CIRCLE('ICRS',150.122717,2.4398773,0.05))=1\" [astropy.utils.metadata.merge]\n",
      "WARNING: MergeConflictWarning: Cannot merge meta key 'description' types <class 'str'> and <class 'str'>, choosing description=\"Query result for:\\nSELECT detid, srcid, name, src_num, obsid, ra, dec, error_radius, ep_extent, ep_extent_error, ep_extent_ml, sc_ra, sc_dec, sc_poserr, sc_det_ml FROM xmmssc WHERE CONTAINS(POINT('ICRS',ra,dec),CIRCLE('ICRS',172.9448009,-12.3606496,0.05))=1\" [astropy.utils.metadata.merge]\n",
      "WARNING: MergeConflictWarning: Cannot merge meta key 'description' types <class 'str'> and <class 'str'>, choosing description=\"Query result for:\\nSELECT detid, srcid, name, src_num, obsid, ra, dec, error_radius, ep_extent, ep_extent_error, ep_extent_ml, sc_ra, sc_dec, sc_poserr, sc_det_ml FROM xmmssc WHERE CONTAINS(POINT('ICRS',ra,dec),CIRCLE('ICRS',150.087407,2.4185307,0.05))=1\" [astropy.utils.metadata.merge]\n",
      "WARNING: MergeConflictWarning: Cannot merge meta key 'description' types <class 'str'> and <class 'str'>, choosing description=\"Query result for:\\nSELECT detid, srcid, name, src_num, obsid, ra, dec, error_radius, ep_extent, ep_extent_error, ep_extent_ml, sc_ra, sc_dec, sc_poserr, sc_det_ml FROM xmmssc WHERE CONTAINS(POINT('ICRS',ra,dec),CIRCLE('ICRS',150.2522872,1.7285573,0.05))=1\" [astropy.utils.metadata.merge]\n",
      "WARNING: MergeConflictWarning: Cannot merge meta key 'description' types <class 'str'> and <class 'str'>, choosing description=\"Query result for:\\nSELECT detid, srcid, name, src_num, obsid, ra, dec, error_radius, ep_extent, ep_extent_error, ep_extent_ml, sc_ra, sc_dec, sc_poserr, sc_det_ml FROM xmmssc WHERE CONTAINS(POINT('ICRS',ra,dec),CIRCLE('ICRS',216.0875674,24.2475067,0.05))=1\" [astropy.utils.metadata.merge]\n",
      "WARNING: MergeConflictWarning: Cannot merge meta key 'description' types <class 'str'> and <class 'str'>, choosing description=\"Query result for:\\nSELECT detid, srcid, name, src_num, obsid, ra, dec, error_radius, ep_extent, ep_extent_error, ep_extent_ml, sc_ra, sc_dec, sc_poserr, sc_det_ml FROM xmmssc WHERE CONTAINS(POINT('ICRS',ra,dec),CIRCLE('ICRS',187.7406477,12.5610561,0.05))=1\" [astropy.utils.metadata.merge]\n",
      "WARNING: MergeConflictWarning: Cannot merge meta key 'description' types <class 'str'> and <class 'str'>, choosing description=\"Query result for:\\nSELECT detid, srcid, name, src_num, obsid, ra, dec, error_radius, ep_extent, ep_extent_error, ep_extent_ml, sc_ra, sc_dec, sc_poserr, sc_det_ml FROM xmmssc WHERE CONTAINS(POINT('ICRS',ra,dec),CIRCLE('ICRS',180.4252837,-18.808734,0.05))=1\" [astropy.utils.metadata.merge]\n",
      "WARNING: MergeConflictWarning: Cannot merge meta key 'description' types <class 'str'> and <class 'str'>, choosing description=\"Query result for:\\nSELECT detid, srcid, name, src_num, obsid, ra, dec, error_radius, ep_extent, ep_extent_error, ep_extent_ml, sc_ra, sc_dec, sc_poserr, sc_det_ml FROM xmmssc WHERE CONTAINS(POINT('ICRS',ra,dec),CIRCLE('ICRS',176.4223951,20.3820559,0.05))=1\" [astropy.utils.metadata.merge]\n",
      "WARNING: NoResultsWarning: No matching rows were found in the query. [astroquery.heasarc.core]\n",
      "WARNING: MergeConflictWarning: Cannot merge meta key 'description' types <class 'str'> and <class 'str'>, choosing description=\"Query result for:\\nSELECT detid, srcid, name, src_num, obsid, ra, dec, error_radius, ep_extent, ep_extent_error, ep_extent_ml, sc_ra, sc_dec, sc_poserr, sc_det_ml FROM xmmssc WHERE CONTAINS(POINT('ICRS',ra,dec),CIRCLE('ICRS',190.4031028,22.4995389,0.05))=1\" [astropy.utils.metadata.merge]\n",
      "WARNING: MergeConflictWarning: Cannot merge meta key 'description' types <class 'str'> and <class 'str'>, choosing description=\"Query result for:\\nSELECT detid, srcid, name, src_num, obsid, ra, dec, error_radius, ep_extent, ep_extent_error, ep_extent_ml, sc_ra, sc_dec, sc_poserr, sc_det_ml FROM xmmssc WHERE CONTAINS(POINT('ICRS',ra,dec),CIRCLE('ICRS',181.5579466,-8.6302916,0.05))=1\" [astropy.utils.metadata.merge]\n",
      "WARNING: MergeConflictWarning: Cannot merge meta key 'description' types <class 'str'> and <class 'str'>, choosing description=\"Query result for:\\nSELECT detid, srcid, name, src_num, obsid, ra, dec, error_radius, ep_extent, ep_extent_error, ep_extent_ml, sc_ra, sc_dec, sc_poserr, sc_det_ml FROM xmmssc WHERE CONTAINS(POINT('ICRS',ra,dec),CIRCLE('ICRS',184.2851993,2.7440134,0.05))=1\" [astropy.utils.metadata.merge]\n",
      "WARNING: MergeConflictWarning: Cannot merge meta key 'description' types <class 'str'> and <class 'str'>, choosing description=\"Query result for:\\nSELECT detid, srcid, name, src_num, obsid, ra, dec, error_radius, ep_extent, ep_extent_error, ep_extent_ml, sc_ra, sc_dec, sc_poserr, sc_det_ml FROM xmmssc WHERE CONTAINS(POINT('ICRS',ra,dec),CIRCLE('ICRS',180.3574955,2.3583209,0.05))=1\" [astropy.utils.metadata.merge]\n",
      "WARNING: NoResultsWarning: No matching rows were found in the query. [astroquery.heasarc.core]\n",
      "WARNING: MergeConflictWarning: Cannot merge meta key 'description' types <class 'str'> and <class 'str'>, choosing description=\"Query result for:\\nSELECT detid, srcid, name, src_num, obsid, ra, dec, error_radius, ep_extent, ep_extent_error, ep_extent_ml, sc_ra, sc_dec, sc_poserr, sc_det_ml FROM xmmssc WHERE CONTAINS(POINT('ICRS',ra,dec),CIRCLE('ICRS',215.1343707,53.0534482,0.05))=1\" [astropy.utils.metadata.merge]\n",
      "WARNING: NoResultsWarning: No matching rows were found in the query. [astroquery.heasarc.core]\n",
      "WARNING: MergeConflictWarning: Cannot merge meta key 'description' types <class 'str'> and <class 'str'>, choosing description=\"Query result for:\\nSELECT detid, srcid, name, src_num, obsid, ra, dec, error_radius, ep_extent, ep_extent_error, ep_extent_ml, sc_ra, sc_dec, sc_poserr, sc_det_ml FROM xmmssc WHERE CONTAINS(POINT('ICRS',ra,dec),CIRCLE('ICRS',182.9192702,-1.1318991,0.05))=1\" [astropy.utils.metadata.merge]\n",
      "WARNING: MergeConflictWarning: Cannot merge meta key 'description' types <class 'str'> and <class 'str'>, choosing description=\"Query result for:\\nSELECT detid, srcid, name, src_num, obsid, ra, dec, error_radius, ep_extent, ep_extent_error, ep_extent_ml, sc_ra, sc_dec, sc_poserr, sc_det_ml FROM xmmssc WHERE CONTAINS(POINT('ICRS',ra,dec),CIRCLE('ICRS',181.3629013,-7.5363055,0.05))=1\" [astropy.utils.metadata.merge]\n",
      "WARNING: NoResultsWarning: No matching rows were found in the query. [astroquery.heasarc.core]\n",
      "WARNING: MergeConflictWarning: Cannot merge meta key 'description' types <class 'str'> and <class 'str'>, choosing description=\"Query result for:\\nSELECT detid, srcid, name, src_num, obsid, ra, dec, error_radius, ep_extent, ep_extent_error, ep_extent_ml, sc_ra, sc_dec, sc_poserr, sc_det_ml FROM xmmssc WHERE CONTAINS(POINT('ICRS',ra,dec),CIRCLE('ICRS',191.4234497,3.5618425,0.05))=1\" [astropy.utils.metadata.merge]\n",
      "WARNING: NoResultsWarning: No matching rows were found in the query. [astroquery.heasarc.core]\n",
      "WARNING: MergeConflictWarning: Cannot merge meta key 'description' types <class 'str'> and <class 'str'>, choosing description=\"Query result for:\\nSELECT detid, srcid, name, src_num, obsid, ra, dec, error_radius, ep_extent, ep_extent_error, ep_extent_ml, sc_ra, sc_dec, sc_poserr, sc_det_ml FROM xmmssc WHERE CONTAINS(POINT('ICRS',ra,dec),CIRCLE('ICRS',195.1846319,12.5341354,0.05))=1\" [astropy.utils.metadata.merge]\n",
      "WARNING: MergeConflictWarning: Cannot merge meta key 'description' types <class 'str'> and <class 'str'>, choosing description=\"Query result for:\\nSELECT detid, srcid, name, src_num, obsid, ra, dec, error_radius, ep_extent, ep_extent_error, ep_extent_ml, sc_ra, sc_dec, sc_poserr, sc_det_ml FROM xmmssc WHERE CONTAINS(POINT('ICRS',ra,dec),CIRCLE('ICRS',213.2233645,-3.2187078,0.05))=1\" [astropy.utils.metadata.merge]\n",
      "WARNING: NoResultsWarning: No matching rows were found in the query. [astroquery.heasarc.core]\n",
      "WARNING: MergeConflictWarning: Cannot merge meta key 'description' types <class 'str'> and <class 'str'>, choosing description=\"Query result for:\\nSELECT detid, srcid, name, src_num, obsid, ra, dec, error_radius, ep_extent, ep_extent_error, ep_extent_ml, sc_ra, sc_dec, sc_poserr, sc_det_ml FROM xmmssc WHERE CONTAINS(POINT('ICRS',ra,dec),CIRCLE('ICRS',265.7442374,67.0902047,0.05))=1\" [astropy.utils.metadata.merge]\n",
      "WARNING: NoResultsWarning: No matching rows were found in the query. [astroquery.heasarc.core]\n",
      "WARNING: MergeConflictWarning: Cannot merge meta key 'description' types <class 'str'> and <class 'str'>, choosing description=\"Query result for:\\nSELECT detid, srcid, name, src_num, obsid, ra, dec, error_radius, ep_extent, ep_extent_error, ep_extent_ml, sc_ra, sc_dec, sc_poserr, sc_det_ml FROM xmmssc WHERE CONTAINS(POINT('ICRS',ra,dec),CIRCLE('ICRS',137.7250701,-4.4086121,0.05))=1\" [astropy.utils.metadata.merge]\n",
      "WARNING: MergeConflictWarning: Cannot merge meta key 'description' types <class 'str'> and <class 'str'>, choosing description=\"Query result for:\\nSELECT detid, srcid, name, src_num, obsid, ra, dec, error_radius, ep_extent, ep_extent_error, ep_extent_ml, sc_ra, sc_dec, sc_poserr, sc_det_ml FROM xmmssc WHERE CONTAINS(POINT('ICRS',ra,dec),CIRCLE('ICRS',149.3468686,2.5384074,0.05))=1\" [astropy.utils.metadata.merge]\n",
      "WARNING: MergeConflictWarning: Cannot merge meta key 'description' types <class 'str'> and <class 'str'>, choosing description=\"Query result for:\\nSELECT detid, srcid, name, src_num, obsid, ra, dec, error_radius, ep_extent, ep_extent_error, ep_extent_ml, sc_ra, sc_dec, sc_poserr, sc_det_ml FROM xmmssc WHERE CONTAINS(POINT('ICRS',ra,dec),CIRCLE('ICRS',149.4398783,2.1723808,0.05))=1\" [astropy.utils.metadata.merge]\n",
      "WARNING: MergeConflictWarning: Cannot merge meta key 'description' types <class 'str'> and <class 'str'>, choosing description=\"Query result for:\\nSELECT detid, srcid, name, src_num, obsid, ra, dec, error_radius, ep_extent, ep_extent_error, ep_extent_ml, sc_ra, sc_dec, sc_poserr, sc_det_ml FROM xmmssc WHERE CONTAINS(POINT('ICRS',ra,dec),CIRCLE('ICRS',149.4029133,1.6714444,0.05))=1\" [astropy.utils.metadata.merge]\n",
      "WARNING: MergeConflictWarning: Cannot merge meta key 'description' types <class 'str'> and <class 'str'>, choosing description=\"Query result for:\\nSELECT detid, srcid, name, src_num, obsid, ra, dec, error_radius, ep_extent, ep_extent_error, ep_extent_ml, sc_ra, sc_dec, sc_poserr, sc_det_ml FROM xmmssc WHERE CONTAINS(POINT('ICRS',ra,dec),CIRCLE('ICRS',149.7024376,2.0589467,0.05))=1\" [astropy.utils.metadata.merge]\n",
      "WARNING: MergeConflictWarning: Cannot merge meta key 'description' types <class 'str'> and <class 'str'>, choosing description=\"Query result for:\\nSELECT detid, srcid, name, src_num, obsid, ra, dec, error_radius, ep_extent, ep_extent_error, ep_extent_ml, sc_ra, sc_dec, sc_poserr, sc_det_ml FROM xmmssc WHERE CONTAINS(POINT('ICRS',ra,dec),CIRCLE('ICRS',189.1800244,62.0654165,0.05))=1\" [astropy.utils.metadata.merge]\n",
      "WARNING: MergeConflictWarning: Cannot merge meta key 'description' types <class 'str'> and <class 'str'>, choosing description=\"Query result for:\\nSELECT detid, srcid, name, src_num, obsid, ra, dec, error_radius, ep_extent, ep_extent_error, ep_extent_ml, sc_ra, sc_dec, sc_poserr, sc_det_ml FROM xmmssc WHERE CONTAINS(POINT('ICRS',ra,dec),CIRCLE('ICRS',150.5036633,2.263394,0.05))=1\" [astropy.utils.metadata.merge]\n",
      "WARNING: MergeConflictWarning: Cannot merge meta key 'description' types <class 'str'> and <class 'str'>, choosing description=\"Query result for:\\nSELECT detid, srcid, name, src_num, obsid, ra, dec, error_radius, ep_extent, ep_extent_error, ep_extent_ml, sc_ra, sc_dec, sc_poserr, sc_det_ml FROM xmmssc WHERE CONTAINS(POINT('ICRS',ra,dec),CIRCLE('ICRS',150.1552214,2.041839,0.05))=1\" [astropy.utils.metadata.merge]\n",
      "WARNING: MergeConflictWarning: Cannot merge meta key 'description' types <class 'str'> and <class 'str'>, choosing description=\"Query result for:\\nSELECT detid, srcid, name, src_num, obsid, ra, dec, error_radius, ep_extent, ep_extent_error, ep_extent_ml, sc_ra, sc_dec, sc_poserr, sc_det_ml FROM xmmssc WHERE CONTAINS(POINT('ICRS',ra,dec),CIRCLE('ICRS',150.1030697,1.7931779,0.05))=1\" [astropy.utils.metadata.merge]\n",
      "WARNING: MergeConflictWarning: Cannot merge meta key 'description' types <class 'str'> and <class 'str'>, choosing description=\"Query result for:\\nSELECT detid, srcid, name, src_num, obsid, ra, dec, error_radius, ep_extent, ep_extent_error, ep_extent_ml, sc_ra, sc_dec, sc_poserr, sc_det_ml FROM xmmssc WHERE CONTAINS(POINT('ICRS',ra,dec),CIRCLE('ICRS',214.5759308,52.2796828,0.05))=1\" [astropy.utils.metadata.merge]\n",
      "WARNING: MergeConflictWarning: Cannot merge meta key 'description' types <class 'str'> and <class 'str'>, choosing description=\"Query result for:\\nSELECT detid, srcid, name, src_num, obsid, ra, dec, error_radius, ep_extent, ep_extent_error, ep_extent_ml, sc_ra, sc_dec, sc_poserr, sc_det_ml FROM xmmssc WHERE CONTAINS(POINT('ICRS',ra,dec),CIRCLE('ICRS',177.4168452,22.1796794,0.05))=1\" [astropy.utils.metadata.merge]\n",
      "WARNING: MergeConflictWarning: Cannot merge meta key 'description' types <class 'str'> and <class 'str'>, choosing description=\"Query result for:\\nSELECT detid, srcid, name, src_num, obsid, ra, dec, error_radius, ep_extent, ep_extent_error, ep_extent_ml, sc_ra, sc_dec, sc_poserr, sc_det_ml FROM xmmssc WHERE CONTAINS(POINT('ICRS',ra,dec),CIRCLE('ICRS',169.9978926,6.5094453,0.05))=1\" [astropy.utils.metadata.merge]\n",
      "WARNING: MergeConflictWarning: Cannot merge meta key 'description' types <class 'str'> and <class 'str'>, choosing description=\"Query result for:\\nSELECT detid, srcid, name, src_num, obsid, ra, dec, error_radius, ep_extent, ep_extent_error, ep_extent_ml, sc_ra, sc_dec, sc_poserr, sc_det_ml FROM xmmssc WHERE CONTAINS(POINT('ICRS',ra,dec),CIRCLE('ICRS',177.4628389,22.2952512,0.05))=1\" [astropy.utils.metadata.merge]\n",
      "WARNING: NoResultsWarning: No matching rows were found in the query. [astroquery.heasarc.core]\n",
      "WARNING: MergeConflictWarning: Cannot merge meta key 'description' types <class 'str'> and <class 'str'>, choosing description=\"Query result for:\\nSELECT detid, srcid, name, src_num, obsid, ra, dec, error_radius, ep_extent, ep_extent_error, ep_extent_ml, sc_ra, sc_dec, sc_poserr, sc_det_ml FROM xmmssc WHERE CONTAINS(POINT('ICRS',ra,dec),CIRCLE('ICRS',177.5042438,22.6834367,0.05))=1\" [astropy.utils.metadata.merge]\n",
      "WARNING: MergeConflictWarning: Cannot merge meta key 'description' types <class 'str'> and <class 'str'>, choosing description=\"Query result for:\\nSELECT detid, srcid, name, src_num, obsid, ra, dec, error_radius, ep_extent, ep_extent_error, ep_extent_ml, sc_ra, sc_dec, sc_poserr, sc_det_ml FROM xmmssc WHERE CONTAINS(POINT('ICRS',ra,dec),CIRCLE('ICRS',169.9723865,6.7628474,0.05))=1\" [astropy.utils.metadata.merge]\n",
      "WARNING: MergeConflictWarning: Cannot merge meta key 'description' types <class 'str'> and <class 'str'>, choosing description=\"Query result for:\\nSELECT detid, srcid, name, src_num, obsid, ra, dec, error_radius, ep_extent, ep_extent_error, ep_extent_ml, sc_ra, sc_dec, sc_poserr, sc_det_ml FROM xmmssc WHERE CONTAINS(POINT('ICRS',ra,dec),CIRCLE('ICRS',157.5820923,5.5249115,0.05))=1\" [astropy.utils.metadata.merge]\n",
      "WARNING: MergeConflictWarning: Cannot merge meta key 'description' types <class 'str'> and <class 'str'>, choosing description=\"Query result for:\\nSELECT detid, srcid, name, src_num, obsid, ra, dec, error_radius, ep_extent, ep_extent_error, ep_extent_ml, sc_ra, sc_dec, sc_poserr, sc_det_ml FROM xmmssc WHERE CONTAINS(POINT('ICRS',ra,dec),CIRCLE('ICRS',159.1929805,-2.4619514,0.05))=1\" [astropy.utils.metadata.merge]\n",
      "WARNING: NoResultsWarning: No matching rows were found in the query. [astroquery.heasarc.core]\n",
      "WARNING: MergeConflictWarning: Cannot merge meta key 'description' types <class 'str'> and <class 'str'>, choosing description=\"Query result for:\\nSELECT detid, srcid, name, src_num, obsid, ra, dec, error_radius, ep_extent, ep_extent_error, ep_extent_ml, sc_ra, sc_dec, sc_poserr, sc_det_ml FROM xmmssc WHERE CONTAINS(POINT('ICRS',ra,dec),CIRCLE('ICRS',188.1922631,9.3749902,0.05))=1\" [astropy.utils.metadata.merge]\n"
     ]
    },
    {
     "name": "stdout",
     "output_type": "stream",
     "text": [
      "     detid           srcid               name         ... sc_det_ml par_name\n",
      "                                                      ...                   \n",
      "--------------- --------------- --------------------- ... --------- --------\n",
      "106939903015035 206939901010018 4XMM J112008.5+063405 ...    356.99   Par001\n",
      "108849904010129 206939902015162 4XMM J112011.6+063417 ...    20.004   Par001\n",
      "106939902010003 206939901010002 4XMM J112014.8+063341 ...    5756.5   Par001\n",
      "106939901010002 206939901010002 4XMM J112014.8+063341 ...    5756.5   Par001\n",
      "106939902010158 206939902010158 4XMM J112005.6+063733 ...    7.8045   Par001\n",
      "106939902010101 206939902010101 4XMM J112015.2+063654 ...    20.465   Par001\n",
      "106939903010045 206939901010044 4XMM J112006.7+063351 ...    142.67   Par001\n",
      "106939901010088 206939901010088 4XMM J112009.8+063337 ...    9.3716   Par001\n",
      "106939902010013 206939901010010 4XMM J111959.5+063641 ...    1038.9   Par001\n",
      "            ...             ...                   ... ...       ...      ...\n",
      "108031611010061 208031611010061 4XMM J103652.9-022529 ...    15.829   Par061\n",
      "108031611010091 208031611010091 4XMM J103639.4-022654 ...    7.9661   Par061\n",
      "108031611010004 208031611010004 4XMM J103648.8-022818 ...    1198.1   Par061\n",
      "108031611010022 208031611010022 4XMM J103652.4-022629 ...     97.35   Par061\n",
      "108031611010002 208031611010002 4XMM J103654.0-022725 ...    2342.6   Par061\n",
      "108521807010023 208521807010023 4XMM J095957.6-224959 ...    144.85   Par063\n",
      "108521807010099 208521807010099 4XMM J095946.6-224854 ...    7.3516   Par063\n",
      "108521807010014 208521807010014 4XMM J095951.7-224726 ...    307.03   Par063\n",
      "108521807010048 208521807010048 4XMM J095954.4-224946 ...    37.958   Par063\n",
      "108521807010066 208521807010066 4XMM J095958.9-225022 ...    30.119   Par063\n",
      "Length = 876 rows\n"
     ]
    },
    {
     "name": "stderr",
     "output_type": "stream",
     "text": [
      "WARNING: MergeConflictWarning: Cannot merge meta key 'description' types <class 'str'> and <class 'str'>, choosing description=\"Query result for:\\nSELECT detid, srcid, name, src_num, obsid, ra, dec, error_radius, ep_extent, ep_extent_error, ep_extent_ml, sc_ra, sc_dec, sc_poserr, sc_det_ml FROM xmmssc WHERE CONTAINS(POINT('ICRS',ra,dec),CIRCLE('ICRS',149.9702594,-22.8246009,0.05))=1\" [astropy.utils.metadata.merge]\n"
     ]
    }
   ],
   "source": [
    "#do the first one outside the loop\n",
    "\n",
    "xmm_cols='detid, srcid, name, src_num, obsid, ra, dec, error_radius, ep_extent, ep_extent_error, ep_extent_ml, sc_ra, sc_dec, sc_poserr, sc_det_ml'\n",
    "\n",
    "for i in range(len(par_coords_list)):\n",
    "    \n",
    "    #we already did the first one\n",
    "    if i==0:\n",
    "        xmm_table=Heasarc.query_region(par_coords_list[i],catalog='xmmssc',radius=check_radius,columns=xmm_cols)\n",
    "        add_col=tab.Column(np.repeat(par_names[i],len(xmm_table)),name='par_name')\n",
    "        xmm_table.add_column(add_col)\n",
    "        continue\n",
    "    current_par=par_names[i]\n",
    "    add_table=Heasarc.query_region(par_coords_list[i],catalog='xmmssc',radius=check_radius,columns=xmm_cols)\n",
    "    add_col=tab.Column(np.repeat(par_names[i],len(add_table)),name='par_name')\n",
    "    add_table.add_column(add_col)\n",
    "    xmm_table=tab.vstack([xmm_table,add_table])\n",
    "\n",
    "print(xmm_table)\n",
    "\n",
    "\n",
    "    \n"
   ]
  },
  {
   "cell_type": "code",
   "execution_count": 19,
   "metadata": {},
   "outputs": [],
   "source": [
    "#len(set(xmm_table['srcid'])),len(set(xmm_table['obsid']))\n",
    "\n",
    "#np.savetxt('xmm_table.csv',xmm_table,delimiter=',',header=xmm_table.colnames, fmt='%s')\n",
    "#np.savetxt('csc_table.csv',csc_table,delimiter=',',header=csc_table.colnames, fmt='%s')\n",
    "df_counts.to_csv('df_counts.csv',index=True)\n",
    "#xmm_table.write('xmm_table.csv',format='csv')\n",
    "#csc_table.write('csc_table.csv',format='csv')\n",
    "#csc_table['ra','dec'].write('csc_table.tsv',format='tsv')"
   ]
  },
  {
   "cell_type": "code",
   "execution_count": 20,
   "metadata": {},
   "outputs": [
    {
     "ename": "NameError",
     "evalue": "name 'csc_table' is not defined",
     "output_type": "error",
     "traceback": [
      "\u001b[31m---------------------------------------------------------------------------\u001b[39m",
      "\u001b[31mNameError\u001b[39m                                 Traceback (most recent call last)",
      "\u001b[36mCell\u001b[39m\u001b[36m \u001b[39m\u001b[32mIn[20]\u001b[39m\u001b[32m, line 2\u001b[39m\n\u001b[32m      1\u001b[39m plt.figure()\n\u001b[32m----> \u001b[39m\u001b[32m2\u001b[39m plt.plot(\u001b[43mcsc_table\u001b[49m[\u001b[33m'\u001b[39m\u001b[33mra\u001b[39m\u001b[33m'\u001b[39m],csc_table[\u001b[33m'\u001b[39m\u001b[33mdec\u001b[39m\u001b[33m'\u001b[39m],\u001b[33m'\u001b[39m\u001b[33m.\u001b[39m\u001b[33m'\u001b[39m)\n\u001b[32m      3\u001b[39m plt.plot(xmm_table[\u001b[33m'\u001b[39m\u001b[33mra\u001b[39m\u001b[33m'\u001b[39m],xmm_table[\u001b[33m'\u001b[39m\u001b[33mdec\u001b[39m\u001b[33m'\u001b[39m],\u001b[33m'\u001b[39m\u001b[33m.\u001b[39m\u001b[33m'\u001b[39m)\n\u001b[32m      4\u001b[39m plt.show()\n",
      "\u001b[31mNameError\u001b[39m: name 'csc_table' is not defined"
     ]
    },
    {
     "data": {
      "text/plain": [
       "<Figure size 640x480 with 0 Axes>"
      ]
     },
     "metadata": {},
     "output_type": "display_data"
    }
   ],
   "source": [
    "plt.figure()\n",
    "plt.plot(csc_table['ra'],csc_table['dec'],'.')\n",
    "plt.plot(xmm_table['ra'],xmm_table['dec'],'.')\n",
    "plt.show()\n",
    "\n",
    "xmm_unique_table=tab.unique(xmm_table,keys='srcid')\n",
    "\n",
    "chan_coords=coord.SkyCoord(ra=csc_table['ra'],dec=csc_table['dec'],unit=(u.deg, u.deg))\n",
    "xmm_coords=coord.SkyCoord(ra=xmm_unique_table['sc_ra'],dec=xmm_unique_table['sc_dec'],unit=(u.deg, u.deg))\n",
    "\n",
    "chan_match_idx, d2d, d3d = chan_coords.match_to_catalog_sky(xmm_coords,)\n",
    "\n",
    "match_radius=3*u.arcsec\n",
    "dist_mask=d2d<match_radius\n"
   ]
  },
  {
   "cell_type": "code",
   "execution_count": null,
   "metadata": {},
   "outputs": [
    {
     "data": {
      "image/png": "[encoded data removed]",
      "text/plain": [
       "<Figure size 640x480 with 1 Axes>"
      ]
     },
     "metadata": {},
     "output_type": "display_data"
    }
   ],
   "source": [
    "plt.figure()\n",
    "plt.hist(d2d.arcsec[d2d<10*u.arcsec],bins=100)\n",
    "plt.show()"
   ]
  },
  {
   "cell_type": "code",
   "execution_count": null,
   "metadata": {},
   "outputs": [
    {
     "name": "stdout",
     "output_type": "stream",
     "text": [
      "['name', 'ra', 'dec', 'broad_type', 'rmag', 'bmag', 'redshift', 'radio_name', 'xray_name', '__row']\n"
     ]
    },
    {
     "name": "stderr",
     "output_type": "stream",
     "text": [
      "WARNING: MergeConflictWarning: Cannot merge meta key 'description' types <class 'str'> and <class 'str'>, choosing description=\"Query result for:\\nSELECT ra,dec,broad_type,redshift, rmag, bmag,name, radio_name, xray_name FROM milliquas WHERE CONTAINS(POINT('ICRS',ra,dec),CIRCLE('ICRS',177.145372,52.7788105,0.05))=1\" [astropy.utils.metadata.merge]\n",
      "WARNING: MergeConflictWarning: Cannot merge meta key 'description' types <class 'str'> and <class 'str'>, choosing description=\"Query result for:\\nSELECT ra,dec,broad_type,redshift, rmag, bmag,name, radio_name, xray_name FROM milliquas WHERE CONTAINS(POINT('ICRS',ra,dec),CIRCLE('ICRS',150.4103959,2.4051779,0.05))=1\" [astropy.utils.metadata.merge]\n",
      "WARNING: NoResultsWarning: No matching rows were found in the query. [astroquery.heasarc.core]\n",
      "WARNING: MergeConflictWarning: Cannot merge meta key 'description' types <class 'str'> and <class 'str'>, choosing description=\"Query result for:\\nSELECT ra,dec,broad_type,redshift, rmag, bmag,name, radio_name, xray_name FROM milliquas WHERE CONTAINS(POINT('ICRS',ra,dec),CIRCLE('ICRS',186.7047854,21.6989889,0.05))=1\" [astropy.utils.metadata.merge]\n",
      "WARNING: MergeConflictWarning: Cannot merge meta key 'description' types <class 'str'> and <class 'str'>, choosing description=\"Query result for:\\nSELECT ra,dec,broad_type,redshift, rmag, bmag,name, radio_name, xray_name FROM milliquas WHERE CONTAINS(POINT('ICRS',ra,dec),CIRCLE('ICRS',150.6536983,2.0855801,0.05))=1\" [astropy.utils.metadata.merge]\n",
      "WARNING: MergeConflictWarning: Cannot merge meta key 'description' types <class 'str'> and <class 'str'>, choosing description=\"Query result for:\\nSELECT ra,dec,broad_type,redshift, rmag, bmag,name, radio_name, xray_name FROM milliquas WHERE CONTAINS(POINT('ICRS',ra,dec),CIRCLE('ICRS',150.6762156,2.1293049,0.05))=1\" [astropy.utils.metadata.merge]\n",
      "WARNING: NoResultsWarning: No matching rows were found in the query. [astroquery.heasarc.core]\n",
      "WARNING: MergeConflictWarning: Cannot merge meta key 'description' types <class 'str'> and <class 'str'>, choosing description=\"Query result for:\\nSELECT ra,dec,broad_type,redshift, rmag, bmag,name, radio_name, xray_name FROM milliquas WHERE CONTAINS(POINT('ICRS',ra,dec),CIRCLE('ICRS',102.4303092,70.3818912,0.05))=1\" [astropy.utils.metadata.merge]\n",
      "WARNING: MergeConflictWarning: Cannot merge meta key 'description' types <class 'str'> and <class 'str'>, choosing description=\"Query result for:\\nSELECT ra,dec,broad_type,redshift, rmag, bmag,name, radio_name, xray_name FROM milliquas WHERE CONTAINS(POINT('ICRS',ra,dec),CIRCLE('ICRS',170.1264772,6.7062311,0.05))=1\" [astropy.utils.metadata.merge]\n",
      "WARNING: MergeConflictWarning: Cannot merge meta key 'description' types <class 'str'> and <class 'str'>, choosing description=\"Query result for:\\nSELECT ra,dec,broad_type,redshift, rmag, bmag,name, radio_name, xray_name FROM milliquas WHERE CONTAINS(POINT('ICRS',ra,dec),CIRCLE('ICRS',183.1322959,27.4870882,0.05))=1\" [astropy.utils.metadata.merge]\n",
      "WARNING: NoResultsWarning: No matching rows were found in the query. [astroquery.heasarc.core]\n",
      "WARNING: MergeConflictWarning: Cannot merge meta key 'description' types <class 'str'> and <class 'str'>, choosing description=\"Query result for:\\nSELECT ra,dec,broad_type,redshift, rmag, bmag,name, radio_name, xray_name FROM milliquas WHERE CONTAINS(POINT('ICRS',ra,dec),CIRCLE('ICRS',205.5720258,9.308067,0.05))=1\" [astropy.utils.metadata.merge]\n",
      "WARNING: NoResultsWarning: No matching rows were found in the query. [astroquery.heasarc.core]\n",
      "WARNING: MergeConflictWarning: Cannot merge meta key 'description' types <class 'str'> and <class 'str'>, choosing description=\"Query result for:\\nSELECT ra,dec,broad_type,redshift, rmag, bmag,name, radio_name, xray_name FROM milliquas WHERE CONTAINS(POINT('ICRS',ra,dec),CIRCLE('ICRS',204.5789783,-19.8794778,0.05))=1\" [astropy.utils.metadata.merge]\n",
      "WARNING: NoResultsWarning: No matching rows were found in the query. [astroquery.heasarc.core]\n",
      "WARNING: MergeConflictWarning: Cannot merge meta key 'description' types <class 'str'> and <class 'str'>, choosing description=\"Query result for:\\nSELECT ra,dec,broad_type,redshift, rmag, bmag,name, radio_name, xray_name FROM milliquas WHERE CONTAINS(POINT('ICRS',ra,dec),CIRCLE('ICRS',221.6227941,-23.2860626,0.05))=1\" [astropy.utils.metadata.merge]\n",
      "WARNING: MergeConflictWarning: Cannot merge meta key 'description' types <class 'str'> and <class 'str'>, choosing description=\"Query result for:\\nSELECT ra,dec,broad_type,redshift, rmag, bmag,name, radio_name, xray_name FROM milliquas WHERE CONTAINS(POINT('ICRS',ra,dec),CIRCLE('ICRS',130.5298837,1.6983955,0.05))=1\" [astropy.utils.metadata.merge]\n",
      "WARNING: NoResultsWarning: No matching rows were found in the query. [astroquery.heasarc.core]\n",
      "WARNING: MergeConflictWarning: Cannot merge meta key 'description' types <class 'str'> and <class 'str'>, choosing description=\"Query result for:\\nSELECT ra,dec,broad_type,redshift, rmag, bmag,name, radio_name, xray_name FROM milliquas WHERE CONTAINS(POINT('ICRS',ra,dec),CIRCLE('ICRS',224.3278892,24.7169779,0.05))=1\" [astropy.utils.metadata.merge]\n",
      "WARNING: NoResultsWarning: No matching rows were found in the query. [astroquery.heasarc.core]\n",
      "WARNING: MergeConflictWarning: Cannot merge meta key 'description' types <class 'str'> and <class 'str'>, choosing description=\"Query result for:\\nSELECT ra,dec,broad_type,redshift, rmag, bmag,name, radio_name, xray_name FROM milliquas WHERE CONTAINS(POINT('ICRS',ra,dec),CIRCLE('ICRS',155.4060634,18.1657443,0.05))=1\" [astropy.utils.metadata.merge]\n",
      "WARNING: NoResultsWarning: No matching rows were found in the query. [astroquery.heasarc.core]\n",
      "WARNING: MergeConflictWarning: Cannot merge meta key 'description' types <class 'str'> and <class 'str'>, choosing description=\"Query result for:\\nSELECT ra,dec,broad_type,redshift, rmag, bmag,name, radio_name, xray_name FROM milliquas WHERE CONTAINS(POINT('ICRS',ra,dec),CIRCLE('ICRS',152.6594154,-4.7508,0.05))=1\" [astropy.utils.metadata.merge]\n",
      "WARNING: MergeConflictWarning: Cannot merge meta key 'description' types <class 'str'> and <class 'str'>, choosing description=\"Query result for:\\nSELECT ra,dec,broad_type,redshift, rmag, bmag,name, radio_name, xray_name FROM milliquas WHERE CONTAINS(POINT('ICRS',ra,dec),CIRCLE('ICRS',150.3011088,1.8910817,0.05))=1\" [astropy.utils.metadata.merge]\n",
      "WARNING: NoResultsWarning: No matching rows were found in the query. [astroquery.heasarc.core]\n",
      "WARNING: MergeConflictWarning: Cannot merge meta key 'description' types <class 'str'> and <class 'str'>, choosing description=\"Query result for:\\nSELECT ra,dec,broad_type,redshift, rmag, bmag,name, radio_name, xray_name FROM milliquas WHERE CONTAINS(POINT('ICRS',ra,dec),CIRCLE('ICRS',159.2102447,1.7162864,0.05))=1\" [astropy.utils.metadata.merge]\n",
      "WARNING: MergeConflictWarning: Cannot merge meta key 'description' types <class 'str'> and <class 'str'>, choosing description=\"Query result for:\\nSELECT ra,dec,broad_type,redshift, rmag, bmag,name, radio_name, xray_name FROM milliquas WHERE CONTAINS(POINT('ICRS',ra,dec),CIRCLE('ICRS',130.3650701,48.6033456,0.05))=1\" [astropy.utils.metadata.merge]\n",
      "WARNING: MergeConflictWarning: Cannot merge meta key 'description' types <class 'str'> and <class 'str'>, choosing description=\"Query result for:\\nSELECT ra,dec,broad_type,redshift, rmag, bmag,name, radio_name, xray_name FROM milliquas WHERE CONTAINS(POINT('ICRS',ra,dec),CIRCLE('ICRS',149.622923,2.2251064,0.05))=1\" [astropy.utils.metadata.merge]\n",
      "WARNING: NoResultsWarning: No matching rows were found in the query. [astroquery.heasarc.core]\n",
      "WARNING: MergeConflictWarning: Cannot merge meta key 'description' types <class 'str'> and <class 'str'>, choosing description=\"Query result for:\\nSELECT ra,dec,broad_type,redshift, rmag, bmag,name, radio_name, xray_name FROM milliquas WHERE CONTAINS(POINT('ICRS',ra,dec),CIRCLE('ICRS',161.1635171,33.9294614,0.05))=1\" [astropy.utils.metadata.merge]\n",
      "WARNING: MergeConflictWarning: Cannot merge meta key 'description' types <class 'str'> and <class 'str'>, choosing description=\"Query result for:\\nSELECT ra,dec,broad_type,redshift, rmag, bmag,name, radio_name, xray_name FROM milliquas WHERE CONTAINS(POINT('ICRS',ra,dec),CIRCLE('ICRS',177.2619897,22.4367759,0.05))=1\" [astropy.utils.metadata.merge]\n",
      "WARNING: MergeConflictWarning: Cannot merge meta key 'description' types <class 'str'> and <class 'str'>, choosing description=\"Query result for:\\nSELECT ra,dec,broad_type,redshift, rmag, bmag,name, radio_name, xray_name FROM milliquas WHERE CONTAINS(POINT('ICRS',ra,dec),CIRCLE('ICRS',150.0655286,2.5519213,0.05))=1\" [astropy.utils.metadata.merge]\n",
      "WARNING: MergeConflictWarning: Cannot merge meta key 'description' types <class 'str'> and <class 'str'>, choosing description=\"Query result for:\\nSELECT ra,dec,broad_type,redshift, rmag, bmag,name, radio_name, xray_name FROM milliquas WHERE CONTAINS(POINT('ICRS',ra,dec),CIRCLE('ICRS',150.1315237,2.4996595,0.05))=1\" [astropy.utils.metadata.merge]\n",
      "WARNING: MergeConflictWarning: Cannot merge meta key 'description' types <class 'str'> and <class 'str'>, choosing description=\"Query result for:\\nSELECT ra,dec,broad_type,redshift, rmag, bmag,name, radio_name, xray_name FROM milliquas WHERE CONTAINS(POINT('ICRS',ra,dec),CIRCLE('ICRS',150.245773,1.9774739,0.05))=1\" [astropy.utils.metadata.merge]\n",
      "WARNING: MergeConflictWarning: Cannot merge meta key 'description' types <class 'str'> and <class 'str'>, choosing description=\"Query result for:\\nSELECT ra,dec,broad_type,redshift, rmag, bmag,name, radio_name, xray_name FROM milliquas WHERE CONTAINS(POINT('ICRS',ra,dec),CIRCLE('ICRS',150.122717,2.4398773,0.05))=1\" [astropy.utils.metadata.merge]\n",
      "WARNING: NoResultsWarning: No matching rows were found in the query. [astroquery.heasarc.core]\n",
      "WARNING: MergeConflictWarning: Cannot merge meta key 'description' types <class 'str'> and <class 'str'>, choosing description=\"Query result for:\\nSELECT ra,dec,broad_type,redshift, rmag, bmag,name, radio_name, xray_name FROM milliquas WHERE CONTAINS(POINT('ICRS',ra,dec),CIRCLE('ICRS',172.9448009,-12.3606496,0.05))=1\" [astropy.utils.metadata.merge]\n",
      "WARNING: MergeConflictWarning: Cannot merge meta key 'description' types <class 'str'> and <class 'str'>, choosing description=\"Query result for:\\nSELECT ra,dec,broad_type,redshift, rmag, bmag,name, radio_name, xray_name FROM milliquas WHERE CONTAINS(POINT('ICRS',ra,dec),CIRCLE('ICRS',150.087407,2.4185307,0.05))=1\" [astropy.utils.metadata.merge]\n",
      "WARNING: MergeConflictWarning: Cannot merge meta key 'description' types <class 'str'> and <class 'str'>, choosing description=\"Query result for:\\nSELECT ra,dec,broad_type,redshift, rmag, bmag,name, radio_name, xray_name FROM milliquas WHERE CONTAINS(POINT('ICRS',ra,dec),CIRCLE('ICRS',150.2522872,1.7285573,0.05))=1\" [astropy.utils.metadata.merge]\n",
      "WARNING: MergeConflictWarning: Cannot merge meta key 'description' types <class 'str'> and <class 'str'>, choosing description=\"Query result for:\\nSELECT ra,dec,broad_type,redshift, rmag, bmag,name, radio_name, xray_name FROM milliquas WHERE CONTAINS(POINT('ICRS',ra,dec),CIRCLE('ICRS',216.0875674,24.2475067,0.05))=1\" [astropy.utils.metadata.merge]\n",
      "WARNING: NoResultsWarning: No matching rows were found in the query. [astroquery.heasarc.core]\n",
      "WARNING: MergeConflictWarning: Cannot merge meta key 'description' types <class 'str'> and <class 'str'>, choosing description=\"Query result for:\\nSELECT ra,dec,broad_type,redshift, rmag, bmag,name, radio_name, xray_name FROM milliquas WHERE CONTAINS(POINT('ICRS',ra,dec),CIRCLE('ICRS',187.7406477,12.5610561,0.05))=1\" [astropy.utils.metadata.merge]\n",
      "WARNING: NoResultsWarning: No matching rows were found in the query. [astroquery.heasarc.core]\n",
      "WARNING: MergeConflictWarning: Cannot merge meta key 'description' types <class 'str'> and <class 'str'>, choosing description=\"Query result for:\\nSELECT ra,dec,broad_type,redshift, rmag, bmag,name, radio_name, xray_name FROM milliquas WHERE CONTAINS(POINT('ICRS',ra,dec),CIRCLE('ICRS',180.4252837,-18.808734,0.05))=1\" [astropy.utils.metadata.merge]\n",
      "WARNING: MergeConflictWarning: Cannot merge meta key 'description' types <class 'str'> and <class 'str'>, choosing description=\"Query result for:\\nSELECT ra,dec,broad_type,redshift, rmag, bmag,name, radio_name, xray_name FROM milliquas WHERE CONTAINS(POINT('ICRS',ra,dec),CIRCLE('ICRS',176.4223951,20.3820559,0.05))=1\" [astropy.utils.metadata.merge]\n",
      "WARNING: MergeConflictWarning: Cannot merge meta key 'description' types <class 'str'> and <class 'str'>, choosing description=\"Query result for:\\nSELECT ra,dec,broad_type,redshift, rmag, bmag,name, radio_name, xray_name FROM milliquas WHERE CONTAINS(POINT('ICRS',ra,dec),CIRCLE('ICRS',190.4031028,22.4995389,0.05))=1\" [astropy.utils.metadata.merge]\n",
      "WARNING: NoResultsWarning: No matching rows were found in the query. [astroquery.heasarc.core]\n",
      "WARNING: MergeConflictWarning: Cannot merge meta key 'description' types <class 'str'> and <class 'str'>, choosing description=\"Query result for:\\nSELECT ra,dec,broad_type,redshift, rmag, bmag,name, radio_name, xray_name FROM milliquas WHERE CONTAINS(POINT('ICRS',ra,dec),CIRCLE('ICRS',181.5579466,-8.6302916,0.05))=1\" [astropy.utils.metadata.merge]\n",
      "WARNING: NoResultsWarning: No matching rows were found in the query. [astroquery.heasarc.core]\n",
      "WARNING: MergeConflictWarning: Cannot merge meta key 'description' types <class 'str'> and <class 'str'>, choosing description=\"Query result for:\\nSELECT ra,dec,broad_type,redshift, rmag, bmag,name, radio_name, xray_name FROM milliquas WHERE CONTAINS(POINT('ICRS',ra,dec),CIRCLE('ICRS',184.2851993,2.7440134,0.05))=1\" [astropy.utils.metadata.merge]\n",
      "WARNING: MergeConflictWarning: Cannot merge meta key 'description' types <class 'str'> and <class 'str'>, choosing description=\"Query result for:\\nSELECT ra,dec,broad_type,redshift, rmag, bmag,name, radio_name, xray_name FROM milliquas WHERE CONTAINS(POINT('ICRS',ra,dec),CIRCLE('ICRS',180.3574955,2.3583209,0.05))=1\" [astropy.utils.metadata.merge]\n",
      "WARNING: MergeConflictWarning: Cannot merge meta key 'description' types <class 'str'> and <class 'str'>, choosing description=\"Query result for:\\nSELECT ra,dec,broad_type,redshift, rmag, bmag,name, radio_name, xray_name FROM milliquas WHERE CONTAINS(POINT('ICRS',ra,dec),CIRCLE('ICRS',215.1343707,53.0534482,0.05))=1\" [astropy.utils.metadata.merge]\n",
      "WARNING: MergeConflictWarning: Cannot merge meta key 'description' types <class 'str'> and <class 'str'>, choosing description=\"Query result for:\\nSELECT ra,dec,broad_type,redshift, rmag, bmag,name, radio_name, xray_name FROM milliquas WHERE CONTAINS(POINT('ICRS',ra,dec),CIRCLE('ICRS',182.9192702,-1.1318991,0.05))=1\" [astropy.utils.metadata.merge]\n",
      "WARNING: NoResultsWarning: No matching rows were found in the query. [astroquery.heasarc.core]\n",
      "WARNING: MergeConflictWarning: Cannot merge meta key 'description' types <class 'str'> and <class 'str'>, choosing description=\"Query result for:\\nSELECT ra,dec,broad_type,redshift, rmag, bmag,name, radio_name, xray_name FROM milliquas WHERE CONTAINS(POINT('ICRS',ra,dec),CIRCLE('ICRS',181.3629013,-7.5363055,0.05))=1\" [astropy.utils.metadata.merge]\n",
      "WARNING: MergeConflictWarning: Cannot merge meta key 'description' types <class 'str'> and <class 'str'>, choosing description=\"Query result for:\\nSELECT ra,dec,broad_type,redshift, rmag, bmag,name, radio_name, xray_name FROM milliquas WHERE CONTAINS(POINT('ICRS',ra,dec),CIRCLE('ICRS',191.4234497,3.5618425,0.05))=1\" [astropy.utils.metadata.merge]\n",
      "WARNING: NoResultsWarning: No matching rows were found in the query. [astroquery.heasarc.core]\n",
      "WARNING: MergeConflictWarning: Cannot merge meta key 'description' types <class 'str'> and <class 'str'>, choosing description=\"Query result for:\\nSELECT ra,dec,broad_type,redshift, rmag, bmag,name, radio_name, xray_name FROM milliquas WHERE CONTAINS(POINT('ICRS',ra,dec),CIRCLE('ICRS',195.1846319,12.5341354,0.05))=1\" [astropy.utils.metadata.merge]\n",
      "WARNING: MergeConflictWarning: Cannot merge meta key 'description' types <class 'str'> and <class 'str'>, choosing description=\"Query result for:\\nSELECT ra,dec,broad_type,redshift, rmag, bmag,name, radio_name, xray_name FROM milliquas WHERE CONTAINS(POINT('ICRS',ra,dec),CIRCLE('ICRS',213.2233645,-3.2187078,0.05))=1\" [astropy.utils.metadata.merge]\n",
      "WARNING: NoResultsWarning: No matching rows were found in the query. [astroquery.heasarc.core]\n",
      "WARNING: MergeConflictWarning: Cannot merge meta key 'description' types <class 'str'> and <class 'str'>, choosing description=\"Query result for:\\nSELECT ra,dec,broad_type,redshift, rmag, bmag,name, radio_name, xray_name FROM milliquas WHERE CONTAINS(POINT('ICRS',ra,dec),CIRCLE('ICRS',265.7442374,67.0902047,0.05))=1\" [astropy.utils.metadata.merge]\n",
      "WARNING: NoResultsWarning: No matching rows were found in the query. [astroquery.heasarc.core]\n",
      "WARNING: MergeConflictWarning: Cannot merge meta key 'description' types <class 'str'> and <class 'str'>, choosing description=\"Query result for:\\nSELECT ra,dec,broad_type,redshift, rmag, bmag,name, radio_name, xray_name FROM milliquas WHERE CONTAINS(POINT('ICRS',ra,dec),CIRCLE('ICRS',137.7250701,-4.4086121,0.05))=1\" [astropy.utils.metadata.merge]\n",
      "WARNING: MergeConflictWarning: Cannot merge meta key 'description' types <class 'str'> and <class 'str'>, choosing description=\"Query result for:\\nSELECT ra,dec,broad_type,redshift, rmag, bmag,name, radio_name, xray_name FROM milliquas WHERE CONTAINS(POINT('ICRS',ra,dec),CIRCLE('ICRS',149.3468686,2.5384074,0.05))=1\" [astropy.utils.metadata.merge]\n",
      "WARNING: MergeConflictWarning: Cannot merge meta key 'description' types <class 'str'> and <class 'str'>, choosing description=\"Query result for:\\nSELECT ra,dec,broad_type,redshift, rmag, bmag,name, radio_name, xray_name FROM milliquas WHERE CONTAINS(POINT('ICRS',ra,dec),CIRCLE('ICRS',149.4398783,2.1723808,0.05))=1\" [astropy.utils.metadata.merge]\n",
      "WARNING: MergeConflictWarning: Cannot merge meta key 'description' types <class 'str'> and <class 'str'>, choosing description=\"Query result for:\\nSELECT ra,dec,broad_type,redshift, rmag, bmag,name, radio_name, xray_name FROM milliquas WHERE CONTAINS(POINT('ICRS',ra,dec),CIRCLE('ICRS',149.4029133,1.6714444,0.05))=1\" [astropy.utils.metadata.merge]\n",
      "WARNING: MergeConflictWarning: Cannot merge meta key 'description' types <class 'str'> and <class 'str'>, choosing description=\"Query result for:\\nSELECT ra,dec,broad_type,redshift, rmag, bmag,name, radio_name, xray_name FROM milliquas WHERE CONTAINS(POINT('ICRS',ra,dec),CIRCLE('ICRS',149.7024376,2.0589467,0.05))=1\" [astropy.utils.metadata.merge]\n",
      "WARNING: MergeConflictWarning: Cannot merge meta key 'description' types <class 'str'> and <class 'str'>, choosing description=\"Query result for:\\nSELECT ra,dec,broad_type,redshift, rmag, bmag,name, radio_name, xray_name FROM milliquas WHERE CONTAINS(POINT('ICRS',ra,dec),CIRCLE('ICRS',189.1800244,62.0654165,0.05))=1\" [astropy.utils.metadata.merge]\n",
      "WARNING: MergeConflictWarning: Cannot merge meta key 'description' types <class 'str'> and <class 'str'>, choosing description=\"Query result for:\\nSELECT ra,dec,broad_type,redshift, rmag, bmag,name, radio_name, xray_name FROM milliquas WHERE CONTAINS(POINT('ICRS',ra,dec),CIRCLE('ICRS',150.5036633,2.263394,0.05))=1\" [astropy.utils.metadata.merge]\n",
      "WARNING: MergeConflictWarning: Cannot merge meta key 'description' types <class 'str'> and <class 'str'>, choosing description=\"Query result for:\\nSELECT ra,dec,broad_type,redshift, rmag, bmag,name, radio_name, xray_name FROM milliquas WHERE CONTAINS(POINT('ICRS',ra,dec),CIRCLE('ICRS',150.1552214,2.041839,0.05))=1\" [astropy.utils.metadata.merge]\n",
      "WARNING: MergeConflictWarning: Cannot merge meta key 'description' types <class 'str'> and <class 'str'>, choosing description=\"Query result for:\\nSELECT ra,dec,broad_type,redshift, rmag, bmag,name, radio_name, xray_name FROM milliquas WHERE CONTAINS(POINT('ICRS',ra,dec),CIRCLE('ICRS',150.1030697,1.7931779,0.05))=1\" [astropy.utils.metadata.merge]\n",
      "WARNING: MergeConflictWarning: Cannot merge meta key 'description' types <class 'str'> and <class 'str'>, choosing description=\"Query result for:\\nSELECT ra,dec,broad_type,redshift, rmag, bmag,name, radio_name, xray_name FROM milliquas WHERE CONTAINS(POINT('ICRS',ra,dec),CIRCLE('ICRS',214.5759308,52.2796828,0.05))=1\" [astropy.utils.metadata.merge]\n",
      "WARNING: MergeConflictWarning: Cannot merge meta key 'description' types <class 'str'> and <class 'str'>, choosing description=\"Query result for:\\nSELECT ra,dec,broad_type,redshift, rmag, bmag,name, radio_name, xray_name FROM milliquas WHERE CONTAINS(POINT('ICRS',ra,dec),CIRCLE('ICRS',177.4168452,22.1796794,0.05))=1\" [astropy.utils.metadata.merge]\n",
      "WARNING: MergeConflictWarning: Cannot merge meta key 'description' types <class 'str'> and <class 'str'>, choosing description=\"Query result for:\\nSELECT ra,dec,broad_type,redshift, rmag, bmag,name, radio_name, xray_name FROM milliquas WHERE CONTAINS(POINT('ICRS',ra,dec),CIRCLE('ICRS',169.9978926,6.5094453,0.05))=1\" [astropy.utils.metadata.merge]\n",
      "WARNING: NoResultsWarning: No matching rows were found in the query. [astroquery.heasarc.core]\n",
      "WARNING: MergeConflictWarning: Cannot merge meta key 'description' types <class 'str'> and <class 'str'>, choosing description=\"Query result for:\\nSELECT ra,dec,broad_type,redshift, rmag, bmag,name, radio_name, xray_name FROM milliquas WHERE CONTAINS(POINT('ICRS',ra,dec),CIRCLE('ICRS',177.4628389,22.2952512,0.05))=1\" [astropy.utils.metadata.merge]\n",
      "WARNING: NoResultsWarning: No matching rows were found in the query. [astroquery.heasarc.core]\n",
      "WARNING: MergeConflictWarning: Cannot merge meta key 'description' types <class 'str'> and <class 'str'>, choosing description=\"Query result for:\\nSELECT ra,dec,broad_type,redshift, rmag, bmag,name, radio_name, xray_name FROM milliquas WHERE CONTAINS(POINT('ICRS',ra,dec),CIRCLE('ICRS',177.5042438,22.6834367,0.05))=1\" [astropy.utils.metadata.merge]\n",
      "WARNING: MergeConflictWarning: Cannot merge meta key 'description' types <class 'str'> and <class 'str'>, choosing description=\"Query result for:\\nSELECT ra,dec,broad_type,redshift, rmag, bmag,name, radio_name, xray_name FROM milliquas WHERE CONTAINS(POINT('ICRS',ra,dec),CIRCLE('ICRS',169.9723865,6.7628474,0.05))=1\" [astropy.utils.metadata.merge]\n",
      "WARNING: MergeConflictWarning: Cannot merge meta key 'description' types <class 'str'> and <class 'str'>, choosing description=\"Query result for:\\nSELECT ra,dec,broad_type,redshift, rmag, bmag,name, radio_name, xray_name FROM milliquas WHERE CONTAINS(POINT('ICRS',ra,dec),CIRCLE('ICRS',157.5820923,5.5249115,0.05))=1\" [astropy.utils.metadata.merge]\n",
      "WARNING: MergeConflictWarning: Cannot merge meta key 'description' types <class 'str'> and <class 'str'>, choosing description=\"Query result for:\\nSELECT ra,dec,broad_type,redshift, rmag, bmag,name, radio_name, xray_name FROM milliquas WHERE CONTAINS(POINT('ICRS',ra,dec),CIRCLE('ICRS',159.1929805,-2.4619514,0.05))=1\" [astropy.utils.metadata.merge]\n",
      "WARNING: MergeConflictWarning: Cannot merge meta key 'description' types <class 'str'> and <class 'str'>, choosing description=\"Query result for:\\nSELECT ra,dec,broad_type,redshift, rmag, bmag,name, radio_name, xray_name FROM milliquas WHERE CONTAINS(POINT('ICRS',ra,dec),CIRCLE('ICRS',188.1922631,9.3749902,0.05))=1\" [astropy.utils.metadata.merge]\n"
     ]
    },
    {
     "name": "stdout",
     "output_type": "stream",
     "text": [
      "    ra      dec    broad_type ...       xray_name       par_name\n",
      "   deg      deg               ...                               \n",
      "--------- -------- ---------- ... --------------------- --------\n",
      "170.06190  6.56145        ARX ... 4XMM J112014.8+063341   Par001\n",
      "169.99787  6.61146        QRX ... CXOX J111959.5+063640   Par001\n",
      "177.15566 52.73784          Q ...                         Par002\n",
      "150.40667  2.36542         QX ... CXOG J100137.5+022155   Par003\n",
      "150.44442  2.36975         KX ... CXOG J100146.6+022210   Par003\n",
      "150.42191  2.38548         QX ... CXOG J100141.2+022307   Par003\n",
      "150.45846  2.39733         QX ... CXOG J100150.0+022349   Par003\n",
      "150.36614  2.39946         KX ... CXOG J100127.9+022358   Par003\n",
      "150.43815  2.41579         QX ... CXOG J100145.1+022456   Par003\n",
      "      ...      ...        ... ...                   ...      ...\n",
      "169.98174  6.78501          X ... CXOG J111955.6+064706   Par059\n",
      "157.57904  5.48257         QX ... 4XMM J103018.9+052856   Par060\n",
      "157.61079  5.52294         QX ... CXOX J103026.6+053122   Par060\n",
      "157.60592  5.55593         QX ... 4XMM J103025.4+053322   Par060\n",
      "157.56804  5.57251         AX ... 4XMM J103016.3+053421   Par060\n",
      "159.16520 -2.48767          X ... 4XMM J103639.5-022914   Par061\n",
      "159.20404 -2.47161         QX ... 4XMM J103648.8-022818   Par061\n",
      "159.22532 -2.45706          X ... 4XMM J103654.0-022725   Par061\n",
      "188.22355  9.35010          Q ...                         Par062\n",
      "188.18240  9.35891          Q ...                         Par062\n",
      "Length = 194 rows\n"
     ]
    },
    {
     "name": "stderr",
     "output_type": "stream",
     "text": [
      "WARNING: NoResultsWarning: No matching rows were found in the query. [astroquery.heasarc.core]\n",
      "WARNING: MergeConflictWarning: Cannot merge meta key 'description' types <class 'str'> and <class 'str'>, choosing description=\"Query result for:\\nSELECT ra,dec,broad_type,redshift, rmag, bmag,name, radio_name, xray_name FROM milliquas WHERE CONTAINS(POINT('ICRS',ra,dec),CIRCLE('ICRS',149.9702594,-22.8246009,0.05))=1\" [astropy.utils.metadata.merge]\n"
     ]
    }
   ],
   "source": [
    "#QUERY million quasar catalog\n",
    "\n",
    "\n",
    "mlq_table=Heasarc.query_region(par_coords_list[i],catalog='milliquas',radius=check_radius)\n",
    "\n",
    "print(mlq_table.colnames)\n",
    "\n",
    "mlq_cols='ra,dec,broad_type,redshift, rmag, bmag,name, radio_name, xray_name'\n",
    "\n",
    "for i in range(len(par_coords_list)):\n",
    "    \n",
    "    #the first one\n",
    "    if i==0:\n",
    "        mlq_table=Heasarc.query_region(par_coords_list[i],catalog='milliquas',radius=check_radius,columns=mlq_cols)\n",
    "        add_col=tab.Column(np.repeat(par_names[i],len(mlq_table)),name='par_name')\n",
    "        mlq_table.add_column(add_col)\n",
    "        continue\n",
    "    current_par=par_names[i]\n",
    "    add_table=Heasarc.query_region(par_coords_list[i],catalog='milliquas',radius=check_radius,columns=mlq_cols)\n",
    "    add_col=tab.Column(np.repeat(par_names[i],len(add_table)),name='par_name')\n",
    "    add_table.add_column(add_col)\n",
    "    mlq_table=tab.vstack([mlq_table,add_table])\n",
    "\n",
    "print(mlq_table)\n",
    "\n",
    "#do a cross match between par objects and milliquas\n"
   ]
  }
 ],
 "metadata": {
  "kernelspec": {
   "display_name": "agn.venv (3.12.3)",
   "language": "python",
   "name": "python3"
  },
  "language_info": {
   "codemirror_mode": {
    "name": "ipython",
    "version": 3
   },
   "file_extension": ".py",
   "mimetype": "text/x-python",
   "name": "python",
   "nbconvert_exporter": "python",
   "pygments_lexer": "ipython3",
   "version": "3.12.3"
  }
 },
 "nbformat": 4,
 "nbformat_minor": 2
}
